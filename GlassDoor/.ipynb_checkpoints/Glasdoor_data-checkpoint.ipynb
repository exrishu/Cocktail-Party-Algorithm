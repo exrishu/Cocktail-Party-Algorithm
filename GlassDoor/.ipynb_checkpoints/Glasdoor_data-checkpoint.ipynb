{
 "cells": [
  {
   "cell_type": "code",
   "execution_count": 1,
   "metadata": {},
   "outputs": [],
   "source": [
    "from ipykernel import kernelapp as app\n",
    "import pandas as pd\n",
    "import numpy as np\n",
    "%matplotlib inline"
   ]
  },
  {
   "cell_type": "code",
   "execution_count": 2,
   "metadata": {},
   "outputs": [
    {
     "name": "stdout",
     "output_type": "stream",
     "text": [
      "4.5.0\n"
     ]
    }
   ],
   "source": [
    "from plotly import __version__\n",
    "from plotly.offline import download_plotlyjs, init_notebook_mode, plot, iplot\n",
    "\n",
    "print(__version__) # requires version >= 1.9.0"
   ]
  },
  {
   "cell_type": "code",
   "execution_count": 3,
   "metadata": {},
   "outputs": [],
   "source": [
    "import cufflinks as cf"
   ]
  },
  {
   "cell_type": "code",
   "execution_count": 4,
   "metadata": {},
   "outputs": [
    {
     "data": {
      "text/html": [
       "        <script type=\"text/javascript\">\n",
       "        window.PlotlyConfig = {MathJaxConfig: 'local'};\n",
       "        if (window.MathJax) {MathJax.Hub.Config({SVG: {font: \"STIX-Web\"}});}\n",
       "        if (typeof require !== 'undefined') {\n",
       "        require.undef(\"plotly\");\n",
       "        requirejs.config({\n",
       "            paths: {\n",
       "                'plotly': ['https://cdn.plot.ly/plotly-latest.min']\n",
       "            }\n",
       "        });\n",
       "        require(['plotly'], function(Plotly) {\n",
       "            window._Plotly = Plotly;\n",
       "        });\n",
       "        }\n",
       "        </script>\n",
       "        "
      ]
     },
     "metadata": {},
     "output_type": "display_data"
    }
   ],
   "source": [
    "# For Notebooks\n",
    "init_notebook_mode(connected=True)"
   ]
  },
  {
   "cell_type": "code",
   "execution_count": 5,
   "metadata": {},
   "outputs": [
    {
     "data": {
      "text/html": [
       "        <script type=\"text/javascript\">\n",
       "        window.PlotlyConfig = {MathJaxConfig: 'local'};\n",
       "        if (window.MathJax) {MathJax.Hub.Config({SVG: {font: \"STIX-Web\"}});}\n",
       "        if (typeof require !== 'undefined') {\n",
       "        require.undef(\"plotly\");\n",
       "        requirejs.config({\n",
       "            paths: {\n",
       "                'plotly': ['https://cdn.plot.ly/plotly-latest.min']\n",
       "            }\n",
       "        });\n",
       "        require(['plotly'], function(Plotly) {\n",
       "            window._Plotly = Plotly;\n",
       "        });\n",
       "        }\n",
       "        </script>\n",
       "        "
      ]
     },
     "metadata": {},
     "output_type": "display_data"
    }
   ],
   "source": [
    "# For offline use\n",
    "cf.go_offline()"
   ]
  },
  {
   "cell_type": "code",
   "execution_count": 6,
   "metadata": {},
   "outputs": [],
   "source": [
    "import plotly.express as px\n",
    "df_px = px.data.tips()\n"
   ]
  },
  {
   "cell_type": "code",
   "execution_count": 7,
   "metadata": {},
   "outputs": [
    {
     "data": {
      "application/vnd.plotly.v1+json": {
       "config": {
        "plotlyServerURL": "https://plot.ly"
       },
       "data": [
        {
         "branchvalues": "total",
         "domain": {
          "x": [
           0,
           1
          ],
          "y": [
           0,
           1
          ]
         },
         "hoverlabel": {
          "namelength": 0
         },
         "hovertemplate": "labels=%{label}<br>count=%{value}<br>parent=%{parent}<br>id=%{id}",
         "ids": [
          "Fri/Dinner/Female",
          "Sat/Dinner/Female",
          "Sun/Dinner/Female",
          "Thur/Dinner/Female",
          "Fri/Lunch/Female",
          "Thur/Lunch/Female",
          "Fri/Dinner/Male",
          "Sat/Dinner/Male",
          "Sun/Dinner/Male",
          "Fri/Lunch/Male",
          "Thur/Lunch/Male",
          "Fri/Dinner",
          "Sat/Dinner",
          "Sun/Dinner",
          "Thur/Dinner",
          "Fri/Lunch",
          "Thur/Lunch",
          "Fri",
          "Sat",
          "Sun",
          "Thur"
         ],
         "labels": [
          "Female",
          "Female",
          "Female",
          "Female",
          "Female",
          "Female",
          "Male",
          "Male",
          "Male",
          "Male",
          "Male",
          "Dinner",
          "Dinner",
          "Dinner",
          "Dinner",
          "Lunch",
          "Lunch",
          "Fri",
          "Sat",
          "Sun",
          "Thur"
         ],
         "name": "",
         "parents": [
          "Fri/Dinner",
          "Sat/Dinner",
          "Sun/Dinner",
          "Thur/Dinner",
          "Fri/Lunch",
          "Thur/Lunch",
          "Fri/Dinner",
          "Sat/Dinner",
          "Sun/Dinner",
          "Fri/Lunch",
          "Thur/Lunch",
          "Fri",
          "Sat",
          "Sun",
          "Thur",
          "Fri",
          "Thur",
          "",
          "",
          "",
          ""
         ],
         "type": "sunburst",
         "values": [
          5,
          28,
          18,
          1,
          4,
          31,
          7,
          59,
          58,
          3,
          30,
          12,
          87,
          76,
          1,
          7,
          61,
          19,
          87,
          76,
          62
         ]
        }
       ],
       "layout": {
        "legend": {
         "tracegroupgap": 0
        },
        "margin": {
         "t": 60
        },
        "template": {
         "data": {
          "bar": [
           {
            "error_x": {
             "color": "#2a3f5f"
            },
            "error_y": {
             "color": "#2a3f5f"
            },
            "marker": {
             "line": {
              "color": "#E5ECF6",
              "width": 0.5
             }
            },
            "type": "bar"
           }
          ],
          "barpolar": [
           {
            "marker": {
             "line": {
              "color": "#E5ECF6",
              "width": 0.5
             }
            },
            "type": "barpolar"
           }
          ],
          "carpet": [
           {
            "aaxis": {
             "endlinecolor": "#2a3f5f",
             "gridcolor": "white",
             "linecolor": "white",
             "minorgridcolor": "white",
             "startlinecolor": "#2a3f5f"
            },
            "baxis": {
             "endlinecolor": "#2a3f5f",
             "gridcolor": "white",
             "linecolor": "white",
             "minorgridcolor": "white",
             "startlinecolor": "#2a3f5f"
            },
            "type": "carpet"
           }
          ],
          "choropleth": [
           {
            "colorbar": {
             "outlinewidth": 0,
             "ticks": ""
            },
            "type": "choropleth"
           }
          ],
          "contour": [
           {
            "colorbar": {
             "outlinewidth": 0,
             "ticks": ""
            },
            "colorscale": [
             [
              0,
              "#0d0887"
             ],
             [
              0.1111111111111111,
              "#46039f"
             ],
             [
              0.2222222222222222,
              "#7201a8"
             ],
             [
              0.3333333333333333,
              "#9c179e"
             ],
             [
              0.4444444444444444,
              "#bd3786"
             ],
             [
              0.5555555555555556,
              "#d8576b"
             ],
             [
              0.6666666666666666,
              "#ed7953"
             ],
             [
              0.7777777777777778,
              "#fb9f3a"
             ],
             [
              0.8888888888888888,
              "#fdca26"
             ],
             [
              1,
              "#f0f921"
             ]
            ],
            "type": "contour"
           }
          ],
          "contourcarpet": [
           {
            "colorbar": {
             "outlinewidth": 0,
             "ticks": ""
            },
            "type": "contourcarpet"
           }
          ],
          "heatmap": [
           {
            "colorbar": {
             "outlinewidth": 0,
             "ticks": ""
            },
            "colorscale": [
             [
              0,
              "#0d0887"
             ],
             [
              0.1111111111111111,
              "#46039f"
             ],
             [
              0.2222222222222222,
              "#7201a8"
             ],
             [
              0.3333333333333333,
              "#9c179e"
             ],
             [
              0.4444444444444444,
              "#bd3786"
             ],
             [
              0.5555555555555556,
              "#d8576b"
             ],
             [
              0.6666666666666666,
              "#ed7953"
             ],
             [
              0.7777777777777778,
              "#fb9f3a"
             ],
             [
              0.8888888888888888,
              "#fdca26"
             ],
             [
              1,
              "#f0f921"
             ]
            ],
            "type": "heatmap"
           }
          ],
          "heatmapgl": [
           {
            "colorbar": {
             "outlinewidth": 0,
             "ticks": ""
            },
            "colorscale": [
             [
              0,
              "#0d0887"
             ],
             [
              0.1111111111111111,
              "#46039f"
             ],
             [
              0.2222222222222222,
              "#7201a8"
             ],
             [
              0.3333333333333333,
              "#9c179e"
             ],
             [
              0.4444444444444444,
              "#bd3786"
             ],
             [
              0.5555555555555556,
              "#d8576b"
             ],
             [
              0.6666666666666666,
              "#ed7953"
             ],
             [
              0.7777777777777778,
              "#fb9f3a"
             ],
             [
              0.8888888888888888,
              "#fdca26"
             ],
             [
              1,
              "#f0f921"
             ]
            ],
            "type": "heatmapgl"
           }
          ],
          "histogram": [
           {
            "marker": {
             "colorbar": {
              "outlinewidth": 0,
              "ticks": ""
             }
            },
            "type": "histogram"
           }
          ],
          "histogram2d": [
           {
            "colorbar": {
             "outlinewidth": 0,
             "ticks": ""
            },
            "colorscale": [
             [
              0,
              "#0d0887"
             ],
             [
              0.1111111111111111,
              "#46039f"
             ],
             [
              0.2222222222222222,
              "#7201a8"
             ],
             [
              0.3333333333333333,
              "#9c179e"
             ],
             [
              0.4444444444444444,
              "#bd3786"
             ],
             [
              0.5555555555555556,
              "#d8576b"
             ],
             [
              0.6666666666666666,
              "#ed7953"
             ],
             [
              0.7777777777777778,
              "#fb9f3a"
             ],
             [
              0.8888888888888888,
              "#fdca26"
             ],
             [
              1,
              "#f0f921"
             ]
            ],
            "type": "histogram2d"
           }
          ],
          "histogram2dcontour": [
           {
            "colorbar": {
             "outlinewidth": 0,
             "ticks": ""
            },
            "colorscale": [
             [
              0,
              "#0d0887"
             ],
             [
              0.1111111111111111,
              "#46039f"
             ],
             [
              0.2222222222222222,
              "#7201a8"
             ],
             [
              0.3333333333333333,
              "#9c179e"
             ],
             [
              0.4444444444444444,
              "#bd3786"
             ],
             [
              0.5555555555555556,
              "#d8576b"
             ],
             [
              0.6666666666666666,
              "#ed7953"
             ],
             [
              0.7777777777777778,
              "#fb9f3a"
             ],
             [
              0.8888888888888888,
              "#fdca26"
             ],
             [
              1,
              "#f0f921"
             ]
            ],
            "type": "histogram2dcontour"
           }
          ],
          "mesh3d": [
           {
            "colorbar": {
             "outlinewidth": 0,
             "ticks": ""
            },
            "type": "mesh3d"
           }
          ],
          "parcoords": [
           {
            "line": {
             "colorbar": {
              "outlinewidth": 0,
              "ticks": ""
             }
            },
            "type": "parcoords"
           }
          ],
          "pie": [
           {
            "automargin": true,
            "type": "pie"
           }
          ],
          "scatter": [
           {
            "marker": {
             "colorbar": {
              "outlinewidth": 0,
              "ticks": ""
             }
            },
            "type": "scatter"
           }
          ],
          "scatter3d": [
           {
            "line": {
             "colorbar": {
              "outlinewidth": 0,
              "ticks": ""
             }
            },
            "marker": {
             "colorbar": {
              "outlinewidth": 0,
              "ticks": ""
             }
            },
            "type": "scatter3d"
           }
          ],
          "scattercarpet": [
           {
            "marker": {
             "colorbar": {
              "outlinewidth": 0,
              "ticks": ""
             }
            },
            "type": "scattercarpet"
           }
          ],
          "scattergeo": [
           {
            "marker": {
             "colorbar": {
              "outlinewidth": 0,
              "ticks": ""
             }
            },
            "type": "scattergeo"
           }
          ],
          "scattergl": [
           {
            "marker": {
             "colorbar": {
              "outlinewidth": 0,
              "ticks": ""
             }
            },
            "type": "scattergl"
           }
          ],
          "scattermapbox": [
           {
            "marker": {
             "colorbar": {
              "outlinewidth": 0,
              "ticks": ""
             }
            },
            "type": "scattermapbox"
           }
          ],
          "scatterpolar": [
           {
            "marker": {
             "colorbar": {
              "outlinewidth": 0,
              "ticks": ""
             }
            },
            "type": "scatterpolar"
           }
          ],
          "scatterpolargl": [
           {
            "marker": {
             "colorbar": {
              "outlinewidth": 0,
              "ticks": ""
             }
            },
            "type": "scatterpolargl"
           }
          ],
          "scatterternary": [
           {
            "marker": {
             "colorbar": {
              "outlinewidth": 0,
              "ticks": ""
             }
            },
            "type": "scatterternary"
           }
          ],
          "surface": [
           {
            "colorbar": {
             "outlinewidth": 0,
             "ticks": ""
            },
            "colorscale": [
             [
              0,
              "#0d0887"
             ],
             [
              0.1111111111111111,
              "#46039f"
             ],
             [
              0.2222222222222222,
              "#7201a8"
             ],
             [
              0.3333333333333333,
              "#9c179e"
             ],
             [
              0.4444444444444444,
              "#bd3786"
             ],
             [
              0.5555555555555556,
              "#d8576b"
             ],
             [
              0.6666666666666666,
              "#ed7953"
             ],
             [
              0.7777777777777778,
              "#fb9f3a"
             ],
             [
              0.8888888888888888,
              "#fdca26"
             ],
             [
              1,
              "#f0f921"
             ]
            ],
            "type": "surface"
           }
          ],
          "table": [
           {
            "cells": {
             "fill": {
              "color": "#EBF0F8"
             },
             "line": {
              "color": "white"
             }
            },
            "header": {
             "fill": {
              "color": "#C8D4E3"
             },
             "line": {
              "color": "white"
             }
            },
            "type": "table"
           }
          ]
         },
         "layout": {
          "annotationdefaults": {
           "arrowcolor": "#2a3f5f",
           "arrowhead": 0,
           "arrowwidth": 1
          },
          "coloraxis": {
           "colorbar": {
            "outlinewidth": 0,
            "ticks": ""
           }
          },
          "colorscale": {
           "diverging": [
            [
             0,
             "#8e0152"
            ],
            [
             0.1,
             "#c51b7d"
            ],
            [
             0.2,
             "#de77ae"
            ],
            [
             0.3,
             "#f1b6da"
            ],
            [
             0.4,
             "#fde0ef"
            ],
            [
             0.5,
             "#f7f7f7"
            ],
            [
             0.6,
             "#e6f5d0"
            ],
            [
             0.7,
             "#b8e186"
            ],
            [
             0.8,
             "#7fbc41"
            ],
            [
             0.9,
             "#4d9221"
            ],
            [
             1,
             "#276419"
            ]
           ],
           "sequential": [
            [
             0,
             "#0d0887"
            ],
            [
             0.1111111111111111,
             "#46039f"
            ],
            [
             0.2222222222222222,
             "#7201a8"
            ],
            [
             0.3333333333333333,
             "#9c179e"
            ],
            [
             0.4444444444444444,
             "#bd3786"
            ],
            [
             0.5555555555555556,
             "#d8576b"
            ],
            [
             0.6666666666666666,
             "#ed7953"
            ],
            [
             0.7777777777777778,
             "#fb9f3a"
            ],
            [
             0.8888888888888888,
             "#fdca26"
            ],
            [
             1,
             "#f0f921"
            ]
           ],
           "sequentialminus": [
            [
             0,
             "#0d0887"
            ],
            [
             0.1111111111111111,
             "#46039f"
            ],
            [
             0.2222222222222222,
             "#7201a8"
            ],
            [
             0.3333333333333333,
             "#9c179e"
            ],
            [
             0.4444444444444444,
             "#bd3786"
            ],
            [
             0.5555555555555556,
             "#d8576b"
            ],
            [
             0.6666666666666666,
             "#ed7953"
            ],
            [
             0.7777777777777778,
             "#fb9f3a"
            ],
            [
             0.8888888888888888,
             "#fdca26"
            ],
            [
             1,
             "#f0f921"
            ]
           ]
          },
          "colorway": [
           "#636efa",
           "#EF553B",
           "#00cc96",
           "#ab63fa",
           "#FFA15A",
           "#19d3f3",
           "#FF6692",
           "#B6E880",
           "#FF97FF",
           "#FECB52"
          ],
          "font": {
           "color": "#2a3f5f"
          },
          "geo": {
           "bgcolor": "white",
           "lakecolor": "white",
           "landcolor": "#E5ECF6",
           "showlakes": true,
           "showland": true,
           "subunitcolor": "white"
          },
          "hoverlabel": {
           "align": "left"
          },
          "hovermode": "closest",
          "mapbox": {
           "style": "light"
          },
          "paper_bgcolor": "white",
          "plot_bgcolor": "#E5ECF6",
          "polar": {
           "angularaxis": {
            "gridcolor": "white",
            "linecolor": "white",
            "ticks": ""
           },
           "bgcolor": "#E5ECF6",
           "radialaxis": {
            "gridcolor": "white",
            "linecolor": "white",
            "ticks": ""
           }
          },
          "scene": {
           "xaxis": {
            "backgroundcolor": "#E5ECF6",
            "gridcolor": "white",
            "gridwidth": 2,
            "linecolor": "white",
            "showbackground": true,
            "ticks": "",
            "zerolinecolor": "white"
           },
           "yaxis": {
            "backgroundcolor": "#E5ECF6",
            "gridcolor": "white",
            "gridwidth": 2,
            "linecolor": "white",
            "showbackground": true,
            "ticks": "",
            "zerolinecolor": "white"
           },
           "zaxis": {
            "backgroundcolor": "#E5ECF6",
            "gridcolor": "white",
            "gridwidth": 2,
            "linecolor": "white",
            "showbackground": true,
            "ticks": "",
            "zerolinecolor": "white"
           }
          },
          "shapedefaults": {
           "line": {
            "color": "#2a3f5f"
           }
          },
          "ternary": {
           "aaxis": {
            "gridcolor": "white",
            "linecolor": "white",
            "ticks": ""
           },
           "baxis": {
            "gridcolor": "white",
            "linecolor": "white",
            "ticks": ""
           },
           "bgcolor": "#E5ECF6",
           "caxis": {
            "gridcolor": "white",
            "linecolor": "white",
            "ticks": ""
           }
          },
          "title": {
           "x": 0.05
          },
          "xaxis": {
           "automargin": true,
           "gridcolor": "white",
           "linecolor": "white",
           "ticks": "",
           "title": {
            "standoff": 15
           },
           "zerolinecolor": "white",
           "zerolinewidth": 2
          },
          "yaxis": {
           "automargin": true,
           "gridcolor": "white",
           "linecolor": "white",
           "ticks": "",
           "title": {
            "standoff": 15
           },
           "zerolinecolor": "white",
           "zerolinewidth": 2
          }
         }
        }
       }
      },
      "text/html": [
       "<div>\n",
       "        \n",
       "        \n",
       "            <div id=\"d7168959-d1b8-4e98-8a5a-91b51a24ccb9\" class=\"plotly-graph-div\" style=\"height:525px; width:100%;\"></div>\n",
       "            <script type=\"text/javascript\">\n",
       "                require([\"plotly\"], function(Plotly) {\n",
       "                    window.PLOTLYENV=window.PLOTLYENV || {};\n",
       "                    \n",
       "                if (document.getElementById(\"d7168959-d1b8-4e98-8a5a-91b51a24ccb9\")) {\n",
       "                    Plotly.newPlot(\n",
       "                        'd7168959-d1b8-4e98-8a5a-91b51a24ccb9',\n",
       "                        [{\"branchvalues\": \"total\", \"domain\": {\"x\": [0.0, 1.0], \"y\": [0.0, 1.0]}, \"hoverlabel\": {\"namelength\": 0}, \"hovertemplate\": \"labels=%{label}<br>count=%{value}<br>parent=%{parent}<br>id=%{id}\", \"ids\": [\"Fri/Dinner/Female\", \"Sat/Dinner/Female\", \"Sun/Dinner/Female\", \"Thur/Dinner/Female\", \"Fri/Lunch/Female\", \"Thur/Lunch/Female\", \"Fri/Dinner/Male\", \"Sat/Dinner/Male\", \"Sun/Dinner/Male\", \"Fri/Lunch/Male\", \"Thur/Lunch/Male\", \"Fri/Dinner\", \"Sat/Dinner\", \"Sun/Dinner\", \"Thur/Dinner\", \"Fri/Lunch\", \"Thur/Lunch\", \"Fri\", \"Sat\", \"Sun\", \"Thur\"], \"labels\": [\"Female\", \"Female\", \"Female\", \"Female\", \"Female\", \"Female\", \"Male\", \"Male\", \"Male\", \"Male\", \"Male\", \"Dinner\", \"Dinner\", \"Dinner\", \"Dinner\", \"Lunch\", \"Lunch\", \"Fri\", \"Sat\", \"Sun\", \"Thur\"], \"name\": \"\", \"parents\": [\"Fri/Dinner\", \"Sat/Dinner\", \"Sun/Dinner\", \"Thur/Dinner\", \"Fri/Lunch\", \"Thur/Lunch\", \"Fri/Dinner\", \"Sat/Dinner\", \"Sun/Dinner\", \"Fri/Lunch\", \"Thur/Lunch\", \"Fri\", \"Sat\", \"Sun\", \"Thur\", \"Fri\", \"Thur\", \"\", \"\", \"\", \"\"], \"type\": \"sunburst\", \"values\": [5, 28, 18, 1, 4, 31, 7, 59, 58, 3, 30, 12, 87, 76, 1, 7, 61, 19, 87, 76, 62]}],\n",
       "                        {\"legend\": {\"tracegroupgap\": 0}, \"margin\": {\"t\": 60}, \"template\": {\"data\": {\"bar\": [{\"error_x\": {\"color\": \"#2a3f5f\"}, \"error_y\": {\"color\": \"#2a3f5f\"}, \"marker\": {\"line\": {\"color\": \"#E5ECF6\", \"width\": 0.5}}, \"type\": \"bar\"}], \"barpolar\": [{\"marker\": {\"line\": {\"color\": \"#E5ECF6\", \"width\": 0.5}}, \"type\": \"barpolar\"}], \"carpet\": [{\"aaxis\": {\"endlinecolor\": \"#2a3f5f\", \"gridcolor\": \"white\", \"linecolor\": \"white\", \"minorgridcolor\": \"white\", \"startlinecolor\": \"#2a3f5f\"}, \"baxis\": {\"endlinecolor\": \"#2a3f5f\", \"gridcolor\": \"white\", \"linecolor\": \"white\", \"minorgridcolor\": \"white\", \"startlinecolor\": \"#2a3f5f\"}, \"type\": \"carpet\"}], \"choropleth\": [{\"colorbar\": {\"outlinewidth\": 0, \"ticks\": \"\"}, \"type\": \"choropleth\"}], \"contour\": [{\"colorbar\": {\"outlinewidth\": 0, \"ticks\": \"\"}, \"colorscale\": [[0.0, \"#0d0887\"], [0.1111111111111111, \"#46039f\"], [0.2222222222222222, \"#7201a8\"], [0.3333333333333333, \"#9c179e\"], [0.4444444444444444, \"#bd3786\"], [0.5555555555555556, \"#d8576b\"], [0.6666666666666666, \"#ed7953\"], [0.7777777777777778, \"#fb9f3a\"], [0.8888888888888888, \"#fdca26\"], [1.0, \"#f0f921\"]], \"type\": \"contour\"}], \"contourcarpet\": [{\"colorbar\": {\"outlinewidth\": 0, \"ticks\": \"\"}, \"type\": \"contourcarpet\"}], \"heatmap\": [{\"colorbar\": {\"outlinewidth\": 0, \"ticks\": \"\"}, \"colorscale\": [[0.0, \"#0d0887\"], [0.1111111111111111, \"#46039f\"], [0.2222222222222222, \"#7201a8\"], [0.3333333333333333, \"#9c179e\"], [0.4444444444444444, \"#bd3786\"], [0.5555555555555556, \"#d8576b\"], [0.6666666666666666, \"#ed7953\"], [0.7777777777777778, \"#fb9f3a\"], [0.8888888888888888, \"#fdca26\"], [1.0, \"#f0f921\"]], \"type\": \"heatmap\"}], \"heatmapgl\": [{\"colorbar\": {\"outlinewidth\": 0, \"ticks\": \"\"}, \"colorscale\": [[0.0, \"#0d0887\"], [0.1111111111111111, \"#46039f\"], [0.2222222222222222, \"#7201a8\"], [0.3333333333333333, \"#9c179e\"], [0.4444444444444444, \"#bd3786\"], [0.5555555555555556, \"#d8576b\"], [0.6666666666666666, \"#ed7953\"], [0.7777777777777778, \"#fb9f3a\"], [0.8888888888888888, \"#fdca26\"], [1.0, \"#f0f921\"]], \"type\": \"heatmapgl\"}], \"histogram\": [{\"marker\": {\"colorbar\": {\"outlinewidth\": 0, \"ticks\": \"\"}}, \"type\": \"histogram\"}], \"histogram2d\": [{\"colorbar\": {\"outlinewidth\": 0, \"ticks\": \"\"}, \"colorscale\": [[0.0, \"#0d0887\"], [0.1111111111111111, \"#46039f\"], [0.2222222222222222, \"#7201a8\"], [0.3333333333333333, \"#9c179e\"], [0.4444444444444444, \"#bd3786\"], [0.5555555555555556, \"#d8576b\"], [0.6666666666666666, \"#ed7953\"], [0.7777777777777778, \"#fb9f3a\"], [0.8888888888888888, \"#fdca26\"], [1.0, \"#f0f921\"]], \"type\": \"histogram2d\"}], \"histogram2dcontour\": [{\"colorbar\": {\"outlinewidth\": 0, \"ticks\": \"\"}, \"colorscale\": [[0.0, \"#0d0887\"], [0.1111111111111111, \"#46039f\"], [0.2222222222222222, \"#7201a8\"], [0.3333333333333333, \"#9c179e\"], [0.4444444444444444, \"#bd3786\"], [0.5555555555555556, \"#d8576b\"], [0.6666666666666666, \"#ed7953\"], [0.7777777777777778, \"#fb9f3a\"], [0.8888888888888888, \"#fdca26\"], [1.0, \"#f0f921\"]], \"type\": \"histogram2dcontour\"}], \"mesh3d\": [{\"colorbar\": {\"outlinewidth\": 0, \"ticks\": \"\"}, \"type\": \"mesh3d\"}], \"parcoords\": [{\"line\": {\"colorbar\": {\"outlinewidth\": 0, \"ticks\": \"\"}}, \"type\": \"parcoords\"}], \"pie\": [{\"automargin\": true, \"type\": \"pie\"}], \"scatter\": [{\"marker\": {\"colorbar\": {\"outlinewidth\": 0, \"ticks\": \"\"}}, \"type\": \"scatter\"}], \"scatter3d\": [{\"line\": {\"colorbar\": {\"outlinewidth\": 0, \"ticks\": \"\"}}, \"marker\": {\"colorbar\": {\"outlinewidth\": 0, \"ticks\": \"\"}}, \"type\": \"scatter3d\"}], \"scattercarpet\": [{\"marker\": {\"colorbar\": {\"outlinewidth\": 0, \"ticks\": \"\"}}, \"type\": \"scattercarpet\"}], \"scattergeo\": [{\"marker\": {\"colorbar\": {\"outlinewidth\": 0, \"ticks\": \"\"}}, \"type\": \"scattergeo\"}], \"scattergl\": [{\"marker\": {\"colorbar\": {\"outlinewidth\": 0, \"ticks\": \"\"}}, \"type\": \"scattergl\"}], \"scattermapbox\": [{\"marker\": {\"colorbar\": {\"outlinewidth\": 0, \"ticks\": \"\"}}, \"type\": \"scattermapbox\"}], \"scatterpolar\": [{\"marker\": {\"colorbar\": {\"outlinewidth\": 0, \"ticks\": \"\"}}, \"type\": \"scatterpolar\"}], \"scatterpolargl\": [{\"marker\": {\"colorbar\": {\"outlinewidth\": 0, \"ticks\": \"\"}}, \"type\": \"scatterpolargl\"}], \"scatterternary\": [{\"marker\": {\"colorbar\": {\"outlinewidth\": 0, \"ticks\": \"\"}}, \"type\": \"scatterternary\"}], \"surface\": [{\"colorbar\": {\"outlinewidth\": 0, \"ticks\": \"\"}, \"colorscale\": [[0.0, \"#0d0887\"], [0.1111111111111111, \"#46039f\"], [0.2222222222222222, \"#7201a8\"], [0.3333333333333333, \"#9c179e\"], [0.4444444444444444, \"#bd3786\"], [0.5555555555555556, \"#d8576b\"], [0.6666666666666666, \"#ed7953\"], [0.7777777777777778, \"#fb9f3a\"], [0.8888888888888888, \"#fdca26\"], [1.0, \"#f0f921\"]], \"type\": \"surface\"}], \"table\": [{\"cells\": {\"fill\": {\"color\": \"#EBF0F8\"}, \"line\": {\"color\": \"white\"}}, \"header\": {\"fill\": {\"color\": \"#C8D4E3\"}, \"line\": {\"color\": \"white\"}}, \"type\": \"table\"}]}, \"layout\": {\"annotationdefaults\": {\"arrowcolor\": \"#2a3f5f\", \"arrowhead\": 0, \"arrowwidth\": 1}, \"coloraxis\": {\"colorbar\": {\"outlinewidth\": 0, \"ticks\": \"\"}}, \"colorscale\": {\"diverging\": [[0, \"#8e0152\"], [0.1, \"#c51b7d\"], [0.2, \"#de77ae\"], [0.3, \"#f1b6da\"], [0.4, \"#fde0ef\"], [0.5, \"#f7f7f7\"], [0.6, \"#e6f5d0\"], [0.7, \"#b8e186\"], [0.8, \"#7fbc41\"], [0.9, \"#4d9221\"], [1, \"#276419\"]], \"sequential\": [[0.0, \"#0d0887\"], [0.1111111111111111, \"#46039f\"], [0.2222222222222222, \"#7201a8\"], [0.3333333333333333, \"#9c179e\"], [0.4444444444444444, \"#bd3786\"], [0.5555555555555556, \"#d8576b\"], [0.6666666666666666, \"#ed7953\"], [0.7777777777777778, \"#fb9f3a\"], [0.8888888888888888, \"#fdca26\"], [1.0, \"#f0f921\"]], \"sequentialminus\": [[0.0, \"#0d0887\"], [0.1111111111111111, \"#46039f\"], [0.2222222222222222, \"#7201a8\"], [0.3333333333333333, \"#9c179e\"], [0.4444444444444444, \"#bd3786\"], [0.5555555555555556, \"#d8576b\"], [0.6666666666666666, \"#ed7953\"], [0.7777777777777778, \"#fb9f3a\"], [0.8888888888888888, \"#fdca26\"], [1.0, \"#f0f921\"]]}, \"colorway\": [\"#636efa\", \"#EF553B\", \"#00cc96\", \"#ab63fa\", \"#FFA15A\", \"#19d3f3\", \"#FF6692\", \"#B6E880\", \"#FF97FF\", \"#FECB52\"], \"font\": {\"color\": \"#2a3f5f\"}, \"geo\": {\"bgcolor\": \"white\", \"lakecolor\": \"white\", \"landcolor\": \"#E5ECF6\", \"showlakes\": true, \"showland\": true, \"subunitcolor\": \"white\"}, \"hoverlabel\": {\"align\": \"left\"}, \"hovermode\": \"closest\", \"mapbox\": {\"style\": \"light\"}, \"paper_bgcolor\": \"white\", \"plot_bgcolor\": \"#E5ECF6\", \"polar\": {\"angularaxis\": {\"gridcolor\": \"white\", \"linecolor\": \"white\", \"ticks\": \"\"}, \"bgcolor\": \"#E5ECF6\", \"radialaxis\": {\"gridcolor\": \"white\", \"linecolor\": \"white\", \"ticks\": \"\"}}, \"scene\": {\"xaxis\": {\"backgroundcolor\": \"#E5ECF6\", \"gridcolor\": \"white\", \"gridwidth\": 2, \"linecolor\": \"white\", \"showbackground\": true, \"ticks\": \"\", \"zerolinecolor\": \"white\"}, \"yaxis\": {\"backgroundcolor\": \"#E5ECF6\", \"gridcolor\": \"white\", \"gridwidth\": 2, \"linecolor\": \"white\", \"showbackground\": true, \"ticks\": \"\", \"zerolinecolor\": \"white\"}, \"zaxis\": {\"backgroundcolor\": \"#E5ECF6\", \"gridcolor\": \"white\", \"gridwidth\": 2, \"linecolor\": \"white\", \"showbackground\": true, \"ticks\": \"\", \"zerolinecolor\": \"white\"}}, \"shapedefaults\": {\"line\": {\"color\": \"#2a3f5f\"}}, \"ternary\": {\"aaxis\": {\"gridcolor\": \"white\", \"linecolor\": \"white\", \"ticks\": \"\"}, \"baxis\": {\"gridcolor\": \"white\", \"linecolor\": \"white\", \"ticks\": \"\"}, \"bgcolor\": \"#E5ECF6\", \"caxis\": {\"gridcolor\": \"white\", \"linecolor\": \"white\", \"ticks\": \"\"}}, \"title\": {\"x\": 0.05}, \"xaxis\": {\"automargin\": true, \"gridcolor\": \"white\", \"linecolor\": \"white\", \"ticks\": \"\", \"title\": {\"standoff\": 15}, \"zerolinecolor\": \"white\", \"zerolinewidth\": 2}, \"yaxis\": {\"automargin\": true, \"gridcolor\": \"white\", \"linecolor\": \"white\", \"ticks\": \"\", \"title\": {\"standoff\": 15}, \"zerolinecolor\": \"white\", \"zerolinewidth\": 2}}}},\n",
       "                        {\"responsive\": true}\n",
       "                    ).then(function(){\n",
       "                            \n",
       "var gd = document.getElementById('d7168959-d1b8-4e98-8a5a-91b51a24ccb9');\n",
       "var x = new MutationObserver(function (mutations, observer) {{\n",
       "        var display = window.getComputedStyle(gd).display;\n",
       "        if (!display || display === 'none') {{\n",
       "            console.log([gd, 'removed!']);\n",
       "            Plotly.purge(gd);\n",
       "            observer.disconnect();\n",
       "        }}\n",
       "}});\n",
       "\n",
       "// Listen for the removal of the full notebook cells\n",
       "var notebookContainer = gd.closest('#notebook-container');\n",
       "if (notebookContainer) {{\n",
       "    x.observe(notebookContainer, {childList: true});\n",
       "}}\n",
       "\n",
       "// Listen for the clearing of the current output cell\n",
       "var outputEl = gd.closest('.output');\n",
       "if (outputEl) {{\n",
       "    x.observe(outputEl, {childList: true});\n",
       "}}\n",
       "\n",
       "                        })\n",
       "                };\n",
       "                });\n",
       "            </script>\n",
       "        </div>"
      ]
     },
     "metadata": {},
     "output_type": "display_data"
    }
   ],
   "source": [
    "fig = px.sunburst(df_px, path=['day', 'time', 'sex'])\n",
    "fig.show()"
   ]
  },
  {
   "cell_type": "code",
   "execution_count": 21,
   "metadata": {},
   "outputs": [
    {
     "data": {
      "application/vnd.plotly.v1+json": {
       "config": {
        "plotlyServerURL": "https://plot.ly"
       },
       "data": [
        {
         "branchvalues": "total",
         "domain": {
          "x": [
           0,
           1
          ],
          "y": [
           0,
           1
          ]
         },
         "hoverlabel": {
          "namelength": 0
         },
         "hovertemplate": "labels=%{label}<br>count=%{value}<br>parent=%{parent}<br>id=%{id}",
         "ids": [
          "Finance/Accountant",
          "Professional Services/Administrative Assistant",
          "Law/Attorney",
          "Finance/Bank Teller",
          "Food Services/Barista",
          "Food Services/Bartender",
          "Professional Services/Business Analyst",
          "Professional Services/Business Development Manager",
          "Retail/Buyer",
          "Retail/Cashier",
          "Health/Certified Nursing Assistant",
          "Engineering/Civil Engineer",
          "Finance/Claims Adjuster",
          "Professional Services/Communications Manager",
          "Labor/Construction Laborer",
          "Professional Services/Consultant",
          "Professional Services/Customer Service Manager",
          "Professional Services/Customer Service Representative",
          "Technology/Data Analyst",
          "Technology/Data Scientist",
          "Labor/Delivery Driver",
          "Engineering/Design Engineer",
          "Engineering/Electrical Engineer",
          "Health/Emergency Medical Technician",
          "Engineering/Field Engineer",
          "Finance/Financial Advisor",
          "Finance/Financial Analyst",
          "Design/Graphic Designer",
          "Human Resources/Human Resources Manager",
          "Technology/IT Manager",
          "Finance/Insurance Agent",
          "Technology/Java Developer",
          "Health/Licensed Practical Nurse",
          "Finance/Loan Officer",
          "Labor/Machine Operator",
          "Labor/Maintenance Technician",
          "Labor/Maintenance Worker",
          "Manufacturing/Manufacturing Engineer",
          "Professional Services/Marketing Manager",
          "Manufacturing/Material Handler",
          "Engineering/Mechanical Engineer",
          "Health/Medical Assistant",
          "Health/Medical Technologist",
          "Professional Services/Office Manager",
          "Operations/Operations Analyst",
          "Operations/Operations Manager",
          "Law/Paralegal",
          "Health/Pharmacist",
          "Health/Pharmacy Technician",
          "Health/Physical Therapist",
          "Manufacturing/Process Engineer",
          "Media/Producer",
          "Professional Services/Product Manager",
          "Manufacturing/Production Manager",
          "Education/Professor",
          "Professional Services/Program Manager",
          "Technology/Programmer Analyst",
          "Professional Services/Project Manager",
          "Real Estate/Property Manager",
          "Engineering/Quality Engineer",
          "Human Resources/Recruiter",
          "Health/Registered Nurse",
          "Education/Research Assistant",
          "Food Services/Restaurant Cook",
          "Food Services/Restaurant Manager",
          "Retail/Retail Key Holder",
          "Sales/Sales Manager",
          "Sales/Sales Representative",
          "Operations/Security Officer",
          "Food Services/Server",
          "Technology/Software Engineer",
          "Technology/Solutions Architect",
          "Retail/Store Manager",
          "Technology/Systems Engineer",
          "Finance/Tax Manager",
          "Education/Teacher",
          "Media/Technical Editor",
          "Technology/Technical Support",
          "Labor/Technician",
          "Labor/Truck Driver",
          "Technology/UX Designer",
          "Labor/Warehouse Associate",
          "Technology/Web Designer",
          "Technology/Web Developer",
          "Design",
          "Education",
          "Engineering",
          "Finance",
          "Food Services",
          "Health",
          "Human Resources",
          "Labor",
          "Law",
          "Manufacturing",
          "Media",
          "Operations",
          "Professional Services",
          "Real Estate",
          "Retail",
          "Sales",
          "Technology"
         ],
         "labels": [
          "Accountant",
          "Administrative Assistant",
          "Attorney",
          "Bank Teller",
          "Barista",
          "Bartender",
          "Business Analyst",
          "Business Development Manager",
          "Buyer",
          "Cashier",
          "Certified Nursing Assistant",
          "Civil Engineer",
          "Claims Adjuster",
          "Communications Manager",
          "Construction Laborer",
          "Consultant",
          "Customer Service Manager",
          "Customer Service Representative",
          "Data Analyst",
          "Data Scientist",
          "Delivery Driver",
          "Design Engineer",
          "Electrical Engineer",
          "Emergency Medical Technician",
          "Field Engineer",
          "Financial Advisor",
          "Financial Analyst",
          "Graphic Designer",
          "Human Resources Manager",
          "IT Manager",
          "Insurance Agent",
          "Java Developer",
          "Licensed Practical Nurse",
          "Loan Officer",
          "Machine Operator",
          "Maintenance Technician",
          "Maintenance Worker",
          "Manufacturing Engineer",
          "Marketing Manager",
          "Material Handler",
          "Mechanical Engineer",
          "Medical Assistant",
          "Medical Technologist",
          "Office Manager",
          "Operations Analyst",
          "Operations Manager",
          "Paralegal",
          "Pharmacist",
          "Pharmacy Technician",
          "Physical Therapist",
          "Process Engineer",
          "Producer",
          "Product Manager",
          "Production Manager",
          "Professor",
          "Program Manager",
          "Programmer Analyst",
          "Project Manager",
          "Property Manager",
          "Quality Engineer",
          "Recruiter",
          "Registered Nurse",
          "Research Assistant",
          "Restaurant Cook",
          "Restaurant Manager",
          "Retail Key Holder",
          "Sales Manager",
          "Sales Representative",
          "Security Officer",
          "Server",
          "Software Engineer",
          "Solutions Architect",
          "Store Manager",
          "Systems Engineer",
          "Tax Manager",
          "Teacher",
          "Technical Editor",
          "Technical Support",
          "Technician",
          "Truck Driver",
          "UX Designer",
          "Warehouse Associate",
          "Web Designer",
          "Web Developer",
          "Design",
          "Education",
          "Engineering",
          "Finance",
          "Food Services",
          "Health",
          "Human Resources",
          "Labor",
          "Law",
          "Manufacturing",
          "Media",
          "Operations",
          "Professional Services",
          "Real Estate",
          "Retail",
          "Sales",
          "Technology"
         ],
         "name": "",
         "parents": [
          "Finance",
          "Professional Services",
          "Law",
          "Finance",
          "Food Services",
          "Food Services",
          "Professional Services",
          "Professional Services",
          "Retail",
          "Retail",
          "Health",
          "Engineering",
          "Finance",
          "Professional Services",
          "Labor",
          "Professional Services",
          "Professional Services",
          "Professional Services",
          "Technology",
          "Technology",
          "Labor",
          "Engineering",
          "Engineering",
          "Health",
          "Engineering",
          "Finance",
          "Finance",
          "Design",
          "Human Resources",
          "Technology",
          "Finance",
          "Technology",
          "Health",
          "Finance",
          "Labor",
          "Labor",
          "Labor",
          "Manufacturing",
          "Professional Services",
          "Manufacturing",
          "Engineering",
          "Health",
          "Health",
          "Professional Services",
          "Operations",
          "Operations",
          "Law",
          "Health",
          "Health",
          "Health",
          "Manufacturing",
          "Media",
          "Professional Services",
          "Manufacturing",
          "Education",
          "Professional Services",
          "Technology",
          "Professional Services",
          "Real Estate",
          "Engineering",
          "Human Resources",
          "Health",
          "Education",
          "Food Services",
          "Food Services",
          "Retail",
          "Sales",
          "Sales",
          "Operations",
          "Food Services",
          "Technology",
          "Technology",
          "Retail",
          "Technology",
          "Finance",
          "Education",
          "Media",
          "Technology",
          "Labor",
          "Labor",
          "Technology",
          "Labor",
          "Technology",
          "Technology",
          "",
          "",
          "",
          "",
          "",
          "",
          "",
          "",
          "",
          "",
          "",
          "",
          "",
          "",
          "",
          "",
          ""
         ],
         "type": "sunburst",
         "values": [
          1,
          1,
          1,
          1,
          1,
          1,
          1,
          1,
          1,
          1,
          1,
          1,
          1,
          1,
          1,
          1,
          1,
          1,
          1,
          1,
          1,
          1,
          1,
          1,
          1,
          1,
          1,
          1,
          1,
          1,
          1,
          1,
          1,
          1,
          1,
          1,
          1,
          1,
          1,
          1,
          1,
          1,
          1,
          1,
          1,
          1,
          1,
          1,
          1,
          1,
          1,
          1,
          1,
          1,
          1,
          1,
          1,
          1,
          1,
          1,
          1,
          1,
          1,
          1,
          1,
          1,
          1,
          1,
          1,
          1,
          1,
          1,
          1,
          1,
          1,
          1,
          1,
          1,
          1,
          1,
          1,
          1,
          1,
          1,
          1,
          3,
          6,
          8,
          5,
          9,
          2,
          8,
          2,
          4,
          2,
          3,
          12,
          1,
          4,
          2,
          12
         ]
        }
       ],
       "layout": {
        "legend": {
         "tracegroupgap": 0
        },
        "margin": {
         "b": 10,
         "l": 10,
         "r": 10,
         "t": 10
        },
        "template": {
         "data": {
          "bar": [
           {
            "error_x": {
             "color": "#2a3f5f"
            },
            "error_y": {
             "color": "#2a3f5f"
            },
            "marker": {
             "line": {
              "color": "#E5ECF6",
              "width": 0.5
             }
            },
            "type": "bar"
           }
          ],
          "barpolar": [
           {
            "marker": {
             "line": {
              "color": "#E5ECF6",
              "width": 0.5
             }
            },
            "type": "barpolar"
           }
          ],
          "carpet": [
           {
            "aaxis": {
             "endlinecolor": "#2a3f5f",
             "gridcolor": "white",
             "linecolor": "white",
             "minorgridcolor": "white",
             "startlinecolor": "#2a3f5f"
            },
            "baxis": {
             "endlinecolor": "#2a3f5f",
             "gridcolor": "white",
             "linecolor": "white",
             "minorgridcolor": "white",
             "startlinecolor": "#2a3f5f"
            },
            "type": "carpet"
           }
          ],
          "choropleth": [
           {
            "colorbar": {
             "outlinewidth": 0,
             "ticks": ""
            },
            "type": "choropleth"
           }
          ],
          "contour": [
           {
            "colorbar": {
             "outlinewidth": 0,
             "ticks": ""
            },
            "colorscale": [
             [
              0,
              "#0d0887"
             ],
             [
              0.1111111111111111,
              "#46039f"
             ],
             [
              0.2222222222222222,
              "#7201a8"
             ],
             [
              0.3333333333333333,
              "#9c179e"
             ],
             [
              0.4444444444444444,
              "#bd3786"
             ],
             [
              0.5555555555555556,
              "#d8576b"
             ],
             [
              0.6666666666666666,
              "#ed7953"
             ],
             [
              0.7777777777777778,
              "#fb9f3a"
             ],
             [
              0.8888888888888888,
              "#fdca26"
             ],
             [
              1,
              "#f0f921"
             ]
            ],
            "type": "contour"
           }
          ],
          "contourcarpet": [
           {
            "colorbar": {
             "outlinewidth": 0,
             "ticks": ""
            },
            "type": "contourcarpet"
           }
          ],
          "heatmap": [
           {
            "colorbar": {
             "outlinewidth": 0,
             "ticks": ""
            },
            "colorscale": [
             [
              0,
              "#0d0887"
             ],
             [
              0.1111111111111111,
              "#46039f"
             ],
             [
              0.2222222222222222,
              "#7201a8"
             ],
             [
              0.3333333333333333,
              "#9c179e"
             ],
             [
              0.4444444444444444,
              "#bd3786"
             ],
             [
              0.5555555555555556,
              "#d8576b"
             ],
             [
              0.6666666666666666,
              "#ed7953"
             ],
             [
              0.7777777777777778,
              "#fb9f3a"
             ],
             [
              0.8888888888888888,
              "#fdca26"
             ],
             [
              1,
              "#f0f921"
             ]
            ],
            "type": "heatmap"
           }
          ],
          "heatmapgl": [
           {
            "colorbar": {
             "outlinewidth": 0,
             "ticks": ""
            },
            "colorscale": [
             [
              0,
              "#0d0887"
             ],
             [
              0.1111111111111111,
              "#46039f"
             ],
             [
              0.2222222222222222,
              "#7201a8"
             ],
             [
              0.3333333333333333,
              "#9c179e"
             ],
             [
              0.4444444444444444,
              "#bd3786"
             ],
             [
              0.5555555555555556,
              "#d8576b"
             ],
             [
              0.6666666666666666,
              "#ed7953"
             ],
             [
              0.7777777777777778,
              "#fb9f3a"
             ],
             [
              0.8888888888888888,
              "#fdca26"
             ],
             [
              1,
              "#f0f921"
             ]
            ],
            "type": "heatmapgl"
           }
          ],
          "histogram": [
           {
            "marker": {
             "colorbar": {
              "outlinewidth": 0,
              "ticks": ""
             }
            },
            "type": "histogram"
           }
          ],
          "histogram2d": [
           {
            "colorbar": {
             "outlinewidth": 0,
             "ticks": ""
            },
            "colorscale": [
             [
              0,
              "#0d0887"
             ],
             [
              0.1111111111111111,
              "#46039f"
             ],
             [
              0.2222222222222222,
              "#7201a8"
             ],
             [
              0.3333333333333333,
              "#9c179e"
             ],
             [
              0.4444444444444444,
              "#bd3786"
             ],
             [
              0.5555555555555556,
              "#d8576b"
             ],
             [
              0.6666666666666666,
              "#ed7953"
             ],
             [
              0.7777777777777778,
              "#fb9f3a"
             ],
             [
              0.8888888888888888,
              "#fdca26"
             ],
             [
              1,
              "#f0f921"
             ]
            ],
            "type": "histogram2d"
           }
          ],
          "histogram2dcontour": [
           {
            "colorbar": {
             "outlinewidth": 0,
             "ticks": ""
            },
            "colorscale": [
             [
              0,
              "#0d0887"
             ],
             [
              0.1111111111111111,
              "#46039f"
             ],
             [
              0.2222222222222222,
              "#7201a8"
             ],
             [
              0.3333333333333333,
              "#9c179e"
             ],
             [
              0.4444444444444444,
              "#bd3786"
             ],
             [
              0.5555555555555556,
              "#d8576b"
             ],
             [
              0.6666666666666666,
              "#ed7953"
             ],
             [
              0.7777777777777778,
              "#fb9f3a"
             ],
             [
              0.8888888888888888,
              "#fdca26"
             ],
             [
              1,
              "#f0f921"
             ]
            ],
            "type": "histogram2dcontour"
           }
          ],
          "mesh3d": [
           {
            "colorbar": {
             "outlinewidth": 0,
             "ticks": ""
            },
            "type": "mesh3d"
           }
          ],
          "parcoords": [
           {
            "line": {
             "colorbar": {
              "outlinewidth": 0,
              "ticks": ""
             }
            },
            "type": "parcoords"
           }
          ],
          "pie": [
           {
            "automargin": true,
            "type": "pie"
           }
          ],
          "scatter": [
           {
            "marker": {
             "colorbar": {
              "outlinewidth": 0,
              "ticks": ""
             }
            },
            "type": "scatter"
           }
          ],
          "scatter3d": [
           {
            "line": {
             "colorbar": {
              "outlinewidth": 0,
              "ticks": ""
             }
            },
            "marker": {
             "colorbar": {
              "outlinewidth": 0,
              "ticks": ""
             }
            },
            "type": "scatter3d"
           }
          ],
          "scattercarpet": [
           {
            "marker": {
             "colorbar": {
              "outlinewidth": 0,
              "ticks": ""
             }
            },
            "type": "scattercarpet"
           }
          ],
          "scattergeo": [
           {
            "marker": {
             "colorbar": {
              "outlinewidth": 0,
              "ticks": ""
             }
            },
            "type": "scattergeo"
           }
          ],
          "scattergl": [
           {
            "marker": {
             "colorbar": {
              "outlinewidth": 0,
              "ticks": ""
             }
            },
            "type": "scattergl"
           }
          ],
          "scattermapbox": [
           {
            "marker": {
             "colorbar": {
              "outlinewidth": 0,
              "ticks": ""
             }
            },
            "type": "scattermapbox"
           }
          ],
          "scatterpolar": [
           {
            "marker": {
             "colorbar": {
              "outlinewidth": 0,
              "ticks": ""
             }
            },
            "type": "scatterpolar"
           }
          ],
          "scatterpolargl": [
           {
            "marker": {
             "colorbar": {
              "outlinewidth": 0,
              "ticks": ""
             }
            },
            "type": "scatterpolargl"
           }
          ],
          "scatterternary": [
           {
            "marker": {
             "colorbar": {
              "outlinewidth": 0,
              "ticks": ""
             }
            },
            "type": "scatterternary"
           }
          ],
          "surface": [
           {
            "colorbar": {
             "outlinewidth": 0,
             "ticks": ""
            },
            "colorscale": [
             [
              0,
              "#0d0887"
             ],
             [
              0.1111111111111111,
              "#46039f"
             ],
             [
              0.2222222222222222,
              "#7201a8"
             ],
             [
              0.3333333333333333,
              "#9c179e"
             ],
             [
              0.4444444444444444,
              "#bd3786"
             ],
             [
              0.5555555555555556,
              "#d8576b"
             ],
             [
              0.6666666666666666,
              "#ed7953"
             ],
             [
              0.7777777777777778,
              "#fb9f3a"
             ],
             [
              0.8888888888888888,
              "#fdca26"
             ],
             [
              1,
              "#f0f921"
             ]
            ],
            "type": "surface"
           }
          ],
          "table": [
           {
            "cells": {
             "fill": {
              "color": "#EBF0F8"
             },
             "line": {
              "color": "white"
             }
            },
            "header": {
             "fill": {
              "color": "#C8D4E3"
             },
             "line": {
              "color": "white"
             }
            },
            "type": "table"
           }
          ]
         },
         "layout": {
          "annotationdefaults": {
           "arrowcolor": "#2a3f5f",
           "arrowhead": 0,
           "arrowwidth": 1
          },
          "coloraxis": {
           "colorbar": {
            "outlinewidth": 0,
            "ticks": ""
           }
          },
          "colorscale": {
           "diverging": [
            [
             0,
             "#8e0152"
            ],
            [
             0.1,
             "#c51b7d"
            ],
            [
             0.2,
             "#de77ae"
            ],
            [
             0.3,
             "#f1b6da"
            ],
            [
             0.4,
             "#fde0ef"
            ],
            [
             0.5,
             "#f7f7f7"
            ],
            [
             0.6,
             "#e6f5d0"
            ],
            [
             0.7,
             "#b8e186"
            ],
            [
             0.8,
             "#7fbc41"
            ],
            [
             0.9,
             "#4d9221"
            ],
            [
             1,
             "#276419"
            ]
           ],
           "sequential": [
            [
             0,
             "#0d0887"
            ],
            [
             0.1111111111111111,
             "#46039f"
            ],
            [
             0.2222222222222222,
             "#7201a8"
            ],
            [
             0.3333333333333333,
             "#9c179e"
            ],
            [
             0.4444444444444444,
             "#bd3786"
            ],
            [
             0.5555555555555556,
             "#d8576b"
            ],
            [
             0.6666666666666666,
             "#ed7953"
            ],
            [
             0.7777777777777778,
             "#fb9f3a"
            ],
            [
             0.8888888888888888,
             "#fdca26"
            ],
            [
             1,
             "#f0f921"
            ]
           ],
           "sequentialminus": [
            [
             0,
             "#0d0887"
            ],
            [
             0.1111111111111111,
             "#46039f"
            ],
            [
             0.2222222222222222,
             "#7201a8"
            ],
            [
             0.3333333333333333,
             "#9c179e"
            ],
            [
             0.4444444444444444,
             "#bd3786"
            ],
            [
             0.5555555555555556,
             "#d8576b"
            ],
            [
             0.6666666666666666,
             "#ed7953"
            ],
            [
             0.7777777777777778,
             "#fb9f3a"
            ],
            [
             0.8888888888888888,
             "#fdca26"
            ],
            [
             1,
             "#f0f921"
            ]
           ]
          },
          "colorway": [
           "#636efa",
           "#EF553B",
           "#00cc96",
           "#ab63fa",
           "#FFA15A",
           "#19d3f3",
           "#FF6692",
           "#B6E880",
           "#FF97FF",
           "#FECB52"
          ],
          "font": {
           "color": "#2a3f5f"
          },
          "geo": {
           "bgcolor": "white",
           "lakecolor": "white",
           "landcolor": "#E5ECF6",
           "showlakes": true,
           "showland": true,
           "subunitcolor": "white"
          },
          "hoverlabel": {
           "align": "left"
          },
          "hovermode": "closest",
          "mapbox": {
           "style": "light"
          },
          "paper_bgcolor": "white",
          "plot_bgcolor": "#E5ECF6",
          "polar": {
           "angularaxis": {
            "gridcolor": "white",
            "linecolor": "white",
            "ticks": ""
           },
           "bgcolor": "#E5ECF6",
           "radialaxis": {
            "gridcolor": "white",
            "linecolor": "white",
            "ticks": ""
           }
          },
          "scene": {
           "xaxis": {
            "backgroundcolor": "#E5ECF6",
            "gridcolor": "white",
            "gridwidth": 2,
            "linecolor": "white",
            "showbackground": true,
            "ticks": "",
            "zerolinecolor": "white"
           },
           "yaxis": {
            "backgroundcolor": "#E5ECF6",
            "gridcolor": "white",
            "gridwidth": 2,
            "linecolor": "white",
            "showbackground": true,
            "ticks": "",
            "zerolinecolor": "white"
           },
           "zaxis": {
            "backgroundcolor": "#E5ECF6",
            "gridcolor": "white",
            "gridwidth": 2,
            "linecolor": "white",
            "showbackground": true,
            "ticks": "",
            "zerolinecolor": "white"
           }
          },
          "shapedefaults": {
           "line": {
            "color": "#2a3f5f"
           }
          },
          "ternary": {
           "aaxis": {
            "gridcolor": "white",
            "linecolor": "white",
            "ticks": ""
           },
           "baxis": {
            "gridcolor": "white",
            "linecolor": "white",
            "ticks": ""
           },
           "bgcolor": "#E5ECF6",
           "caxis": {
            "gridcolor": "white",
            "linecolor": "white",
            "ticks": ""
           }
          },
          "title": {
           "x": 0.05
          },
          "xaxis": {
           "automargin": true,
           "gridcolor": "white",
           "linecolor": "white",
           "ticks": "",
           "title": {
            "standoff": 15
           },
           "zerolinecolor": "white",
           "zerolinewidth": 2
          },
          "yaxis": {
           "automargin": true,
           "gridcolor": "white",
           "linecolor": "white",
           "ticks": "",
           "title": {
            "standoff": 15
           },
           "zerolinecolor": "white",
           "zerolinewidth": 2
          }
         }
        }
       }
      },
      "text/html": [
       "<div>\n",
       "        \n",
       "        \n",
       "            <div id=\"0239876a-2ffb-4338-9656-131bf824aa7f\" class=\"plotly-graph-div\" style=\"height:525px; width:100%;\"></div>\n",
       "            <script type=\"text/javascript\">\n",
       "                require([\"plotly\"], function(Plotly) {\n",
       "                    window.PLOTLYENV=window.PLOTLYENV || {};\n",
       "                    \n",
       "                if (document.getElementById(\"0239876a-2ffb-4338-9656-131bf824aa7f\")) {\n",
       "                    Plotly.newPlot(\n",
       "                        '0239876a-2ffb-4338-9656-131bf824aa7f',\n",
       "                        [{\"branchvalues\": \"total\", \"domain\": {\"x\": [0.0, 1.0], \"y\": [0.0, 1.0]}, \"hoverlabel\": {\"namelength\": 0}, \"hovertemplate\": \"labels=%{label}<br>count=%{value}<br>parent=%{parent}<br>id=%{id}\", \"ids\": [\"Finance/Accountant\", \"Professional Services/Administrative Assistant\", \"Law/Attorney\", \"Finance/Bank Teller\", \"Food Services/Barista\", \"Food Services/Bartender\", \"Professional Services/Business Analyst\", \"Professional Services/Business Development Manager\", \"Retail/Buyer\", \"Retail/Cashier\", \"Health/Certified Nursing Assistant\", \"Engineering/Civil Engineer\", \"Finance/Claims Adjuster\", \"Professional Services/Communications Manager\", \"Labor/Construction Laborer\", \"Professional Services/Consultant\", \"Professional Services/Customer Service Manager\", \"Professional Services/Customer Service Representative\", \"Technology/Data Analyst\", \"Technology/Data Scientist\", \"Labor/Delivery Driver\", \"Engineering/Design Engineer\", \"Engineering/Electrical Engineer\", \"Health/Emergency Medical Technician\", \"Engineering/Field Engineer\", \"Finance/Financial Advisor\", \"Finance/Financial Analyst\", \"Design/Graphic Designer\", \"Human Resources/Human Resources Manager\", \"Technology/IT Manager\", \"Finance/Insurance Agent\", \"Technology/Java Developer\", \"Health/Licensed Practical Nurse\", \"Finance/Loan Officer\", \"Labor/Machine Operator\", \"Labor/Maintenance Technician\", \"Labor/Maintenance Worker\", \"Manufacturing/Manufacturing Engineer\", \"Professional Services/Marketing Manager\", \"Manufacturing/Material Handler\", \"Engineering/Mechanical Engineer\", \"Health/Medical Assistant\", \"Health/Medical Technologist\", \"Professional Services/Office Manager\", \"Operations/Operations Analyst\", \"Operations/Operations Manager\", \"Law/Paralegal\", \"Health/Pharmacist\", \"Health/Pharmacy Technician\", \"Health/Physical Therapist\", \"Manufacturing/Process Engineer\", \"Media/Producer\", \"Professional Services/Product Manager\", \"Manufacturing/Production Manager\", \"Education/Professor\", \"Professional Services/Program Manager\", \"Technology/Programmer Analyst\", \"Professional Services/Project Manager\", \"Real Estate/Property Manager\", \"Engineering/Quality Engineer\", \"Human Resources/Recruiter\", \"Health/Registered Nurse\", \"Education/Research Assistant\", \"Food Services/Restaurant Cook\", \"Food Services/Restaurant Manager\", \"Retail/Retail Key Holder\", \"Sales/Sales Manager\", \"Sales/Sales Representative\", \"Operations/Security Officer\", \"Food Services/Server\", \"Technology/Software Engineer\", \"Technology/Solutions Architect\", \"Retail/Store Manager\", \"Technology/Systems Engineer\", \"Finance/Tax Manager\", \"Education/Teacher\", \"Media/Technical Editor\", \"Technology/Technical Support\", \"Labor/Technician\", \"Labor/Truck Driver\", \"Technology/UX Designer\", \"Labor/Warehouse Associate\", \"Technology/Web Designer\", \"Technology/Web Developer\", \"Design\", \"Education\", \"Engineering\", \"Finance\", \"Food Services\", \"Health\", \"Human Resources\", \"Labor\", \"Law\", \"Manufacturing\", \"Media\", \"Operations\", \"Professional Services\", \"Real Estate\", \"Retail\", \"Sales\", \"Technology\"], \"labels\": [\"Accountant\", \"Administrative Assistant\", \"Attorney\", \"Bank Teller\", \"Barista\", \"Bartender\", \"Business Analyst\", \"Business Development Manager\", \"Buyer\", \"Cashier\", \"Certified Nursing Assistant\", \"Civil Engineer\", \"Claims Adjuster\", \"Communications Manager\", \"Construction Laborer\", \"Consultant\", \"Customer Service Manager\", \"Customer Service Representative\", \"Data Analyst\", \"Data Scientist\", \"Delivery Driver\", \"Design Engineer\", \"Electrical Engineer\", \"Emergency Medical Technician\", \"Field Engineer\", \"Financial Advisor\", \"Financial Analyst\", \"Graphic Designer\", \"Human Resources Manager\", \"IT Manager\", \"Insurance Agent\", \"Java Developer\", \"Licensed Practical Nurse\", \"Loan Officer\", \"Machine Operator\", \"Maintenance Technician\", \"Maintenance Worker\", \"Manufacturing Engineer\", \"Marketing Manager\", \"Material Handler\", \"Mechanical Engineer\", \"Medical Assistant\", \"Medical Technologist\", \"Office Manager\", \"Operations Analyst\", \"Operations Manager\", \"Paralegal\", \"Pharmacist\", \"Pharmacy Technician\", \"Physical Therapist\", \"Process Engineer\", \"Producer\", \"Product Manager\", \"Production Manager\", \"Professor\", \"Program Manager\", \"Programmer Analyst\", \"Project Manager\", \"Property Manager\", \"Quality Engineer\", \"Recruiter\", \"Registered Nurse\", \"Research Assistant\", \"Restaurant Cook\", \"Restaurant Manager\", \"Retail Key Holder\", \"Sales Manager\", \"Sales Representative\", \"Security Officer\", \"Server\", \"Software Engineer\", \"Solutions Architect\", \"Store Manager\", \"Systems Engineer\", \"Tax Manager\", \"Teacher\", \"Technical Editor\", \"Technical Support\", \"Technician\", \"Truck Driver\", \"UX Designer\", \"Warehouse Associate\", \"Web Designer\", \"Web Developer\", \"Design\", \"Education\", \"Engineering\", \"Finance\", \"Food Services\", \"Health\", \"Human Resources\", \"Labor\", \"Law\", \"Manufacturing\", \"Media\", \"Operations\", \"Professional Services\", \"Real Estate\", \"Retail\", \"Sales\", \"Technology\"], \"name\": \"\", \"parents\": [\"Finance\", \"Professional Services\", \"Law\", \"Finance\", \"Food Services\", \"Food Services\", \"Professional Services\", \"Professional Services\", \"Retail\", \"Retail\", \"Health\", \"Engineering\", \"Finance\", \"Professional Services\", \"Labor\", \"Professional Services\", \"Professional Services\", \"Professional Services\", \"Technology\", \"Technology\", \"Labor\", \"Engineering\", \"Engineering\", \"Health\", \"Engineering\", \"Finance\", \"Finance\", \"Design\", \"Human Resources\", \"Technology\", \"Finance\", \"Technology\", \"Health\", \"Finance\", \"Labor\", \"Labor\", \"Labor\", \"Manufacturing\", \"Professional Services\", \"Manufacturing\", \"Engineering\", \"Health\", \"Health\", \"Professional Services\", \"Operations\", \"Operations\", \"Law\", \"Health\", \"Health\", \"Health\", \"Manufacturing\", \"Media\", \"Professional Services\", \"Manufacturing\", \"Education\", \"Professional Services\", \"Technology\", \"Professional Services\", \"Real Estate\", \"Engineering\", \"Human Resources\", \"Health\", \"Education\", \"Food Services\", \"Food Services\", \"Retail\", \"Sales\", \"Sales\", \"Operations\", \"Food Services\", \"Technology\", \"Technology\", \"Retail\", \"Technology\", \"Finance\", \"Education\", \"Media\", \"Technology\", \"Labor\", \"Labor\", \"Technology\", \"Labor\", \"Technology\", \"Technology\", \"\", \"\", \"\", \"\", \"\", \"\", \"\", \"\", \"\", \"\", \"\", \"\", \"\", \"\", \"\", \"\", \"\"], \"type\": \"sunburst\", \"values\": [1, 1, 1, 1, 1, 1, 1, 1, 1, 1, 1, 1, 1, 1, 1, 1, 1, 1, 1, 1, 1, 1, 1, 1, 1, 1, 1, 1, 1, 1, 1, 1, 1, 1, 1, 1, 1, 1, 1, 1, 1, 1, 1, 1, 1, 1, 1, 1, 1, 1, 1, 1, 1, 1, 1, 1, 1, 1, 1, 1, 1, 1, 1, 1, 1, 1, 1, 1, 1, 1, 1, 1, 1, 1, 1, 1, 1, 1, 1, 1, 1, 1, 1, 1, 1, 3, 6, 8, 5, 9, 2, 8, 2, 4, 2, 3, 12, 1, 4, 2, 12]}],\n",
       "                        {\"legend\": {\"tracegroupgap\": 0}, \"margin\": {\"b\": 10, \"l\": 10, \"r\": 10, \"t\": 10}, \"template\": {\"data\": {\"bar\": [{\"error_x\": {\"color\": \"#2a3f5f\"}, \"error_y\": {\"color\": \"#2a3f5f\"}, \"marker\": {\"line\": {\"color\": \"#E5ECF6\", \"width\": 0.5}}, \"type\": \"bar\"}], \"barpolar\": [{\"marker\": {\"line\": {\"color\": \"#E5ECF6\", \"width\": 0.5}}, \"type\": \"barpolar\"}], \"carpet\": [{\"aaxis\": {\"endlinecolor\": \"#2a3f5f\", \"gridcolor\": \"white\", \"linecolor\": \"white\", \"minorgridcolor\": \"white\", \"startlinecolor\": \"#2a3f5f\"}, \"baxis\": {\"endlinecolor\": \"#2a3f5f\", \"gridcolor\": \"white\", \"linecolor\": \"white\", \"minorgridcolor\": \"white\", \"startlinecolor\": \"#2a3f5f\"}, \"type\": \"carpet\"}], \"choropleth\": [{\"colorbar\": {\"outlinewidth\": 0, \"ticks\": \"\"}, \"type\": \"choropleth\"}], \"contour\": [{\"colorbar\": {\"outlinewidth\": 0, \"ticks\": \"\"}, \"colorscale\": [[0.0, \"#0d0887\"], [0.1111111111111111, \"#46039f\"], [0.2222222222222222, \"#7201a8\"], [0.3333333333333333, \"#9c179e\"], [0.4444444444444444, \"#bd3786\"], [0.5555555555555556, \"#d8576b\"], [0.6666666666666666, \"#ed7953\"], [0.7777777777777778, \"#fb9f3a\"], [0.8888888888888888, \"#fdca26\"], [1.0, \"#f0f921\"]], \"type\": \"contour\"}], \"contourcarpet\": [{\"colorbar\": {\"outlinewidth\": 0, \"ticks\": \"\"}, \"type\": \"contourcarpet\"}], \"heatmap\": [{\"colorbar\": {\"outlinewidth\": 0, \"ticks\": \"\"}, \"colorscale\": [[0.0, \"#0d0887\"], [0.1111111111111111, \"#46039f\"], [0.2222222222222222, \"#7201a8\"], [0.3333333333333333, \"#9c179e\"], [0.4444444444444444, \"#bd3786\"], [0.5555555555555556, \"#d8576b\"], [0.6666666666666666, \"#ed7953\"], [0.7777777777777778, \"#fb9f3a\"], [0.8888888888888888, \"#fdca26\"], [1.0, \"#f0f921\"]], \"type\": \"heatmap\"}], \"heatmapgl\": [{\"colorbar\": {\"outlinewidth\": 0, \"ticks\": \"\"}, \"colorscale\": [[0.0, \"#0d0887\"], [0.1111111111111111, \"#46039f\"], [0.2222222222222222, \"#7201a8\"], [0.3333333333333333, \"#9c179e\"], [0.4444444444444444, \"#bd3786\"], [0.5555555555555556, \"#d8576b\"], [0.6666666666666666, \"#ed7953\"], [0.7777777777777778, \"#fb9f3a\"], [0.8888888888888888, \"#fdca26\"], [1.0, \"#f0f921\"]], \"type\": \"heatmapgl\"}], \"histogram\": [{\"marker\": {\"colorbar\": {\"outlinewidth\": 0, \"ticks\": \"\"}}, \"type\": \"histogram\"}], \"histogram2d\": [{\"colorbar\": {\"outlinewidth\": 0, \"ticks\": \"\"}, \"colorscale\": [[0.0, \"#0d0887\"], [0.1111111111111111, \"#46039f\"], [0.2222222222222222, \"#7201a8\"], [0.3333333333333333, \"#9c179e\"], [0.4444444444444444, \"#bd3786\"], [0.5555555555555556, \"#d8576b\"], [0.6666666666666666, \"#ed7953\"], [0.7777777777777778, \"#fb9f3a\"], [0.8888888888888888, \"#fdca26\"], [1.0, \"#f0f921\"]], \"type\": \"histogram2d\"}], \"histogram2dcontour\": [{\"colorbar\": {\"outlinewidth\": 0, \"ticks\": \"\"}, \"colorscale\": [[0.0, \"#0d0887\"], [0.1111111111111111, \"#46039f\"], [0.2222222222222222, \"#7201a8\"], [0.3333333333333333, \"#9c179e\"], [0.4444444444444444, \"#bd3786\"], [0.5555555555555556, \"#d8576b\"], [0.6666666666666666, \"#ed7953\"], [0.7777777777777778, \"#fb9f3a\"], [0.8888888888888888, \"#fdca26\"], [1.0, \"#f0f921\"]], \"type\": \"histogram2dcontour\"}], \"mesh3d\": [{\"colorbar\": {\"outlinewidth\": 0, \"ticks\": \"\"}, \"type\": \"mesh3d\"}], \"parcoords\": [{\"line\": {\"colorbar\": {\"outlinewidth\": 0, \"ticks\": \"\"}}, \"type\": \"parcoords\"}], \"pie\": [{\"automargin\": true, \"type\": \"pie\"}], \"scatter\": [{\"marker\": {\"colorbar\": {\"outlinewidth\": 0, \"ticks\": \"\"}}, \"type\": \"scatter\"}], \"scatter3d\": [{\"line\": {\"colorbar\": {\"outlinewidth\": 0, \"ticks\": \"\"}}, \"marker\": {\"colorbar\": {\"outlinewidth\": 0, \"ticks\": \"\"}}, \"type\": \"scatter3d\"}], \"scattercarpet\": [{\"marker\": {\"colorbar\": {\"outlinewidth\": 0, \"ticks\": \"\"}}, \"type\": \"scattercarpet\"}], \"scattergeo\": [{\"marker\": {\"colorbar\": {\"outlinewidth\": 0, \"ticks\": \"\"}}, \"type\": \"scattergeo\"}], \"scattergl\": [{\"marker\": {\"colorbar\": {\"outlinewidth\": 0, \"ticks\": \"\"}}, \"type\": \"scattergl\"}], \"scattermapbox\": [{\"marker\": {\"colorbar\": {\"outlinewidth\": 0, \"ticks\": \"\"}}, \"type\": \"scattermapbox\"}], \"scatterpolar\": [{\"marker\": {\"colorbar\": {\"outlinewidth\": 0, \"ticks\": \"\"}}, \"type\": \"scatterpolar\"}], \"scatterpolargl\": [{\"marker\": {\"colorbar\": {\"outlinewidth\": 0, \"ticks\": \"\"}}, \"type\": \"scatterpolargl\"}], \"scatterternary\": [{\"marker\": {\"colorbar\": {\"outlinewidth\": 0, \"ticks\": \"\"}}, \"type\": \"scatterternary\"}], \"surface\": [{\"colorbar\": {\"outlinewidth\": 0, \"ticks\": \"\"}, \"colorscale\": [[0.0, \"#0d0887\"], [0.1111111111111111, \"#46039f\"], [0.2222222222222222, \"#7201a8\"], [0.3333333333333333, \"#9c179e\"], [0.4444444444444444, \"#bd3786\"], [0.5555555555555556, \"#d8576b\"], [0.6666666666666666, \"#ed7953\"], [0.7777777777777778, \"#fb9f3a\"], [0.8888888888888888, \"#fdca26\"], [1.0, \"#f0f921\"]], \"type\": \"surface\"}], \"table\": [{\"cells\": {\"fill\": {\"color\": \"#EBF0F8\"}, \"line\": {\"color\": \"white\"}}, \"header\": {\"fill\": {\"color\": \"#C8D4E3\"}, \"line\": {\"color\": \"white\"}}, \"type\": \"table\"}]}, \"layout\": {\"annotationdefaults\": {\"arrowcolor\": \"#2a3f5f\", \"arrowhead\": 0, \"arrowwidth\": 1}, \"coloraxis\": {\"colorbar\": {\"outlinewidth\": 0, \"ticks\": \"\"}}, \"colorscale\": {\"diverging\": [[0, \"#8e0152\"], [0.1, \"#c51b7d\"], [0.2, \"#de77ae\"], [0.3, \"#f1b6da\"], [0.4, \"#fde0ef\"], [0.5, \"#f7f7f7\"], [0.6, \"#e6f5d0\"], [0.7, \"#b8e186\"], [0.8, \"#7fbc41\"], [0.9, \"#4d9221\"], [1, \"#276419\"]], \"sequential\": [[0.0, \"#0d0887\"], [0.1111111111111111, \"#46039f\"], [0.2222222222222222, \"#7201a8\"], [0.3333333333333333, \"#9c179e\"], [0.4444444444444444, \"#bd3786\"], [0.5555555555555556, \"#d8576b\"], [0.6666666666666666, \"#ed7953\"], [0.7777777777777778, \"#fb9f3a\"], [0.8888888888888888, \"#fdca26\"], [1.0, \"#f0f921\"]], \"sequentialminus\": [[0.0, \"#0d0887\"], [0.1111111111111111, \"#46039f\"], [0.2222222222222222, \"#7201a8\"], [0.3333333333333333, \"#9c179e\"], [0.4444444444444444, \"#bd3786\"], [0.5555555555555556, \"#d8576b\"], [0.6666666666666666, \"#ed7953\"], [0.7777777777777778, \"#fb9f3a\"], [0.8888888888888888, \"#fdca26\"], [1.0, \"#f0f921\"]]}, \"colorway\": [\"#636efa\", \"#EF553B\", \"#00cc96\", \"#ab63fa\", \"#FFA15A\", \"#19d3f3\", \"#FF6692\", \"#B6E880\", \"#FF97FF\", \"#FECB52\"], \"font\": {\"color\": \"#2a3f5f\"}, \"geo\": {\"bgcolor\": \"white\", \"lakecolor\": \"white\", \"landcolor\": \"#E5ECF6\", \"showlakes\": true, \"showland\": true, \"subunitcolor\": \"white\"}, \"hoverlabel\": {\"align\": \"left\"}, \"hovermode\": \"closest\", \"mapbox\": {\"style\": \"light\"}, \"paper_bgcolor\": \"white\", \"plot_bgcolor\": \"#E5ECF6\", \"polar\": {\"angularaxis\": {\"gridcolor\": \"white\", \"linecolor\": \"white\", \"ticks\": \"\"}, \"bgcolor\": \"#E5ECF6\", \"radialaxis\": {\"gridcolor\": \"white\", \"linecolor\": \"white\", \"ticks\": \"\"}}, \"scene\": {\"xaxis\": {\"backgroundcolor\": \"#E5ECF6\", \"gridcolor\": \"white\", \"gridwidth\": 2, \"linecolor\": \"white\", \"showbackground\": true, \"ticks\": \"\", \"zerolinecolor\": \"white\"}, \"yaxis\": {\"backgroundcolor\": \"#E5ECF6\", \"gridcolor\": \"white\", \"gridwidth\": 2, \"linecolor\": \"white\", \"showbackground\": true, \"ticks\": \"\", \"zerolinecolor\": \"white\"}, \"zaxis\": {\"backgroundcolor\": \"#E5ECF6\", \"gridcolor\": \"white\", \"gridwidth\": 2, \"linecolor\": \"white\", \"showbackground\": true, \"ticks\": \"\", \"zerolinecolor\": \"white\"}}, \"shapedefaults\": {\"line\": {\"color\": \"#2a3f5f\"}}, \"ternary\": {\"aaxis\": {\"gridcolor\": \"white\", \"linecolor\": \"white\", \"ticks\": \"\"}, \"baxis\": {\"gridcolor\": \"white\", \"linecolor\": \"white\", \"ticks\": \"\"}, \"bgcolor\": \"#E5ECF6\", \"caxis\": {\"gridcolor\": \"white\", \"linecolor\": \"white\", \"ticks\": \"\"}}, \"title\": {\"x\": 0.05}, \"xaxis\": {\"automargin\": true, \"gridcolor\": \"white\", \"linecolor\": \"white\", \"ticks\": \"\", \"title\": {\"standoff\": 15}, \"zerolinecolor\": \"white\", \"zerolinewidth\": 2}, \"yaxis\": {\"automargin\": true, \"gridcolor\": \"white\", \"linecolor\": \"white\", \"ticks\": \"\", \"title\": {\"standoff\": 15}, \"zerolinecolor\": \"white\", \"zerolinewidth\": 2}}}},\n",
       "                        {\"responsive\": true}\n",
       "                    ).then(function(){\n",
       "                            \n",
       "var gd = document.getElementById('0239876a-2ffb-4338-9656-131bf824aa7f');\n",
       "var x = new MutationObserver(function (mutations, observer) {{\n",
       "        var display = window.getComputedStyle(gd).display;\n",
       "        if (!display || display === 'none') {{\n",
       "            console.log([gd, 'removed!']);\n",
       "            Plotly.purge(gd);\n",
       "            observer.disconnect();\n",
       "        }}\n",
       "}});\n",
       "\n",
       "// Listen for the removal of the full notebook cells\n",
       "var notebookContainer = gd.closest('#notebook-container');\n",
       "if (notebookContainer) {{\n",
       "    x.observe(notebookContainer, {childList: true});\n",
       "}}\n",
       "\n",
       "// Listen for the clearing of the current output cell\n",
       "var outputEl = gd.closest('.output');\n",
       "if (outputEl) {{\n",
       "    x.observe(outputEl, {childList: true});\n",
       "}}\n",
       "\n",
       "                        })\n",
       "                };\n",
       "                });\n",
       "            </script>\n",
       "        </div>"
      ]
     },
     "metadata": {},
     "output_type": "display_data"
    }
   ],
   "source": [
    "dfplt = px.sunburst(df, path=['Job Category', 'Job Title'])\n",
    "dfplt.update_layout(margin = dict(t=10, l=10, r=10, b=10))\n",
    "dfplt.show()"
   ]
  },
  {
   "cell_type": "code",
   "execution_count": 22,
   "metadata": {},
   "outputs": [
    {
     "data": {
      "text/html": [
       "<div>\n",
       "<style scoped>\n",
       "    .dataframe tbody tr th:only-of-type {\n",
       "        vertical-align: middle;\n",
       "    }\n",
       "\n",
       "    .dataframe tbody tr th {\n",
       "        vertical-align: top;\n",
       "    }\n",
       "\n",
       "    .dataframe thead th {\n",
       "        text-align: right;\n",
       "    }\n",
       "</style>\n",
       "<table border=\"1\" class=\"dataframe\">\n",
       "  <thead>\n",
       "    <tr style=\"text-align: right;\">\n",
       "      <th></th>\n",
       "      <th>Job Category</th>\n",
       "      <th>Job Title</th>\n",
       "      <th>Atlanta</th>\n",
       "      <th>Boston</th>\n",
       "      <th>Chicago</th>\n",
       "      <th>Houston</th>\n",
       "      <th>Los Angeles</th>\n",
       "      <th>New York City</th>\n",
       "      <th>Philadelphia</th>\n",
       "      <th>San Francisco</th>\n",
       "      <th>Seattle</th>\n",
       "      <th>Washington DC</th>\n",
       "    </tr>\n",
       "  </thead>\n",
       "  <tbody>\n",
       "    <tr>\n",
       "      <td>0</td>\n",
       "      <td>Design</td>\n",
       "      <td>Graphic Designer</td>\n",
       "      <td>52307</td>\n",
       "      <td>58616</td>\n",
       "      <td>53636</td>\n",
       "      <td>49495</td>\n",
       "      <td>60004</td>\n",
       "      <td>60913</td>\n",
       "      <td>51620</td>\n",
       "      <td>74986</td>\n",
       "      <td>62118</td>\n",
       "      <td>59308</td>\n",
       "    </tr>\n",
       "    <tr>\n",
       "      <td>1</td>\n",
       "      <td>Education</td>\n",
       "      <td>Professor</td>\n",
       "      <td>93669</td>\n",
       "      <td>124416</td>\n",
       "      <td>101815</td>\n",
       "      <td>104098</td>\n",
       "      <td>115901</td>\n",
       "      <td>116551</td>\n",
       "      <td>102934</td>\n",
       "      <td>130761</td>\n",
       "      <td>109108</td>\n",
       "      <td>104065</td>\n",
       "    </tr>\n",
       "    <tr>\n",
       "      <td>2</td>\n",
       "      <td>Education</td>\n",
       "      <td>Research Assistant</td>\n",
       "      <td>31360</td>\n",
       "      <td>38181</td>\n",
       "      <td>33694</td>\n",
       "      <td>31202</td>\n",
       "      <td>35313</td>\n",
       "      <td>37979</td>\n",
       "      <td>32601</td>\n",
       "      <td>40695</td>\n",
       "      <td>34735</td>\n",
       "      <td>35872</td>\n",
       "    </tr>\n",
       "    <tr>\n",
       "      <td>3</td>\n",
       "      <td>Education</td>\n",
       "      <td>Teacher</td>\n",
       "      <td>50378</td>\n",
       "      <td>61327</td>\n",
       "      <td>56218</td>\n",
       "      <td>54216</td>\n",
       "      <td>64666</td>\n",
       "      <td>67552</td>\n",
       "      <td>54601</td>\n",
       "      <td>70271</td>\n",
       "      <td>59578</td>\n",
       "      <td>61218</td>\n",
       "    </tr>\n",
       "    <tr>\n",
       "      <td>4</td>\n",
       "      <td>Engineering</td>\n",
       "      <td>Civil Engineer</td>\n",
       "      <td>71292</td>\n",
       "      <td>77247</td>\n",
       "      <td>76466</td>\n",
       "      <td>78336</td>\n",
       "      <td>84642</td>\n",
       "      <td>80995</td>\n",
       "      <td>76147</td>\n",
       "      <td>93333</td>\n",
       "      <td>81285</td>\n",
       "      <td>78854</td>\n",
       "    </tr>\n",
       "    <tr>\n",
       "      <td>...</td>\n",
       "      <td>...</td>\n",
       "      <td>...</td>\n",
       "      <td>...</td>\n",
       "      <td>...</td>\n",
       "      <td>...</td>\n",
       "      <td>...</td>\n",
       "      <td>...</td>\n",
       "      <td>...</td>\n",
       "      <td>...</td>\n",
       "      <td>...</td>\n",
       "      <td>...</td>\n",
       "      <td>...</td>\n",
       "    </tr>\n",
       "    <tr>\n",
       "      <td>79</td>\n",
       "      <td>Technology</td>\n",
       "      <td>Systems Engineer</td>\n",
       "      <td>82532</td>\n",
       "      <td>90553</td>\n",
       "      <td>85134</td>\n",
       "      <td>77991</td>\n",
       "      <td>94649</td>\n",
       "      <td>91868</td>\n",
       "      <td>83349</td>\n",
       "      <td>106969</td>\n",
       "      <td>95389</td>\n",
       "      <td>94236</td>\n",
       "    </tr>\n",
       "    <tr>\n",
       "      <td>80</td>\n",
       "      <td>Technology</td>\n",
       "      <td>Technical Support</td>\n",
       "      <td>46457</td>\n",
       "      <td>58646</td>\n",
       "      <td>53640</td>\n",
       "      <td>48978</td>\n",
       "      <td>55913</td>\n",
       "      <td>58419</td>\n",
       "      <td>51340</td>\n",
       "      <td>68588</td>\n",
       "      <td>55575</td>\n",
       "      <td>59011</td>\n",
       "    </tr>\n",
       "    <tr>\n",
       "      <td>81</td>\n",
       "      <td>Technology</td>\n",
       "      <td>UX Designer</td>\n",
       "      <td>85912</td>\n",
       "      <td>90980</td>\n",
       "      <td>84536</td>\n",
       "      <td>78309</td>\n",
       "      <td>93434</td>\n",
       "      <td>95097</td>\n",
       "      <td>79303</td>\n",
       "      <td>112133</td>\n",
       "      <td>101237</td>\n",
       "      <td>91979</td>\n",
       "    </tr>\n",
       "    <tr>\n",
       "      <td>82</td>\n",
       "      <td>Technology</td>\n",
       "      <td>Web Designer</td>\n",
       "      <td>61899</td>\n",
       "      <td>68300</td>\n",
       "      <td>64393</td>\n",
       "      <td>59430</td>\n",
       "      <td>65705</td>\n",
       "      <td>68077</td>\n",
       "      <td>58624</td>\n",
       "      <td>83150</td>\n",
       "      <td>67126</td>\n",
       "      <td>69062</td>\n",
       "    </tr>\n",
       "    <tr>\n",
       "      <td>83</td>\n",
       "      <td>Technology</td>\n",
       "      <td>Web Developer</td>\n",
       "      <td>77856</td>\n",
       "      <td>85334</td>\n",
       "      <td>78251</td>\n",
       "      <td>72252</td>\n",
       "      <td>82970</td>\n",
       "      <td>87284</td>\n",
       "      <td>74319</td>\n",
       "      <td>104640</td>\n",
       "      <td>89770</td>\n",
       "      <td>89420</td>\n",
       "    </tr>\n",
       "  </tbody>\n",
       "</table>\n",
       "<p>84 rows × 12 columns</p>\n",
       "</div>"
      ],
      "text/plain": [
       "   Job Category           Job Title  Atlanta  Boston  Chicago  Houston  \\\n",
       "0        Design    Graphic Designer    52307   58616    53636    49495   \n",
       "1     Education           Professor    93669  124416   101815   104098   \n",
       "2     Education  Research Assistant    31360   38181    33694    31202   \n",
       "3     Education             Teacher    50378   61327    56218    54216   \n",
       "4   Engineering      Civil Engineer    71292   77247    76466    78336   \n",
       "..          ...                 ...      ...     ...      ...      ...   \n",
       "79   Technology    Systems Engineer    82532   90553    85134    77991   \n",
       "80   Technology   Technical Support    46457   58646    53640    48978   \n",
       "81   Technology         UX Designer    85912   90980    84536    78309   \n",
       "82   Technology        Web Designer    61899   68300    64393    59430   \n",
       "83   Technology       Web Developer    77856   85334    78251    72252   \n",
       "\n",
       "    Los Angeles  New York City  Philadelphia  San Francisco  Seattle  \\\n",
       "0         60004          60913         51620          74986    62118   \n",
       "1        115901         116551        102934         130761   109108   \n",
       "2         35313          37979         32601          40695    34735   \n",
       "3         64666          67552         54601          70271    59578   \n",
       "4         84642          80995         76147          93333    81285   \n",
       "..          ...            ...           ...            ...      ...   \n",
       "79        94649          91868         83349         106969    95389   \n",
       "80        55913          58419         51340          68588    55575   \n",
       "81        93434          95097         79303         112133   101237   \n",
       "82        65705          68077         58624          83150    67126   \n",
       "83        82970          87284         74319         104640    89770   \n",
       "\n",
       "    Washington DC  \n",
       "0           59308  \n",
       "1          104065  \n",
       "2           35872  \n",
       "3           61218  \n",
       "4           78854  \n",
       "..            ...  \n",
       "79          94236  \n",
       "80          59011  \n",
       "81          91979  \n",
       "82          69062  \n",
       "83          89420  \n",
       "\n",
       "[84 rows x 12 columns]"
      ]
     },
     "execution_count": 22,
     "metadata": {},
     "output_type": "execute_result"
    }
   ],
   "source": [
    "df = pd.read_excel('Glassdoor_data.xlsx')\n",
    "df"
   ]
  },
  {
   "cell_type": "code",
   "execution_count": null,
   "metadata": {},
   "outputs": [],
   "source": []
  },
  {
   "cell_type": "code",
   "execution_count": null,
   "metadata": {},
   "outputs": [],
   "source": []
  },
  {
   "cell_type": "code",
   "execution_count": 23,
   "metadata": {},
   "outputs": [
    {
     "data": {
      "application/vnd.plotly.v1+json": {
       "config": {
        "linkText": "Export to plot.ly",
        "plotlyServerURL": "https://plot.ly",
        "showLink": true
       },
       "data": [
        {
         "marker": {
          "color": "rgba(255, 153, 51, 0.6)",
          "line": {
           "color": "rgba(255, 153, 51, 1.0)",
           "width": 1
          }
         },
         "name": "Atlanta",
         "orientation": "v",
         "text": "",
         "type": "bar",
         "x": [
          "Design",
          "Education",
          "Education",
          "Education",
          "Engineering",
          "Engineering",
          "Engineering",
          "Engineering",
          "Engineering",
          "Engineering",
          "Finance",
          "Finance",
          "Finance",
          "Finance",
          "Finance",
          "Finance",
          "Finance",
          "Finance",
          "Food Services",
          "Food Services",
          "Food Services",
          "Food Services",
          "Food Services",
          "Health",
          "Health",
          "Health",
          "Health",
          "Health",
          "Health",
          "Health",
          "Health",
          "Health",
          "Human Resources",
          "Human Resources",
          "Labor",
          "Labor",
          "Labor",
          "Labor",
          "Labor",
          "Labor",
          "Labor",
          "Labor",
          "Law",
          "Law",
          "Manufacturing",
          "Manufacturing",
          "Manufacturing",
          "Manufacturing",
          "Media",
          "Media",
          "Operations",
          "Operations",
          "Operations",
          "Professional Services",
          "Professional Services",
          "Professional Services",
          "Professional Services",
          "Professional Services",
          "Professional Services",
          "Professional Services",
          "Professional Services",
          "Professional Services",
          "Professional Services",
          "Professional Services",
          "Professional Services",
          "Real Estate",
          "Retail",
          "Retail",
          "Retail",
          "Retail",
          "Sales",
          "Sales",
          "Technology",
          "Technology",
          "Technology",
          "Technology",
          "Technology",
          "Technology",
          "Technology",
          "Technology",
          "Technology",
          "Technology",
          "Technology",
          "Technology"
         ],
         "y": [
          52307,
          93669,
          31360,
          50378,
          71292,
          74666,
          80585,
          69590,
          76948,
          72458,
          60004,
          33332,
          51745,
          55887,
          67034,
          38010,
          48005,
          96576,
          23503,
          36506,
          27723,
          52589,
          35743,
          26920,
          37950,
          45544,
          34807,
          59462,
          118229,
          31581,
          79320,
          67253,
          79057,
          54881,
          38511,
          40161,
          39922,
          49934,
          38543,
          46638,
          55271,
          41737,
          107918,
          56278,
          75673,
          35933,
          80961,
          71047,
          62372,
          54107,
          58936,
          75254,
          34606,
          44407,
          73745,
          75257,
          74055,
          88002,
          55740,
          39546,
          77678,
          49934,
          104547,
          82334,
          81303,
          59301,
          61497,
          27069,
          30692,
          53864,
          70779,
          52489,
          67924,
          103888,
          102227,
          81173,
          76356,
          88441,
          121295,
          82532,
          46457,
          85912,
          61899,
          77856
         ]
        },
        {
         "marker": {
          "color": "rgba(55, 128, 191, 0.6)",
          "line": {
           "color": "rgba(55, 128, 191, 1.0)",
           "width": 1
          }
         },
         "name": "Boston",
         "orientation": "v",
         "text": "",
         "type": "bar",
         "x": [
          "Design",
          "Education",
          "Education",
          "Education",
          "Engineering",
          "Engineering",
          "Engineering",
          "Engineering",
          "Engineering",
          "Engineering",
          "Finance",
          "Finance",
          "Finance",
          "Finance",
          "Finance",
          "Finance",
          "Finance",
          "Finance",
          "Food Services",
          "Food Services",
          "Food Services",
          "Food Services",
          "Food Services",
          "Health",
          "Health",
          "Health",
          "Health",
          "Health",
          "Health",
          "Health",
          "Health",
          "Health",
          "Human Resources",
          "Human Resources",
          "Labor",
          "Labor",
          "Labor",
          "Labor",
          "Labor",
          "Labor",
          "Labor",
          "Labor",
          "Law",
          "Law",
          "Manufacturing",
          "Manufacturing",
          "Manufacturing",
          "Manufacturing",
          "Media",
          "Media",
          "Operations",
          "Operations",
          "Operations",
          "Professional Services",
          "Professional Services",
          "Professional Services",
          "Professional Services",
          "Professional Services",
          "Professional Services",
          "Professional Services",
          "Professional Services",
          "Professional Services",
          "Professional Services",
          "Professional Services",
          "Professional Services",
          "Real Estate",
          "Retail",
          "Retail",
          "Retail",
          "Retail",
          "Sales",
          "Sales",
          "Technology",
          "Technology",
          "Technology",
          "Technology",
          "Technology",
          "Technology",
          "Technology",
          "Technology",
          "Technology",
          "Technology",
          "Technology",
          "Technology"
         ],
         "y": [
          58616,
          124416,
          38181,
          61327,
          77247,
          94216,
          88989,
          77305,
          85237,
          87677,
          65820,
          36081,
          57868,
          65614,
          70973,
          47809,
          56967,
          105789,
          28662,
          45478,
          35766,
          58153,
          43143,
          35275,
          42958,
          58115,
          41909,
          66761,
          119572,
          35676,
          80261,
          78294,
          90215,
          61408,
          52723,
          46343,
          48176,
          55508,
          45870,
          52747,
          63144,
          47758,
          113028,
          60454,
          83620,
          45383,
          87606,
          75208,
          68038,
          60574,
          63797,
          81968,
          44393,
          53373,
          77910,
          80910,
          84405,
          96865,
          62183,
          47664,
          86684,
          61398,
          113681,
          87490,
          85609,
          71284,
          63084,
          31808,
          35854,
          62037,
          81242,
          60360,
          73836,
          114210,
          109715,
          96405,
          77801,
          101261,
          119592,
          90553,
          58646,
          90980,
          68300,
          85334
         ]
        },
        {
         "marker": {
          "color": "rgba(50, 171, 96, 0.6)",
          "line": {
           "color": "rgba(50, 171, 96, 1.0)",
           "width": 1
          }
         },
         "name": "Chicago",
         "orientation": "v",
         "text": "",
         "type": "bar",
         "x": [
          "Design",
          "Education",
          "Education",
          "Education",
          "Engineering",
          "Engineering",
          "Engineering",
          "Engineering",
          "Engineering",
          "Engineering",
          "Finance",
          "Finance",
          "Finance",
          "Finance",
          "Finance",
          "Finance",
          "Finance",
          "Finance",
          "Food Services",
          "Food Services",
          "Food Services",
          "Food Services",
          "Food Services",
          "Health",
          "Health",
          "Health",
          "Health",
          "Health",
          "Health",
          "Health",
          "Health",
          "Health",
          "Human Resources",
          "Human Resources",
          "Labor",
          "Labor",
          "Labor",
          "Labor",
          "Labor",
          "Labor",
          "Labor",
          "Labor",
          "Law",
          "Law",
          "Manufacturing",
          "Manufacturing",
          "Manufacturing",
          "Manufacturing",
          "Media",
          "Media",
          "Operations",
          "Operations",
          "Operations",
          "Professional Services",
          "Professional Services",
          "Professional Services",
          "Professional Services",
          "Professional Services",
          "Professional Services",
          "Professional Services",
          "Professional Services",
          "Professional Services",
          "Professional Services",
          "Professional Services",
          "Professional Services",
          "Real Estate",
          "Retail",
          "Retail",
          "Retail",
          "Retail",
          "Sales",
          "Sales",
          "Technology",
          "Technology",
          "Technology",
          "Technology",
          "Technology",
          "Technology",
          "Technology",
          "Technology",
          "Technology",
          "Technology",
          "Technology",
          "Technology"
         ],
         "y": [
          53636,
          101815,
          33694,
          56218,
          76466,
          78894,
          83196,
          70938,
          78125,
          77125,
          63102,
          32839,
          57587,
          59442,
          69453,
          42746,
          46991,
          101286,
          26882,
          39347,
          30320,
          53478,
          37842,
          30910,
          34219,
          53120,
          37199,
          57504,
          121657,
          34746,
          79026,
          70755,
          84911,
          56996,
          46835,
          42947,
          43354,
          49206,
          44568,
          50937,
          62153,
          44841,
          114855,
          59415,
          78097,
          37976,
          84768,
          72843,
          65781,
          56969,
          64188,
          76809,
          38873,
          48457,
          76274,
          73586,
          78439,
          89588,
          61757,
          43184,
          83120,
          54387,
          106911,
          83683,
          82974,
          63154,
          66461,
          29877,
          32630,
          56941,
          75077,
          53944,
          67902,
          105836,
          105762,
          84591,
          77800,
          91911,
          118947,
          85134,
          53640,
          84536,
          64393,
          78251
         ]
        },
        {
         "marker": {
          "color": "rgba(128, 0, 128, 0.6)",
          "line": {
           "color": "rgba(128, 0, 128, 1.0)",
           "width": 1
          }
         },
         "name": "Houston",
         "orientation": "v",
         "text": "",
         "type": "bar",
         "x": [
          "Design",
          "Education",
          "Education",
          "Education",
          "Engineering",
          "Engineering",
          "Engineering",
          "Engineering",
          "Engineering",
          "Engineering",
          "Finance",
          "Finance",
          "Finance",
          "Finance",
          "Finance",
          "Finance",
          "Finance",
          "Finance",
          "Food Services",
          "Food Services",
          "Food Services",
          "Food Services",
          "Food Services",
          "Health",
          "Health",
          "Health",
          "Health",
          "Health",
          "Health",
          "Health",
          "Health",
          "Health",
          "Human Resources",
          "Human Resources",
          "Labor",
          "Labor",
          "Labor",
          "Labor",
          "Labor",
          "Labor",
          "Labor",
          "Labor",
          "Law",
          "Law",
          "Manufacturing",
          "Manufacturing",
          "Manufacturing",
          "Manufacturing",
          "Media",
          "Media",
          "Operations",
          "Operations",
          "Operations",
          "Professional Services",
          "Professional Services",
          "Professional Services",
          "Professional Services",
          "Professional Services",
          "Professional Services",
          "Professional Services",
          "Professional Services",
          "Professional Services",
          "Professional Services",
          "Professional Services",
          "Professional Services",
          "Real Estate",
          "Retail",
          "Retail",
          "Retail",
          "Retail",
          "Sales",
          "Sales",
          "Technology",
          "Technology",
          "Technology",
          "Technology",
          "Technology",
          "Technology",
          "Technology",
          "Technology",
          "Technology",
          "Technology",
          "Technology",
          "Technology"
         ],
         "y": [
          49495,
          104098,
          31202,
          54216,
          78336,
          84380,
          85557,
          72080,
          83726,
          77985,
          61408,
          31572,
          53254,
          56142,
          70972,
          39275,
          47115,
          98751,
          23119,
          39913,
          27500,
          53320,
          31201,
          28184,
          38822,
          47020,
          35689,
          57789,
          114702,
          34592,
          78305,
          73120,
          84575,
          55329,
          40985,
          38562,
          42085,
          45552,
          39998,
          50031,
          56627,
          41847,
          124376,
          56342,
          79237,
          37385,
          93187,
          73335,
          57636,
          55229,
          65068,
          74888,
          36284,
          45443,
          73459,
          78940,
          73711,
          85040,
          55529,
          39236,
          75676,
          52777,
          103741,
          79079,
          86315,
          58706,
          62121,
          27330,
          30421,
          54052,
          71627,
          51178,
          67419,
          113651,
          100939,
          85300,
          73416,
          87232,
          110532,
          77991,
          48978,
          78309,
          59430,
          72252
         ]
        },
        {
         "marker": {
          "color": "rgba(219, 64, 82, 0.6)",
          "line": {
           "color": "rgba(219, 64, 82, 1.0)",
           "width": 1
          }
         },
         "name": "Los Angeles",
         "orientation": "v",
         "text": "",
         "type": "bar",
         "x": [
          "Design",
          "Education",
          "Education",
          "Education",
          "Engineering",
          "Engineering",
          "Engineering",
          "Engineering",
          "Engineering",
          "Engineering",
          "Finance",
          "Finance",
          "Finance",
          "Finance",
          "Finance",
          "Finance",
          "Finance",
          "Finance",
          "Food Services",
          "Food Services",
          "Food Services",
          "Food Services",
          "Food Services",
          "Health",
          "Health",
          "Health",
          "Health",
          "Health",
          "Health",
          "Health",
          "Health",
          "Health",
          "Human Resources",
          "Human Resources",
          "Labor",
          "Labor",
          "Labor",
          "Labor",
          "Labor",
          "Labor",
          "Labor",
          "Labor",
          "Law",
          "Law",
          "Manufacturing",
          "Manufacturing",
          "Manufacturing",
          "Manufacturing",
          "Media",
          "Media",
          "Operations",
          "Operations",
          "Operations",
          "Professional Services",
          "Professional Services",
          "Professional Services",
          "Professional Services",
          "Professional Services",
          "Professional Services",
          "Professional Services",
          "Professional Services",
          "Professional Services",
          "Professional Services",
          "Professional Services",
          "Professional Services",
          "Real Estate",
          "Retail",
          "Retail",
          "Retail",
          "Retail",
          "Sales",
          "Sales",
          "Technology",
          "Technology",
          "Technology",
          "Technology",
          "Technology",
          "Technology",
          "Technology",
          "Technology",
          "Technology",
          "Technology",
          "Technology",
          "Technology"
         ],
         "y": [
          60004,
          115901,
          35313,
          64666,
          84642,
          87828,
          90680,
          78500,
          86316,
          84623,
          64371,
          35100,
          61448,
          63198,
          73823,
          48825,
          52168,
          108724,
          28941,
          38223,
          34409,
          60041,
          36065,
          36136,
          36813,
          51954,
          38156,
          65670,
          137104,
          39778,
          94773,
          92991,
          89802,
          64289,
          45513,
          44845,
          42302,
          49212,
          45330,
          54748,
          59369,
          46403,
          134747,
          65998,
          84862,
          39590,
          87711,
          83787,
          80927,
          61556,
          65567,
          81205,
          41128,
          51492,
          77747,
          81916,
          85094,
          94320,
          64616,
          46030,
          87802,
          60436,
          111457,
          92012,
          88339,
          67410,
          66686,
          32596,
          35877,
          64982,
          78722,
          57715,
          75193,
          121080,
          112013,
          90978,
          83497,
          103463,
          124972,
          94649,
          55913,
          93434,
          65705,
          82970
         ]
        },
        {
         "marker": {
          "color": "rgba(0, 128, 128, 0.6)",
          "line": {
           "color": "rgba(0, 128, 128, 1.0)",
           "width": 1
          }
         },
         "name": "New York City",
         "orientation": "v",
         "text": "",
         "type": "bar",
         "x": [
          "Design",
          "Education",
          "Education",
          "Education",
          "Engineering",
          "Engineering",
          "Engineering",
          "Engineering",
          "Engineering",
          "Engineering",
          "Finance",
          "Finance",
          "Finance",
          "Finance",
          "Finance",
          "Finance",
          "Finance",
          "Finance",
          "Food Services",
          "Food Services",
          "Food Services",
          "Food Services",
          "Food Services",
          "Health",
          "Health",
          "Health",
          "Health",
          "Health",
          "Health",
          "Health",
          "Health",
          "Health",
          "Human Resources",
          "Human Resources",
          "Labor",
          "Labor",
          "Labor",
          "Labor",
          "Labor",
          "Labor",
          "Labor",
          "Labor",
          "Law",
          "Law",
          "Manufacturing",
          "Manufacturing",
          "Manufacturing",
          "Manufacturing",
          "Media",
          "Media",
          "Operations",
          "Operations",
          "Operations",
          "Professional Services",
          "Professional Services",
          "Professional Services",
          "Professional Services",
          "Professional Services",
          "Professional Services",
          "Professional Services",
          "Professional Services",
          "Professional Services",
          "Professional Services",
          "Professional Services",
          "Professional Services",
          "Real Estate",
          "Retail",
          "Retail",
          "Retail",
          "Retail",
          "Sales",
          "Sales",
          "Technology",
          "Technology",
          "Technology",
          "Technology",
          "Technology",
          "Technology",
          "Technology",
          "Technology",
          "Technology",
          "Technology",
          "Technology",
          "Technology"
         ],
         "y": [
          60913,
          116551,
          37979,
          67552,
          80995,
          82846,
          83706,
          76816,
          79246,
          77654,
          66776,
          36488,
          60526,
          64657,
          78853,
          45063,
          53181,
          118759,
          29509,
          41636,
          33440,
          60039,
          37165,
          37968,
          41161,
          55879,
          39274,
          65854,
          122105,
          33626,
          81115,
          88917,
          92513,
          65360,
          52226,
          43057,
          43713,
          49766,
          41041,
          54911,
          60102,
          42315,
          130640,
          60203,
          77649,
          41884,
          86043,
          82019,
          79901,
          59436,
          74186,
          83166,
          41829,
          53323,
          82947,
          85287,
          87025,
          93858,
          63396,
          45664,
          87815,
          60504,
          115929,
          91567,
          90081,
          72101,
          74162,
          30943,
          36448,
          63145,
          81653,
          58812,
          74828,
          117373,
          110035,
          89942,
          85597,
          110695,
          126424,
          91868,
          58419,
          95097,
          68077,
          87284
         ]
        },
        {
         "marker": {
          "color": "rgba(255, 255, 51, 0.6)",
          "line": {
           "color": "rgba(255, 255, 51, 1.0)",
           "width": 1
          }
         },
         "name": "Philadelphia",
         "orientation": "v",
         "text": "",
         "type": "bar",
         "x": [
          "Design",
          "Education",
          "Education",
          "Education",
          "Engineering",
          "Engineering",
          "Engineering",
          "Engineering",
          "Engineering",
          "Engineering",
          "Finance",
          "Finance",
          "Finance",
          "Finance",
          "Finance",
          "Finance",
          "Finance",
          "Finance",
          "Food Services",
          "Food Services",
          "Food Services",
          "Food Services",
          "Food Services",
          "Health",
          "Health",
          "Health",
          "Health",
          "Health",
          "Health",
          "Health",
          "Health",
          "Health",
          "Human Resources",
          "Human Resources",
          "Labor",
          "Labor",
          "Labor",
          "Labor",
          "Labor",
          "Labor",
          "Labor",
          "Labor",
          "Law",
          "Law",
          "Manufacturing",
          "Manufacturing",
          "Manufacturing",
          "Manufacturing",
          "Media",
          "Media",
          "Operations",
          "Operations",
          "Operations",
          "Professional Services",
          "Professional Services",
          "Professional Services",
          "Professional Services",
          "Professional Services",
          "Professional Services",
          "Professional Services",
          "Professional Services",
          "Professional Services",
          "Professional Services",
          "Professional Services",
          "Professional Services",
          "Real Estate",
          "Retail",
          "Retail",
          "Retail",
          "Retail",
          "Sales",
          "Sales",
          "Technology",
          "Technology",
          "Technology",
          "Technology",
          "Technology",
          "Technology",
          "Technology",
          "Technology",
          "Technology",
          "Technology",
          "Technology",
          "Technology"
         ],
         "y": [
          51620,
          102934,
          32601,
          54601,
          76147,
          77028,
          83781,
          70871,
          79553,
          78531,
          61100,
          33488,
          55996,
          64757,
          66183,
          44430,
          47502,
          98735,
          24155,
          38251,
          31345,
          53333,
          36943,
          32369,
          39289,
          54969,
          36195,
          61477,
          120323,
          31718,
          79667,
          75674,
          80933,
          55233,
          46550,
          42762,
          45998,
          48729,
          40018,
          50865,
          61895,
          43880,
          111500,
          53903,
          78751,
          38792,
          84038,
          71094,
          60284,
          55933,
          62078,
          76035,
          37347,
          46192,
          71239,
          73547,
          76597,
          84722,
          57532,
          42493,
          79608,
          54668,
          100355,
          81182,
          80660,
          63026,
          62027,
          27921,
          31746,
          56951,
          72624,
          54220,
          67092,
          105968,
          102307,
          83343,
          76001,
          89641,
          117611,
          83349,
          51340,
          79303,
          58624,
          74319
         ]
        },
        {
         "marker": {
          "color": "rgba(128, 128, 0, 0.6)",
          "line": {
           "color": "rgba(128, 128, 0, 1.0)",
           "width": 1
          }
         },
         "name": "San Francisco",
         "orientation": "v",
         "text": "",
         "type": "bar",
         "x": [
          "Design",
          "Education",
          "Education",
          "Education",
          "Engineering",
          "Engineering",
          "Engineering",
          "Engineering",
          "Engineering",
          "Engineering",
          "Finance",
          "Finance",
          "Finance",
          "Finance",
          "Finance",
          "Finance",
          "Finance",
          "Finance",
          "Food Services",
          "Food Services",
          "Food Services",
          "Food Services",
          "Food Services",
          "Health",
          "Health",
          "Health",
          "Health",
          "Health",
          "Health",
          "Health",
          "Health",
          "Health",
          "Human Resources",
          "Human Resources",
          "Labor",
          "Labor",
          "Labor",
          "Labor",
          "Labor",
          "Labor",
          "Labor",
          "Labor",
          "Law",
          "Law",
          "Manufacturing",
          "Manufacturing",
          "Manufacturing",
          "Manufacturing",
          "Media",
          "Media",
          "Operations",
          "Operations",
          "Operations",
          "Professional Services",
          "Professional Services",
          "Professional Services",
          "Professional Services",
          "Professional Services",
          "Professional Services",
          "Professional Services",
          "Professional Services",
          "Professional Services",
          "Professional Services",
          "Professional Services",
          "Professional Services",
          "Real Estate",
          "Retail",
          "Retail",
          "Retail",
          "Retail",
          "Sales",
          "Sales",
          "Technology",
          "Technology",
          "Technology",
          "Technology",
          "Technology",
          "Technology",
          "Technology",
          "Technology",
          "Technology",
          "Technology",
          "Technology",
          "Technology"
         ],
         "y": [
          74986,
          130761,
          40695,
          70271,
          93333,
          99611,
          106452,
          82482,
          100777,
          95512,
          75838,
          37945,
          68462,
          73291,
          87275,
          53253,
          62277,
          118895,
          32417,
          43996,
          39340,
          64301,
          41194,
          41741,
          46205,
          64041,
          52013,
          76584,
          144318,
          48723,
          102275,
          120484,
          105902,
          80131,
          59499,
          51370,
          54182,
          62075,
          53788,
          61870,
          70599,
          54896,
          155654,
          75930,
          99148,
          47338,
          102622,
          93133,
          88415,
          66410,
          77930,
          96895,
          52538,
          60824,
          90445,
          96836,
          104708,
          101602,
          73869,
          52146,
          105933,
          70936,
          137309,
          105386,
          100082,
          78074,
          82052,
          36210,
          40228,
          71087,
          88851,
          66561,
          93617,
          143513,
          127397,
          104358,
          95660,
          127511,
          138842,
          106969,
          68588,
          112133,
          83150,
          104640
         ]
        },
        {
         "marker": {
          "color": "rgba(251, 128, 114, 0.6)",
          "line": {
           "color": "rgba(251, 128, 114, 1.0)",
           "width": 1
          }
         },
         "name": "Seattle",
         "orientation": "v",
         "text": "",
         "type": "bar",
         "x": [
          "Design",
          "Education",
          "Education",
          "Education",
          "Engineering",
          "Engineering",
          "Engineering",
          "Engineering",
          "Engineering",
          "Engineering",
          "Finance",
          "Finance",
          "Finance",
          "Finance",
          "Finance",
          "Finance",
          "Finance",
          "Finance",
          "Food Services",
          "Food Services",
          "Food Services",
          "Food Services",
          "Food Services",
          "Health",
          "Health",
          "Health",
          "Health",
          "Health",
          "Health",
          "Health",
          "Health",
          "Health",
          "Human Resources",
          "Human Resources",
          "Labor",
          "Labor",
          "Labor",
          "Labor",
          "Labor",
          "Labor",
          "Labor",
          "Labor",
          "Law",
          "Law",
          "Manufacturing",
          "Manufacturing",
          "Manufacturing",
          "Manufacturing",
          "Media",
          "Media",
          "Operations",
          "Operations",
          "Operations",
          "Professional Services",
          "Professional Services",
          "Professional Services",
          "Professional Services",
          "Professional Services",
          "Professional Services",
          "Professional Services",
          "Professional Services",
          "Professional Services",
          "Professional Services",
          "Professional Services",
          "Professional Services",
          "Real Estate",
          "Retail",
          "Retail",
          "Retail",
          "Retail",
          "Sales",
          "Sales",
          "Technology",
          "Technology",
          "Technology",
          "Technology",
          "Technology",
          "Technology",
          "Technology",
          "Technology",
          "Technology",
          "Technology",
          "Technology",
          "Technology"
         ],
         "y": [
          62118,
          109108,
          34735,
          59578,
          81285,
          87574,
          93303,
          77500,
          87967,
          84754,
          65583,
          36057,
          56849,
          61272,
          76334,
          44430,
          53768,
          102492,
          31101,
          41781,
          36690,
          55817,
          39527,
          37276,
          42801,
          55609,
          46337,
          69020,
          126786,
          44046,
          80217,
          79433,
          90289,
          65215,
          55374,
          48671,
          47883,
          54257,
          51208,
          56380,
          61889,
          51844,
          120780,
          66086,
          83023,
          43752,
          92305,
          73947,
          79715,
          75060,
          70101,
          82921,
          48141,
          52464,
          80660,
          87374,
          85656,
          93056,
          64510,
          46851,
          90870,
          60655,
          118766,
          99098,
          87868,
          68113,
          71037,
          35947,
          36815,
          62059,
          78546,
          56817,
          75140,
          128650,
          112043,
          92885,
          88844,
          118376,
          124766,
          95389,
          55575,
          101237,
          67126,
          89770
         ]
        },
        {
         "marker": {
          "color": "rgba(128, 177, 211, 0.6)",
          "line": {
           "color": "rgba(128, 177, 211, 1.0)",
           "width": 1
          }
         },
         "name": "Washington DC",
         "orientation": "v",
         "text": "",
         "type": "bar",
         "x": [
          "Design",
          "Education",
          "Education",
          "Education",
          "Engineering",
          "Engineering",
          "Engineering",
          "Engineering",
          "Engineering",
          "Engineering",
          "Finance",
          "Finance",
          "Finance",
          "Finance",
          "Finance",
          "Finance",
          "Finance",
          "Finance",
          "Food Services",
          "Food Services",
          "Food Services",
          "Food Services",
          "Food Services",
          "Health",
          "Health",
          "Health",
          "Health",
          "Health",
          "Health",
          "Health",
          "Health",
          "Health",
          "Human Resources",
          "Human Resources",
          "Labor",
          "Labor",
          "Labor",
          "Labor",
          "Labor",
          "Labor",
          "Labor",
          "Labor",
          "Law",
          "Law",
          "Manufacturing",
          "Manufacturing",
          "Manufacturing",
          "Manufacturing",
          "Media",
          "Media",
          "Operations",
          "Operations",
          "Operations",
          "Professional Services",
          "Professional Services",
          "Professional Services",
          "Professional Services",
          "Professional Services",
          "Professional Services",
          "Professional Services",
          "Professional Services",
          "Professional Services",
          "Professional Services",
          "Professional Services",
          "Professional Services",
          "Real Estate",
          "Retail",
          "Retail",
          "Retail",
          "Retail",
          "Sales",
          "Sales",
          "Technology",
          "Technology",
          "Technology",
          "Technology",
          "Technology",
          "Technology",
          "Technology",
          "Technology",
          "Technology",
          "Technology",
          "Technology",
          "Technology"
         ],
         "y": [
          59308,
          104065,
          35872,
          61218,
          78854,
          87430,
          88578,
          75011,
          81546,
          85117,
          67973,
          35803,
          57794,
          62066,
          74332,
          47298,
          52695,
          108209,
          27888,
          42757,
          32121,
          56418,
          38315,
          32924,
          43208,
          50446,
          39672,
          60568,
          124625,
          34851,
          84027,
          73272,
          87439,
          63861,
          46010,
          42356,
          42865,
          51109,
          44032,
          54169,
          58373,
          43959,
          138705,
          61082,
          81152,
          40016,
          86662,
          75350,
          72453,
          67332,
          73700,
          80788,
          49425,
          51329,
          79502,
          86231,
          85167,
          85819,
          58538,
          43828,
          81478,
          58964,
          114090,
          98359,
          91271,
          68899,
          63293,
          29918,
          33792,
          60261,
          74992,
          56571,
          76103,
          107966,
          110420,
          83775,
          82165,
          99587,
          126983,
          94236,
          59011,
          91979,
          69062,
          89420
         ]
        }
       ],
       "layout": {
        "legend": {
         "bgcolor": "#F5F6F9",
         "font": {
          "color": "#4D5663"
         }
        },
        "paper_bgcolor": "#F5F6F9",
        "plot_bgcolor": "#F5F6F9",
        "template": {
         "data": {
          "bar": [
           {
            "error_x": {
             "color": "#2a3f5f"
            },
            "error_y": {
             "color": "#2a3f5f"
            },
            "marker": {
             "line": {
              "color": "#E5ECF6",
              "width": 0.5
             }
            },
            "type": "bar"
           }
          ],
          "barpolar": [
           {
            "marker": {
             "line": {
              "color": "#E5ECF6",
              "width": 0.5
             }
            },
            "type": "barpolar"
           }
          ],
          "carpet": [
           {
            "aaxis": {
             "endlinecolor": "#2a3f5f",
             "gridcolor": "white",
             "linecolor": "white",
             "minorgridcolor": "white",
             "startlinecolor": "#2a3f5f"
            },
            "baxis": {
             "endlinecolor": "#2a3f5f",
             "gridcolor": "white",
             "linecolor": "white",
             "minorgridcolor": "white",
             "startlinecolor": "#2a3f5f"
            },
            "type": "carpet"
           }
          ],
          "choropleth": [
           {
            "colorbar": {
             "outlinewidth": 0,
             "ticks": ""
            },
            "type": "choropleth"
           }
          ],
          "contour": [
           {
            "colorbar": {
             "outlinewidth": 0,
             "ticks": ""
            },
            "colorscale": [
             [
              0,
              "#0d0887"
             ],
             [
              0.1111111111111111,
              "#46039f"
             ],
             [
              0.2222222222222222,
              "#7201a8"
             ],
             [
              0.3333333333333333,
              "#9c179e"
             ],
             [
              0.4444444444444444,
              "#bd3786"
             ],
             [
              0.5555555555555556,
              "#d8576b"
             ],
             [
              0.6666666666666666,
              "#ed7953"
             ],
             [
              0.7777777777777778,
              "#fb9f3a"
             ],
             [
              0.8888888888888888,
              "#fdca26"
             ],
             [
              1,
              "#f0f921"
             ]
            ],
            "type": "contour"
           }
          ],
          "contourcarpet": [
           {
            "colorbar": {
             "outlinewidth": 0,
             "ticks": ""
            },
            "type": "contourcarpet"
           }
          ],
          "heatmap": [
           {
            "colorbar": {
             "outlinewidth": 0,
             "ticks": ""
            },
            "colorscale": [
             [
              0,
              "#0d0887"
             ],
             [
              0.1111111111111111,
              "#46039f"
             ],
             [
              0.2222222222222222,
              "#7201a8"
             ],
             [
              0.3333333333333333,
              "#9c179e"
             ],
             [
              0.4444444444444444,
              "#bd3786"
             ],
             [
              0.5555555555555556,
              "#d8576b"
             ],
             [
              0.6666666666666666,
              "#ed7953"
             ],
             [
              0.7777777777777778,
              "#fb9f3a"
             ],
             [
              0.8888888888888888,
              "#fdca26"
             ],
             [
              1,
              "#f0f921"
             ]
            ],
            "type": "heatmap"
           }
          ],
          "heatmapgl": [
           {
            "colorbar": {
             "outlinewidth": 0,
             "ticks": ""
            },
            "colorscale": [
             [
              0,
              "#0d0887"
             ],
             [
              0.1111111111111111,
              "#46039f"
             ],
             [
              0.2222222222222222,
              "#7201a8"
             ],
             [
              0.3333333333333333,
              "#9c179e"
             ],
             [
              0.4444444444444444,
              "#bd3786"
             ],
             [
              0.5555555555555556,
              "#d8576b"
             ],
             [
              0.6666666666666666,
              "#ed7953"
             ],
             [
              0.7777777777777778,
              "#fb9f3a"
             ],
             [
              0.8888888888888888,
              "#fdca26"
             ],
             [
              1,
              "#f0f921"
             ]
            ],
            "type": "heatmapgl"
           }
          ],
          "histogram": [
           {
            "marker": {
             "colorbar": {
              "outlinewidth": 0,
              "ticks": ""
             }
            },
            "type": "histogram"
           }
          ],
          "histogram2d": [
           {
            "colorbar": {
             "outlinewidth": 0,
             "ticks": ""
            },
            "colorscale": [
             [
              0,
              "#0d0887"
             ],
             [
              0.1111111111111111,
              "#46039f"
             ],
             [
              0.2222222222222222,
              "#7201a8"
             ],
             [
              0.3333333333333333,
              "#9c179e"
             ],
             [
              0.4444444444444444,
              "#bd3786"
             ],
             [
              0.5555555555555556,
              "#d8576b"
             ],
             [
              0.6666666666666666,
              "#ed7953"
             ],
             [
              0.7777777777777778,
              "#fb9f3a"
             ],
             [
              0.8888888888888888,
              "#fdca26"
             ],
             [
              1,
              "#f0f921"
             ]
            ],
            "type": "histogram2d"
           }
          ],
          "histogram2dcontour": [
           {
            "colorbar": {
             "outlinewidth": 0,
             "ticks": ""
            },
            "colorscale": [
             [
              0,
              "#0d0887"
             ],
             [
              0.1111111111111111,
              "#46039f"
             ],
             [
              0.2222222222222222,
              "#7201a8"
             ],
             [
              0.3333333333333333,
              "#9c179e"
             ],
             [
              0.4444444444444444,
              "#bd3786"
             ],
             [
              0.5555555555555556,
              "#d8576b"
             ],
             [
              0.6666666666666666,
              "#ed7953"
             ],
             [
              0.7777777777777778,
              "#fb9f3a"
             ],
             [
              0.8888888888888888,
              "#fdca26"
             ],
             [
              1,
              "#f0f921"
             ]
            ],
            "type": "histogram2dcontour"
           }
          ],
          "mesh3d": [
           {
            "colorbar": {
             "outlinewidth": 0,
             "ticks": ""
            },
            "type": "mesh3d"
           }
          ],
          "parcoords": [
           {
            "line": {
             "colorbar": {
              "outlinewidth": 0,
              "ticks": ""
             }
            },
            "type": "parcoords"
           }
          ],
          "pie": [
           {
            "automargin": true,
            "type": "pie"
           }
          ],
          "scatter": [
           {
            "marker": {
             "colorbar": {
              "outlinewidth": 0,
              "ticks": ""
             }
            },
            "type": "scatter"
           }
          ],
          "scatter3d": [
           {
            "line": {
             "colorbar": {
              "outlinewidth": 0,
              "ticks": ""
             }
            },
            "marker": {
             "colorbar": {
              "outlinewidth": 0,
              "ticks": ""
             }
            },
            "type": "scatter3d"
           }
          ],
          "scattercarpet": [
           {
            "marker": {
             "colorbar": {
              "outlinewidth": 0,
              "ticks": ""
             }
            },
            "type": "scattercarpet"
           }
          ],
          "scattergeo": [
           {
            "marker": {
             "colorbar": {
              "outlinewidth": 0,
              "ticks": ""
             }
            },
            "type": "scattergeo"
           }
          ],
          "scattergl": [
           {
            "marker": {
             "colorbar": {
              "outlinewidth": 0,
              "ticks": ""
             }
            },
            "type": "scattergl"
           }
          ],
          "scattermapbox": [
           {
            "marker": {
             "colorbar": {
              "outlinewidth": 0,
              "ticks": ""
             }
            },
            "type": "scattermapbox"
           }
          ],
          "scatterpolar": [
           {
            "marker": {
             "colorbar": {
              "outlinewidth": 0,
              "ticks": ""
             }
            },
            "type": "scatterpolar"
           }
          ],
          "scatterpolargl": [
           {
            "marker": {
             "colorbar": {
              "outlinewidth": 0,
              "ticks": ""
             }
            },
            "type": "scatterpolargl"
           }
          ],
          "scatterternary": [
           {
            "marker": {
             "colorbar": {
              "outlinewidth": 0,
              "ticks": ""
             }
            },
            "type": "scatterternary"
           }
          ],
          "surface": [
           {
            "colorbar": {
             "outlinewidth": 0,
             "ticks": ""
            },
            "colorscale": [
             [
              0,
              "#0d0887"
             ],
             [
              0.1111111111111111,
              "#46039f"
             ],
             [
              0.2222222222222222,
              "#7201a8"
             ],
             [
              0.3333333333333333,
              "#9c179e"
             ],
             [
              0.4444444444444444,
              "#bd3786"
             ],
             [
              0.5555555555555556,
              "#d8576b"
             ],
             [
              0.6666666666666666,
              "#ed7953"
             ],
             [
              0.7777777777777778,
              "#fb9f3a"
             ],
             [
              0.8888888888888888,
              "#fdca26"
             ],
             [
              1,
              "#f0f921"
             ]
            ],
            "type": "surface"
           }
          ],
          "table": [
           {
            "cells": {
             "fill": {
              "color": "#EBF0F8"
             },
             "line": {
              "color": "white"
             }
            },
            "header": {
             "fill": {
              "color": "#C8D4E3"
             },
             "line": {
              "color": "white"
             }
            },
            "type": "table"
           }
          ]
         },
         "layout": {
          "annotationdefaults": {
           "arrowcolor": "#2a3f5f",
           "arrowhead": 0,
           "arrowwidth": 1
          },
          "coloraxis": {
           "colorbar": {
            "outlinewidth": 0,
            "ticks": ""
           }
          },
          "colorscale": {
           "diverging": [
            [
             0,
             "#8e0152"
            ],
            [
             0.1,
             "#c51b7d"
            ],
            [
             0.2,
             "#de77ae"
            ],
            [
             0.3,
             "#f1b6da"
            ],
            [
             0.4,
             "#fde0ef"
            ],
            [
             0.5,
             "#f7f7f7"
            ],
            [
             0.6,
             "#e6f5d0"
            ],
            [
             0.7,
             "#b8e186"
            ],
            [
             0.8,
             "#7fbc41"
            ],
            [
             0.9,
             "#4d9221"
            ],
            [
             1,
             "#276419"
            ]
           ],
           "sequential": [
            [
             0,
             "#0d0887"
            ],
            [
             0.1111111111111111,
             "#46039f"
            ],
            [
             0.2222222222222222,
             "#7201a8"
            ],
            [
             0.3333333333333333,
             "#9c179e"
            ],
            [
             0.4444444444444444,
             "#bd3786"
            ],
            [
             0.5555555555555556,
             "#d8576b"
            ],
            [
             0.6666666666666666,
             "#ed7953"
            ],
            [
             0.7777777777777778,
             "#fb9f3a"
            ],
            [
             0.8888888888888888,
             "#fdca26"
            ],
            [
             1,
             "#f0f921"
            ]
           ],
           "sequentialminus": [
            [
             0,
             "#0d0887"
            ],
            [
             0.1111111111111111,
             "#46039f"
            ],
            [
             0.2222222222222222,
             "#7201a8"
            ],
            [
             0.3333333333333333,
             "#9c179e"
            ],
            [
             0.4444444444444444,
             "#bd3786"
            ],
            [
             0.5555555555555556,
             "#d8576b"
            ],
            [
             0.6666666666666666,
             "#ed7953"
            ],
            [
             0.7777777777777778,
             "#fb9f3a"
            ],
            [
             0.8888888888888888,
             "#fdca26"
            ],
            [
             1,
             "#f0f921"
            ]
           ]
          },
          "colorway": [
           "#636efa",
           "#EF553B",
           "#00cc96",
           "#ab63fa",
           "#FFA15A",
           "#19d3f3",
           "#FF6692",
           "#B6E880",
           "#FF97FF",
           "#FECB52"
          ],
          "font": {
           "color": "#2a3f5f"
          },
          "geo": {
           "bgcolor": "white",
           "lakecolor": "white",
           "landcolor": "#E5ECF6",
           "showlakes": true,
           "showland": true,
           "subunitcolor": "white"
          },
          "hoverlabel": {
           "align": "left"
          },
          "hovermode": "closest",
          "mapbox": {
           "style": "light"
          },
          "paper_bgcolor": "white",
          "plot_bgcolor": "#E5ECF6",
          "polar": {
           "angularaxis": {
            "gridcolor": "white",
            "linecolor": "white",
            "ticks": ""
           },
           "bgcolor": "#E5ECF6",
           "radialaxis": {
            "gridcolor": "white",
            "linecolor": "white",
            "ticks": ""
           }
          },
          "scene": {
           "xaxis": {
            "backgroundcolor": "#E5ECF6",
            "gridcolor": "white",
            "gridwidth": 2,
            "linecolor": "white",
            "showbackground": true,
            "ticks": "",
            "zerolinecolor": "white"
           },
           "yaxis": {
            "backgroundcolor": "#E5ECF6",
            "gridcolor": "white",
            "gridwidth": 2,
            "linecolor": "white",
            "showbackground": true,
            "ticks": "",
            "zerolinecolor": "white"
           },
           "zaxis": {
            "backgroundcolor": "#E5ECF6",
            "gridcolor": "white",
            "gridwidth": 2,
            "linecolor": "white",
            "showbackground": true,
            "ticks": "",
            "zerolinecolor": "white"
           }
          },
          "shapedefaults": {
           "line": {
            "color": "#2a3f5f"
           }
          },
          "ternary": {
           "aaxis": {
            "gridcolor": "white",
            "linecolor": "white",
            "ticks": ""
           },
           "baxis": {
            "gridcolor": "white",
            "linecolor": "white",
            "ticks": ""
           },
           "bgcolor": "#E5ECF6",
           "caxis": {
            "gridcolor": "white",
            "linecolor": "white",
            "ticks": ""
           }
          },
          "title": {
           "x": 0.05
          },
          "xaxis": {
           "automargin": true,
           "gridcolor": "white",
           "linecolor": "white",
           "ticks": "",
           "title": {
            "standoff": 15
           },
           "zerolinecolor": "white",
           "zerolinewidth": 2
          },
          "yaxis": {
           "automargin": true,
           "gridcolor": "white",
           "linecolor": "white",
           "ticks": "",
           "title": {
            "standoff": 15
           },
           "zerolinecolor": "white",
           "zerolinewidth": 2
          }
         }
        },
        "title": {
         "font": {
          "color": "#4D5663"
         }
        },
        "xaxis": {
         "gridcolor": "#E1E5ED",
         "showgrid": true,
         "tickfont": {
          "color": "#4D5663"
         },
         "title": {
          "font": {
           "color": "#4D5663"
          },
          "text": ""
         },
         "zerolinecolor": "#E1E5ED"
        },
        "yaxis": {
         "gridcolor": "#E1E5ED",
         "showgrid": true,
         "tickfont": {
          "color": "#4D5663"
         },
         "title": {
          "font": {
           "color": "#4D5663"
          },
          "text": ""
         },
         "zerolinecolor": "#E1E5ED"
        }
       }
      },
      "text/html": [
       "<div>\n",
       "        \n",
       "        \n",
       "            <div id=\"0f3c9dc2-13fc-493e-9b53-bdc6d69cc5bc\" class=\"plotly-graph-div\" style=\"height:525px; width:100%;\"></div>\n",
       "            <script type=\"text/javascript\">\n",
       "                require([\"plotly\"], function(Plotly) {\n",
       "                    window.PLOTLYENV=window.PLOTLYENV || {};\n",
       "                    window.PLOTLYENV.BASE_URL='https://plot.ly';\n",
       "                    \n",
       "                if (document.getElementById(\"0f3c9dc2-13fc-493e-9b53-bdc6d69cc5bc\")) {\n",
       "                    Plotly.newPlot(\n",
       "                        '0f3c9dc2-13fc-493e-9b53-bdc6d69cc5bc',\n",
       "                        [{\"marker\": {\"color\": \"rgba(255, 153, 51, 0.6)\", \"line\": {\"color\": \"rgba(255, 153, 51, 1.0)\", \"width\": 1}}, \"name\": \"Atlanta\", \"orientation\": \"v\", \"text\": \"\", \"type\": \"bar\", \"x\": [\"Design\", \"Education\", \"Education\", \"Education\", \"Engineering\", \"Engineering\", \"Engineering\", \"Engineering\", \"Engineering\", \"Engineering\", \"Finance\", \"Finance\", \"Finance\", \"Finance\", \"Finance\", \"Finance\", \"Finance\", \"Finance\", \"Food Services\", \"Food Services\", \"Food Services\", \"Food Services\", \"Food Services\", \"Health\", \"Health\", \"Health\", \"Health\", \"Health\", \"Health\", \"Health\", \"Health\", \"Health\", \"Human Resources\", \"Human Resources\", \"Labor\", \"Labor\", \"Labor\", \"Labor\", \"Labor\", \"Labor\", \"Labor\", \"Labor\", \"Law\", \"Law\", \"Manufacturing\", \"Manufacturing\", \"Manufacturing\", \"Manufacturing\", \"Media\", \"Media\", \"Operations\", \"Operations\", \"Operations\", \"Professional Services\", \"Professional Services\", \"Professional Services\", \"Professional Services\", \"Professional Services\", \"Professional Services\", \"Professional Services\", \"Professional Services\", \"Professional Services\", \"Professional Services\", \"Professional Services\", \"Professional Services\", \"Real Estate\", \"Retail\", \"Retail\", \"Retail\", \"Retail\", \"Sales\", \"Sales\", \"Technology\", \"Technology\", \"Technology\", \"Technology\", \"Technology\", \"Technology\", \"Technology\", \"Technology\", \"Technology\", \"Technology\", \"Technology\", \"Technology\"], \"y\": [52307, 93669, 31360, 50378, 71292, 74666, 80585, 69590, 76948, 72458, 60004, 33332, 51745, 55887, 67034, 38010, 48005, 96576, 23503, 36506, 27723, 52589, 35743, 26920, 37950, 45544, 34807, 59462, 118229, 31581, 79320, 67253, 79057, 54881, 38511, 40161, 39922, 49934, 38543, 46638, 55271, 41737, 107918, 56278, 75673, 35933, 80961, 71047, 62372, 54107, 58936, 75254, 34606, 44407, 73745, 75257, 74055, 88002, 55740, 39546, 77678, 49934, 104547, 82334, 81303, 59301, 61497, 27069, 30692, 53864, 70779, 52489, 67924, 103888, 102227, 81173, 76356, 88441, 121295, 82532, 46457, 85912, 61899, 77856]}, {\"marker\": {\"color\": \"rgba(55, 128, 191, 0.6)\", \"line\": {\"color\": \"rgba(55, 128, 191, 1.0)\", \"width\": 1}}, \"name\": \"Boston\", \"orientation\": \"v\", \"text\": \"\", \"type\": \"bar\", \"x\": [\"Design\", \"Education\", \"Education\", \"Education\", \"Engineering\", \"Engineering\", \"Engineering\", \"Engineering\", \"Engineering\", \"Engineering\", \"Finance\", \"Finance\", \"Finance\", \"Finance\", \"Finance\", \"Finance\", \"Finance\", \"Finance\", \"Food Services\", \"Food Services\", \"Food Services\", \"Food Services\", \"Food Services\", \"Health\", \"Health\", \"Health\", \"Health\", \"Health\", \"Health\", \"Health\", \"Health\", \"Health\", \"Human Resources\", \"Human Resources\", \"Labor\", \"Labor\", \"Labor\", \"Labor\", \"Labor\", \"Labor\", \"Labor\", \"Labor\", \"Law\", \"Law\", \"Manufacturing\", \"Manufacturing\", \"Manufacturing\", \"Manufacturing\", \"Media\", \"Media\", \"Operations\", \"Operations\", \"Operations\", \"Professional Services\", \"Professional Services\", \"Professional Services\", \"Professional Services\", \"Professional Services\", \"Professional Services\", \"Professional Services\", \"Professional Services\", \"Professional Services\", \"Professional Services\", \"Professional Services\", \"Professional Services\", \"Real Estate\", \"Retail\", \"Retail\", \"Retail\", \"Retail\", \"Sales\", \"Sales\", \"Technology\", \"Technology\", \"Technology\", \"Technology\", \"Technology\", \"Technology\", \"Technology\", \"Technology\", \"Technology\", \"Technology\", \"Technology\", \"Technology\"], \"y\": [58616, 124416, 38181, 61327, 77247, 94216, 88989, 77305, 85237, 87677, 65820, 36081, 57868, 65614, 70973, 47809, 56967, 105789, 28662, 45478, 35766, 58153, 43143, 35275, 42958, 58115, 41909, 66761, 119572, 35676, 80261, 78294, 90215, 61408, 52723, 46343, 48176, 55508, 45870, 52747, 63144, 47758, 113028, 60454, 83620, 45383, 87606, 75208, 68038, 60574, 63797, 81968, 44393, 53373, 77910, 80910, 84405, 96865, 62183, 47664, 86684, 61398, 113681, 87490, 85609, 71284, 63084, 31808, 35854, 62037, 81242, 60360, 73836, 114210, 109715, 96405, 77801, 101261, 119592, 90553, 58646, 90980, 68300, 85334]}, {\"marker\": {\"color\": \"rgba(50, 171, 96, 0.6)\", \"line\": {\"color\": \"rgba(50, 171, 96, 1.0)\", \"width\": 1}}, \"name\": \"Chicago\", \"orientation\": \"v\", \"text\": \"\", \"type\": \"bar\", \"x\": [\"Design\", \"Education\", \"Education\", \"Education\", \"Engineering\", \"Engineering\", \"Engineering\", \"Engineering\", \"Engineering\", \"Engineering\", \"Finance\", \"Finance\", \"Finance\", \"Finance\", \"Finance\", \"Finance\", \"Finance\", \"Finance\", \"Food Services\", \"Food Services\", \"Food Services\", \"Food Services\", \"Food Services\", \"Health\", \"Health\", \"Health\", \"Health\", \"Health\", \"Health\", \"Health\", \"Health\", \"Health\", \"Human Resources\", \"Human Resources\", \"Labor\", \"Labor\", \"Labor\", \"Labor\", \"Labor\", \"Labor\", \"Labor\", \"Labor\", \"Law\", \"Law\", \"Manufacturing\", \"Manufacturing\", \"Manufacturing\", \"Manufacturing\", \"Media\", \"Media\", \"Operations\", \"Operations\", \"Operations\", \"Professional Services\", \"Professional Services\", \"Professional Services\", \"Professional Services\", \"Professional Services\", \"Professional Services\", \"Professional Services\", \"Professional Services\", \"Professional Services\", \"Professional Services\", \"Professional Services\", \"Professional Services\", \"Real Estate\", \"Retail\", \"Retail\", \"Retail\", \"Retail\", \"Sales\", \"Sales\", \"Technology\", \"Technology\", \"Technology\", \"Technology\", \"Technology\", \"Technology\", \"Technology\", \"Technology\", \"Technology\", \"Technology\", \"Technology\", \"Technology\"], \"y\": [53636, 101815, 33694, 56218, 76466, 78894, 83196, 70938, 78125, 77125, 63102, 32839, 57587, 59442, 69453, 42746, 46991, 101286, 26882, 39347, 30320, 53478, 37842, 30910, 34219, 53120, 37199, 57504, 121657, 34746, 79026, 70755, 84911, 56996, 46835, 42947, 43354, 49206, 44568, 50937, 62153, 44841, 114855, 59415, 78097, 37976, 84768, 72843, 65781, 56969, 64188, 76809, 38873, 48457, 76274, 73586, 78439, 89588, 61757, 43184, 83120, 54387, 106911, 83683, 82974, 63154, 66461, 29877, 32630, 56941, 75077, 53944, 67902, 105836, 105762, 84591, 77800, 91911, 118947, 85134, 53640, 84536, 64393, 78251]}, {\"marker\": {\"color\": \"rgba(128, 0, 128, 0.6)\", \"line\": {\"color\": \"rgba(128, 0, 128, 1.0)\", \"width\": 1}}, \"name\": \"Houston\", \"orientation\": \"v\", \"text\": \"\", \"type\": \"bar\", \"x\": [\"Design\", \"Education\", \"Education\", \"Education\", \"Engineering\", \"Engineering\", \"Engineering\", \"Engineering\", \"Engineering\", \"Engineering\", \"Finance\", \"Finance\", \"Finance\", \"Finance\", \"Finance\", \"Finance\", \"Finance\", \"Finance\", \"Food Services\", \"Food Services\", \"Food Services\", \"Food Services\", \"Food Services\", \"Health\", \"Health\", \"Health\", \"Health\", \"Health\", \"Health\", \"Health\", \"Health\", \"Health\", \"Human Resources\", \"Human Resources\", \"Labor\", \"Labor\", \"Labor\", \"Labor\", \"Labor\", \"Labor\", \"Labor\", \"Labor\", \"Law\", \"Law\", \"Manufacturing\", \"Manufacturing\", \"Manufacturing\", \"Manufacturing\", \"Media\", \"Media\", \"Operations\", \"Operations\", \"Operations\", \"Professional Services\", \"Professional Services\", \"Professional Services\", \"Professional Services\", \"Professional Services\", \"Professional Services\", \"Professional Services\", \"Professional Services\", \"Professional Services\", \"Professional Services\", \"Professional Services\", \"Professional Services\", \"Real Estate\", \"Retail\", \"Retail\", \"Retail\", \"Retail\", \"Sales\", \"Sales\", \"Technology\", \"Technology\", \"Technology\", \"Technology\", \"Technology\", \"Technology\", \"Technology\", \"Technology\", \"Technology\", \"Technology\", \"Technology\", \"Technology\"], \"y\": [49495, 104098, 31202, 54216, 78336, 84380, 85557, 72080, 83726, 77985, 61408, 31572, 53254, 56142, 70972, 39275, 47115, 98751, 23119, 39913, 27500, 53320, 31201, 28184, 38822, 47020, 35689, 57789, 114702, 34592, 78305, 73120, 84575, 55329, 40985, 38562, 42085, 45552, 39998, 50031, 56627, 41847, 124376, 56342, 79237, 37385, 93187, 73335, 57636, 55229, 65068, 74888, 36284, 45443, 73459, 78940, 73711, 85040, 55529, 39236, 75676, 52777, 103741, 79079, 86315, 58706, 62121, 27330, 30421, 54052, 71627, 51178, 67419, 113651, 100939, 85300, 73416, 87232, 110532, 77991, 48978, 78309, 59430, 72252]}, {\"marker\": {\"color\": \"rgba(219, 64, 82, 0.6)\", \"line\": {\"color\": \"rgba(219, 64, 82, 1.0)\", \"width\": 1}}, \"name\": \"Los Angeles\", \"orientation\": \"v\", \"text\": \"\", \"type\": \"bar\", \"x\": [\"Design\", \"Education\", \"Education\", \"Education\", \"Engineering\", \"Engineering\", \"Engineering\", \"Engineering\", \"Engineering\", \"Engineering\", \"Finance\", \"Finance\", \"Finance\", \"Finance\", \"Finance\", \"Finance\", \"Finance\", \"Finance\", \"Food Services\", \"Food Services\", \"Food Services\", \"Food Services\", \"Food Services\", \"Health\", \"Health\", \"Health\", \"Health\", \"Health\", \"Health\", \"Health\", \"Health\", \"Health\", \"Human Resources\", \"Human Resources\", \"Labor\", \"Labor\", \"Labor\", \"Labor\", \"Labor\", \"Labor\", \"Labor\", \"Labor\", \"Law\", \"Law\", \"Manufacturing\", \"Manufacturing\", \"Manufacturing\", \"Manufacturing\", \"Media\", \"Media\", \"Operations\", \"Operations\", \"Operations\", \"Professional Services\", \"Professional Services\", \"Professional Services\", \"Professional Services\", \"Professional Services\", \"Professional Services\", \"Professional Services\", \"Professional Services\", \"Professional Services\", \"Professional Services\", \"Professional Services\", \"Professional Services\", \"Real Estate\", \"Retail\", \"Retail\", \"Retail\", \"Retail\", \"Sales\", \"Sales\", \"Technology\", \"Technology\", \"Technology\", \"Technology\", \"Technology\", \"Technology\", \"Technology\", \"Technology\", \"Technology\", \"Technology\", \"Technology\", \"Technology\"], \"y\": [60004, 115901, 35313, 64666, 84642, 87828, 90680, 78500, 86316, 84623, 64371, 35100, 61448, 63198, 73823, 48825, 52168, 108724, 28941, 38223, 34409, 60041, 36065, 36136, 36813, 51954, 38156, 65670, 137104, 39778, 94773, 92991, 89802, 64289, 45513, 44845, 42302, 49212, 45330, 54748, 59369, 46403, 134747, 65998, 84862, 39590, 87711, 83787, 80927, 61556, 65567, 81205, 41128, 51492, 77747, 81916, 85094, 94320, 64616, 46030, 87802, 60436, 111457, 92012, 88339, 67410, 66686, 32596, 35877, 64982, 78722, 57715, 75193, 121080, 112013, 90978, 83497, 103463, 124972, 94649, 55913, 93434, 65705, 82970]}, {\"marker\": {\"color\": \"rgba(0, 128, 128, 0.6)\", \"line\": {\"color\": \"rgba(0, 128, 128, 1.0)\", \"width\": 1}}, \"name\": \"New York City\", \"orientation\": \"v\", \"text\": \"\", \"type\": \"bar\", \"x\": [\"Design\", \"Education\", \"Education\", \"Education\", \"Engineering\", \"Engineering\", \"Engineering\", \"Engineering\", \"Engineering\", \"Engineering\", \"Finance\", \"Finance\", \"Finance\", \"Finance\", \"Finance\", \"Finance\", \"Finance\", \"Finance\", \"Food Services\", \"Food Services\", \"Food Services\", \"Food Services\", \"Food Services\", \"Health\", \"Health\", \"Health\", \"Health\", \"Health\", \"Health\", \"Health\", \"Health\", \"Health\", \"Human Resources\", \"Human Resources\", \"Labor\", \"Labor\", \"Labor\", \"Labor\", \"Labor\", \"Labor\", \"Labor\", \"Labor\", \"Law\", \"Law\", \"Manufacturing\", \"Manufacturing\", \"Manufacturing\", \"Manufacturing\", \"Media\", \"Media\", \"Operations\", \"Operations\", \"Operations\", \"Professional Services\", \"Professional Services\", \"Professional Services\", \"Professional Services\", \"Professional Services\", \"Professional Services\", \"Professional Services\", \"Professional Services\", \"Professional Services\", \"Professional Services\", \"Professional Services\", \"Professional Services\", \"Real Estate\", \"Retail\", \"Retail\", \"Retail\", \"Retail\", \"Sales\", \"Sales\", \"Technology\", \"Technology\", \"Technology\", \"Technology\", \"Technology\", \"Technology\", \"Technology\", \"Technology\", \"Technology\", \"Technology\", \"Technology\", \"Technology\"], \"y\": [60913, 116551, 37979, 67552, 80995, 82846, 83706, 76816, 79246, 77654, 66776, 36488, 60526, 64657, 78853, 45063, 53181, 118759, 29509, 41636, 33440, 60039, 37165, 37968, 41161, 55879, 39274, 65854, 122105, 33626, 81115, 88917, 92513, 65360, 52226, 43057, 43713, 49766, 41041, 54911, 60102, 42315, 130640, 60203, 77649, 41884, 86043, 82019, 79901, 59436, 74186, 83166, 41829, 53323, 82947, 85287, 87025, 93858, 63396, 45664, 87815, 60504, 115929, 91567, 90081, 72101, 74162, 30943, 36448, 63145, 81653, 58812, 74828, 117373, 110035, 89942, 85597, 110695, 126424, 91868, 58419, 95097, 68077, 87284]}, {\"marker\": {\"color\": \"rgba(255, 255, 51, 0.6)\", \"line\": {\"color\": \"rgba(255, 255, 51, 1.0)\", \"width\": 1}}, \"name\": \"Philadelphia\", \"orientation\": \"v\", \"text\": \"\", \"type\": \"bar\", \"x\": [\"Design\", \"Education\", \"Education\", \"Education\", \"Engineering\", \"Engineering\", \"Engineering\", \"Engineering\", \"Engineering\", \"Engineering\", \"Finance\", \"Finance\", \"Finance\", \"Finance\", \"Finance\", \"Finance\", \"Finance\", \"Finance\", \"Food Services\", \"Food Services\", \"Food Services\", \"Food Services\", \"Food Services\", \"Health\", \"Health\", \"Health\", \"Health\", \"Health\", \"Health\", \"Health\", \"Health\", \"Health\", \"Human Resources\", \"Human Resources\", \"Labor\", \"Labor\", \"Labor\", \"Labor\", \"Labor\", \"Labor\", \"Labor\", \"Labor\", \"Law\", \"Law\", \"Manufacturing\", \"Manufacturing\", \"Manufacturing\", \"Manufacturing\", \"Media\", \"Media\", \"Operations\", \"Operations\", \"Operations\", \"Professional Services\", \"Professional Services\", \"Professional Services\", \"Professional Services\", \"Professional Services\", \"Professional Services\", \"Professional Services\", \"Professional Services\", \"Professional Services\", \"Professional Services\", \"Professional Services\", \"Professional Services\", \"Real Estate\", \"Retail\", \"Retail\", \"Retail\", \"Retail\", \"Sales\", \"Sales\", \"Technology\", \"Technology\", \"Technology\", \"Technology\", \"Technology\", \"Technology\", \"Technology\", \"Technology\", \"Technology\", \"Technology\", \"Technology\", \"Technology\"], \"y\": [51620, 102934, 32601, 54601, 76147, 77028, 83781, 70871, 79553, 78531, 61100, 33488, 55996, 64757, 66183, 44430, 47502, 98735, 24155, 38251, 31345, 53333, 36943, 32369, 39289, 54969, 36195, 61477, 120323, 31718, 79667, 75674, 80933, 55233, 46550, 42762, 45998, 48729, 40018, 50865, 61895, 43880, 111500, 53903, 78751, 38792, 84038, 71094, 60284, 55933, 62078, 76035, 37347, 46192, 71239, 73547, 76597, 84722, 57532, 42493, 79608, 54668, 100355, 81182, 80660, 63026, 62027, 27921, 31746, 56951, 72624, 54220, 67092, 105968, 102307, 83343, 76001, 89641, 117611, 83349, 51340, 79303, 58624, 74319]}, {\"marker\": {\"color\": \"rgba(128, 128, 0, 0.6)\", \"line\": {\"color\": \"rgba(128, 128, 0, 1.0)\", \"width\": 1}}, \"name\": \"San Francisco\", \"orientation\": \"v\", \"text\": \"\", \"type\": \"bar\", \"x\": [\"Design\", \"Education\", \"Education\", \"Education\", \"Engineering\", \"Engineering\", \"Engineering\", \"Engineering\", \"Engineering\", \"Engineering\", \"Finance\", \"Finance\", \"Finance\", \"Finance\", \"Finance\", \"Finance\", \"Finance\", \"Finance\", \"Food Services\", \"Food Services\", \"Food Services\", \"Food Services\", \"Food Services\", \"Health\", \"Health\", \"Health\", \"Health\", \"Health\", \"Health\", \"Health\", \"Health\", \"Health\", \"Human Resources\", \"Human Resources\", \"Labor\", \"Labor\", \"Labor\", \"Labor\", \"Labor\", \"Labor\", \"Labor\", \"Labor\", \"Law\", \"Law\", \"Manufacturing\", \"Manufacturing\", \"Manufacturing\", \"Manufacturing\", \"Media\", \"Media\", \"Operations\", \"Operations\", \"Operations\", \"Professional Services\", \"Professional Services\", \"Professional Services\", \"Professional Services\", \"Professional Services\", \"Professional Services\", \"Professional Services\", \"Professional Services\", \"Professional Services\", \"Professional Services\", \"Professional Services\", \"Professional Services\", \"Real Estate\", \"Retail\", \"Retail\", \"Retail\", \"Retail\", \"Sales\", \"Sales\", \"Technology\", \"Technology\", \"Technology\", \"Technology\", \"Technology\", \"Technology\", \"Technology\", \"Technology\", \"Technology\", \"Technology\", \"Technology\", \"Technology\"], \"y\": [74986, 130761, 40695, 70271, 93333, 99611, 106452, 82482, 100777, 95512, 75838, 37945, 68462, 73291, 87275, 53253, 62277, 118895, 32417, 43996, 39340, 64301, 41194, 41741, 46205, 64041, 52013, 76584, 144318, 48723, 102275, 120484, 105902, 80131, 59499, 51370, 54182, 62075, 53788, 61870, 70599, 54896, 155654, 75930, 99148, 47338, 102622, 93133, 88415, 66410, 77930, 96895, 52538, 60824, 90445, 96836, 104708, 101602, 73869, 52146, 105933, 70936, 137309, 105386, 100082, 78074, 82052, 36210, 40228, 71087, 88851, 66561, 93617, 143513, 127397, 104358, 95660, 127511, 138842, 106969, 68588, 112133, 83150, 104640]}, {\"marker\": {\"color\": \"rgba(251, 128, 114, 0.6)\", \"line\": {\"color\": \"rgba(251, 128, 114, 1.0)\", \"width\": 1}}, \"name\": \"Seattle\", \"orientation\": \"v\", \"text\": \"\", \"type\": \"bar\", \"x\": [\"Design\", \"Education\", \"Education\", \"Education\", \"Engineering\", \"Engineering\", \"Engineering\", \"Engineering\", \"Engineering\", \"Engineering\", \"Finance\", \"Finance\", \"Finance\", \"Finance\", \"Finance\", \"Finance\", \"Finance\", \"Finance\", \"Food Services\", \"Food Services\", \"Food Services\", \"Food Services\", \"Food Services\", \"Health\", \"Health\", \"Health\", \"Health\", \"Health\", \"Health\", \"Health\", \"Health\", \"Health\", \"Human Resources\", \"Human Resources\", \"Labor\", \"Labor\", \"Labor\", \"Labor\", \"Labor\", \"Labor\", \"Labor\", \"Labor\", \"Law\", \"Law\", \"Manufacturing\", \"Manufacturing\", \"Manufacturing\", \"Manufacturing\", \"Media\", \"Media\", \"Operations\", \"Operations\", \"Operations\", \"Professional Services\", \"Professional Services\", \"Professional Services\", \"Professional Services\", \"Professional Services\", \"Professional Services\", \"Professional Services\", \"Professional Services\", \"Professional Services\", \"Professional Services\", \"Professional Services\", \"Professional Services\", \"Real Estate\", \"Retail\", \"Retail\", \"Retail\", \"Retail\", \"Sales\", \"Sales\", \"Technology\", \"Technology\", \"Technology\", \"Technology\", \"Technology\", \"Technology\", \"Technology\", \"Technology\", \"Technology\", \"Technology\", \"Technology\", \"Technology\"], \"y\": [62118, 109108, 34735, 59578, 81285, 87574, 93303, 77500, 87967, 84754, 65583, 36057, 56849, 61272, 76334, 44430, 53768, 102492, 31101, 41781, 36690, 55817, 39527, 37276, 42801, 55609, 46337, 69020, 126786, 44046, 80217, 79433, 90289, 65215, 55374, 48671, 47883, 54257, 51208, 56380, 61889, 51844, 120780, 66086, 83023, 43752, 92305, 73947, 79715, 75060, 70101, 82921, 48141, 52464, 80660, 87374, 85656, 93056, 64510, 46851, 90870, 60655, 118766, 99098, 87868, 68113, 71037, 35947, 36815, 62059, 78546, 56817, 75140, 128650, 112043, 92885, 88844, 118376, 124766, 95389, 55575, 101237, 67126, 89770]}, {\"marker\": {\"color\": \"rgba(128, 177, 211, 0.6)\", \"line\": {\"color\": \"rgba(128, 177, 211, 1.0)\", \"width\": 1}}, \"name\": \"Washington DC\", \"orientation\": \"v\", \"text\": \"\", \"type\": \"bar\", \"x\": [\"Design\", \"Education\", \"Education\", \"Education\", \"Engineering\", \"Engineering\", \"Engineering\", \"Engineering\", \"Engineering\", \"Engineering\", \"Finance\", \"Finance\", \"Finance\", \"Finance\", \"Finance\", \"Finance\", \"Finance\", \"Finance\", \"Food Services\", \"Food Services\", \"Food Services\", \"Food Services\", \"Food Services\", \"Health\", \"Health\", \"Health\", \"Health\", \"Health\", \"Health\", \"Health\", \"Health\", \"Health\", \"Human Resources\", \"Human Resources\", \"Labor\", \"Labor\", \"Labor\", \"Labor\", \"Labor\", \"Labor\", \"Labor\", \"Labor\", \"Law\", \"Law\", \"Manufacturing\", \"Manufacturing\", \"Manufacturing\", \"Manufacturing\", \"Media\", \"Media\", \"Operations\", \"Operations\", \"Operations\", \"Professional Services\", \"Professional Services\", \"Professional Services\", \"Professional Services\", \"Professional Services\", \"Professional Services\", \"Professional Services\", \"Professional Services\", \"Professional Services\", \"Professional Services\", \"Professional Services\", \"Professional Services\", \"Real Estate\", \"Retail\", \"Retail\", \"Retail\", \"Retail\", \"Sales\", \"Sales\", \"Technology\", \"Technology\", \"Technology\", \"Technology\", \"Technology\", \"Technology\", \"Technology\", \"Technology\", \"Technology\", \"Technology\", \"Technology\", \"Technology\"], \"y\": [59308, 104065, 35872, 61218, 78854, 87430, 88578, 75011, 81546, 85117, 67973, 35803, 57794, 62066, 74332, 47298, 52695, 108209, 27888, 42757, 32121, 56418, 38315, 32924, 43208, 50446, 39672, 60568, 124625, 34851, 84027, 73272, 87439, 63861, 46010, 42356, 42865, 51109, 44032, 54169, 58373, 43959, 138705, 61082, 81152, 40016, 86662, 75350, 72453, 67332, 73700, 80788, 49425, 51329, 79502, 86231, 85167, 85819, 58538, 43828, 81478, 58964, 114090, 98359, 91271, 68899, 63293, 29918, 33792, 60261, 74992, 56571, 76103, 107966, 110420, 83775, 82165, 99587, 126983, 94236, 59011, 91979, 69062, 89420]}],\n",
       "                        {\"legend\": {\"bgcolor\": \"#F5F6F9\", \"font\": {\"color\": \"#4D5663\"}}, \"paper_bgcolor\": \"#F5F6F9\", \"plot_bgcolor\": \"#F5F6F9\", \"template\": {\"data\": {\"bar\": [{\"error_x\": {\"color\": \"#2a3f5f\"}, \"error_y\": {\"color\": \"#2a3f5f\"}, \"marker\": {\"line\": {\"color\": \"#E5ECF6\", \"width\": 0.5}}, \"type\": \"bar\"}], \"barpolar\": [{\"marker\": {\"line\": {\"color\": \"#E5ECF6\", \"width\": 0.5}}, \"type\": \"barpolar\"}], \"carpet\": [{\"aaxis\": {\"endlinecolor\": \"#2a3f5f\", \"gridcolor\": \"white\", \"linecolor\": \"white\", \"minorgridcolor\": \"white\", \"startlinecolor\": \"#2a3f5f\"}, \"baxis\": {\"endlinecolor\": \"#2a3f5f\", \"gridcolor\": \"white\", \"linecolor\": \"white\", \"minorgridcolor\": \"white\", \"startlinecolor\": \"#2a3f5f\"}, \"type\": \"carpet\"}], \"choropleth\": [{\"colorbar\": {\"outlinewidth\": 0, \"ticks\": \"\"}, \"type\": \"choropleth\"}], \"contour\": [{\"colorbar\": {\"outlinewidth\": 0, \"ticks\": \"\"}, \"colorscale\": [[0.0, \"#0d0887\"], [0.1111111111111111, \"#46039f\"], [0.2222222222222222, \"#7201a8\"], [0.3333333333333333, \"#9c179e\"], [0.4444444444444444, \"#bd3786\"], [0.5555555555555556, \"#d8576b\"], [0.6666666666666666, \"#ed7953\"], [0.7777777777777778, \"#fb9f3a\"], [0.8888888888888888, \"#fdca26\"], [1.0, \"#f0f921\"]], \"type\": \"contour\"}], \"contourcarpet\": [{\"colorbar\": {\"outlinewidth\": 0, \"ticks\": \"\"}, \"type\": \"contourcarpet\"}], \"heatmap\": [{\"colorbar\": {\"outlinewidth\": 0, \"ticks\": \"\"}, \"colorscale\": [[0.0, \"#0d0887\"], [0.1111111111111111, \"#46039f\"], [0.2222222222222222, \"#7201a8\"], [0.3333333333333333, \"#9c179e\"], [0.4444444444444444, \"#bd3786\"], [0.5555555555555556, \"#d8576b\"], [0.6666666666666666, \"#ed7953\"], [0.7777777777777778, \"#fb9f3a\"], [0.8888888888888888, \"#fdca26\"], [1.0, \"#f0f921\"]], \"type\": \"heatmap\"}], \"heatmapgl\": [{\"colorbar\": {\"outlinewidth\": 0, \"ticks\": \"\"}, \"colorscale\": [[0.0, \"#0d0887\"], [0.1111111111111111, \"#46039f\"], [0.2222222222222222, \"#7201a8\"], [0.3333333333333333, \"#9c179e\"], [0.4444444444444444, \"#bd3786\"], [0.5555555555555556, \"#d8576b\"], [0.6666666666666666, \"#ed7953\"], [0.7777777777777778, \"#fb9f3a\"], [0.8888888888888888, \"#fdca26\"], [1.0, \"#f0f921\"]], \"type\": \"heatmapgl\"}], \"histogram\": [{\"marker\": {\"colorbar\": {\"outlinewidth\": 0, \"ticks\": \"\"}}, \"type\": \"histogram\"}], \"histogram2d\": [{\"colorbar\": {\"outlinewidth\": 0, \"ticks\": \"\"}, \"colorscale\": [[0.0, \"#0d0887\"], [0.1111111111111111, \"#46039f\"], [0.2222222222222222, \"#7201a8\"], [0.3333333333333333, \"#9c179e\"], [0.4444444444444444, \"#bd3786\"], [0.5555555555555556, \"#d8576b\"], [0.6666666666666666, \"#ed7953\"], [0.7777777777777778, \"#fb9f3a\"], [0.8888888888888888, \"#fdca26\"], [1.0, \"#f0f921\"]], \"type\": \"histogram2d\"}], \"histogram2dcontour\": [{\"colorbar\": {\"outlinewidth\": 0, \"ticks\": \"\"}, \"colorscale\": [[0.0, \"#0d0887\"], [0.1111111111111111, \"#46039f\"], [0.2222222222222222, \"#7201a8\"], [0.3333333333333333, \"#9c179e\"], [0.4444444444444444, \"#bd3786\"], [0.5555555555555556, \"#d8576b\"], [0.6666666666666666, \"#ed7953\"], [0.7777777777777778, \"#fb9f3a\"], [0.8888888888888888, \"#fdca26\"], [1.0, \"#f0f921\"]], \"type\": \"histogram2dcontour\"}], \"mesh3d\": [{\"colorbar\": {\"outlinewidth\": 0, \"ticks\": \"\"}, \"type\": \"mesh3d\"}], \"parcoords\": [{\"line\": {\"colorbar\": {\"outlinewidth\": 0, \"ticks\": \"\"}}, \"type\": \"parcoords\"}], \"pie\": [{\"automargin\": true, \"type\": \"pie\"}], \"scatter\": [{\"marker\": {\"colorbar\": {\"outlinewidth\": 0, \"ticks\": \"\"}}, \"type\": \"scatter\"}], \"scatter3d\": [{\"line\": {\"colorbar\": {\"outlinewidth\": 0, \"ticks\": \"\"}}, \"marker\": {\"colorbar\": {\"outlinewidth\": 0, \"ticks\": \"\"}}, \"type\": \"scatter3d\"}], \"scattercarpet\": [{\"marker\": {\"colorbar\": {\"outlinewidth\": 0, \"ticks\": \"\"}}, \"type\": \"scattercarpet\"}], \"scattergeo\": [{\"marker\": {\"colorbar\": {\"outlinewidth\": 0, \"ticks\": \"\"}}, \"type\": \"scattergeo\"}], \"scattergl\": [{\"marker\": {\"colorbar\": {\"outlinewidth\": 0, \"ticks\": \"\"}}, \"type\": \"scattergl\"}], \"scattermapbox\": [{\"marker\": {\"colorbar\": {\"outlinewidth\": 0, \"ticks\": \"\"}}, \"type\": \"scattermapbox\"}], \"scatterpolar\": [{\"marker\": {\"colorbar\": {\"outlinewidth\": 0, \"ticks\": \"\"}}, \"type\": \"scatterpolar\"}], \"scatterpolargl\": [{\"marker\": {\"colorbar\": {\"outlinewidth\": 0, \"ticks\": \"\"}}, \"type\": \"scatterpolargl\"}], \"scatterternary\": [{\"marker\": {\"colorbar\": {\"outlinewidth\": 0, \"ticks\": \"\"}}, \"type\": \"scatterternary\"}], \"surface\": [{\"colorbar\": {\"outlinewidth\": 0, \"ticks\": \"\"}, \"colorscale\": [[0.0, \"#0d0887\"], [0.1111111111111111, \"#46039f\"], [0.2222222222222222, \"#7201a8\"], [0.3333333333333333, \"#9c179e\"], [0.4444444444444444, \"#bd3786\"], [0.5555555555555556, \"#d8576b\"], [0.6666666666666666, \"#ed7953\"], [0.7777777777777778, \"#fb9f3a\"], [0.8888888888888888, \"#fdca26\"], [1.0, \"#f0f921\"]], \"type\": \"surface\"}], \"table\": [{\"cells\": {\"fill\": {\"color\": \"#EBF0F8\"}, \"line\": {\"color\": \"white\"}}, \"header\": {\"fill\": {\"color\": \"#C8D4E3\"}, \"line\": {\"color\": \"white\"}}, \"type\": \"table\"}]}, \"layout\": {\"annotationdefaults\": {\"arrowcolor\": \"#2a3f5f\", \"arrowhead\": 0, \"arrowwidth\": 1}, \"coloraxis\": {\"colorbar\": {\"outlinewidth\": 0, \"ticks\": \"\"}}, \"colorscale\": {\"diverging\": [[0, \"#8e0152\"], [0.1, \"#c51b7d\"], [0.2, \"#de77ae\"], [0.3, \"#f1b6da\"], [0.4, \"#fde0ef\"], [0.5, \"#f7f7f7\"], [0.6, \"#e6f5d0\"], [0.7, \"#b8e186\"], [0.8, \"#7fbc41\"], [0.9, \"#4d9221\"], [1, \"#276419\"]], \"sequential\": [[0.0, \"#0d0887\"], [0.1111111111111111, \"#46039f\"], [0.2222222222222222, \"#7201a8\"], [0.3333333333333333, \"#9c179e\"], [0.4444444444444444, \"#bd3786\"], [0.5555555555555556, \"#d8576b\"], [0.6666666666666666, \"#ed7953\"], [0.7777777777777778, \"#fb9f3a\"], [0.8888888888888888, \"#fdca26\"], [1.0, \"#f0f921\"]], \"sequentialminus\": [[0.0, \"#0d0887\"], [0.1111111111111111, \"#46039f\"], [0.2222222222222222, \"#7201a8\"], [0.3333333333333333, \"#9c179e\"], [0.4444444444444444, \"#bd3786\"], [0.5555555555555556, \"#d8576b\"], [0.6666666666666666, \"#ed7953\"], [0.7777777777777778, \"#fb9f3a\"], [0.8888888888888888, \"#fdca26\"], [1.0, \"#f0f921\"]]}, \"colorway\": [\"#636efa\", \"#EF553B\", \"#00cc96\", \"#ab63fa\", \"#FFA15A\", \"#19d3f3\", \"#FF6692\", \"#B6E880\", \"#FF97FF\", \"#FECB52\"], \"font\": {\"color\": \"#2a3f5f\"}, \"geo\": {\"bgcolor\": \"white\", \"lakecolor\": \"white\", \"landcolor\": \"#E5ECF6\", \"showlakes\": true, \"showland\": true, \"subunitcolor\": \"white\"}, \"hoverlabel\": {\"align\": \"left\"}, \"hovermode\": \"closest\", \"mapbox\": {\"style\": \"light\"}, \"paper_bgcolor\": \"white\", \"plot_bgcolor\": \"#E5ECF6\", \"polar\": {\"angularaxis\": {\"gridcolor\": \"white\", \"linecolor\": \"white\", \"ticks\": \"\"}, \"bgcolor\": \"#E5ECF6\", \"radialaxis\": {\"gridcolor\": \"white\", \"linecolor\": \"white\", \"ticks\": \"\"}}, \"scene\": {\"xaxis\": {\"backgroundcolor\": \"#E5ECF6\", \"gridcolor\": \"white\", \"gridwidth\": 2, \"linecolor\": \"white\", \"showbackground\": true, \"ticks\": \"\", \"zerolinecolor\": \"white\"}, \"yaxis\": {\"backgroundcolor\": \"#E5ECF6\", \"gridcolor\": \"white\", \"gridwidth\": 2, \"linecolor\": \"white\", \"showbackground\": true, \"ticks\": \"\", \"zerolinecolor\": \"white\"}, \"zaxis\": {\"backgroundcolor\": \"#E5ECF6\", \"gridcolor\": \"white\", \"gridwidth\": 2, \"linecolor\": \"white\", \"showbackground\": true, \"ticks\": \"\", \"zerolinecolor\": \"white\"}}, \"shapedefaults\": {\"line\": {\"color\": \"#2a3f5f\"}}, \"ternary\": {\"aaxis\": {\"gridcolor\": \"white\", \"linecolor\": \"white\", \"ticks\": \"\"}, \"baxis\": {\"gridcolor\": \"white\", \"linecolor\": \"white\", \"ticks\": \"\"}, \"bgcolor\": \"#E5ECF6\", \"caxis\": {\"gridcolor\": \"white\", \"linecolor\": \"white\", \"ticks\": \"\"}}, \"title\": {\"x\": 0.05}, \"xaxis\": {\"automargin\": true, \"gridcolor\": \"white\", \"linecolor\": \"white\", \"ticks\": \"\", \"title\": {\"standoff\": 15}, \"zerolinecolor\": \"white\", \"zerolinewidth\": 2}, \"yaxis\": {\"automargin\": true, \"gridcolor\": \"white\", \"linecolor\": \"white\", \"ticks\": \"\", \"title\": {\"standoff\": 15}, \"zerolinecolor\": \"white\", \"zerolinewidth\": 2}}}, \"title\": {\"font\": {\"color\": \"#4D5663\"}}, \"xaxis\": {\"gridcolor\": \"#E1E5ED\", \"showgrid\": true, \"tickfont\": {\"color\": \"#4D5663\"}, \"title\": {\"font\": {\"color\": \"#4D5663\"}, \"text\": \"\"}, \"zerolinecolor\": \"#E1E5ED\"}, \"yaxis\": {\"gridcolor\": \"#E1E5ED\", \"showgrid\": true, \"tickfont\": {\"color\": \"#4D5663\"}, \"title\": {\"font\": {\"color\": \"#4D5663\"}, \"text\": \"\"}, \"zerolinecolor\": \"#E1E5ED\"}},\n",
       "                        {\"showLink\": true, \"linkText\": \"Export to plot.ly\", \"plotlyServerURL\": \"https://plot.ly\", \"responsive\": true}\n",
       "                    ).then(function(){\n",
       "                            \n",
       "var gd = document.getElementById('0f3c9dc2-13fc-493e-9b53-bdc6d69cc5bc');\n",
       "var x = new MutationObserver(function (mutations, observer) {{\n",
       "        var display = window.getComputedStyle(gd).display;\n",
       "        if (!display || display === 'none') {{\n",
       "            console.log([gd, 'removed!']);\n",
       "            Plotly.purge(gd);\n",
       "            observer.disconnect();\n",
       "        }}\n",
       "}});\n",
       "\n",
       "// Listen for the removal of the full notebook cells\n",
       "var notebookContainer = gd.closest('#notebook-container');\n",
       "if (notebookContainer) {{\n",
       "    x.observe(notebookContainer, {childList: true});\n",
       "}}\n",
       "\n",
       "// Listen for the clearing of the current output cell\n",
       "var outputEl = gd.closest('.output');\n",
       "if (outputEl) {{\n",
       "    x.observe(outputEl, {childList: true});\n",
       "}}\n",
       "\n",
       "                        })\n",
       "                };\n",
       "                });\n",
       "            </script>\n",
       "        </div>"
      ]
     },
     "metadata": {},
     "output_type": "display_data"
    }
   ],
   "source": [
    "col = ['Atlanta' , 'Boston' , 'Chicago' , 'Houston' , 'Los Angeles' , 'New York City' , 'Philadelphia' , 'San Francisco' , 'Seattle','Washington DC']\n",
    "df.iplot(kind='bar',x='Job Category',y=col)"
   ]
  },
  {
   "cell_type": "code",
   "execution_count": 28,
   "metadata": {},
   "outputs": [
    {
     "data": {
      "application/vnd.plotly.v1+json": {
       "config": {
        "linkText": "Export to plot.ly",
        "plotlyServerURL": "https://plot.ly",
        "showLink": true
       },
       "data": [
        {
         "marker": {
          "color": "rgba(255, 153, 51, 0.6)",
          "line": {
           "color": "rgba(255, 153, 51, 1.0)",
           "width": 1
          }
         },
         "name": "None",
         "orientation": "v",
         "text": "",
         "type": "bar",
         "x": [
          "Atlanta",
          "Boston",
          "Chicago",
          "Houston",
          "Los Angeles",
          "New York City",
          "Philadelphia",
          "San Francisco",
          "Seattle",
          "Washington DC"
         ],
         "y": [
          5196915,
          5848590,
          5447027,
          5291228,
          5905191,
          5908508,
          5348392,
          6869590,
          6006952,
          5778108
         ]
        }
       ],
       "layout": {
        "legend": {
         "bgcolor": "#F5F6F9",
         "font": {
          "color": "#4D5663"
         }
        },
        "paper_bgcolor": "#F5F6F9",
        "plot_bgcolor": "#F5F6F9",
        "template": {
         "data": {
          "bar": [
           {
            "error_x": {
             "color": "#2a3f5f"
            },
            "error_y": {
             "color": "#2a3f5f"
            },
            "marker": {
             "line": {
              "color": "#E5ECF6",
              "width": 0.5
             }
            },
            "type": "bar"
           }
          ],
          "barpolar": [
           {
            "marker": {
             "line": {
              "color": "#E5ECF6",
              "width": 0.5
             }
            },
            "type": "barpolar"
           }
          ],
          "carpet": [
           {
            "aaxis": {
             "endlinecolor": "#2a3f5f",
             "gridcolor": "white",
             "linecolor": "white",
             "minorgridcolor": "white",
             "startlinecolor": "#2a3f5f"
            },
            "baxis": {
             "endlinecolor": "#2a3f5f",
             "gridcolor": "white",
             "linecolor": "white",
             "minorgridcolor": "white",
             "startlinecolor": "#2a3f5f"
            },
            "type": "carpet"
           }
          ],
          "choropleth": [
           {
            "colorbar": {
             "outlinewidth": 0,
             "ticks": ""
            },
            "type": "choropleth"
           }
          ],
          "contour": [
           {
            "colorbar": {
             "outlinewidth": 0,
             "ticks": ""
            },
            "colorscale": [
             [
              0,
              "#0d0887"
             ],
             [
              0.1111111111111111,
              "#46039f"
             ],
             [
              0.2222222222222222,
              "#7201a8"
             ],
             [
              0.3333333333333333,
              "#9c179e"
             ],
             [
              0.4444444444444444,
              "#bd3786"
             ],
             [
              0.5555555555555556,
              "#d8576b"
             ],
             [
              0.6666666666666666,
              "#ed7953"
             ],
             [
              0.7777777777777778,
              "#fb9f3a"
             ],
             [
              0.8888888888888888,
              "#fdca26"
             ],
             [
              1,
              "#f0f921"
             ]
            ],
            "type": "contour"
           }
          ],
          "contourcarpet": [
           {
            "colorbar": {
             "outlinewidth": 0,
             "ticks": ""
            },
            "type": "contourcarpet"
           }
          ],
          "heatmap": [
           {
            "colorbar": {
             "outlinewidth": 0,
             "ticks": ""
            },
            "colorscale": [
             [
              0,
              "#0d0887"
             ],
             [
              0.1111111111111111,
              "#46039f"
             ],
             [
              0.2222222222222222,
              "#7201a8"
             ],
             [
              0.3333333333333333,
              "#9c179e"
             ],
             [
              0.4444444444444444,
              "#bd3786"
             ],
             [
              0.5555555555555556,
              "#d8576b"
             ],
             [
              0.6666666666666666,
              "#ed7953"
             ],
             [
              0.7777777777777778,
              "#fb9f3a"
             ],
             [
              0.8888888888888888,
              "#fdca26"
             ],
             [
              1,
              "#f0f921"
             ]
            ],
            "type": "heatmap"
           }
          ],
          "heatmapgl": [
           {
            "colorbar": {
             "outlinewidth": 0,
             "ticks": ""
            },
            "colorscale": [
             [
              0,
              "#0d0887"
             ],
             [
              0.1111111111111111,
              "#46039f"
             ],
             [
              0.2222222222222222,
              "#7201a8"
             ],
             [
              0.3333333333333333,
              "#9c179e"
             ],
             [
              0.4444444444444444,
              "#bd3786"
             ],
             [
              0.5555555555555556,
              "#d8576b"
             ],
             [
              0.6666666666666666,
              "#ed7953"
             ],
             [
              0.7777777777777778,
              "#fb9f3a"
             ],
             [
              0.8888888888888888,
              "#fdca26"
             ],
             [
              1,
              "#f0f921"
             ]
            ],
            "type": "heatmapgl"
           }
          ],
          "histogram": [
           {
            "marker": {
             "colorbar": {
              "outlinewidth": 0,
              "ticks": ""
             }
            },
            "type": "histogram"
           }
          ],
          "histogram2d": [
           {
            "colorbar": {
             "outlinewidth": 0,
             "ticks": ""
            },
            "colorscale": [
             [
              0,
              "#0d0887"
             ],
             [
              0.1111111111111111,
              "#46039f"
             ],
             [
              0.2222222222222222,
              "#7201a8"
             ],
             [
              0.3333333333333333,
              "#9c179e"
             ],
             [
              0.4444444444444444,
              "#bd3786"
             ],
             [
              0.5555555555555556,
              "#d8576b"
             ],
             [
              0.6666666666666666,
              "#ed7953"
             ],
             [
              0.7777777777777778,
              "#fb9f3a"
             ],
             [
              0.8888888888888888,
              "#fdca26"
             ],
             [
              1,
              "#f0f921"
             ]
            ],
            "type": "histogram2d"
           }
          ],
          "histogram2dcontour": [
           {
            "colorbar": {
             "outlinewidth": 0,
             "ticks": ""
            },
            "colorscale": [
             [
              0,
              "#0d0887"
             ],
             [
              0.1111111111111111,
              "#46039f"
             ],
             [
              0.2222222222222222,
              "#7201a8"
             ],
             [
              0.3333333333333333,
              "#9c179e"
             ],
             [
              0.4444444444444444,
              "#bd3786"
             ],
             [
              0.5555555555555556,
              "#d8576b"
             ],
             [
              0.6666666666666666,
              "#ed7953"
             ],
             [
              0.7777777777777778,
              "#fb9f3a"
             ],
             [
              0.8888888888888888,
              "#fdca26"
             ],
             [
              1,
              "#f0f921"
             ]
            ],
            "type": "histogram2dcontour"
           }
          ],
          "mesh3d": [
           {
            "colorbar": {
             "outlinewidth": 0,
             "ticks": ""
            },
            "type": "mesh3d"
           }
          ],
          "parcoords": [
           {
            "line": {
             "colorbar": {
              "outlinewidth": 0,
              "ticks": ""
             }
            },
            "type": "parcoords"
           }
          ],
          "pie": [
           {
            "automargin": true,
            "type": "pie"
           }
          ],
          "scatter": [
           {
            "marker": {
             "colorbar": {
              "outlinewidth": 0,
              "ticks": ""
             }
            },
            "type": "scatter"
           }
          ],
          "scatter3d": [
           {
            "line": {
             "colorbar": {
              "outlinewidth": 0,
              "ticks": ""
             }
            },
            "marker": {
             "colorbar": {
              "outlinewidth": 0,
              "ticks": ""
             }
            },
            "type": "scatter3d"
           }
          ],
          "scattercarpet": [
           {
            "marker": {
             "colorbar": {
              "outlinewidth": 0,
              "ticks": ""
             }
            },
            "type": "scattercarpet"
           }
          ],
          "scattergeo": [
           {
            "marker": {
             "colorbar": {
              "outlinewidth": 0,
              "ticks": ""
             }
            },
            "type": "scattergeo"
           }
          ],
          "scattergl": [
           {
            "marker": {
             "colorbar": {
              "outlinewidth": 0,
              "ticks": ""
             }
            },
            "type": "scattergl"
           }
          ],
          "scattermapbox": [
           {
            "marker": {
             "colorbar": {
              "outlinewidth": 0,
              "ticks": ""
             }
            },
            "type": "scattermapbox"
           }
          ],
          "scatterpolar": [
           {
            "marker": {
             "colorbar": {
              "outlinewidth": 0,
              "ticks": ""
             }
            },
            "type": "scatterpolar"
           }
          ],
          "scatterpolargl": [
           {
            "marker": {
             "colorbar": {
              "outlinewidth": 0,
              "ticks": ""
             }
            },
            "type": "scatterpolargl"
           }
          ],
          "scatterternary": [
           {
            "marker": {
             "colorbar": {
              "outlinewidth": 0,
              "ticks": ""
             }
            },
            "type": "scatterternary"
           }
          ],
          "surface": [
           {
            "colorbar": {
             "outlinewidth": 0,
             "ticks": ""
            },
            "colorscale": [
             [
              0,
              "#0d0887"
             ],
             [
              0.1111111111111111,
              "#46039f"
             ],
             [
              0.2222222222222222,
              "#7201a8"
             ],
             [
              0.3333333333333333,
              "#9c179e"
             ],
             [
              0.4444444444444444,
              "#bd3786"
             ],
             [
              0.5555555555555556,
              "#d8576b"
             ],
             [
              0.6666666666666666,
              "#ed7953"
             ],
             [
              0.7777777777777778,
              "#fb9f3a"
             ],
             [
              0.8888888888888888,
              "#fdca26"
             ],
             [
              1,
              "#f0f921"
             ]
            ],
            "type": "surface"
           }
          ],
          "table": [
           {
            "cells": {
             "fill": {
              "color": "#EBF0F8"
             },
             "line": {
              "color": "white"
             }
            },
            "header": {
             "fill": {
              "color": "#C8D4E3"
             },
             "line": {
              "color": "white"
             }
            },
            "type": "table"
           }
          ]
         },
         "layout": {
          "annotationdefaults": {
           "arrowcolor": "#2a3f5f",
           "arrowhead": 0,
           "arrowwidth": 1
          },
          "coloraxis": {
           "colorbar": {
            "outlinewidth": 0,
            "ticks": ""
           }
          },
          "colorscale": {
           "diverging": [
            [
             0,
             "#8e0152"
            ],
            [
             0.1,
             "#c51b7d"
            ],
            [
             0.2,
             "#de77ae"
            ],
            [
             0.3,
             "#f1b6da"
            ],
            [
             0.4,
             "#fde0ef"
            ],
            [
             0.5,
             "#f7f7f7"
            ],
            [
             0.6,
             "#e6f5d0"
            ],
            [
             0.7,
             "#b8e186"
            ],
            [
             0.8,
             "#7fbc41"
            ],
            [
             0.9,
             "#4d9221"
            ],
            [
             1,
             "#276419"
            ]
           ],
           "sequential": [
            [
             0,
             "#0d0887"
            ],
            [
             0.1111111111111111,
             "#46039f"
            ],
            [
             0.2222222222222222,
             "#7201a8"
            ],
            [
             0.3333333333333333,
             "#9c179e"
            ],
            [
             0.4444444444444444,
             "#bd3786"
            ],
            [
             0.5555555555555556,
             "#d8576b"
            ],
            [
             0.6666666666666666,
             "#ed7953"
            ],
            [
             0.7777777777777778,
             "#fb9f3a"
            ],
            [
             0.8888888888888888,
             "#fdca26"
            ],
            [
             1,
             "#f0f921"
            ]
           ],
           "sequentialminus": [
            [
             0,
             "#0d0887"
            ],
            [
             0.1111111111111111,
             "#46039f"
            ],
            [
             0.2222222222222222,
             "#7201a8"
            ],
            [
             0.3333333333333333,
             "#9c179e"
            ],
            [
             0.4444444444444444,
             "#bd3786"
            ],
            [
             0.5555555555555556,
             "#d8576b"
            ],
            [
             0.6666666666666666,
             "#ed7953"
            ],
            [
             0.7777777777777778,
             "#fb9f3a"
            ],
            [
             0.8888888888888888,
             "#fdca26"
            ],
            [
             1,
             "#f0f921"
            ]
           ]
          },
          "colorway": [
           "#636efa",
           "#EF553B",
           "#00cc96",
           "#ab63fa",
           "#FFA15A",
           "#19d3f3",
           "#FF6692",
           "#B6E880",
           "#FF97FF",
           "#FECB52"
          ],
          "font": {
           "color": "#2a3f5f"
          },
          "geo": {
           "bgcolor": "white",
           "lakecolor": "white",
           "landcolor": "#E5ECF6",
           "showlakes": true,
           "showland": true,
           "subunitcolor": "white"
          },
          "hoverlabel": {
           "align": "left"
          },
          "hovermode": "closest",
          "mapbox": {
           "style": "light"
          },
          "paper_bgcolor": "white",
          "plot_bgcolor": "#E5ECF6",
          "polar": {
           "angularaxis": {
            "gridcolor": "white",
            "linecolor": "white",
            "ticks": ""
           },
           "bgcolor": "#E5ECF6",
           "radialaxis": {
            "gridcolor": "white",
            "linecolor": "white",
            "ticks": ""
           }
          },
          "scene": {
           "xaxis": {
            "backgroundcolor": "#E5ECF6",
            "gridcolor": "white",
            "gridwidth": 2,
            "linecolor": "white",
            "showbackground": true,
            "ticks": "",
            "zerolinecolor": "white"
           },
           "yaxis": {
            "backgroundcolor": "#E5ECF6",
            "gridcolor": "white",
            "gridwidth": 2,
            "linecolor": "white",
            "showbackground": true,
            "ticks": "",
            "zerolinecolor": "white"
           },
           "zaxis": {
            "backgroundcolor": "#E5ECF6",
            "gridcolor": "white",
            "gridwidth": 2,
            "linecolor": "white",
            "showbackground": true,
            "ticks": "",
            "zerolinecolor": "white"
           }
          },
          "shapedefaults": {
           "line": {
            "color": "#2a3f5f"
           }
          },
          "ternary": {
           "aaxis": {
            "gridcolor": "white",
            "linecolor": "white",
            "ticks": ""
           },
           "baxis": {
            "gridcolor": "white",
            "linecolor": "white",
            "ticks": ""
           },
           "bgcolor": "#E5ECF6",
           "caxis": {
            "gridcolor": "white",
            "linecolor": "white",
            "ticks": ""
           }
          },
          "title": {
           "x": 0.05
          },
          "xaxis": {
           "automargin": true,
           "gridcolor": "white",
           "linecolor": "white",
           "ticks": "",
           "title": {
            "standoff": 15
           },
           "zerolinecolor": "white",
           "zerolinewidth": 2
          },
          "yaxis": {
           "automargin": true,
           "gridcolor": "white",
           "linecolor": "white",
           "ticks": "",
           "title": {
            "standoff": 15
           },
           "zerolinecolor": "white",
           "zerolinewidth": 2
          }
         }
        },
        "title": {
         "font": {
          "color": "#4D5663"
         }
        },
        "xaxis": {
         "gridcolor": "#E1E5ED",
         "showgrid": true,
         "tickfont": {
          "color": "#4D5663"
         },
         "title": {
          "font": {
           "color": "#4D5663"
          },
          "text": ""
         },
         "zerolinecolor": "#E1E5ED"
        },
        "yaxis": {
         "gridcolor": "#E1E5ED",
         "showgrid": true,
         "tickfont": {
          "color": "#4D5663"
         },
         "title": {
          "font": {
           "color": "#4D5663"
          },
          "text": ""
         },
         "zerolinecolor": "#E1E5ED"
        }
       }
      },
      "text/html": [
       "<div>\n",
       "        \n",
       "        \n",
       "            <div id=\"c1b57ed8-d603-49c8-8c17-390cb15628a3\" class=\"plotly-graph-div\" style=\"height:525px; width:100%;\"></div>\n",
       "            <script type=\"text/javascript\">\n",
       "                require([\"plotly\"], function(Plotly) {\n",
       "                    window.PLOTLYENV=window.PLOTLYENV || {};\n",
       "                    window.PLOTLYENV.BASE_URL='https://plot.ly';\n",
       "                    \n",
       "                if (document.getElementById(\"c1b57ed8-d603-49c8-8c17-390cb15628a3\")) {\n",
       "                    Plotly.newPlot(\n",
       "                        'c1b57ed8-d603-49c8-8c17-390cb15628a3',\n",
       "                        [{\"marker\": {\"color\": \"rgba(255, 153, 51, 0.6)\", \"line\": {\"color\": \"rgba(255, 153, 51, 1.0)\", \"width\": 1}}, \"name\": \"None\", \"orientation\": \"v\", \"text\": \"\", \"type\": \"bar\", \"x\": [\"Atlanta\", \"Boston\", \"Chicago\", \"Houston\", \"Los Angeles\", \"New York City\", \"Philadelphia\", \"San Francisco\", \"Seattle\", \"Washington DC\"], \"y\": [5196915, 5848590, 5447027, 5291228, 5905191, 5908508, 5348392, 6869590, 6006952, 5778108]}],\n",
       "                        {\"legend\": {\"bgcolor\": \"#F5F6F9\", \"font\": {\"color\": \"#4D5663\"}}, \"paper_bgcolor\": \"#F5F6F9\", \"plot_bgcolor\": \"#F5F6F9\", \"template\": {\"data\": {\"bar\": [{\"error_x\": {\"color\": \"#2a3f5f\"}, \"error_y\": {\"color\": \"#2a3f5f\"}, \"marker\": {\"line\": {\"color\": \"#E5ECF6\", \"width\": 0.5}}, \"type\": \"bar\"}], \"barpolar\": [{\"marker\": {\"line\": {\"color\": \"#E5ECF6\", \"width\": 0.5}}, \"type\": \"barpolar\"}], \"carpet\": [{\"aaxis\": {\"endlinecolor\": \"#2a3f5f\", \"gridcolor\": \"white\", \"linecolor\": \"white\", \"minorgridcolor\": \"white\", \"startlinecolor\": \"#2a3f5f\"}, \"baxis\": {\"endlinecolor\": \"#2a3f5f\", \"gridcolor\": \"white\", \"linecolor\": \"white\", \"minorgridcolor\": \"white\", \"startlinecolor\": \"#2a3f5f\"}, \"type\": \"carpet\"}], \"choropleth\": [{\"colorbar\": {\"outlinewidth\": 0, \"ticks\": \"\"}, \"type\": \"choropleth\"}], \"contour\": [{\"colorbar\": {\"outlinewidth\": 0, \"ticks\": \"\"}, \"colorscale\": [[0.0, \"#0d0887\"], [0.1111111111111111, \"#46039f\"], [0.2222222222222222, \"#7201a8\"], [0.3333333333333333, \"#9c179e\"], [0.4444444444444444, \"#bd3786\"], [0.5555555555555556, \"#d8576b\"], [0.6666666666666666, \"#ed7953\"], [0.7777777777777778, \"#fb9f3a\"], [0.8888888888888888, \"#fdca26\"], [1.0, \"#f0f921\"]], \"type\": \"contour\"}], \"contourcarpet\": [{\"colorbar\": {\"outlinewidth\": 0, \"ticks\": \"\"}, \"type\": \"contourcarpet\"}], \"heatmap\": [{\"colorbar\": {\"outlinewidth\": 0, \"ticks\": \"\"}, \"colorscale\": [[0.0, \"#0d0887\"], [0.1111111111111111, \"#46039f\"], [0.2222222222222222, \"#7201a8\"], [0.3333333333333333, \"#9c179e\"], [0.4444444444444444, \"#bd3786\"], [0.5555555555555556, \"#d8576b\"], [0.6666666666666666, \"#ed7953\"], [0.7777777777777778, \"#fb9f3a\"], [0.8888888888888888, \"#fdca26\"], [1.0, \"#f0f921\"]], \"type\": \"heatmap\"}], \"heatmapgl\": [{\"colorbar\": {\"outlinewidth\": 0, \"ticks\": \"\"}, \"colorscale\": [[0.0, \"#0d0887\"], [0.1111111111111111, \"#46039f\"], [0.2222222222222222, \"#7201a8\"], [0.3333333333333333, \"#9c179e\"], [0.4444444444444444, \"#bd3786\"], [0.5555555555555556, \"#d8576b\"], [0.6666666666666666, \"#ed7953\"], [0.7777777777777778, \"#fb9f3a\"], [0.8888888888888888, \"#fdca26\"], [1.0, \"#f0f921\"]], \"type\": \"heatmapgl\"}], \"histogram\": [{\"marker\": {\"colorbar\": {\"outlinewidth\": 0, \"ticks\": \"\"}}, \"type\": \"histogram\"}], \"histogram2d\": [{\"colorbar\": {\"outlinewidth\": 0, \"ticks\": \"\"}, \"colorscale\": [[0.0, \"#0d0887\"], [0.1111111111111111, \"#46039f\"], [0.2222222222222222, \"#7201a8\"], [0.3333333333333333, \"#9c179e\"], [0.4444444444444444, \"#bd3786\"], [0.5555555555555556, \"#d8576b\"], [0.6666666666666666, \"#ed7953\"], [0.7777777777777778, \"#fb9f3a\"], [0.8888888888888888, \"#fdca26\"], [1.0, \"#f0f921\"]], \"type\": \"histogram2d\"}], \"histogram2dcontour\": [{\"colorbar\": {\"outlinewidth\": 0, \"ticks\": \"\"}, \"colorscale\": [[0.0, \"#0d0887\"], [0.1111111111111111, \"#46039f\"], [0.2222222222222222, \"#7201a8\"], [0.3333333333333333, \"#9c179e\"], [0.4444444444444444, \"#bd3786\"], [0.5555555555555556, \"#d8576b\"], [0.6666666666666666, \"#ed7953\"], [0.7777777777777778, \"#fb9f3a\"], [0.8888888888888888, \"#fdca26\"], [1.0, \"#f0f921\"]], \"type\": \"histogram2dcontour\"}], \"mesh3d\": [{\"colorbar\": {\"outlinewidth\": 0, \"ticks\": \"\"}, \"type\": \"mesh3d\"}], \"parcoords\": [{\"line\": {\"colorbar\": {\"outlinewidth\": 0, \"ticks\": \"\"}}, \"type\": \"parcoords\"}], \"pie\": [{\"automargin\": true, \"type\": \"pie\"}], \"scatter\": [{\"marker\": {\"colorbar\": {\"outlinewidth\": 0, \"ticks\": \"\"}}, \"type\": \"scatter\"}], \"scatter3d\": [{\"line\": {\"colorbar\": {\"outlinewidth\": 0, \"ticks\": \"\"}}, \"marker\": {\"colorbar\": {\"outlinewidth\": 0, \"ticks\": \"\"}}, \"type\": \"scatter3d\"}], \"scattercarpet\": [{\"marker\": {\"colorbar\": {\"outlinewidth\": 0, \"ticks\": \"\"}}, \"type\": \"scattercarpet\"}], \"scattergeo\": [{\"marker\": {\"colorbar\": {\"outlinewidth\": 0, \"ticks\": \"\"}}, \"type\": \"scattergeo\"}], \"scattergl\": [{\"marker\": {\"colorbar\": {\"outlinewidth\": 0, \"ticks\": \"\"}}, \"type\": \"scattergl\"}], \"scattermapbox\": [{\"marker\": {\"colorbar\": {\"outlinewidth\": 0, \"ticks\": \"\"}}, \"type\": \"scattermapbox\"}], \"scatterpolar\": [{\"marker\": {\"colorbar\": {\"outlinewidth\": 0, \"ticks\": \"\"}}, \"type\": \"scatterpolar\"}], \"scatterpolargl\": [{\"marker\": {\"colorbar\": {\"outlinewidth\": 0, \"ticks\": \"\"}}, \"type\": \"scatterpolargl\"}], \"scatterternary\": [{\"marker\": {\"colorbar\": {\"outlinewidth\": 0, \"ticks\": \"\"}}, \"type\": \"scatterternary\"}], \"surface\": [{\"colorbar\": {\"outlinewidth\": 0, \"ticks\": \"\"}, \"colorscale\": [[0.0, \"#0d0887\"], [0.1111111111111111, \"#46039f\"], [0.2222222222222222, \"#7201a8\"], [0.3333333333333333, \"#9c179e\"], [0.4444444444444444, \"#bd3786\"], [0.5555555555555556, \"#d8576b\"], [0.6666666666666666, \"#ed7953\"], [0.7777777777777778, \"#fb9f3a\"], [0.8888888888888888, \"#fdca26\"], [1.0, \"#f0f921\"]], \"type\": \"surface\"}], \"table\": [{\"cells\": {\"fill\": {\"color\": \"#EBF0F8\"}, \"line\": {\"color\": \"white\"}}, \"header\": {\"fill\": {\"color\": \"#C8D4E3\"}, \"line\": {\"color\": \"white\"}}, \"type\": \"table\"}]}, \"layout\": {\"annotationdefaults\": {\"arrowcolor\": \"#2a3f5f\", \"arrowhead\": 0, \"arrowwidth\": 1}, \"coloraxis\": {\"colorbar\": {\"outlinewidth\": 0, \"ticks\": \"\"}}, \"colorscale\": {\"diverging\": [[0, \"#8e0152\"], [0.1, \"#c51b7d\"], [0.2, \"#de77ae\"], [0.3, \"#f1b6da\"], [0.4, \"#fde0ef\"], [0.5, \"#f7f7f7\"], [0.6, \"#e6f5d0\"], [0.7, \"#b8e186\"], [0.8, \"#7fbc41\"], [0.9, \"#4d9221\"], [1, \"#276419\"]], \"sequential\": [[0.0, \"#0d0887\"], [0.1111111111111111, \"#46039f\"], [0.2222222222222222, \"#7201a8\"], [0.3333333333333333, \"#9c179e\"], [0.4444444444444444, \"#bd3786\"], [0.5555555555555556, \"#d8576b\"], [0.6666666666666666, \"#ed7953\"], [0.7777777777777778, \"#fb9f3a\"], [0.8888888888888888, \"#fdca26\"], [1.0, \"#f0f921\"]], \"sequentialminus\": [[0.0, \"#0d0887\"], [0.1111111111111111, \"#46039f\"], [0.2222222222222222, \"#7201a8\"], [0.3333333333333333, \"#9c179e\"], [0.4444444444444444, \"#bd3786\"], [0.5555555555555556, \"#d8576b\"], [0.6666666666666666, \"#ed7953\"], [0.7777777777777778, \"#fb9f3a\"], [0.8888888888888888, \"#fdca26\"], [1.0, \"#f0f921\"]]}, \"colorway\": [\"#636efa\", \"#EF553B\", \"#00cc96\", \"#ab63fa\", \"#FFA15A\", \"#19d3f3\", \"#FF6692\", \"#B6E880\", \"#FF97FF\", \"#FECB52\"], \"font\": {\"color\": \"#2a3f5f\"}, \"geo\": {\"bgcolor\": \"white\", \"lakecolor\": \"white\", \"landcolor\": \"#E5ECF6\", \"showlakes\": true, \"showland\": true, \"subunitcolor\": \"white\"}, \"hoverlabel\": {\"align\": \"left\"}, \"hovermode\": \"closest\", \"mapbox\": {\"style\": \"light\"}, \"paper_bgcolor\": \"white\", \"plot_bgcolor\": \"#E5ECF6\", \"polar\": {\"angularaxis\": {\"gridcolor\": \"white\", \"linecolor\": \"white\", \"ticks\": \"\"}, \"bgcolor\": \"#E5ECF6\", \"radialaxis\": {\"gridcolor\": \"white\", \"linecolor\": \"white\", \"ticks\": \"\"}}, \"scene\": {\"xaxis\": {\"backgroundcolor\": \"#E5ECF6\", \"gridcolor\": \"white\", \"gridwidth\": 2, \"linecolor\": \"white\", \"showbackground\": true, \"ticks\": \"\", \"zerolinecolor\": \"white\"}, \"yaxis\": {\"backgroundcolor\": \"#E5ECF6\", \"gridcolor\": \"white\", \"gridwidth\": 2, \"linecolor\": \"white\", \"showbackground\": true, \"ticks\": \"\", \"zerolinecolor\": \"white\"}, \"zaxis\": {\"backgroundcolor\": \"#E5ECF6\", \"gridcolor\": \"white\", \"gridwidth\": 2, \"linecolor\": \"white\", \"showbackground\": true, \"ticks\": \"\", \"zerolinecolor\": \"white\"}}, \"shapedefaults\": {\"line\": {\"color\": \"#2a3f5f\"}}, \"ternary\": {\"aaxis\": {\"gridcolor\": \"white\", \"linecolor\": \"white\", \"ticks\": \"\"}, \"baxis\": {\"gridcolor\": \"white\", \"linecolor\": \"white\", \"ticks\": \"\"}, \"bgcolor\": \"#E5ECF6\", \"caxis\": {\"gridcolor\": \"white\", \"linecolor\": \"white\", \"ticks\": \"\"}}, \"title\": {\"x\": 0.05}, \"xaxis\": {\"automargin\": true, \"gridcolor\": \"white\", \"linecolor\": \"white\", \"ticks\": \"\", \"title\": {\"standoff\": 15}, \"zerolinecolor\": \"white\", \"zerolinewidth\": 2}, \"yaxis\": {\"automargin\": true, \"gridcolor\": \"white\", \"linecolor\": \"white\", \"ticks\": \"\", \"title\": {\"standoff\": 15}, \"zerolinecolor\": \"white\", \"zerolinewidth\": 2}}}, \"title\": {\"font\": {\"color\": \"#4D5663\"}}, \"xaxis\": {\"gridcolor\": \"#E1E5ED\", \"showgrid\": true, \"tickfont\": {\"color\": \"#4D5663\"}, \"title\": {\"font\": {\"color\": \"#4D5663\"}, \"text\": \"\"}, \"zerolinecolor\": \"#E1E5ED\"}, \"yaxis\": {\"gridcolor\": \"#E1E5ED\", \"showgrid\": true, \"tickfont\": {\"color\": \"#4D5663\"}, \"title\": {\"font\": {\"color\": \"#4D5663\"}, \"text\": \"\"}, \"zerolinecolor\": \"#E1E5ED\"}},\n",
       "                        {\"showLink\": true, \"linkText\": \"Export to plot.ly\", \"plotlyServerURL\": \"https://plot.ly\", \"responsive\": true}\n",
       "                    ).then(function(){\n",
       "                            \n",
       "var gd = document.getElementById('c1b57ed8-d603-49c8-8c17-390cb15628a3');\n",
       "var x = new MutationObserver(function (mutations, observer) {{\n",
       "        var display = window.getComputedStyle(gd).display;\n",
       "        if (!display || display === 'none') {{\n",
       "            console.log([gd, 'removed!']);\n",
       "            Plotly.purge(gd);\n",
       "            observer.disconnect();\n",
       "        }}\n",
       "}});\n",
       "\n",
       "// Listen for the removal of the full notebook cells\n",
       "var notebookContainer = gd.closest('#notebook-container');\n",
       "if (notebookContainer) {{\n",
       "    x.observe(notebookContainer, {childList: true});\n",
       "}}\n",
       "\n",
       "// Listen for the clearing of the current output cell\n",
       "var outputEl = gd.closest('.output');\n",
       "if (outputEl) {{\n",
       "    x.observe(outputEl, {childList: true});\n",
       "}}\n",
       "\n",
       "                        })\n",
       "                };\n",
       "                });\n",
       "            </script>\n",
       "        </div>"
      ]
     },
     "metadata": {},
     "output_type": "display_data"
    }
   ],
   "source": [
    "col = ['Atlanta' , 'Boston' , 'Chicago' , 'Houston' , 'Los Angeles' , 'New York City' , 'Philadelphia' , 'San Francisco' , 'Seattle','Washington DC']\n",
    "df2 = df[col].sum()\n",
    "df2.iplot(kind='bar')\n",
    "\n"
   ]
  },
  {
   "cell_type": "code",
   "execution_count": 96,
   "metadata": {},
   "outputs": [
    {
     "data": {
      "text/plain": [
       "6"
      ]
     },
     "execution_count": 96,
     "metadata": {},
     "output_type": "execute_result"
    }
   ],
   "source": [
    "\"hello Mike\".find(\"Mike\")"
   ]
  },
  {
   "cell_type": "code",
   "execution_count": null,
   "metadata": {},
   "outputs": [],
   "source": []
  },
  {
   "cell_type": "code",
   "execution_count": null,
   "metadata": {},
   "outputs": [],
   "source": []
  },
  {
   "cell_type": "code",
   "execution_count": null,
   "metadata": {},
   "outputs": [],
   "source": []
  }
 ],
 "metadata": {
  "kernelspec": {
   "display_name": "Python 3",
   "language": "python",
   "name": "python3"
  },
  "language_info": {
   "codemirror_mode": {
    "name": "ipython",
    "version": 3
   },
   "file_extension": ".py",
   "mimetype": "text/x-python",
   "name": "python",
   "nbconvert_exporter": "python",
   "pygments_lexer": "ipython3",
   "version": "3.7.4"
  }
 },
 "nbformat": 4,
 "nbformat_minor": 2
}
