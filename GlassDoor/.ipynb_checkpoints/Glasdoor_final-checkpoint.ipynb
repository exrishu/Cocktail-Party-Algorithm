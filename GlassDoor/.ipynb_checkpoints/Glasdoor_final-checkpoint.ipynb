{
 "cells": [
  {
   "cell_type": "code",
   "execution_count": 2,
   "metadata": {},
   "outputs": [],
   "source": [
    "import pandas as pd\n",
    "import numpy as np\n",
    "%matplotlib inline"
   ]
  },
  {
   "cell_type": "code",
   "execution_count": 3,
   "metadata": {},
   "outputs": [
    {
     "name": "stdout",
     "output_type": "stream",
     "text": [
      "4.5.0\n"
     ]
    }
   ],
   "source": [
    "from plotly import __version__\n",
    "from plotly.offline import download_plotlyjs, init_notebook_mode, plot, iplot\n",
    "\n",
    "print(__version__) # requires version >= 1.9.0"
   ]
  },
  {
   "cell_type": "code",
   "execution_count": 4,
   "metadata": {},
   "outputs": [],
   "source": [
    "import cufflinks as cf"
   ]
  },
  {
   "cell_type": "code",
   "execution_count": 5,
   "metadata": {},
   "outputs": [
    {
     "data": {
      "text/html": [
       "        <script type=\"text/javascript\">\n",
       "        window.PlotlyConfig = {MathJaxConfig: 'local'};\n",
       "        if (window.MathJax) {MathJax.Hub.Config({SVG: {font: \"STIX-Web\"}});}\n",
       "        if (typeof require !== 'undefined') {\n",
       "        require.undef(\"plotly\");\n",
       "        requirejs.config({\n",
       "            paths: {\n",
       "                'plotly': ['https://cdn.plot.ly/plotly-latest.min']\n",
       "            }\n",
       "        });\n",
       "        require(['plotly'], function(Plotly) {\n",
       "            window._Plotly = Plotly;\n",
       "        });\n",
       "        }\n",
       "        </script>\n",
       "        "
      ]
     },
     "metadata": {},
     "output_type": "display_data"
    }
   ],
   "source": [
    "# For Notebooks\n",
    "init_notebook_mode(connected=True)"
   ]
  },
  {
   "cell_type": "code",
   "execution_count": 6,
   "metadata": {},
   "outputs": [
    {
     "data": {
      "text/html": [
       "        <script type=\"text/javascript\">\n",
       "        window.PlotlyConfig = {MathJaxConfig: 'local'};\n",
       "        if (window.MathJax) {MathJax.Hub.Config({SVG: {font: \"STIX-Web\"}});}\n",
       "        if (typeof require !== 'undefined') {\n",
       "        require.undef(\"plotly\");\n",
       "        requirejs.config({\n",
       "            paths: {\n",
       "                'plotly': ['https://cdn.plot.ly/plotly-latest.min']\n",
       "            }\n",
       "        });\n",
       "        require(['plotly'], function(Plotly) {\n",
       "            window._Plotly = Plotly;\n",
       "        });\n",
       "        }\n",
       "        </script>\n",
       "        "
      ]
     },
     "metadata": {},
     "output_type": "display_data"
    }
   ],
   "source": [
    "# For offline use\n",
    "cf.go_offline()"
   ]
  },
  {
   "cell_type": "code",
   "execution_count": 7,
   "metadata": {},
   "outputs": [
    {
     "data": {
      "text/html": [
       "<div>\n",
       "<style scoped>\n",
       "    .dataframe tbody tr th:only-of-type {\n",
       "        vertical-align: middle;\n",
       "    }\n",
       "\n",
       "    .dataframe tbody tr th {\n",
       "        vertical-align: top;\n",
       "    }\n",
       "\n",
       "    .dataframe thead th {\n",
       "        text-align: right;\n",
       "    }\n",
       "</style>\n",
       "<table border=\"1\" class=\"dataframe\">\n",
       "  <thead>\n",
       "    <tr style=\"text-align: right;\">\n",
       "      <th></th>\n",
       "      <th>Job Category</th>\n",
       "      <th>Job Title</th>\n",
       "      <th>Atlanta</th>\n",
       "      <th>Boston</th>\n",
       "      <th>Chicago</th>\n",
       "      <th>Houston</th>\n",
       "      <th>Los Angeles</th>\n",
       "      <th>New York City</th>\n",
       "      <th>Philadelphia</th>\n",
       "      <th>San Francisco</th>\n",
       "      <th>Seattle</th>\n",
       "      <th>Washington DC</th>\n",
       "    </tr>\n",
       "  </thead>\n",
       "  <tbody>\n",
       "    <tr>\n",
       "      <td>0</td>\n",
       "      <td>Design</td>\n",
       "      <td>Graphic Designer</td>\n",
       "      <td>52307</td>\n",
       "      <td>58616</td>\n",
       "      <td>53636</td>\n",
       "      <td>49495</td>\n",
       "      <td>60004</td>\n",
       "      <td>60913</td>\n",
       "      <td>51620</td>\n",
       "      <td>74986</td>\n",
       "      <td>62118</td>\n",
       "      <td>59308</td>\n",
       "    </tr>\n",
       "    <tr>\n",
       "      <td>1</td>\n",
       "      <td>Education</td>\n",
       "      <td>Professor</td>\n",
       "      <td>93669</td>\n",
       "      <td>124416</td>\n",
       "      <td>101815</td>\n",
       "      <td>104098</td>\n",
       "      <td>115901</td>\n",
       "      <td>116551</td>\n",
       "      <td>102934</td>\n",
       "      <td>130761</td>\n",
       "      <td>109108</td>\n",
       "      <td>104065</td>\n",
       "    </tr>\n",
       "    <tr>\n",
       "      <td>2</td>\n",
       "      <td>Education</td>\n",
       "      <td>Research Assistant</td>\n",
       "      <td>31360</td>\n",
       "      <td>38181</td>\n",
       "      <td>33694</td>\n",
       "      <td>31202</td>\n",
       "      <td>35313</td>\n",
       "      <td>37979</td>\n",
       "      <td>32601</td>\n",
       "      <td>40695</td>\n",
       "      <td>34735</td>\n",
       "      <td>35872</td>\n",
       "    </tr>\n",
       "    <tr>\n",
       "      <td>3</td>\n",
       "      <td>Education</td>\n",
       "      <td>Teacher</td>\n",
       "      <td>50378</td>\n",
       "      <td>61327</td>\n",
       "      <td>56218</td>\n",
       "      <td>54216</td>\n",
       "      <td>64666</td>\n",
       "      <td>67552</td>\n",
       "      <td>54601</td>\n",
       "      <td>70271</td>\n",
       "      <td>59578</td>\n",
       "      <td>61218</td>\n",
       "    </tr>\n",
       "    <tr>\n",
       "      <td>4</td>\n",
       "      <td>Engineering</td>\n",
       "      <td>Civil Engineer</td>\n",
       "      <td>71292</td>\n",
       "      <td>77247</td>\n",
       "      <td>76466</td>\n",
       "      <td>78336</td>\n",
       "      <td>84642</td>\n",
       "      <td>80995</td>\n",
       "      <td>76147</td>\n",
       "      <td>93333</td>\n",
       "      <td>81285</td>\n",
       "      <td>78854</td>\n",
       "    </tr>\n",
       "    <tr>\n",
       "      <td>...</td>\n",
       "      <td>...</td>\n",
       "      <td>...</td>\n",
       "      <td>...</td>\n",
       "      <td>...</td>\n",
       "      <td>...</td>\n",
       "      <td>...</td>\n",
       "      <td>...</td>\n",
       "      <td>...</td>\n",
       "      <td>...</td>\n",
       "      <td>...</td>\n",
       "      <td>...</td>\n",
       "      <td>...</td>\n",
       "    </tr>\n",
       "    <tr>\n",
       "      <td>79</td>\n",
       "      <td>Technology</td>\n",
       "      <td>Systems Engineer</td>\n",
       "      <td>82532</td>\n",
       "      <td>90553</td>\n",
       "      <td>85134</td>\n",
       "      <td>77991</td>\n",
       "      <td>94649</td>\n",
       "      <td>91868</td>\n",
       "      <td>83349</td>\n",
       "      <td>106969</td>\n",
       "      <td>95389</td>\n",
       "      <td>94236</td>\n",
       "    </tr>\n",
       "    <tr>\n",
       "      <td>80</td>\n",
       "      <td>Technology</td>\n",
       "      <td>Technical Support</td>\n",
       "      <td>46457</td>\n",
       "      <td>58646</td>\n",
       "      <td>53640</td>\n",
       "      <td>48978</td>\n",
       "      <td>55913</td>\n",
       "      <td>58419</td>\n",
       "      <td>51340</td>\n",
       "      <td>68588</td>\n",
       "      <td>55575</td>\n",
       "      <td>59011</td>\n",
       "    </tr>\n",
       "    <tr>\n",
       "      <td>81</td>\n",
       "      <td>Technology</td>\n",
       "      <td>UX Designer</td>\n",
       "      <td>85912</td>\n",
       "      <td>90980</td>\n",
       "      <td>84536</td>\n",
       "      <td>78309</td>\n",
       "      <td>93434</td>\n",
       "      <td>95097</td>\n",
       "      <td>79303</td>\n",
       "      <td>112133</td>\n",
       "      <td>101237</td>\n",
       "      <td>91979</td>\n",
       "    </tr>\n",
       "    <tr>\n",
       "      <td>82</td>\n",
       "      <td>Technology</td>\n",
       "      <td>Web Designer</td>\n",
       "      <td>61899</td>\n",
       "      <td>68300</td>\n",
       "      <td>64393</td>\n",
       "      <td>59430</td>\n",
       "      <td>65705</td>\n",
       "      <td>68077</td>\n",
       "      <td>58624</td>\n",
       "      <td>83150</td>\n",
       "      <td>67126</td>\n",
       "      <td>69062</td>\n",
       "    </tr>\n",
       "    <tr>\n",
       "      <td>83</td>\n",
       "      <td>Technology</td>\n",
       "      <td>Web Developer</td>\n",
       "      <td>77856</td>\n",
       "      <td>85334</td>\n",
       "      <td>78251</td>\n",
       "      <td>72252</td>\n",
       "      <td>82970</td>\n",
       "      <td>87284</td>\n",
       "      <td>74319</td>\n",
       "      <td>104640</td>\n",
       "      <td>89770</td>\n",
       "      <td>89420</td>\n",
       "    </tr>\n",
       "  </tbody>\n",
       "</table>\n",
       "<p>84 rows × 12 columns</p>\n",
       "</div>"
      ],
      "text/plain": [
       "   Job Category           Job Title  Atlanta  Boston  Chicago  Houston  \\\n",
       "0        Design    Graphic Designer    52307   58616    53636    49495   \n",
       "1     Education           Professor    93669  124416   101815   104098   \n",
       "2     Education  Research Assistant    31360   38181    33694    31202   \n",
       "3     Education             Teacher    50378   61327    56218    54216   \n",
       "4   Engineering      Civil Engineer    71292   77247    76466    78336   \n",
       "..          ...                 ...      ...     ...      ...      ...   \n",
       "79   Technology    Systems Engineer    82532   90553    85134    77991   \n",
       "80   Technology   Technical Support    46457   58646    53640    48978   \n",
       "81   Technology         UX Designer    85912   90980    84536    78309   \n",
       "82   Technology        Web Designer    61899   68300    64393    59430   \n",
       "83   Technology       Web Developer    77856   85334    78251    72252   \n",
       "\n",
       "    Los Angeles  New York City  Philadelphia  San Francisco  Seattle  \\\n",
       "0         60004          60913         51620          74986    62118   \n",
       "1        115901         116551        102934         130761   109108   \n",
       "2         35313          37979         32601          40695    34735   \n",
       "3         64666          67552         54601          70271    59578   \n",
       "4         84642          80995         76147          93333    81285   \n",
       "..          ...            ...           ...            ...      ...   \n",
       "79        94649          91868         83349         106969    95389   \n",
       "80        55913          58419         51340          68588    55575   \n",
       "81        93434          95097         79303         112133   101237   \n",
       "82        65705          68077         58624          83150    67126   \n",
       "83        82970          87284         74319         104640    89770   \n",
       "\n",
       "    Washington DC  \n",
       "0           59308  \n",
       "1          104065  \n",
       "2           35872  \n",
       "3           61218  \n",
       "4           78854  \n",
       "..            ...  \n",
       "79          94236  \n",
       "80          59011  \n",
       "81          91979  \n",
       "82          69062  \n",
       "83          89420  \n",
       "\n",
       "[84 rows x 12 columns]"
      ]
     },
     "execution_count": 7,
     "metadata": {},
     "output_type": "execute_result"
    }
   ],
   "source": [
    "df = pd.read_excel('Glassdoor_data.xlsx')\n",
    "df"
   ]
  },
  {
   "cell_type": "code",
   "execution_count": 9,
   "metadata": {},
   "outputs": [
    {
     "data": {
      "application/vnd.plotly.v1+json": {
       "config": {
        "plotlyServerURL": "https://plot.ly"
       },
       "data": [
        {
         "branchvalues": "total",
         "domain": {
          "x": [
           0,
           1
          ],
          "y": [
           0,
           1
          ]
         },
         "hoverlabel": {
          "namelength": 0
         },
         "hovertemplate": "labels=%{label}<br>count=%{value}<br>parent=%{parent}<br>id=%{id}",
         "ids": [
          "Finance/Accountant",
          "Professional Services/Administrative Assistant",
          "Law/Attorney",
          "Finance/Bank Teller",
          "Food Services/Barista",
          "Food Services/Bartender",
          "Professional Services/Business Analyst",
          "Professional Services/Business Development Manager",
          "Retail/Buyer",
          "Retail/Cashier",
          "Health/Certified Nursing Assistant",
          "Engineering/Civil Engineer",
          "Finance/Claims Adjuster",
          "Professional Services/Communications Manager",
          "Labor/Construction Laborer",
          "Professional Services/Consultant",
          "Professional Services/Customer Service Manager",
          "Professional Services/Customer Service Representative",
          "Technology/Data Analyst",
          "Technology/Data Scientist",
          "Labor/Delivery Driver",
          "Engineering/Design Engineer",
          "Engineering/Electrical Engineer",
          "Health/Emergency Medical Technician",
          "Engineering/Field Engineer",
          "Finance/Financial Advisor",
          "Finance/Financial Analyst",
          "Design/Graphic Designer",
          "Human Resources/Human Resources Manager",
          "Technology/IT Manager",
          "Finance/Insurance Agent",
          "Technology/Java Developer",
          "Health/Licensed Practical Nurse",
          "Finance/Loan Officer",
          "Labor/Machine Operator",
          "Labor/Maintenance Technician",
          "Labor/Maintenance Worker",
          "Manufacturing/Manufacturing Engineer",
          "Professional Services/Marketing Manager",
          "Manufacturing/Material Handler",
          "Engineering/Mechanical Engineer",
          "Health/Medical Assistant",
          "Health/Medical Technologist",
          "Professional Services/Office Manager",
          "Operations/Operations Analyst",
          "Operations/Operations Manager",
          "Law/Paralegal",
          "Health/Pharmacist",
          "Health/Pharmacy Technician",
          "Health/Physical Therapist",
          "Manufacturing/Process Engineer",
          "Media/Producer",
          "Professional Services/Product Manager",
          "Manufacturing/Production Manager",
          "Education/Professor",
          "Professional Services/Program Manager",
          "Technology/Programmer Analyst",
          "Professional Services/Project Manager",
          "Real Estate/Property Manager",
          "Engineering/Quality Engineer",
          "Human Resources/Recruiter",
          "Health/Registered Nurse",
          "Education/Research Assistant",
          "Food Services/Restaurant Cook",
          "Food Services/Restaurant Manager",
          "Retail/Retail Key Holder",
          "Sales/Sales Manager",
          "Sales/Sales Representative",
          "Operations/Security Officer",
          "Food Services/Server",
          "Technology/Software Engineer",
          "Technology/Solutions Architect",
          "Retail/Store Manager",
          "Technology/Systems Engineer",
          "Finance/Tax Manager",
          "Education/Teacher",
          "Media/Technical Editor",
          "Technology/Technical Support",
          "Labor/Technician",
          "Labor/Truck Driver",
          "Technology/UX Designer",
          "Labor/Warehouse Associate",
          "Technology/Web Designer",
          "Technology/Web Developer",
          "Design",
          "Education",
          "Engineering",
          "Finance",
          "Food Services",
          "Health",
          "Human Resources",
          "Labor",
          "Law",
          "Manufacturing",
          "Media",
          "Operations",
          "Professional Services",
          "Real Estate",
          "Retail",
          "Sales",
          "Technology"
         ],
         "labels": [
          "Accountant",
          "Administrative Assistant",
          "Attorney",
          "Bank Teller",
          "Barista",
          "Bartender",
          "Business Analyst",
          "Business Development Manager",
          "Buyer",
          "Cashier",
          "Certified Nursing Assistant",
          "Civil Engineer",
          "Claims Adjuster",
          "Communications Manager",
          "Construction Laborer",
          "Consultant",
          "Customer Service Manager",
          "Customer Service Representative",
          "Data Analyst",
          "Data Scientist",
          "Delivery Driver",
          "Design Engineer",
          "Electrical Engineer",
          "Emergency Medical Technician",
          "Field Engineer",
          "Financial Advisor",
          "Financial Analyst",
          "Graphic Designer",
          "Human Resources Manager",
          "IT Manager",
          "Insurance Agent",
          "Java Developer",
          "Licensed Practical Nurse",
          "Loan Officer",
          "Machine Operator",
          "Maintenance Technician",
          "Maintenance Worker",
          "Manufacturing Engineer",
          "Marketing Manager",
          "Material Handler",
          "Mechanical Engineer",
          "Medical Assistant",
          "Medical Technologist",
          "Office Manager",
          "Operations Analyst",
          "Operations Manager",
          "Paralegal",
          "Pharmacist",
          "Pharmacy Technician",
          "Physical Therapist",
          "Process Engineer",
          "Producer",
          "Product Manager",
          "Production Manager",
          "Professor",
          "Program Manager",
          "Programmer Analyst",
          "Project Manager",
          "Property Manager",
          "Quality Engineer",
          "Recruiter",
          "Registered Nurse",
          "Research Assistant",
          "Restaurant Cook",
          "Restaurant Manager",
          "Retail Key Holder",
          "Sales Manager",
          "Sales Representative",
          "Security Officer",
          "Server",
          "Software Engineer",
          "Solutions Architect",
          "Store Manager",
          "Systems Engineer",
          "Tax Manager",
          "Teacher",
          "Technical Editor",
          "Technical Support",
          "Technician",
          "Truck Driver",
          "UX Designer",
          "Warehouse Associate",
          "Web Designer",
          "Web Developer",
          "Design",
          "Education",
          "Engineering",
          "Finance",
          "Food Services",
          "Health",
          "Human Resources",
          "Labor",
          "Law",
          "Manufacturing",
          "Media",
          "Operations",
          "Professional Services",
          "Real Estate",
          "Retail",
          "Sales",
          "Technology"
         ],
         "name": "",
         "parents": [
          "Finance",
          "Professional Services",
          "Law",
          "Finance",
          "Food Services",
          "Food Services",
          "Professional Services",
          "Professional Services",
          "Retail",
          "Retail",
          "Health",
          "Engineering",
          "Finance",
          "Professional Services",
          "Labor",
          "Professional Services",
          "Professional Services",
          "Professional Services",
          "Technology",
          "Technology",
          "Labor",
          "Engineering",
          "Engineering",
          "Health",
          "Engineering",
          "Finance",
          "Finance",
          "Design",
          "Human Resources",
          "Technology",
          "Finance",
          "Technology",
          "Health",
          "Finance",
          "Labor",
          "Labor",
          "Labor",
          "Manufacturing",
          "Professional Services",
          "Manufacturing",
          "Engineering",
          "Health",
          "Health",
          "Professional Services",
          "Operations",
          "Operations",
          "Law",
          "Health",
          "Health",
          "Health",
          "Manufacturing",
          "Media",
          "Professional Services",
          "Manufacturing",
          "Education",
          "Professional Services",
          "Technology",
          "Professional Services",
          "Real Estate",
          "Engineering",
          "Human Resources",
          "Health",
          "Education",
          "Food Services",
          "Food Services",
          "Retail",
          "Sales",
          "Sales",
          "Operations",
          "Food Services",
          "Technology",
          "Technology",
          "Retail",
          "Technology",
          "Finance",
          "Education",
          "Media",
          "Technology",
          "Labor",
          "Labor",
          "Technology",
          "Labor",
          "Technology",
          "Technology",
          "",
          "",
          "",
          "",
          "",
          "",
          "",
          "",
          "",
          "",
          "",
          "",
          "",
          "",
          "",
          "",
          ""
         ],
         "type": "sunburst",
         "values": [
          1,
          1,
          1,
          1,
          1,
          1,
          1,
          1,
          1,
          1,
          1,
          1,
          1,
          1,
          1,
          1,
          1,
          1,
          1,
          1,
          1,
          1,
          1,
          1,
          1,
          1,
          1,
          1,
          1,
          1,
          1,
          1,
          1,
          1,
          1,
          1,
          1,
          1,
          1,
          1,
          1,
          1,
          1,
          1,
          1,
          1,
          1,
          1,
          1,
          1,
          1,
          1,
          1,
          1,
          1,
          1,
          1,
          1,
          1,
          1,
          1,
          1,
          1,
          1,
          1,
          1,
          1,
          1,
          1,
          1,
          1,
          1,
          1,
          1,
          1,
          1,
          1,
          1,
          1,
          1,
          1,
          1,
          1,
          1,
          1,
          3,
          6,
          8,
          5,
          9,
          2,
          8,
          2,
          4,
          2,
          3,
          12,
          1,
          4,
          2,
          12
         ]
        }
       ],
       "layout": {
        "legend": {
         "tracegroupgap": 0
        },
        "margin": {
         "t": 60
        },
        "template": {
         "data": {
          "bar": [
           {
            "error_x": {
             "color": "#2a3f5f"
            },
            "error_y": {
             "color": "#2a3f5f"
            },
            "marker": {
             "line": {
              "color": "#E5ECF6",
              "width": 0.5
             }
            },
            "type": "bar"
           }
          ],
          "barpolar": [
           {
            "marker": {
             "line": {
              "color": "#E5ECF6",
              "width": 0.5
             }
            },
            "type": "barpolar"
           }
          ],
          "carpet": [
           {
            "aaxis": {
             "endlinecolor": "#2a3f5f",
             "gridcolor": "white",
             "linecolor": "white",
             "minorgridcolor": "white",
             "startlinecolor": "#2a3f5f"
            },
            "baxis": {
             "endlinecolor": "#2a3f5f",
             "gridcolor": "white",
             "linecolor": "white",
             "minorgridcolor": "white",
             "startlinecolor": "#2a3f5f"
            },
            "type": "carpet"
           }
          ],
          "choropleth": [
           {
            "colorbar": {
             "outlinewidth": 0,
             "ticks": ""
            },
            "type": "choropleth"
           }
          ],
          "contour": [
           {
            "colorbar": {
             "outlinewidth": 0,
             "ticks": ""
            },
            "colorscale": [
             [
              0,
              "#0d0887"
             ],
             [
              0.1111111111111111,
              "#46039f"
             ],
             [
              0.2222222222222222,
              "#7201a8"
             ],
             [
              0.3333333333333333,
              "#9c179e"
             ],
             [
              0.4444444444444444,
              "#bd3786"
             ],
             [
              0.5555555555555556,
              "#d8576b"
             ],
             [
              0.6666666666666666,
              "#ed7953"
             ],
             [
              0.7777777777777778,
              "#fb9f3a"
             ],
             [
              0.8888888888888888,
              "#fdca26"
             ],
             [
              1,
              "#f0f921"
             ]
            ],
            "type": "contour"
           }
          ],
          "contourcarpet": [
           {
            "colorbar": {
             "outlinewidth": 0,
             "ticks": ""
            },
            "type": "contourcarpet"
           }
          ],
          "heatmap": [
           {
            "colorbar": {
             "outlinewidth": 0,
             "ticks": ""
            },
            "colorscale": [
             [
              0,
              "#0d0887"
             ],
             [
              0.1111111111111111,
              "#46039f"
             ],
             [
              0.2222222222222222,
              "#7201a8"
             ],
             [
              0.3333333333333333,
              "#9c179e"
             ],
             [
              0.4444444444444444,
              "#bd3786"
             ],
             [
              0.5555555555555556,
              "#d8576b"
             ],
             [
              0.6666666666666666,
              "#ed7953"
             ],
             [
              0.7777777777777778,
              "#fb9f3a"
             ],
             [
              0.8888888888888888,
              "#fdca26"
             ],
             [
              1,
              "#f0f921"
             ]
            ],
            "type": "heatmap"
           }
          ],
          "heatmapgl": [
           {
            "colorbar": {
             "outlinewidth": 0,
             "ticks": ""
            },
            "colorscale": [
             [
              0,
              "#0d0887"
             ],
             [
              0.1111111111111111,
              "#46039f"
             ],
             [
              0.2222222222222222,
              "#7201a8"
             ],
             [
              0.3333333333333333,
              "#9c179e"
             ],
             [
              0.4444444444444444,
              "#bd3786"
             ],
             [
              0.5555555555555556,
              "#d8576b"
             ],
             [
              0.6666666666666666,
              "#ed7953"
             ],
             [
              0.7777777777777778,
              "#fb9f3a"
             ],
             [
              0.8888888888888888,
              "#fdca26"
             ],
             [
              1,
              "#f0f921"
             ]
            ],
            "type": "heatmapgl"
           }
          ],
          "histogram": [
           {
            "marker": {
             "colorbar": {
              "outlinewidth": 0,
              "ticks": ""
             }
            },
            "type": "histogram"
           }
          ],
          "histogram2d": [
           {
            "colorbar": {
             "outlinewidth": 0,
             "ticks": ""
            },
            "colorscale": [
             [
              0,
              "#0d0887"
             ],
             [
              0.1111111111111111,
              "#46039f"
             ],
             [
              0.2222222222222222,
              "#7201a8"
             ],
             [
              0.3333333333333333,
              "#9c179e"
             ],
             [
              0.4444444444444444,
              "#bd3786"
             ],
             [
              0.5555555555555556,
              "#d8576b"
             ],
             [
              0.6666666666666666,
              "#ed7953"
             ],
             [
              0.7777777777777778,
              "#fb9f3a"
             ],
             [
              0.8888888888888888,
              "#fdca26"
             ],
             [
              1,
              "#f0f921"
             ]
            ],
            "type": "histogram2d"
           }
          ],
          "histogram2dcontour": [
           {
            "colorbar": {
             "outlinewidth": 0,
             "ticks": ""
            },
            "colorscale": [
             [
              0,
              "#0d0887"
             ],
             [
              0.1111111111111111,
              "#46039f"
             ],
             [
              0.2222222222222222,
              "#7201a8"
             ],
             [
              0.3333333333333333,
              "#9c179e"
             ],
             [
              0.4444444444444444,
              "#bd3786"
             ],
             [
              0.5555555555555556,
              "#d8576b"
             ],
             [
              0.6666666666666666,
              "#ed7953"
             ],
             [
              0.7777777777777778,
              "#fb9f3a"
             ],
             [
              0.8888888888888888,
              "#fdca26"
             ],
             [
              1,
              "#f0f921"
             ]
            ],
            "type": "histogram2dcontour"
           }
          ],
          "mesh3d": [
           {
            "colorbar": {
             "outlinewidth": 0,
             "ticks": ""
            },
            "type": "mesh3d"
           }
          ],
          "parcoords": [
           {
            "line": {
             "colorbar": {
              "outlinewidth": 0,
              "ticks": ""
             }
            },
            "type": "parcoords"
           }
          ],
          "pie": [
           {
            "automargin": true,
            "type": "pie"
           }
          ],
          "scatter": [
           {
            "marker": {
             "colorbar": {
              "outlinewidth": 0,
              "ticks": ""
             }
            },
            "type": "scatter"
           }
          ],
          "scatter3d": [
           {
            "line": {
             "colorbar": {
              "outlinewidth": 0,
              "ticks": ""
             }
            },
            "marker": {
             "colorbar": {
              "outlinewidth": 0,
              "ticks": ""
             }
            },
            "type": "scatter3d"
           }
          ],
          "scattercarpet": [
           {
            "marker": {
             "colorbar": {
              "outlinewidth": 0,
              "ticks": ""
             }
            },
            "type": "scattercarpet"
           }
          ],
          "scattergeo": [
           {
            "marker": {
             "colorbar": {
              "outlinewidth": 0,
              "ticks": ""
             }
            },
            "type": "scattergeo"
           }
          ],
          "scattergl": [
           {
            "marker": {
             "colorbar": {
              "outlinewidth": 0,
              "ticks": ""
             }
            },
            "type": "scattergl"
           }
          ],
          "scattermapbox": [
           {
            "marker": {
             "colorbar": {
              "outlinewidth": 0,
              "ticks": ""
             }
            },
            "type": "scattermapbox"
           }
          ],
          "scatterpolar": [
           {
            "marker": {
             "colorbar": {
              "outlinewidth": 0,
              "ticks": ""
             }
            },
            "type": "scatterpolar"
           }
          ],
          "scatterpolargl": [
           {
            "marker": {
             "colorbar": {
              "outlinewidth": 0,
              "ticks": ""
             }
            },
            "type": "scatterpolargl"
           }
          ],
          "scatterternary": [
           {
            "marker": {
             "colorbar": {
              "outlinewidth": 0,
              "ticks": ""
             }
            },
            "type": "scatterternary"
           }
          ],
          "surface": [
           {
            "colorbar": {
             "outlinewidth": 0,
             "ticks": ""
            },
            "colorscale": [
             [
              0,
              "#0d0887"
             ],
             [
              0.1111111111111111,
              "#46039f"
             ],
             [
              0.2222222222222222,
              "#7201a8"
             ],
             [
              0.3333333333333333,
              "#9c179e"
             ],
             [
              0.4444444444444444,
              "#bd3786"
             ],
             [
              0.5555555555555556,
              "#d8576b"
             ],
             [
              0.6666666666666666,
              "#ed7953"
             ],
             [
              0.7777777777777778,
              "#fb9f3a"
             ],
             [
              0.8888888888888888,
              "#fdca26"
             ],
             [
              1,
              "#f0f921"
             ]
            ],
            "type": "surface"
           }
          ],
          "table": [
           {
            "cells": {
             "fill": {
              "color": "#EBF0F8"
             },
             "line": {
              "color": "white"
             }
            },
            "header": {
             "fill": {
              "color": "#C8D4E3"
             },
             "line": {
              "color": "white"
             }
            },
            "type": "table"
           }
          ]
         },
         "layout": {
          "annotationdefaults": {
           "arrowcolor": "#2a3f5f",
           "arrowhead": 0,
           "arrowwidth": 1
          },
          "coloraxis": {
           "colorbar": {
            "outlinewidth": 0,
            "ticks": ""
           }
          },
          "colorscale": {
           "diverging": [
            [
             0,
             "#8e0152"
            ],
            [
             0.1,
             "#c51b7d"
            ],
            [
             0.2,
             "#de77ae"
            ],
            [
             0.3,
             "#f1b6da"
            ],
            [
             0.4,
             "#fde0ef"
            ],
            [
             0.5,
             "#f7f7f7"
            ],
            [
             0.6,
             "#e6f5d0"
            ],
            [
             0.7,
             "#b8e186"
            ],
            [
             0.8,
             "#7fbc41"
            ],
            [
             0.9,
             "#4d9221"
            ],
            [
             1,
             "#276419"
            ]
           ],
           "sequential": [
            [
             0,
             "#0d0887"
            ],
            [
             0.1111111111111111,
             "#46039f"
            ],
            [
             0.2222222222222222,
             "#7201a8"
            ],
            [
             0.3333333333333333,
             "#9c179e"
            ],
            [
             0.4444444444444444,
             "#bd3786"
            ],
            [
             0.5555555555555556,
             "#d8576b"
            ],
            [
             0.6666666666666666,
             "#ed7953"
            ],
            [
             0.7777777777777778,
             "#fb9f3a"
            ],
            [
             0.8888888888888888,
             "#fdca26"
            ],
            [
             1,
             "#f0f921"
            ]
           ],
           "sequentialminus": [
            [
             0,
             "#0d0887"
            ],
            [
             0.1111111111111111,
             "#46039f"
            ],
            [
             0.2222222222222222,
             "#7201a8"
            ],
            [
             0.3333333333333333,
             "#9c179e"
            ],
            [
             0.4444444444444444,
             "#bd3786"
            ],
            [
             0.5555555555555556,
             "#d8576b"
            ],
            [
             0.6666666666666666,
             "#ed7953"
            ],
            [
             0.7777777777777778,
             "#fb9f3a"
            ],
            [
             0.8888888888888888,
             "#fdca26"
            ],
            [
             1,
             "#f0f921"
            ]
           ]
          },
          "colorway": [
           "#636efa",
           "#EF553B",
           "#00cc96",
           "#ab63fa",
           "#FFA15A",
           "#19d3f3",
           "#FF6692",
           "#B6E880",
           "#FF97FF",
           "#FECB52"
          ],
          "font": {
           "color": "#2a3f5f"
          },
          "geo": {
           "bgcolor": "white",
           "lakecolor": "white",
           "landcolor": "#E5ECF6",
           "showlakes": true,
           "showland": true,
           "subunitcolor": "white"
          },
          "hoverlabel": {
           "align": "left"
          },
          "hovermode": "closest",
          "mapbox": {
           "style": "light"
          },
          "paper_bgcolor": "white",
          "plot_bgcolor": "#E5ECF6",
          "polar": {
           "angularaxis": {
            "gridcolor": "white",
            "linecolor": "white",
            "ticks": ""
           },
           "bgcolor": "#E5ECF6",
           "radialaxis": {
            "gridcolor": "white",
            "linecolor": "white",
            "ticks": ""
           }
          },
          "scene": {
           "xaxis": {
            "backgroundcolor": "#E5ECF6",
            "gridcolor": "white",
            "gridwidth": 2,
            "linecolor": "white",
            "showbackground": true,
            "ticks": "",
            "zerolinecolor": "white"
           },
           "yaxis": {
            "backgroundcolor": "#E5ECF6",
            "gridcolor": "white",
            "gridwidth": 2,
            "linecolor": "white",
            "showbackground": true,
            "ticks": "",
            "zerolinecolor": "white"
           },
           "zaxis": {
            "backgroundcolor": "#E5ECF6",
            "gridcolor": "white",
            "gridwidth": 2,
            "linecolor": "white",
            "showbackground": true,
            "ticks": "",
            "zerolinecolor": "white"
           }
          },
          "shapedefaults": {
           "line": {
            "color": "#2a3f5f"
           }
          },
          "ternary": {
           "aaxis": {
            "gridcolor": "white",
            "linecolor": "white",
            "ticks": ""
           },
           "baxis": {
            "gridcolor": "white",
            "linecolor": "white",
            "ticks": ""
           },
           "bgcolor": "#E5ECF6",
           "caxis": {
            "gridcolor": "white",
            "linecolor": "white",
            "ticks": ""
           }
          },
          "title": {
           "x": 0.05
          },
          "xaxis": {
           "automargin": true,
           "gridcolor": "white",
           "linecolor": "white",
           "ticks": "",
           "title": {
            "standoff": 15
           },
           "zerolinecolor": "white",
           "zerolinewidth": 2
          },
          "yaxis": {
           "automargin": true,
           "gridcolor": "white",
           "linecolor": "white",
           "ticks": "",
           "title": {
            "standoff": 15
           },
           "zerolinecolor": "white",
           "zerolinewidth": 2
          }
         }
        }
       }
      },
      "text/html": [
       "<div>\n",
       "        \n",
       "        \n",
       "            <div id=\"e9f2d846-253c-4f12-b9d2-09106b66f8a8\" class=\"plotly-graph-div\" style=\"height:525px; width:100%;\"></div>\n",
       "            <script type=\"text/javascript\">\n",
       "                require([\"plotly\"], function(Plotly) {\n",
       "                    window.PLOTLYENV=window.PLOTLYENV || {};\n",
       "                    \n",
       "                if (document.getElementById(\"e9f2d846-253c-4f12-b9d2-09106b66f8a8\")) {\n",
       "                    Plotly.newPlot(\n",
       "                        'e9f2d846-253c-4f12-b9d2-09106b66f8a8',\n",
       "                        [{\"branchvalues\": \"total\", \"domain\": {\"x\": [0.0, 1.0], \"y\": [0.0, 1.0]}, \"hoverlabel\": {\"namelength\": 0}, \"hovertemplate\": \"labels=%{label}<br>count=%{value}<br>parent=%{parent}<br>id=%{id}\", \"ids\": [\"Finance/Accountant\", \"Professional Services/Administrative Assistant\", \"Law/Attorney\", \"Finance/Bank Teller\", \"Food Services/Barista\", \"Food Services/Bartender\", \"Professional Services/Business Analyst\", \"Professional Services/Business Development Manager\", \"Retail/Buyer\", \"Retail/Cashier\", \"Health/Certified Nursing Assistant\", \"Engineering/Civil Engineer\", \"Finance/Claims Adjuster\", \"Professional Services/Communications Manager\", \"Labor/Construction Laborer\", \"Professional Services/Consultant\", \"Professional Services/Customer Service Manager\", \"Professional Services/Customer Service Representative\", \"Technology/Data Analyst\", \"Technology/Data Scientist\", \"Labor/Delivery Driver\", \"Engineering/Design Engineer\", \"Engineering/Electrical Engineer\", \"Health/Emergency Medical Technician\", \"Engineering/Field Engineer\", \"Finance/Financial Advisor\", \"Finance/Financial Analyst\", \"Design/Graphic Designer\", \"Human Resources/Human Resources Manager\", \"Technology/IT Manager\", \"Finance/Insurance Agent\", \"Technology/Java Developer\", \"Health/Licensed Practical Nurse\", \"Finance/Loan Officer\", \"Labor/Machine Operator\", \"Labor/Maintenance Technician\", \"Labor/Maintenance Worker\", \"Manufacturing/Manufacturing Engineer\", \"Professional Services/Marketing Manager\", \"Manufacturing/Material Handler\", \"Engineering/Mechanical Engineer\", \"Health/Medical Assistant\", \"Health/Medical Technologist\", \"Professional Services/Office Manager\", \"Operations/Operations Analyst\", \"Operations/Operations Manager\", \"Law/Paralegal\", \"Health/Pharmacist\", \"Health/Pharmacy Technician\", \"Health/Physical Therapist\", \"Manufacturing/Process Engineer\", \"Media/Producer\", \"Professional Services/Product Manager\", \"Manufacturing/Production Manager\", \"Education/Professor\", \"Professional Services/Program Manager\", \"Technology/Programmer Analyst\", \"Professional Services/Project Manager\", \"Real Estate/Property Manager\", \"Engineering/Quality Engineer\", \"Human Resources/Recruiter\", \"Health/Registered Nurse\", \"Education/Research Assistant\", \"Food Services/Restaurant Cook\", \"Food Services/Restaurant Manager\", \"Retail/Retail Key Holder\", \"Sales/Sales Manager\", \"Sales/Sales Representative\", \"Operations/Security Officer\", \"Food Services/Server\", \"Technology/Software Engineer\", \"Technology/Solutions Architect\", \"Retail/Store Manager\", \"Technology/Systems Engineer\", \"Finance/Tax Manager\", \"Education/Teacher\", \"Media/Technical Editor\", \"Technology/Technical Support\", \"Labor/Technician\", \"Labor/Truck Driver\", \"Technology/UX Designer\", \"Labor/Warehouse Associate\", \"Technology/Web Designer\", \"Technology/Web Developer\", \"Design\", \"Education\", \"Engineering\", \"Finance\", \"Food Services\", \"Health\", \"Human Resources\", \"Labor\", \"Law\", \"Manufacturing\", \"Media\", \"Operations\", \"Professional Services\", \"Real Estate\", \"Retail\", \"Sales\", \"Technology\"], \"labels\": [\"Accountant\", \"Administrative Assistant\", \"Attorney\", \"Bank Teller\", \"Barista\", \"Bartender\", \"Business Analyst\", \"Business Development Manager\", \"Buyer\", \"Cashier\", \"Certified Nursing Assistant\", \"Civil Engineer\", \"Claims Adjuster\", \"Communications Manager\", \"Construction Laborer\", \"Consultant\", \"Customer Service Manager\", \"Customer Service Representative\", \"Data Analyst\", \"Data Scientist\", \"Delivery Driver\", \"Design Engineer\", \"Electrical Engineer\", \"Emergency Medical Technician\", \"Field Engineer\", \"Financial Advisor\", \"Financial Analyst\", \"Graphic Designer\", \"Human Resources Manager\", \"IT Manager\", \"Insurance Agent\", \"Java Developer\", \"Licensed Practical Nurse\", \"Loan Officer\", \"Machine Operator\", \"Maintenance Technician\", \"Maintenance Worker\", \"Manufacturing Engineer\", \"Marketing Manager\", \"Material Handler\", \"Mechanical Engineer\", \"Medical Assistant\", \"Medical Technologist\", \"Office Manager\", \"Operations Analyst\", \"Operations Manager\", \"Paralegal\", \"Pharmacist\", \"Pharmacy Technician\", \"Physical Therapist\", \"Process Engineer\", \"Producer\", \"Product Manager\", \"Production Manager\", \"Professor\", \"Program Manager\", \"Programmer Analyst\", \"Project Manager\", \"Property Manager\", \"Quality Engineer\", \"Recruiter\", \"Registered Nurse\", \"Research Assistant\", \"Restaurant Cook\", \"Restaurant Manager\", \"Retail Key Holder\", \"Sales Manager\", \"Sales Representative\", \"Security Officer\", \"Server\", \"Software Engineer\", \"Solutions Architect\", \"Store Manager\", \"Systems Engineer\", \"Tax Manager\", \"Teacher\", \"Technical Editor\", \"Technical Support\", \"Technician\", \"Truck Driver\", \"UX Designer\", \"Warehouse Associate\", \"Web Designer\", \"Web Developer\", \"Design\", \"Education\", \"Engineering\", \"Finance\", \"Food Services\", \"Health\", \"Human Resources\", \"Labor\", \"Law\", \"Manufacturing\", \"Media\", \"Operations\", \"Professional Services\", \"Real Estate\", \"Retail\", \"Sales\", \"Technology\"], \"name\": \"\", \"parents\": [\"Finance\", \"Professional Services\", \"Law\", \"Finance\", \"Food Services\", \"Food Services\", \"Professional Services\", \"Professional Services\", \"Retail\", \"Retail\", \"Health\", \"Engineering\", \"Finance\", \"Professional Services\", \"Labor\", \"Professional Services\", \"Professional Services\", \"Professional Services\", \"Technology\", \"Technology\", \"Labor\", \"Engineering\", \"Engineering\", \"Health\", \"Engineering\", \"Finance\", \"Finance\", \"Design\", \"Human Resources\", \"Technology\", \"Finance\", \"Technology\", \"Health\", \"Finance\", \"Labor\", \"Labor\", \"Labor\", \"Manufacturing\", \"Professional Services\", \"Manufacturing\", \"Engineering\", \"Health\", \"Health\", \"Professional Services\", \"Operations\", \"Operations\", \"Law\", \"Health\", \"Health\", \"Health\", \"Manufacturing\", \"Media\", \"Professional Services\", \"Manufacturing\", \"Education\", \"Professional Services\", \"Technology\", \"Professional Services\", \"Real Estate\", \"Engineering\", \"Human Resources\", \"Health\", \"Education\", \"Food Services\", \"Food Services\", \"Retail\", \"Sales\", \"Sales\", \"Operations\", \"Food Services\", \"Technology\", \"Technology\", \"Retail\", \"Technology\", \"Finance\", \"Education\", \"Media\", \"Technology\", \"Labor\", \"Labor\", \"Technology\", \"Labor\", \"Technology\", \"Technology\", \"\", \"\", \"\", \"\", \"\", \"\", \"\", \"\", \"\", \"\", \"\", \"\", \"\", \"\", \"\", \"\", \"\"], \"type\": \"sunburst\", \"values\": [1, 1, 1, 1, 1, 1, 1, 1, 1, 1, 1, 1, 1, 1, 1, 1, 1, 1, 1, 1, 1, 1, 1, 1, 1, 1, 1, 1, 1, 1, 1, 1, 1, 1, 1, 1, 1, 1, 1, 1, 1, 1, 1, 1, 1, 1, 1, 1, 1, 1, 1, 1, 1, 1, 1, 1, 1, 1, 1, 1, 1, 1, 1, 1, 1, 1, 1, 1, 1, 1, 1, 1, 1, 1, 1, 1, 1, 1, 1, 1, 1, 1, 1, 1, 1, 3, 6, 8, 5, 9, 2, 8, 2, 4, 2, 3, 12, 1, 4, 2, 12]}],\n",
       "                        {\"legend\": {\"tracegroupgap\": 0}, \"margin\": {\"t\": 60}, \"template\": {\"data\": {\"bar\": [{\"error_x\": {\"color\": \"#2a3f5f\"}, \"error_y\": {\"color\": \"#2a3f5f\"}, \"marker\": {\"line\": {\"color\": \"#E5ECF6\", \"width\": 0.5}}, \"type\": \"bar\"}], \"barpolar\": [{\"marker\": {\"line\": {\"color\": \"#E5ECF6\", \"width\": 0.5}}, \"type\": \"barpolar\"}], \"carpet\": [{\"aaxis\": {\"endlinecolor\": \"#2a3f5f\", \"gridcolor\": \"white\", \"linecolor\": \"white\", \"minorgridcolor\": \"white\", \"startlinecolor\": \"#2a3f5f\"}, \"baxis\": {\"endlinecolor\": \"#2a3f5f\", \"gridcolor\": \"white\", \"linecolor\": \"white\", \"minorgridcolor\": \"white\", \"startlinecolor\": \"#2a3f5f\"}, \"type\": \"carpet\"}], \"choropleth\": [{\"colorbar\": {\"outlinewidth\": 0, \"ticks\": \"\"}, \"type\": \"choropleth\"}], \"contour\": [{\"colorbar\": {\"outlinewidth\": 0, \"ticks\": \"\"}, \"colorscale\": [[0.0, \"#0d0887\"], [0.1111111111111111, \"#46039f\"], [0.2222222222222222, \"#7201a8\"], [0.3333333333333333, \"#9c179e\"], [0.4444444444444444, \"#bd3786\"], [0.5555555555555556, \"#d8576b\"], [0.6666666666666666, \"#ed7953\"], [0.7777777777777778, \"#fb9f3a\"], [0.8888888888888888, \"#fdca26\"], [1.0, \"#f0f921\"]], \"type\": \"contour\"}], \"contourcarpet\": [{\"colorbar\": {\"outlinewidth\": 0, \"ticks\": \"\"}, \"type\": \"contourcarpet\"}], \"heatmap\": [{\"colorbar\": {\"outlinewidth\": 0, \"ticks\": \"\"}, \"colorscale\": [[0.0, \"#0d0887\"], [0.1111111111111111, \"#46039f\"], [0.2222222222222222, \"#7201a8\"], [0.3333333333333333, \"#9c179e\"], [0.4444444444444444, \"#bd3786\"], [0.5555555555555556, \"#d8576b\"], [0.6666666666666666, \"#ed7953\"], [0.7777777777777778, \"#fb9f3a\"], [0.8888888888888888, \"#fdca26\"], [1.0, \"#f0f921\"]], \"type\": \"heatmap\"}], \"heatmapgl\": [{\"colorbar\": {\"outlinewidth\": 0, \"ticks\": \"\"}, \"colorscale\": [[0.0, \"#0d0887\"], [0.1111111111111111, \"#46039f\"], [0.2222222222222222, \"#7201a8\"], [0.3333333333333333, \"#9c179e\"], [0.4444444444444444, \"#bd3786\"], [0.5555555555555556, \"#d8576b\"], [0.6666666666666666, \"#ed7953\"], [0.7777777777777778, \"#fb9f3a\"], [0.8888888888888888, \"#fdca26\"], [1.0, \"#f0f921\"]], \"type\": \"heatmapgl\"}], \"histogram\": [{\"marker\": {\"colorbar\": {\"outlinewidth\": 0, \"ticks\": \"\"}}, \"type\": \"histogram\"}], \"histogram2d\": [{\"colorbar\": {\"outlinewidth\": 0, \"ticks\": \"\"}, \"colorscale\": [[0.0, \"#0d0887\"], [0.1111111111111111, \"#46039f\"], [0.2222222222222222, \"#7201a8\"], [0.3333333333333333, \"#9c179e\"], [0.4444444444444444, \"#bd3786\"], [0.5555555555555556, \"#d8576b\"], [0.6666666666666666, \"#ed7953\"], [0.7777777777777778, \"#fb9f3a\"], [0.8888888888888888, \"#fdca26\"], [1.0, \"#f0f921\"]], \"type\": \"histogram2d\"}], \"histogram2dcontour\": [{\"colorbar\": {\"outlinewidth\": 0, \"ticks\": \"\"}, \"colorscale\": [[0.0, \"#0d0887\"], [0.1111111111111111, \"#46039f\"], [0.2222222222222222, \"#7201a8\"], [0.3333333333333333, \"#9c179e\"], [0.4444444444444444, \"#bd3786\"], [0.5555555555555556, \"#d8576b\"], [0.6666666666666666, \"#ed7953\"], [0.7777777777777778, \"#fb9f3a\"], [0.8888888888888888, \"#fdca26\"], [1.0, \"#f0f921\"]], \"type\": \"histogram2dcontour\"}], \"mesh3d\": [{\"colorbar\": {\"outlinewidth\": 0, \"ticks\": \"\"}, \"type\": \"mesh3d\"}], \"parcoords\": [{\"line\": {\"colorbar\": {\"outlinewidth\": 0, \"ticks\": \"\"}}, \"type\": \"parcoords\"}], \"pie\": [{\"automargin\": true, \"type\": \"pie\"}], \"scatter\": [{\"marker\": {\"colorbar\": {\"outlinewidth\": 0, \"ticks\": \"\"}}, \"type\": \"scatter\"}], \"scatter3d\": [{\"line\": {\"colorbar\": {\"outlinewidth\": 0, \"ticks\": \"\"}}, \"marker\": {\"colorbar\": {\"outlinewidth\": 0, \"ticks\": \"\"}}, \"type\": \"scatter3d\"}], \"scattercarpet\": [{\"marker\": {\"colorbar\": {\"outlinewidth\": 0, \"ticks\": \"\"}}, \"type\": \"scattercarpet\"}], \"scattergeo\": [{\"marker\": {\"colorbar\": {\"outlinewidth\": 0, \"ticks\": \"\"}}, \"type\": \"scattergeo\"}], \"scattergl\": [{\"marker\": {\"colorbar\": {\"outlinewidth\": 0, \"ticks\": \"\"}}, \"type\": \"scattergl\"}], \"scattermapbox\": [{\"marker\": {\"colorbar\": {\"outlinewidth\": 0, \"ticks\": \"\"}}, \"type\": \"scattermapbox\"}], \"scatterpolar\": [{\"marker\": {\"colorbar\": {\"outlinewidth\": 0, \"ticks\": \"\"}}, \"type\": \"scatterpolar\"}], \"scatterpolargl\": [{\"marker\": {\"colorbar\": {\"outlinewidth\": 0, \"ticks\": \"\"}}, \"type\": \"scatterpolargl\"}], \"scatterternary\": [{\"marker\": {\"colorbar\": {\"outlinewidth\": 0, \"ticks\": \"\"}}, \"type\": \"scatterternary\"}], \"surface\": [{\"colorbar\": {\"outlinewidth\": 0, \"ticks\": \"\"}, \"colorscale\": [[0.0, \"#0d0887\"], [0.1111111111111111, \"#46039f\"], [0.2222222222222222, \"#7201a8\"], [0.3333333333333333, \"#9c179e\"], [0.4444444444444444, \"#bd3786\"], [0.5555555555555556, \"#d8576b\"], [0.6666666666666666, \"#ed7953\"], [0.7777777777777778, \"#fb9f3a\"], [0.8888888888888888, \"#fdca26\"], [1.0, \"#f0f921\"]], \"type\": \"surface\"}], \"table\": [{\"cells\": {\"fill\": {\"color\": \"#EBF0F8\"}, \"line\": {\"color\": \"white\"}}, \"header\": {\"fill\": {\"color\": \"#C8D4E3\"}, \"line\": {\"color\": \"white\"}}, \"type\": \"table\"}]}, \"layout\": {\"annotationdefaults\": {\"arrowcolor\": \"#2a3f5f\", \"arrowhead\": 0, \"arrowwidth\": 1}, \"coloraxis\": {\"colorbar\": {\"outlinewidth\": 0, \"ticks\": \"\"}}, \"colorscale\": {\"diverging\": [[0, \"#8e0152\"], [0.1, \"#c51b7d\"], [0.2, \"#de77ae\"], [0.3, \"#f1b6da\"], [0.4, \"#fde0ef\"], [0.5, \"#f7f7f7\"], [0.6, \"#e6f5d0\"], [0.7, \"#b8e186\"], [0.8, \"#7fbc41\"], [0.9, \"#4d9221\"], [1, \"#276419\"]], \"sequential\": [[0.0, \"#0d0887\"], [0.1111111111111111, \"#46039f\"], [0.2222222222222222, \"#7201a8\"], [0.3333333333333333, \"#9c179e\"], [0.4444444444444444, \"#bd3786\"], [0.5555555555555556, \"#d8576b\"], [0.6666666666666666, \"#ed7953\"], [0.7777777777777778, \"#fb9f3a\"], [0.8888888888888888, \"#fdca26\"], [1.0, \"#f0f921\"]], \"sequentialminus\": [[0.0, \"#0d0887\"], [0.1111111111111111, \"#46039f\"], [0.2222222222222222, \"#7201a8\"], [0.3333333333333333, \"#9c179e\"], [0.4444444444444444, \"#bd3786\"], [0.5555555555555556, \"#d8576b\"], [0.6666666666666666, \"#ed7953\"], [0.7777777777777778, \"#fb9f3a\"], [0.8888888888888888, \"#fdca26\"], [1.0, \"#f0f921\"]]}, \"colorway\": [\"#636efa\", \"#EF553B\", \"#00cc96\", \"#ab63fa\", \"#FFA15A\", \"#19d3f3\", \"#FF6692\", \"#B6E880\", \"#FF97FF\", \"#FECB52\"], \"font\": {\"color\": \"#2a3f5f\"}, \"geo\": {\"bgcolor\": \"white\", \"lakecolor\": \"white\", \"landcolor\": \"#E5ECF6\", \"showlakes\": true, \"showland\": true, \"subunitcolor\": \"white\"}, \"hoverlabel\": {\"align\": \"left\"}, \"hovermode\": \"closest\", \"mapbox\": {\"style\": \"light\"}, \"paper_bgcolor\": \"white\", \"plot_bgcolor\": \"#E5ECF6\", \"polar\": {\"angularaxis\": {\"gridcolor\": \"white\", \"linecolor\": \"white\", \"ticks\": \"\"}, \"bgcolor\": \"#E5ECF6\", \"radialaxis\": {\"gridcolor\": \"white\", \"linecolor\": \"white\", \"ticks\": \"\"}}, \"scene\": {\"xaxis\": {\"backgroundcolor\": \"#E5ECF6\", \"gridcolor\": \"white\", \"gridwidth\": 2, \"linecolor\": \"white\", \"showbackground\": true, \"ticks\": \"\", \"zerolinecolor\": \"white\"}, \"yaxis\": {\"backgroundcolor\": \"#E5ECF6\", \"gridcolor\": \"white\", \"gridwidth\": 2, \"linecolor\": \"white\", \"showbackground\": true, \"ticks\": \"\", \"zerolinecolor\": \"white\"}, \"zaxis\": {\"backgroundcolor\": \"#E5ECF6\", \"gridcolor\": \"white\", \"gridwidth\": 2, \"linecolor\": \"white\", \"showbackground\": true, \"ticks\": \"\", \"zerolinecolor\": \"white\"}}, \"shapedefaults\": {\"line\": {\"color\": \"#2a3f5f\"}}, \"ternary\": {\"aaxis\": {\"gridcolor\": \"white\", \"linecolor\": \"white\", \"ticks\": \"\"}, \"baxis\": {\"gridcolor\": \"white\", \"linecolor\": \"white\", \"ticks\": \"\"}, \"bgcolor\": \"#E5ECF6\", \"caxis\": {\"gridcolor\": \"white\", \"linecolor\": \"white\", \"ticks\": \"\"}}, \"title\": {\"x\": 0.05}, \"xaxis\": {\"automargin\": true, \"gridcolor\": \"white\", \"linecolor\": \"white\", \"ticks\": \"\", \"title\": {\"standoff\": 15}, \"zerolinecolor\": \"white\", \"zerolinewidth\": 2}, \"yaxis\": {\"automargin\": true, \"gridcolor\": \"white\", \"linecolor\": \"white\", \"ticks\": \"\", \"title\": {\"standoff\": 15}, \"zerolinecolor\": \"white\", \"zerolinewidth\": 2}}}},\n",
       "                        {\"responsive\": true}\n",
       "                    ).then(function(){\n",
       "                            \n",
       "var gd = document.getElementById('e9f2d846-253c-4f12-b9d2-09106b66f8a8');\n",
       "var x = new MutationObserver(function (mutations, observer) {{\n",
       "        var display = window.getComputedStyle(gd).display;\n",
       "        if (!display || display === 'none') {{\n",
       "            console.log([gd, 'removed!']);\n",
       "            Plotly.purge(gd);\n",
       "            observer.disconnect();\n",
       "        }}\n",
       "}});\n",
       "\n",
       "// Listen for the removal of the full notebook cells\n",
       "var notebookContainer = gd.closest('#notebook-container');\n",
       "if (notebookContainer) {{\n",
       "    x.observe(notebookContainer, {childList: true});\n",
       "}}\n",
       "\n",
       "// Listen for the clearing of the current output cell\n",
       "var outputEl = gd.closest('.output');\n",
       "if (outputEl) {{\n",
       "    x.observe(outputEl, {childList: true});\n",
       "}}\n",
       "\n",
       "                        })\n",
       "                };\n",
       "                });\n",
       "            </script>\n",
       "        </div>"
      ]
     },
     "metadata": {},
     "output_type": "display_data"
    }
   ],
   "source": [
    "import plotly.express as px\n",
    "dfplt = px.sunburst(df, path=['Job Category', 'Job Title'])\n",
    "dfplt.show()"
   ]
  },
  {
   "cell_type": "code",
   "execution_count": null,
   "metadata": {},
   "outputs": [],
   "source": []
  },
  {
   "cell_type": "code",
   "execution_count": null,
   "metadata": {},
   "outputs": [],
   "source": []
  },
  {
   "cell_type": "code",
   "execution_count": null,
   "metadata": {},
   "outputs": [],
   "source": []
  },
  {
   "cell_type": "code",
   "execution_count": null,
   "metadata": {},
   "outputs": [],
   "source": []
  },
  {
   "cell_type": "code",
   "execution_count": null,
   "metadata": {},
   "outputs": [],
   "source": []
  },
  {
   "cell_type": "code",
   "execution_count": null,
   "metadata": {},
   "outputs": [],
   "source": []
  },
  {
   "cell_type": "code",
   "execution_count": null,
   "metadata": {},
   "outputs": [],
   "source": []
  },
  {
   "cell_type": "code",
   "execution_count": null,
   "metadata": {},
   "outputs": [],
   "source": []
  },
  {
   "cell_type": "code",
   "execution_count": null,
   "metadata": {},
   "outputs": [],
   "source": []
  },
  {
   "cell_type": "code",
   "execution_count": null,
   "metadata": {},
   "outputs": [],
   "source": []
  }
 ],
 "metadata": {
  "kernelspec": {
   "display_name": "Python 3",
   "language": "python",
   "name": "python3"
  },
  "language_info": {
   "codemirror_mode": {
    "name": "ipython",
    "version": 3
   },
   "file_extension": ".py",
   "mimetype": "text/x-python",
   "name": "python",
   "nbconvert_exporter": "python",
   "pygments_lexer": "ipython3",
   "version": "3.7.4"
  }
 },
 "nbformat": 4,
 "nbformat_minor": 2
}
