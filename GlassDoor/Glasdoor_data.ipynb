{
 "cells": [
  {
   "cell_type": "code",
   "execution_count": 1,
   "metadata": {},
   "outputs": [],
   "source": [
    "from ipykernel import kernelapp as app\n",
    "import pandas as pd\n",
    "import numpy as np\n",
    "%matplotlib inline"
   ]
  },
  {
   "cell_type": "code",
   "execution_count": 2,
   "metadata": {},
   "outputs": [
    {
     "name": "stdout",
     "output_type": "stream",
     "text": [
      "4.5.0\n"
     ]
    }
   ],
   "source": [
    "from plotly import __version__\n",
    "from plotly.offline import download_plotlyjs, init_notebook_mode, plot, iplot\n",
    "\n",
    "print(__version__) # requires version >= 1.9.0"
   ]
  },
  {
   "cell_type": "code",
   "execution_count": 3,
   "metadata": {},
   "outputs": [],
   "source": [
    "import cufflinks as cf"
   ]
  },
  {
   "cell_type": "code",
   "execution_count": 4,
   "metadata": {},
   "outputs": [
    {
     "data": {
      "text/html": [
       "        <script type=\"text/javascript\">\n",
       "        window.PlotlyConfig = {MathJaxConfig: 'local'};\n",
       "        if (window.MathJax) {MathJax.Hub.Config({SVG: {font: \"STIX-Web\"}});}\n",
       "        if (typeof require !== 'undefined') {\n",
       "        require.undef(\"plotly\");\n",
       "        requirejs.config({\n",
       "            paths: {\n",
       "                'plotly': ['https://cdn.plot.ly/plotly-latest.min']\n",
       "            }\n",
       "        });\n",
       "        require(['plotly'], function(Plotly) {\n",
       "            window._Plotly = Plotly;\n",
       "        });\n",
       "        }\n",
       "        </script>\n",
       "        "
      ]
     },
     "metadata": {},
     "output_type": "display_data"
    }
   ],
   "source": [
    "# For Notebooks\n",
    "init_notebook_mode(connected=True)"
   ]
  },
  {
   "cell_type": "code",
   "execution_count": 5,
   "metadata": {},
   "outputs": [
    {
     "data": {
      "text/html": [
       "        <script type=\"text/javascript\">\n",
       "        window.PlotlyConfig = {MathJaxConfig: 'local'};\n",
       "        if (window.MathJax) {MathJax.Hub.Config({SVG: {font: \"STIX-Web\"}});}\n",
       "        if (typeof require !== 'undefined') {\n",
       "        require.undef(\"plotly\");\n",
       "        requirejs.config({\n",
       "            paths: {\n",
       "                'plotly': ['https://cdn.plot.ly/plotly-latest.min']\n",
       "            }\n",
       "        });\n",
       "        require(['plotly'], function(Plotly) {\n",
       "            window._Plotly = Plotly;\n",
       "        });\n",
       "        }\n",
       "        </script>\n",
       "        "
      ]
     },
     "metadata": {},
     "output_type": "display_data"
    }
   ],
   "source": [
    "# For offline use\n",
    "cf.go_offline()"
   ]
  },
  {
   "cell_type": "code",
   "execution_count": 6,
   "metadata": {},
   "outputs": [],
   "source": [
    "import plotly.express as px\n",
    "df_px = px.data.tips()\n"
   ]
  },
  {
   "cell_type": "code",
   "execution_count": 7,
   "metadata": {},
   "outputs": [
    {
     "data": {
      "application/vnd.plotly.v1+json": {
       "config": {
        "plotlyServerURL": "https://plot.ly"
       },
       "data": [
        {
         "branchvalues": "total",
         "domain": {
          "x": [
           0,
           1
          ],
          "y": [
           0,
           1
          ]
         },
         "hoverlabel": {
          "namelength": 0
         },
         "hovertemplate": "labels=%{label}<br>count=%{value}<br>parent=%{parent}<br>id=%{id}",
         "ids": [
          "Fri/Dinner/Female",
          "Sat/Dinner/Female",
          "Sun/Dinner/Female",
          "Thur/Dinner/Female",
          "Fri/Lunch/Female",
          "Thur/Lunch/Female",
          "Fri/Dinner/Male",
          "Sat/Dinner/Male",
          "Sun/Dinner/Male",
          "Fri/Lunch/Male",
          "Thur/Lunch/Male",
          "Fri/Dinner",
          "Sat/Dinner",
          "Sun/Dinner",
          "Thur/Dinner",
          "Fri/Lunch",
          "Thur/Lunch",
          "Fri",
          "Sat",
          "Sun",
          "Thur"
         ],
         "labels": [
          "Female",
          "Female",
          "Female",
          "Female",
          "Female",
          "Female",
          "Male",
          "Male",
          "Male",
          "Male",
          "Male",
          "Dinner",
          "Dinner",
          "Dinner",
          "Dinner",
          "Lunch",
          "Lunch",
          "Fri",
          "Sat",
          "Sun",
          "Thur"
         ],
         "name": "",
         "parents": [
          "Fri/Dinner",
          "Sat/Dinner",
          "Sun/Dinner",
          "Thur/Dinner",
          "Fri/Lunch",
          "Thur/Lunch",
          "Fri/Dinner",
          "Sat/Dinner",
          "Sun/Dinner",
          "Fri/Lunch",
          "Thur/Lunch",
          "Fri",
          "Sat",
          "Sun",
          "Thur",
          "Fri",
          "Thur",
          "",
          "",
          "",
          ""
         ],
         "type": "sunburst",
         "values": [
          5,
          28,
          18,
          1,
          4,
          31,
          7,
          59,
          58,
          3,
          30,
          12,
          87,
          76,
          1,
          7,
          61,
          19,
          87,
          76,
          62
         ]
        }
       ],
       "layout": {
        "legend": {
         "tracegroupgap": 0
        },
        "margin": {
         "t": 60
        },
        "template": {
         "data": {
          "bar": [
           {
            "error_x": {
             "color": "#2a3f5f"
            },
            "error_y": {
             "color": "#2a3f5f"
            },
            "marker": {
             "line": {
              "color": "#E5ECF6",
              "width": 0.5
             }
            },
            "type": "bar"
           }
          ],
          "barpolar": [
           {
            "marker": {
             "line": {
              "color": "#E5ECF6",
              "width": 0.5
             }
            },
            "type": "barpolar"
           }
          ],
          "carpet": [
           {
            "aaxis": {
             "endlinecolor": "#2a3f5f",
             "gridcolor": "white",
             "linecolor": "white",
             "minorgridcolor": "white",
             "startlinecolor": "#2a3f5f"
            },
            "baxis": {
             "endlinecolor": "#2a3f5f",
             "gridcolor": "white",
             "linecolor": "white",
             "minorgridcolor": "white",
             "startlinecolor": "#2a3f5f"
            },
            "type": "carpet"
           }
          ],
          "choropleth": [
           {
            "colorbar": {
             "outlinewidth": 0,
             "ticks": ""
            },
            "type": "choropleth"
           }
          ],
          "contour": [
           {
            "colorbar": {
             "outlinewidth": 0,
             "ticks": ""
            },
            "colorscale": [
             [
              0,
              "#0d0887"
             ],
             [
              0.1111111111111111,
              "#46039f"
             ],
             [
              0.2222222222222222,
              "#7201a8"
             ],
             [
              0.3333333333333333,
              "#9c179e"
             ],
             [
              0.4444444444444444,
              "#bd3786"
             ],
             [
              0.5555555555555556,
              "#d8576b"
             ],
             [
              0.6666666666666666,
              "#ed7953"
             ],
             [
              0.7777777777777778,
              "#fb9f3a"
             ],
             [
              0.8888888888888888,
              "#fdca26"
             ],
             [
              1,
              "#f0f921"
             ]
            ],
            "type": "contour"
           }
          ],
          "contourcarpet": [
           {
            "colorbar": {
             "outlinewidth": 0,
             "ticks": ""
            },
            "type": "contourcarpet"
           }
          ],
          "heatmap": [
           {
            "colorbar": {
             "outlinewidth": 0,
             "ticks": ""
            },
            "colorscale": [
             [
              0,
              "#0d0887"
             ],
             [
              0.1111111111111111,
              "#46039f"
             ],
             [
              0.2222222222222222,
              "#7201a8"
             ],
             [
              0.3333333333333333,
              "#9c179e"
             ],
             [
              0.4444444444444444,
              "#bd3786"
             ],
             [
              0.5555555555555556,
              "#d8576b"
             ],
             [
              0.6666666666666666,
              "#ed7953"
             ],
             [
              0.7777777777777778,
              "#fb9f3a"
             ],
             [
              0.8888888888888888,
              "#fdca26"
             ],
             [
              1,
              "#f0f921"
             ]
            ],
            "type": "heatmap"
           }
          ],
          "heatmapgl": [
           {
            "colorbar": {
             "outlinewidth": 0,
             "ticks": ""
            },
            "colorscale": [
             [
              0,
              "#0d0887"
             ],
             [
              0.1111111111111111,
              "#46039f"
             ],
             [
              0.2222222222222222,
              "#7201a8"
             ],
             [
              0.3333333333333333,
              "#9c179e"
             ],
             [
              0.4444444444444444,
              "#bd3786"
             ],
             [
              0.5555555555555556,
              "#d8576b"
             ],
             [
              0.6666666666666666,
              "#ed7953"
             ],
             [
              0.7777777777777778,
              "#fb9f3a"
             ],
             [
              0.8888888888888888,
              "#fdca26"
             ],
             [
              1,
              "#f0f921"
             ]
            ],
            "type": "heatmapgl"
           }
          ],
          "histogram": [
           {
            "marker": {
             "colorbar": {
              "outlinewidth": 0,
              "ticks": ""
             }
            },
            "type": "histogram"
           }
          ],
          "histogram2d": [
           {
            "colorbar": {
             "outlinewidth": 0,
             "ticks": ""
            },
            "colorscale": [
             [
              0,
              "#0d0887"
             ],
             [
              0.1111111111111111,
              "#46039f"
             ],
             [
              0.2222222222222222,
              "#7201a8"
             ],
             [
              0.3333333333333333,
              "#9c179e"
             ],
             [
              0.4444444444444444,
              "#bd3786"
             ],
             [
              0.5555555555555556,
              "#d8576b"
             ],
             [
              0.6666666666666666,
              "#ed7953"
             ],
             [
              0.7777777777777778,
              "#fb9f3a"
             ],
             [
              0.8888888888888888,
              "#fdca26"
             ],
             [
              1,
              "#f0f921"
             ]
            ],
            "type": "histogram2d"
           }
          ],
          "histogram2dcontour": [
           {
            "colorbar": {
             "outlinewidth": 0,
             "ticks": ""
            },
            "colorscale": [
             [
              0,
              "#0d0887"
             ],
             [
              0.1111111111111111,
              "#46039f"
             ],
             [
              0.2222222222222222,
              "#7201a8"
             ],
             [
              0.3333333333333333,
              "#9c179e"
             ],
             [
              0.4444444444444444,
              "#bd3786"
             ],
             [
              0.5555555555555556,
              "#d8576b"
             ],
             [
              0.6666666666666666,
              "#ed7953"
             ],
             [
              0.7777777777777778,
              "#fb9f3a"
             ],
             [
              0.8888888888888888,
              "#fdca26"
             ],
             [
              1,
              "#f0f921"
             ]
            ],
            "type": "histogram2dcontour"
           }
          ],
          "mesh3d": [
           {
            "colorbar": {
             "outlinewidth": 0,
             "ticks": ""
            },
            "type": "mesh3d"
           }
          ],
          "parcoords": [
           {
            "line": {
             "colorbar": {
              "outlinewidth": 0,
              "ticks": ""
             }
            },
            "type": "parcoords"
           }
          ],
          "pie": [
           {
            "automargin": true,
            "type": "pie"
           }
          ],
          "scatter": [
           {
            "marker": {
             "colorbar": {
              "outlinewidth": 0,
              "ticks": ""
             }
            },
            "type": "scatter"
           }
          ],
          "scatter3d": [
           {
            "line": {
             "colorbar": {
              "outlinewidth": 0,
              "ticks": ""
             }
            },
            "marker": {
             "colorbar": {
              "outlinewidth": 0,
              "ticks": ""
             }
            },
            "type": "scatter3d"
           }
          ],
          "scattercarpet": [
           {
            "marker": {
             "colorbar": {
              "outlinewidth": 0,
              "ticks": ""
             }
            },
            "type": "scattercarpet"
           }
          ],
          "scattergeo": [
           {
            "marker": {
             "colorbar": {
              "outlinewidth": 0,
              "ticks": ""
             }
            },
            "type": "scattergeo"
           }
          ],
          "scattergl": [
           {
            "marker": {
             "colorbar": {
              "outlinewidth": 0,
              "ticks": ""
             }
            },
            "type": "scattergl"
           }
          ],
          "scattermapbox": [
           {
            "marker": {
             "colorbar": {
              "outlinewidth": 0,
              "ticks": ""
             }
            },
            "type": "scattermapbox"
           }
          ],
          "scatterpolar": [
           {
            "marker": {
             "colorbar": {
              "outlinewidth": 0,
              "ticks": ""
             }
            },
            "type": "scatterpolar"
           }
          ],
          "scatterpolargl": [
           {
            "marker": {
             "colorbar": {
              "outlinewidth": 0,
              "ticks": ""
             }
            },
            "type": "scatterpolargl"
           }
          ],
          "scatterternary": [
           {
            "marker": {
             "colorbar": {
              "outlinewidth": 0,
              "ticks": ""
             }
            },
            "type": "scatterternary"
           }
          ],
          "surface": [
           {
            "colorbar": {
             "outlinewidth": 0,
             "ticks": ""
            },
            "colorscale": [
             [
              0,
              "#0d0887"
             ],
             [
              0.1111111111111111,
              "#46039f"
             ],
             [
              0.2222222222222222,
              "#7201a8"
             ],
             [
              0.3333333333333333,
              "#9c179e"
             ],
             [
              0.4444444444444444,
              "#bd3786"
             ],
             [
              0.5555555555555556,
              "#d8576b"
             ],
             [
              0.6666666666666666,
              "#ed7953"
             ],
             [
              0.7777777777777778,
              "#fb9f3a"
             ],
             [
              0.8888888888888888,
              "#fdca26"
             ],
             [
              1,
              "#f0f921"
             ]
            ],
            "type": "surface"
           }
          ],
          "table": [
           {
            "cells": {
             "fill": {
              "color": "#EBF0F8"
             },
             "line": {
              "color": "white"
             }
            },
            "header": {
             "fill": {
              "color": "#C8D4E3"
             },
             "line": {
              "color": "white"
             }
            },
            "type": "table"
           }
          ]
         },
         "layout": {
          "annotationdefaults": {
           "arrowcolor": "#2a3f5f",
           "arrowhead": 0,
           "arrowwidth": 1
          },
          "coloraxis": {
           "colorbar": {
            "outlinewidth": 0,
            "ticks": ""
           }
          },
          "colorscale": {
           "diverging": [
            [
             0,
             "#8e0152"
            ],
            [
             0.1,
             "#c51b7d"
            ],
            [
             0.2,
             "#de77ae"
            ],
            [
             0.3,
             "#f1b6da"
            ],
            [
             0.4,
             "#fde0ef"
            ],
            [
             0.5,
             "#f7f7f7"
            ],
            [
             0.6,
             "#e6f5d0"
            ],
            [
             0.7,
             "#b8e186"
            ],
            [
             0.8,
             "#7fbc41"
            ],
            [
             0.9,
             "#4d9221"
            ],
            [
             1,
             "#276419"
            ]
           ],
           "sequential": [
            [
             0,
             "#0d0887"
            ],
            [
             0.1111111111111111,
             "#46039f"
            ],
            [
             0.2222222222222222,
             "#7201a8"
            ],
            [
             0.3333333333333333,
             "#9c179e"
            ],
            [
             0.4444444444444444,
             "#bd3786"
            ],
            [
             0.5555555555555556,
             "#d8576b"
            ],
            [
             0.6666666666666666,
             "#ed7953"
            ],
            [
             0.7777777777777778,
             "#fb9f3a"
            ],
            [
             0.8888888888888888,
             "#fdca26"
            ],
            [
             1,
             "#f0f921"
            ]
           ],
           "sequentialminus": [
            [
             0,
             "#0d0887"
            ],
            [
             0.1111111111111111,
             "#46039f"
            ],
            [
             0.2222222222222222,
             "#7201a8"
            ],
            [
             0.3333333333333333,
             "#9c179e"
            ],
            [
             0.4444444444444444,
             "#bd3786"
            ],
            [
             0.5555555555555556,
             "#d8576b"
            ],
            [
             0.6666666666666666,
             "#ed7953"
            ],
            [
             0.7777777777777778,
             "#fb9f3a"
            ],
            [
             0.8888888888888888,
             "#fdca26"
            ],
            [
             1,
             "#f0f921"
            ]
           ]
          },
          "colorway": [
           "#636efa",
           "#EF553B",
           "#00cc96",
           "#ab63fa",
           "#FFA15A",
           "#19d3f3",
           "#FF6692",
           "#B6E880",
           "#FF97FF",
           "#FECB52"
          ],
          "font": {
           "color": "#2a3f5f"
          },
          "geo": {
           "bgcolor": "white",
           "lakecolor": "white",
           "landcolor": "#E5ECF6",
           "showlakes": true,
           "showland": true,
           "subunitcolor": "white"
          },
          "hoverlabel": {
           "align": "left"
          },
          "hovermode": "closest",
          "mapbox": {
           "style": "light"
          },
          "paper_bgcolor": "white",
          "plot_bgcolor": "#E5ECF6",
          "polar": {
           "angularaxis": {
            "gridcolor": "white",
            "linecolor": "white",
            "ticks": ""
           },
           "bgcolor": "#E5ECF6",
           "radialaxis": {
            "gridcolor": "white",
            "linecolor": "white",
            "ticks": ""
           }
          },
          "scene": {
           "xaxis": {
            "backgroundcolor": "#E5ECF6",
            "gridcolor": "white",
            "gridwidth": 2,
            "linecolor": "white",
            "showbackground": true,
            "ticks": "",
            "zerolinecolor": "white"
           },
           "yaxis": {
            "backgroundcolor": "#E5ECF6",
            "gridcolor": "white",
            "gridwidth": 2,
            "linecolor": "white",
            "showbackground": true,
            "ticks": "",
            "zerolinecolor": "white"
           },
           "zaxis": {
            "backgroundcolor": "#E5ECF6",
            "gridcolor": "white",
            "gridwidth": 2,
            "linecolor": "white",
            "showbackground": true,
            "ticks": "",
            "zerolinecolor": "white"
           }
          },
          "shapedefaults": {
           "line": {
            "color": "#2a3f5f"
           }
          },
          "ternary": {
           "aaxis": {
            "gridcolor": "white",
            "linecolor": "white",
            "ticks": ""
           },
           "baxis": {
            "gridcolor": "white",
            "linecolor": "white",
            "ticks": ""
           },
           "bgcolor": "#E5ECF6",
           "caxis": {
            "gridcolor": "white",
            "linecolor": "white",
            "ticks": ""
           }
          },
          "title": {
           "x": 0.05
          },
          "xaxis": {
           "automargin": true,
           "gridcolor": "white",
           "linecolor": "white",
           "ticks": "",
           "title": {
            "standoff": 15
           },
           "zerolinecolor": "white",
           "zerolinewidth": 2
          },
          "yaxis": {
           "automargin": true,
           "gridcolor": "white",
           "linecolor": "white",
           "ticks": "",
           "title": {
            "standoff": 15
           },
           "zerolinecolor": "white",
           "zerolinewidth": 2
          }
         }
        }
       }
      },
      "text/html": [
       "<div>\n",
       "        \n",
       "        \n",
       "            <div id=\"dc3daa59-5a8c-4ce3-9c92-7bd0ae60dfd6\" class=\"plotly-graph-div\" style=\"height:525px; width:100%;\"></div>\n",
       "            <script type=\"text/javascript\">\n",
       "                require([\"plotly\"], function(Plotly) {\n",
       "                    window.PLOTLYENV=window.PLOTLYENV || {};\n",
       "                    \n",
       "                if (document.getElementById(\"dc3daa59-5a8c-4ce3-9c92-7bd0ae60dfd6\")) {\n",
       "                    Plotly.newPlot(\n",
       "                        'dc3daa59-5a8c-4ce3-9c92-7bd0ae60dfd6',\n",
       "                        [{\"branchvalues\": \"total\", \"domain\": {\"x\": [0.0, 1.0], \"y\": [0.0, 1.0]}, \"hoverlabel\": {\"namelength\": 0}, \"hovertemplate\": \"labels=%{label}<br>count=%{value}<br>parent=%{parent}<br>id=%{id}\", \"ids\": [\"Fri/Dinner/Female\", \"Sat/Dinner/Female\", \"Sun/Dinner/Female\", \"Thur/Dinner/Female\", \"Fri/Lunch/Female\", \"Thur/Lunch/Female\", \"Fri/Dinner/Male\", \"Sat/Dinner/Male\", \"Sun/Dinner/Male\", \"Fri/Lunch/Male\", \"Thur/Lunch/Male\", \"Fri/Dinner\", \"Sat/Dinner\", \"Sun/Dinner\", \"Thur/Dinner\", \"Fri/Lunch\", \"Thur/Lunch\", \"Fri\", \"Sat\", \"Sun\", \"Thur\"], \"labels\": [\"Female\", \"Female\", \"Female\", \"Female\", \"Female\", \"Female\", \"Male\", \"Male\", \"Male\", \"Male\", \"Male\", \"Dinner\", \"Dinner\", \"Dinner\", \"Dinner\", \"Lunch\", \"Lunch\", \"Fri\", \"Sat\", \"Sun\", \"Thur\"], \"name\": \"\", \"parents\": [\"Fri/Dinner\", \"Sat/Dinner\", \"Sun/Dinner\", \"Thur/Dinner\", \"Fri/Lunch\", \"Thur/Lunch\", \"Fri/Dinner\", \"Sat/Dinner\", \"Sun/Dinner\", \"Fri/Lunch\", \"Thur/Lunch\", \"Fri\", \"Sat\", \"Sun\", \"Thur\", \"Fri\", \"Thur\", \"\", \"\", \"\", \"\"], \"type\": \"sunburst\", \"values\": [5, 28, 18, 1, 4, 31, 7, 59, 58, 3, 30, 12, 87, 76, 1, 7, 61, 19, 87, 76, 62]}],\n",
       "                        {\"legend\": {\"tracegroupgap\": 0}, \"margin\": {\"t\": 60}, \"template\": {\"data\": {\"bar\": [{\"error_x\": {\"color\": \"#2a3f5f\"}, \"error_y\": {\"color\": \"#2a3f5f\"}, \"marker\": {\"line\": {\"color\": \"#E5ECF6\", \"width\": 0.5}}, \"type\": \"bar\"}], \"barpolar\": [{\"marker\": {\"line\": {\"color\": \"#E5ECF6\", \"width\": 0.5}}, \"type\": \"barpolar\"}], \"carpet\": [{\"aaxis\": {\"endlinecolor\": \"#2a3f5f\", \"gridcolor\": \"white\", \"linecolor\": \"white\", \"minorgridcolor\": \"white\", \"startlinecolor\": \"#2a3f5f\"}, \"baxis\": {\"endlinecolor\": \"#2a3f5f\", \"gridcolor\": \"white\", \"linecolor\": \"white\", \"minorgridcolor\": \"white\", \"startlinecolor\": \"#2a3f5f\"}, \"type\": \"carpet\"}], \"choropleth\": [{\"colorbar\": {\"outlinewidth\": 0, \"ticks\": \"\"}, \"type\": \"choropleth\"}], \"contour\": [{\"colorbar\": {\"outlinewidth\": 0, \"ticks\": \"\"}, \"colorscale\": [[0.0, \"#0d0887\"], [0.1111111111111111, \"#46039f\"], [0.2222222222222222, \"#7201a8\"], [0.3333333333333333, \"#9c179e\"], [0.4444444444444444, \"#bd3786\"], [0.5555555555555556, \"#d8576b\"], [0.6666666666666666, \"#ed7953\"], [0.7777777777777778, \"#fb9f3a\"], [0.8888888888888888, \"#fdca26\"], [1.0, \"#f0f921\"]], \"type\": \"contour\"}], \"contourcarpet\": [{\"colorbar\": {\"outlinewidth\": 0, \"ticks\": \"\"}, \"type\": \"contourcarpet\"}], \"heatmap\": [{\"colorbar\": {\"outlinewidth\": 0, \"ticks\": \"\"}, \"colorscale\": [[0.0, \"#0d0887\"], [0.1111111111111111, \"#46039f\"], [0.2222222222222222, \"#7201a8\"], [0.3333333333333333, \"#9c179e\"], [0.4444444444444444, \"#bd3786\"], [0.5555555555555556, \"#d8576b\"], [0.6666666666666666, \"#ed7953\"], [0.7777777777777778, \"#fb9f3a\"], [0.8888888888888888, \"#fdca26\"], [1.0, \"#f0f921\"]], \"type\": \"heatmap\"}], \"heatmapgl\": [{\"colorbar\": {\"outlinewidth\": 0, \"ticks\": \"\"}, \"colorscale\": [[0.0, \"#0d0887\"], [0.1111111111111111, \"#46039f\"], [0.2222222222222222, \"#7201a8\"], [0.3333333333333333, \"#9c179e\"], [0.4444444444444444, \"#bd3786\"], [0.5555555555555556, \"#d8576b\"], [0.6666666666666666, \"#ed7953\"], [0.7777777777777778, \"#fb9f3a\"], [0.8888888888888888, \"#fdca26\"], [1.0, \"#f0f921\"]], \"type\": \"heatmapgl\"}], \"histogram\": [{\"marker\": {\"colorbar\": {\"outlinewidth\": 0, \"ticks\": \"\"}}, \"type\": \"histogram\"}], \"histogram2d\": [{\"colorbar\": {\"outlinewidth\": 0, \"ticks\": \"\"}, \"colorscale\": [[0.0, \"#0d0887\"], [0.1111111111111111, \"#46039f\"], [0.2222222222222222, \"#7201a8\"], [0.3333333333333333, \"#9c179e\"], [0.4444444444444444, \"#bd3786\"], [0.5555555555555556, \"#d8576b\"], [0.6666666666666666, \"#ed7953\"], [0.7777777777777778, \"#fb9f3a\"], [0.8888888888888888, \"#fdca26\"], [1.0, \"#f0f921\"]], \"type\": \"histogram2d\"}], \"histogram2dcontour\": [{\"colorbar\": {\"outlinewidth\": 0, \"ticks\": \"\"}, \"colorscale\": [[0.0, \"#0d0887\"], [0.1111111111111111, \"#46039f\"], [0.2222222222222222, \"#7201a8\"], [0.3333333333333333, \"#9c179e\"], [0.4444444444444444, \"#bd3786\"], [0.5555555555555556, \"#d8576b\"], [0.6666666666666666, \"#ed7953\"], [0.7777777777777778, \"#fb9f3a\"], [0.8888888888888888, \"#fdca26\"], [1.0, \"#f0f921\"]], \"type\": \"histogram2dcontour\"}], \"mesh3d\": [{\"colorbar\": {\"outlinewidth\": 0, \"ticks\": \"\"}, \"type\": \"mesh3d\"}], \"parcoords\": [{\"line\": {\"colorbar\": {\"outlinewidth\": 0, \"ticks\": \"\"}}, \"type\": \"parcoords\"}], \"pie\": [{\"automargin\": true, \"type\": \"pie\"}], \"scatter\": [{\"marker\": {\"colorbar\": {\"outlinewidth\": 0, \"ticks\": \"\"}}, \"type\": \"scatter\"}], \"scatter3d\": [{\"line\": {\"colorbar\": {\"outlinewidth\": 0, \"ticks\": \"\"}}, \"marker\": {\"colorbar\": {\"outlinewidth\": 0, \"ticks\": \"\"}}, \"type\": \"scatter3d\"}], \"scattercarpet\": [{\"marker\": {\"colorbar\": {\"outlinewidth\": 0, \"ticks\": \"\"}}, \"type\": \"scattercarpet\"}], \"scattergeo\": [{\"marker\": {\"colorbar\": {\"outlinewidth\": 0, \"ticks\": \"\"}}, \"type\": \"scattergeo\"}], \"scattergl\": [{\"marker\": {\"colorbar\": {\"outlinewidth\": 0, \"ticks\": \"\"}}, \"type\": \"scattergl\"}], \"scattermapbox\": [{\"marker\": {\"colorbar\": {\"outlinewidth\": 0, \"ticks\": \"\"}}, \"type\": \"scattermapbox\"}], \"scatterpolar\": [{\"marker\": {\"colorbar\": {\"outlinewidth\": 0, \"ticks\": \"\"}}, \"type\": \"scatterpolar\"}], \"scatterpolargl\": [{\"marker\": {\"colorbar\": {\"outlinewidth\": 0, \"ticks\": \"\"}}, \"type\": \"scatterpolargl\"}], \"scatterternary\": [{\"marker\": {\"colorbar\": {\"outlinewidth\": 0, \"ticks\": \"\"}}, \"type\": \"scatterternary\"}], \"surface\": [{\"colorbar\": {\"outlinewidth\": 0, \"ticks\": \"\"}, \"colorscale\": [[0.0, \"#0d0887\"], [0.1111111111111111, \"#46039f\"], [0.2222222222222222, \"#7201a8\"], [0.3333333333333333, \"#9c179e\"], [0.4444444444444444, \"#bd3786\"], [0.5555555555555556, \"#d8576b\"], [0.6666666666666666, \"#ed7953\"], [0.7777777777777778, \"#fb9f3a\"], [0.8888888888888888, \"#fdca26\"], [1.0, \"#f0f921\"]], \"type\": \"surface\"}], \"table\": [{\"cells\": {\"fill\": {\"color\": \"#EBF0F8\"}, \"line\": {\"color\": \"white\"}}, \"header\": {\"fill\": {\"color\": \"#C8D4E3\"}, \"line\": {\"color\": \"white\"}}, \"type\": \"table\"}]}, \"layout\": {\"annotationdefaults\": {\"arrowcolor\": \"#2a3f5f\", \"arrowhead\": 0, \"arrowwidth\": 1}, \"coloraxis\": {\"colorbar\": {\"outlinewidth\": 0, \"ticks\": \"\"}}, \"colorscale\": {\"diverging\": [[0, \"#8e0152\"], [0.1, \"#c51b7d\"], [0.2, \"#de77ae\"], [0.3, \"#f1b6da\"], [0.4, \"#fde0ef\"], [0.5, \"#f7f7f7\"], [0.6, \"#e6f5d0\"], [0.7, \"#b8e186\"], [0.8, \"#7fbc41\"], [0.9, \"#4d9221\"], [1, \"#276419\"]], \"sequential\": [[0.0, \"#0d0887\"], [0.1111111111111111, \"#46039f\"], [0.2222222222222222, \"#7201a8\"], [0.3333333333333333, \"#9c179e\"], [0.4444444444444444, \"#bd3786\"], [0.5555555555555556, \"#d8576b\"], [0.6666666666666666, \"#ed7953\"], [0.7777777777777778, \"#fb9f3a\"], [0.8888888888888888, \"#fdca26\"], [1.0, \"#f0f921\"]], \"sequentialminus\": [[0.0, \"#0d0887\"], [0.1111111111111111, \"#46039f\"], [0.2222222222222222, \"#7201a8\"], [0.3333333333333333, \"#9c179e\"], [0.4444444444444444, \"#bd3786\"], [0.5555555555555556, \"#d8576b\"], [0.6666666666666666, \"#ed7953\"], [0.7777777777777778, \"#fb9f3a\"], [0.8888888888888888, \"#fdca26\"], [1.0, \"#f0f921\"]]}, \"colorway\": [\"#636efa\", \"#EF553B\", \"#00cc96\", \"#ab63fa\", \"#FFA15A\", \"#19d3f3\", \"#FF6692\", \"#B6E880\", \"#FF97FF\", \"#FECB52\"], \"font\": {\"color\": \"#2a3f5f\"}, \"geo\": {\"bgcolor\": \"white\", \"lakecolor\": \"white\", \"landcolor\": \"#E5ECF6\", \"showlakes\": true, \"showland\": true, \"subunitcolor\": \"white\"}, \"hoverlabel\": {\"align\": \"left\"}, \"hovermode\": \"closest\", \"mapbox\": {\"style\": \"light\"}, \"paper_bgcolor\": \"white\", \"plot_bgcolor\": \"#E5ECF6\", \"polar\": {\"angularaxis\": {\"gridcolor\": \"white\", \"linecolor\": \"white\", \"ticks\": \"\"}, \"bgcolor\": \"#E5ECF6\", \"radialaxis\": {\"gridcolor\": \"white\", \"linecolor\": \"white\", \"ticks\": \"\"}}, \"scene\": {\"xaxis\": {\"backgroundcolor\": \"#E5ECF6\", \"gridcolor\": \"white\", \"gridwidth\": 2, \"linecolor\": \"white\", \"showbackground\": true, \"ticks\": \"\", \"zerolinecolor\": \"white\"}, \"yaxis\": {\"backgroundcolor\": \"#E5ECF6\", \"gridcolor\": \"white\", \"gridwidth\": 2, \"linecolor\": \"white\", \"showbackground\": true, \"ticks\": \"\", \"zerolinecolor\": \"white\"}, \"zaxis\": {\"backgroundcolor\": \"#E5ECF6\", \"gridcolor\": \"white\", \"gridwidth\": 2, \"linecolor\": \"white\", \"showbackground\": true, \"ticks\": \"\", \"zerolinecolor\": \"white\"}}, \"shapedefaults\": {\"line\": {\"color\": \"#2a3f5f\"}}, \"ternary\": {\"aaxis\": {\"gridcolor\": \"white\", \"linecolor\": \"white\", \"ticks\": \"\"}, \"baxis\": {\"gridcolor\": \"white\", \"linecolor\": \"white\", \"ticks\": \"\"}, \"bgcolor\": \"#E5ECF6\", \"caxis\": {\"gridcolor\": \"white\", \"linecolor\": \"white\", \"ticks\": \"\"}}, \"title\": {\"x\": 0.05}, \"xaxis\": {\"automargin\": true, \"gridcolor\": \"white\", \"linecolor\": \"white\", \"ticks\": \"\", \"title\": {\"standoff\": 15}, \"zerolinecolor\": \"white\", \"zerolinewidth\": 2}, \"yaxis\": {\"automargin\": true, \"gridcolor\": \"white\", \"linecolor\": \"white\", \"ticks\": \"\", \"title\": {\"standoff\": 15}, \"zerolinecolor\": \"white\", \"zerolinewidth\": 2}}}},\n",
       "                        {\"responsive\": true}\n",
       "                    ).then(function(){\n",
       "                            \n",
       "var gd = document.getElementById('dc3daa59-5a8c-4ce3-9c92-7bd0ae60dfd6');\n",
       "var x = new MutationObserver(function (mutations, observer) {{\n",
       "        var display = window.getComputedStyle(gd).display;\n",
       "        if (!display || display === 'none') {{\n",
       "            console.log([gd, 'removed!']);\n",
       "            Plotly.purge(gd);\n",
       "            observer.disconnect();\n",
       "        }}\n",
       "}});\n",
       "\n",
       "// Listen for the removal of the full notebook cells\n",
       "var notebookContainer = gd.closest('#notebook-container');\n",
       "if (notebookContainer) {{\n",
       "    x.observe(notebookContainer, {childList: true});\n",
       "}}\n",
       "\n",
       "// Listen for the clearing of the current output cell\n",
       "var outputEl = gd.closest('.output');\n",
       "if (outputEl) {{\n",
       "    x.observe(outputEl, {childList: true});\n",
       "}}\n",
       "\n",
       "                        })\n",
       "                };\n",
       "                });\n",
       "            </script>\n",
       "        </div>"
      ]
     },
     "metadata": {},
     "output_type": "display_data"
    }
   ],
   "source": [
    "fig = px.sunburst(df_px, path=['day', 'time', 'sex'])\n",
    "fig.show()"
   ]
  },
  {
   "cell_type": "code",
   "execution_count": 8,
   "metadata": {},
   "outputs": [
    {
     "data": {
      "text/html": [
       "<div>\n",
       "<style scoped>\n",
       "    .dataframe tbody tr th:only-of-type {\n",
       "        vertical-align: middle;\n",
       "    }\n",
       "\n",
       "    .dataframe tbody tr th {\n",
       "        vertical-align: top;\n",
       "    }\n",
       "\n",
       "    .dataframe thead th {\n",
       "        text-align: right;\n",
       "    }\n",
       "</style>\n",
       "<table border=\"1\" class=\"dataframe\">\n",
       "  <thead>\n",
       "    <tr style=\"text-align: right;\">\n",
       "      <th></th>\n",
       "      <th>Job Category</th>\n",
       "      <th>Job Title</th>\n",
       "      <th>Atlanta</th>\n",
       "      <th>Boston</th>\n",
       "      <th>Chicago</th>\n",
       "      <th>Houston</th>\n",
       "      <th>Los Angeles</th>\n",
       "      <th>New York City</th>\n",
       "      <th>Philadelphia</th>\n",
       "      <th>San Francisco</th>\n",
       "      <th>Seattle</th>\n",
       "      <th>Washington DC</th>\n",
       "    </tr>\n",
       "  </thead>\n",
       "  <tbody>\n",
       "    <tr>\n",
       "      <td>0</td>\n",
       "      <td>Design</td>\n",
       "      <td>Graphic Designer</td>\n",
       "      <td>52307</td>\n",
       "      <td>58616</td>\n",
       "      <td>53636</td>\n",
       "      <td>49495</td>\n",
       "      <td>60004</td>\n",
       "      <td>60913</td>\n",
       "      <td>51620</td>\n",
       "      <td>74986</td>\n",
       "      <td>62118</td>\n",
       "      <td>59308</td>\n",
       "    </tr>\n",
       "    <tr>\n",
       "      <td>1</td>\n",
       "      <td>Education</td>\n",
       "      <td>Professor</td>\n",
       "      <td>93669</td>\n",
       "      <td>124416</td>\n",
       "      <td>101815</td>\n",
       "      <td>104098</td>\n",
       "      <td>115901</td>\n",
       "      <td>116551</td>\n",
       "      <td>102934</td>\n",
       "      <td>130761</td>\n",
       "      <td>109108</td>\n",
       "      <td>104065</td>\n",
       "    </tr>\n",
       "    <tr>\n",
       "      <td>2</td>\n",
       "      <td>Education</td>\n",
       "      <td>Research Assistant</td>\n",
       "      <td>31360</td>\n",
       "      <td>38181</td>\n",
       "      <td>33694</td>\n",
       "      <td>31202</td>\n",
       "      <td>35313</td>\n",
       "      <td>37979</td>\n",
       "      <td>32601</td>\n",
       "      <td>40695</td>\n",
       "      <td>34735</td>\n",
       "      <td>35872</td>\n",
       "    </tr>\n",
       "    <tr>\n",
       "      <td>3</td>\n",
       "      <td>Education</td>\n",
       "      <td>Teacher</td>\n",
       "      <td>50378</td>\n",
       "      <td>61327</td>\n",
       "      <td>56218</td>\n",
       "      <td>54216</td>\n",
       "      <td>64666</td>\n",
       "      <td>67552</td>\n",
       "      <td>54601</td>\n",
       "      <td>70271</td>\n",
       "      <td>59578</td>\n",
       "      <td>61218</td>\n",
       "    </tr>\n",
       "    <tr>\n",
       "      <td>4</td>\n",
       "      <td>Engineering</td>\n",
       "      <td>Civil Engineer</td>\n",
       "      <td>71292</td>\n",
       "      <td>77247</td>\n",
       "      <td>76466</td>\n",
       "      <td>78336</td>\n",
       "      <td>84642</td>\n",
       "      <td>80995</td>\n",
       "      <td>76147</td>\n",
       "      <td>93333</td>\n",
       "      <td>81285</td>\n",
       "      <td>78854</td>\n",
       "    </tr>\n",
       "    <tr>\n",
       "      <td>...</td>\n",
       "      <td>...</td>\n",
       "      <td>...</td>\n",
       "      <td>...</td>\n",
       "      <td>...</td>\n",
       "      <td>...</td>\n",
       "      <td>...</td>\n",
       "      <td>...</td>\n",
       "      <td>...</td>\n",
       "      <td>...</td>\n",
       "      <td>...</td>\n",
       "      <td>...</td>\n",
       "      <td>...</td>\n",
       "    </tr>\n",
       "    <tr>\n",
       "      <td>79</td>\n",
       "      <td>Technology</td>\n",
       "      <td>Systems Engineer</td>\n",
       "      <td>82532</td>\n",
       "      <td>90553</td>\n",
       "      <td>85134</td>\n",
       "      <td>77991</td>\n",
       "      <td>94649</td>\n",
       "      <td>91868</td>\n",
       "      <td>83349</td>\n",
       "      <td>106969</td>\n",
       "      <td>95389</td>\n",
       "      <td>94236</td>\n",
       "    </tr>\n",
       "    <tr>\n",
       "      <td>80</td>\n",
       "      <td>Technology</td>\n",
       "      <td>Technical Support</td>\n",
       "      <td>46457</td>\n",
       "      <td>58646</td>\n",
       "      <td>53640</td>\n",
       "      <td>48978</td>\n",
       "      <td>55913</td>\n",
       "      <td>58419</td>\n",
       "      <td>51340</td>\n",
       "      <td>68588</td>\n",
       "      <td>55575</td>\n",
       "      <td>59011</td>\n",
       "    </tr>\n",
       "    <tr>\n",
       "      <td>81</td>\n",
       "      <td>Technology</td>\n",
       "      <td>UX Designer</td>\n",
       "      <td>85912</td>\n",
       "      <td>90980</td>\n",
       "      <td>84536</td>\n",
       "      <td>78309</td>\n",
       "      <td>93434</td>\n",
       "      <td>95097</td>\n",
       "      <td>79303</td>\n",
       "      <td>112133</td>\n",
       "      <td>101237</td>\n",
       "      <td>91979</td>\n",
       "    </tr>\n",
       "    <tr>\n",
       "      <td>82</td>\n",
       "      <td>Technology</td>\n",
       "      <td>Web Designer</td>\n",
       "      <td>61899</td>\n",
       "      <td>68300</td>\n",
       "      <td>64393</td>\n",
       "      <td>59430</td>\n",
       "      <td>65705</td>\n",
       "      <td>68077</td>\n",
       "      <td>58624</td>\n",
       "      <td>83150</td>\n",
       "      <td>67126</td>\n",
       "      <td>69062</td>\n",
       "    </tr>\n",
       "    <tr>\n",
       "      <td>83</td>\n",
       "      <td>Technology</td>\n",
       "      <td>Web Developer</td>\n",
       "      <td>77856</td>\n",
       "      <td>85334</td>\n",
       "      <td>78251</td>\n",
       "      <td>72252</td>\n",
       "      <td>82970</td>\n",
       "      <td>87284</td>\n",
       "      <td>74319</td>\n",
       "      <td>104640</td>\n",
       "      <td>89770</td>\n",
       "      <td>89420</td>\n",
       "    </tr>\n",
       "  </tbody>\n",
       "</table>\n",
       "<p>84 rows × 12 columns</p>\n",
       "</div>"
      ],
      "text/plain": [
       "   Job Category           Job Title  Atlanta  Boston  Chicago  Houston  \\\n",
       "0        Design    Graphic Designer    52307   58616    53636    49495   \n",
       "1     Education           Professor    93669  124416   101815   104098   \n",
       "2     Education  Research Assistant    31360   38181    33694    31202   \n",
       "3     Education             Teacher    50378   61327    56218    54216   \n",
       "4   Engineering      Civil Engineer    71292   77247    76466    78336   \n",
       "..          ...                 ...      ...     ...      ...      ...   \n",
       "79   Technology    Systems Engineer    82532   90553    85134    77991   \n",
       "80   Technology   Technical Support    46457   58646    53640    48978   \n",
       "81   Technology         UX Designer    85912   90980    84536    78309   \n",
       "82   Technology        Web Designer    61899   68300    64393    59430   \n",
       "83   Technology       Web Developer    77856   85334    78251    72252   \n",
       "\n",
       "    Los Angeles  New York City  Philadelphia  San Francisco  Seattle  \\\n",
       "0         60004          60913         51620          74986    62118   \n",
       "1        115901         116551        102934         130761   109108   \n",
       "2         35313          37979         32601          40695    34735   \n",
       "3         64666          67552         54601          70271    59578   \n",
       "4         84642          80995         76147          93333    81285   \n",
       "..          ...            ...           ...            ...      ...   \n",
       "79        94649          91868         83349         106969    95389   \n",
       "80        55913          58419         51340          68588    55575   \n",
       "81        93434          95097         79303         112133   101237   \n",
       "82        65705          68077         58624          83150    67126   \n",
       "83        82970          87284         74319         104640    89770   \n",
       "\n",
       "    Washington DC  \n",
       "0           59308  \n",
       "1          104065  \n",
       "2           35872  \n",
       "3           61218  \n",
       "4           78854  \n",
       "..            ...  \n",
       "79          94236  \n",
       "80          59011  \n",
       "81          91979  \n",
       "82          69062  \n",
       "83          89420  \n",
       "\n",
       "[84 rows x 12 columns]"
      ]
     },
     "execution_count": 8,
     "metadata": {},
     "output_type": "execute_result"
    }
   ],
   "source": [
    "df = pd.read_excel('Glassdoor_data.xlsx')\n",
    "df"
   ]
  },
  {
   "cell_type": "code",
   "execution_count": null,
   "metadata": {},
   "outputs": [],
   "source": []
  },
  {
   "cell_type": "code",
   "execution_count": null,
   "metadata": {},
   "outputs": [],
   "source": []
  },
  {
   "cell_type": "code",
   "execution_count": null,
   "metadata": {},
   "outputs": [],
   "source": []
  },
  {
   "cell_type": "code",
   "execution_count": null,
   "metadata": {},
   "outputs": [],
   "source": []
  },
  {
   "cell_type": "code",
   "execution_count": 9,
   "metadata": {},
   "outputs": [
    {
     "data": {
      "application/vnd.plotly.v1+json": {
       "config": {
        "linkText": "Export to plot.ly",
        "plotlyServerURL": "https://plot.ly",
        "showLink": true
       },
       "data": [
        {
         "marker": {
          "color": "rgba(255, 153, 51, 0.6)",
          "line": {
           "color": "rgba(255, 153, 51, 1.0)",
           "width": 1
          }
         },
         "name": "Atlanta",
         "orientation": "v",
         "text": "",
         "type": "bar",
         "x": [
          "Design",
          "Education",
          "Education",
          "Education",
          "Engineering",
          "Engineering",
          "Engineering",
          "Engineering",
          "Engineering",
          "Engineering",
          "Finance",
          "Finance",
          "Finance",
          "Finance",
          "Finance",
          "Finance",
          "Finance",
          "Finance",
          "Food Services",
          "Food Services",
          "Food Services",
          "Food Services",
          "Food Services",
          "Health",
          "Health",
          "Health",
          "Health",
          "Health",
          "Health",
          "Health",
          "Health",
          "Health",
          "Human Resources",
          "Human Resources",
          "Labor",
          "Labor",
          "Labor",
          "Labor",
          "Labor",
          "Labor",
          "Labor",
          "Labor",
          "Law",
          "Law",
          "Manufacturing",
          "Manufacturing",
          "Manufacturing",
          "Manufacturing",
          "Media",
          "Media",
          "Operations",
          "Operations",
          "Operations",
          "Professional Services",
          "Professional Services",
          "Professional Services",
          "Professional Services",
          "Professional Services",
          "Professional Services",
          "Professional Services",
          "Professional Services",
          "Professional Services",
          "Professional Services",
          "Professional Services",
          "Professional Services",
          "Real Estate",
          "Retail",
          "Retail",
          "Retail",
          "Retail",
          "Sales",
          "Sales",
          "Technology",
          "Technology",
          "Technology",
          "Technology",
          "Technology",
          "Technology",
          "Technology",
          "Technology",
          "Technology",
          "Technology",
          "Technology",
          "Technology"
         ],
         "y": [
          52307,
          93669,
          31360,
          50378,
          71292,
          74666,
          80585,
          69590,
          76948,
          72458,
          60004,
          33332,
          51745,
          55887,
          67034,
          38010,
          48005,
          96576,
          23503,
          36506,
          27723,
          52589,
          35743,
          26920,
          37950,
          45544,
          34807,
          59462,
          118229,
          31581,
          79320,
          67253,
          79057,
          54881,
          38511,
          40161,
          39922,
          49934,
          38543,
          46638,
          55271,
          41737,
          107918,
          56278,
          75673,
          35933,
          80961,
          71047,
          62372,
          54107,
          58936,
          75254,
          34606,
          44407,
          73745,
          75257,
          74055,
          88002,
          55740,
          39546,
          77678,
          49934,
          104547,
          82334,
          81303,
          59301,
          61497,
          27069,
          30692,
          53864,
          70779,
          52489,
          67924,
          103888,
          102227,
          81173,
          76356,
          88441,
          121295,
          82532,
          46457,
          85912,
          61899,
          77856
         ]
        },
        {
         "marker": {
          "color": "rgba(55, 128, 191, 0.6)",
          "line": {
           "color": "rgba(55, 128, 191, 1.0)",
           "width": 1
          }
         },
         "name": "Boston",
         "orientation": "v",
         "text": "",
         "type": "bar",
         "x": [
          "Design",
          "Education",
          "Education",
          "Education",
          "Engineering",
          "Engineering",
          "Engineering",
          "Engineering",
          "Engineering",
          "Engineering",
          "Finance",
          "Finance",
          "Finance",
          "Finance",
          "Finance",
          "Finance",
          "Finance",
          "Finance",
          "Food Services",
          "Food Services",
          "Food Services",
          "Food Services",
          "Food Services",
          "Health",
          "Health",
          "Health",
          "Health",
          "Health",
          "Health",
          "Health",
          "Health",
          "Health",
          "Human Resources",
          "Human Resources",
          "Labor",
          "Labor",
          "Labor",
          "Labor",
          "Labor",
          "Labor",
          "Labor",
          "Labor",
          "Law",
          "Law",
          "Manufacturing",
          "Manufacturing",
          "Manufacturing",
          "Manufacturing",
          "Media",
          "Media",
          "Operations",
          "Operations",
          "Operations",
          "Professional Services",
          "Professional Services",
          "Professional Services",
          "Professional Services",
          "Professional Services",
          "Professional Services",
          "Professional Services",
          "Professional Services",
          "Professional Services",
          "Professional Services",
          "Professional Services",
          "Professional Services",
          "Real Estate",
          "Retail",
          "Retail",
          "Retail",
          "Retail",
          "Sales",
          "Sales",
          "Technology",
          "Technology",
          "Technology",
          "Technology",
          "Technology",
          "Technology",
          "Technology",
          "Technology",
          "Technology",
          "Technology",
          "Technology",
          "Technology"
         ],
         "y": [
          58616,
          124416,
          38181,
          61327,
          77247,
          94216,
          88989,
          77305,
          85237,
          87677,
          65820,
          36081,
          57868,
          65614,
          70973,
          47809,
          56967,
          105789,
          28662,
          45478,
          35766,
          58153,
          43143,
          35275,
          42958,
          58115,
          41909,
          66761,
          119572,
          35676,
          80261,
          78294,
          90215,
          61408,
          52723,
          46343,
          48176,
          55508,
          45870,
          52747,
          63144,
          47758,
          113028,
          60454,
          83620,
          45383,
          87606,
          75208,
          68038,
          60574,
          63797,
          81968,
          44393,
          53373,
          77910,
          80910,
          84405,
          96865,
          62183,
          47664,
          86684,
          61398,
          113681,
          87490,
          85609,
          71284,
          63084,
          31808,
          35854,
          62037,
          81242,
          60360,
          73836,
          114210,
          109715,
          96405,
          77801,
          101261,
          119592,
          90553,
          58646,
          90980,
          68300,
          85334
         ]
        },
        {
         "marker": {
          "color": "rgba(50, 171, 96, 0.6)",
          "line": {
           "color": "rgba(50, 171, 96, 1.0)",
           "width": 1
          }
         },
         "name": "Chicago",
         "orientation": "v",
         "text": "",
         "type": "bar",
         "x": [
          "Design",
          "Education",
          "Education",
          "Education",
          "Engineering",
          "Engineering",
          "Engineering",
          "Engineering",
          "Engineering",
          "Engineering",
          "Finance",
          "Finance",
          "Finance",
          "Finance",
          "Finance",
          "Finance",
          "Finance",
          "Finance",
          "Food Services",
          "Food Services",
          "Food Services",
          "Food Services",
          "Food Services",
          "Health",
          "Health",
          "Health",
          "Health",
          "Health",
          "Health",
          "Health",
          "Health",
          "Health",
          "Human Resources",
          "Human Resources",
          "Labor",
          "Labor",
          "Labor",
          "Labor",
          "Labor",
          "Labor",
          "Labor",
          "Labor",
          "Law",
          "Law",
          "Manufacturing",
          "Manufacturing",
          "Manufacturing",
          "Manufacturing",
          "Media",
          "Media",
          "Operations",
          "Operations",
          "Operations",
          "Professional Services",
          "Professional Services",
          "Professional Services",
          "Professional Services",
          "Professional Services",
          "Professional Services",
          "Professional Services",
          "Professional Services",
          "Professional Services",
          "Professional Services",
          "Professional Services",
          "Professional Services",
          "Real Estate",
          "Retail",
          "Retail",
          "Retail",
          "Retail",
          "Sales",
          "Sales",
          "Technology",
          "Technology",
          "Technology",
          "Technology",
          "Technology",
          "Technology",
          "Technology",
          "Technology",
          "Technology",
          "Technology",
          "Technology",
          "Technology"
         ],
         "y": [
          53636,
          101815,
          33694,
          56218,
          76466,
          78894,
          83196,
          70938,
          78125,
          77125,
          63102,
          32839,
          57587,
          59442,
          69453,
          42746,
          46991,
          101286,
          26882,
          39347,
          30320,
          53478,
          37842,
          30910,
          34219,
          53120,
          37199,
          57504,
          121657,
          34746,
          79026,
          70755,
          84911,
          56996,
          46835,
          42947,
          43354,
          49206,
          44568,
          50937,
          62153,
          44841,
          114855,
          59415,
          78097,
          37976,
          84768,
          72843,
          65781,
          56969,
          64188,
          76809,
          38873,
          48457,
          76274,
          73586,
          78439,
          89588,
          61757,
          43184,
          83120,
          54387,
          106911,
          83683,
          82974,
          63154,
          66461,
          29877,
          32630,
          56941,
          75077,
          53944,
          67902,
          105836,
          105762,
          84591,
          77800,
          91911,
          118947,
          85134,
          53640,
          84536,
          64393,
          78251
         ]
        },
        {
         "marker": {
          "color": "rgba(128, 0, 128, 0.6)",
          "line": {
           "color": "rgba(128, 0, 128, 1.0)",
           "width": 1
          }
         },
         "name": "Houston",
         "orientation": "v",
         "text": "",
         "type": "bar",
         "x": [
          "Design",
          "Education",
          "Education",
          "Education",
          "Engineering",
          "Engineering",
          "Engineering",
          "Engineering",
          "Engineering",
          "Engineering",
          "Finance",
          "Finance",
          "Finance",
          "Finance",
          "Finance",
          "Finance",
          "Finance",
          "Finance",
          "Food Services",
          "Food Services",
          "Food Services",
          "Food Services",
          "Food Services",
          "Health",
          "Health",
          "Health",
          "Health",
          "Health",
          "Health",
          "Health",
          "Health",
          "Health",
          "Human Resources",
          "Human Resources",
          "Labor",
          "Labor",
          "Labor",
          "Labor",
          "Labor",
          "Labor",
          "Labor",
          "Labor",
          "Law",
          "Law",
          "Manufacturing",
          "Manufacturing",
          "Manufacturing",
          "Manufacturing",
          "Media",
          "Media",
          "Operations",
          "Operations",
          "Operations",
          "Professional Services",
          "Professional Services",
          "Professional Services",
          "Professional Services",
          "Professional Services",
          "Professional Services",
          "Professional Services",
          "Professional Services",
          "Professional Services",
          "Professional Services",
          "Professional Services",
          "Professional Services",
          "Real Estate",
          "Retail",
          "Retail",
          "Retail",
          "Retail",
          "Sales",
          "Sales",
          "Technology",
          "Technology",
          "Technology",
          "Technology",
          "Technology",
          "Technology",
          "Technology",
          "Technology",
          "Technology",
          "Technology",
          "Technology",
          "Technology"
         ],
         "y": [
          49495,
          104098,
          31202,
          54216,
          78336,
          84380,
          85557,
          72080,
          83726,
          77985,
          61408,
          31572,
          53254,
          56142,
          70972,
          39275,
          47115,
          98751,
          23119,
          39913,
          27500,
          53320,
          31201,
          28184,
          38822,
          47020,
          35689,
          57789,
          114702,
          34592,
          78305,
          73120,
          84575,
          55329,
          40985,
          38562,
          42085,
          45552,
          39998,
          50031,
          56627,
          41847,
          124376,
          56342,
          79237,
          37385,
          93187,
          73335,
          57636,
          55229,
          65068,
          74888,
          36284,
          45443,
          73459,
          78940,
          73711,
          85040,
          55529,
          39236,
          75676,
          52777,
          103741,
          79079,
          86315,
          58706,
          62121,
          27330,
          30421,
          54052,
          71627,
          51178,
          67419,
          113651,
          100939,
          85300,
          73416,
          87232,
          110532,
          77991,
          48978,
          78309,
          59430,
          72252
         ]
        },
        {
         "marker": {
          "color": "rgba(219, 64, 82, 0.6)",
          "line": {
           "color": "rgba(219, 64, 82, 1.0)",
           "width": 1
          }
         },
         "name": "Los Angeles",
         "orientation": "v",
         "text": "",
         "type": "bar",
         "x": [
          "Design",
          "Education",
          "Education",
          "Education",
          "Engineering",
          "Engineering",
          "Engineering",
          "Engineering",
          "Engineering",
          "Engineering",
          "Finance",
          "Finance",
          "Finance",
          "Finance",
          "Finance",
          "Finance",
          "Finance",
          "Finance",
          "Food Services",
          "Food Services",
          "Food Services",
          "Food Services",
          "Food Services",
          "Health",
          "Health",
          "Health",
          "Health",
          "Health",
          "Health",
          "Health",
          "Health",
          "Health",
          "Human Resources",
          "Human Resources",
          "Labor",
          "Labor",
          "Labor",
          "Labor",
          "Labor",
          "Labor",
          "Labor",
          "Labor",
          "Law",
          "Law",
          "Manufacturing",
          "Manufacturing",
          "Manufacturing",
          "Manufacturing",
          "Media",
          "Media",
          "Operations",
          "Operations",
          "Operations",
          "Professional Services",
          "Professional Services",
          "Professional Services",
          "Professional Services",
          "Professional Services",
          "Professional Services",
          "Professional Services",
          "Professional Services",
          "Professional Services",
          "Professional Services",
          "Professional Services",
          "Professional Services",
          "Real Estate",
          "Retail",
          "Retail",
          "Retail",
          "Retail",
          "Sales",
          "Sales",
          "Technology",
          "Technology",
          "Technology",
          "Technology",
          "Technology",
          "Technology",
          "Technology",
          "Technology",
          "Technology",
          "Technology",
          "Technology",
          "Technology"
         ],
         "y": [
          60004,
          115901,
          35313,
          64666,
          84642,
          87828,
          90680,
          78500,
          86316,
          84623,
          64371,
          35100,
          61448,
          63198,
          73823,
          48825,
          52168,
          108724,
          28941,
          38223,
          34409,
          60041,
          36065,
          36136,
          36813,
          51954,
          38156,
          65670,
          137104,
          39778,
          94773,
          92991,
          89802,
          64289,
          45513,
          44845,
          42302,
          49212,
          45330,
          54748,
          59369,
          46403,
          134747,
          65998,
          84862,
          39590,
          87711,
          83787,
          80927,
          61556,
          65567,
          81205,
          41128,
          51492,
          77747,
          81916,
          85094,
          94320,
          64616,
          46030,
          87802,
          60436,
          111457,
          92012,
          88339,
          67410,
          66686,
          32596,
          35877,
          64982,
          78722,
          57715,
          75193,
          121080,
          112013,
          90978,
          83497,
          103463,
          124972,
          94649,
          55913,
          93434,
          65705,
          82970
         ]
        },
        {
         "marker": {
          "color": "rgba(0, 128, 128, 0.6)",
          "line": {
           "color": "rgba(0, 128, 128, 1.0)",
           "width": 1
          }
         },
         "name": "New York City",
         "orientation": "v",
         "text": "",
         "type": "bar",
         "x": [
          "Design",
          "Education",
          "Education",
          "Education",
          "Engineering",
          "Engineering",
          "Engineering",
          "Engineering",
          "Engineering",
          "Engineering",
          "Finance",
          "Finance",
          "Finance",
          "Finance",
          "Finance",
          "Finance",
          "Finance",
          "Finance",
          "Food Services",
          "Food Services",
          "Food Services",
          "Food Services",
          "Food Services",
          "Health",
          "Health",
          "Health",
          "Health",
          "Health",
          "Health",
          "Health",
          "Health",
          "Health",
          "Human Resources",
          "Human Resources",
          "Labor",
          "Labor",
          "Labor",
          "Labor",
          "Labor",
          "Labor",
          "Labor",
          "Labor",
          "Law",
          "Law",
          "Manufacturing",
          "Manufacturing",
          "Manufacturing",
          "Manufacturing",
          "Media",
          "Media",
          "Operations",
          "Operations",
          "Operations",
          "Professional Services",
          "Professional Services",
          "Professional Services",
          "Professional Services",
          "Professional Services",
          "Professional Services",
          "Professional Services",
          "Professional Services",
          "Professional Services",
          "Professional Services",
          "Professional Services",
          "Professional Services",
          "Real Estate",
          "Retail",
          "Retail",
          "Retail",
          "Retail",
          "Sales",
          "Sales",
          "Technology",
          "Technology",
          "Technology",
          "Technology",
          "Technology",
          "Technology",
          "Technology",
          "Technology",
          "Technology",
          "Technology",
          "Technology",
          "Technology"
         ],
         "y": [
          60913,
          116551,
          37979,
          67552,
          80995,
          82846,
          83706,
          76816,
          79246,
          77654,
          66776,
          36488,
          60526,
          64657,
          78853,
          45063,
          53181,
          118759,
          29509,
          41636,
          33440,
          60039,
          37165,
          37968,
          41161,
          55879,
          39274,
          65854,
          122105,
          33626,
          81115,
          88917,
          92513,
          65360,
          52226,
          43057,
          43713,
          49766,
          41041,
          54911,
          60102,
          42315,
          130640,
          60203,
          77649,
          41884,
          86043,
          82019,
          79901,
          59436,
          74186,
          83166,
          41829,
          53323,
          82947,
          85287,
          87025,
          93858,
          63396,
          45664,
          87815,
          60504,
          115929,
          91567,
          90081,
          72101,
          74162,
          30943,
          36448,
          63145,
          81653,
          58812,
          74828,
          117373,
          110035,
          89942,
          85597,
          110695,
          126424,
          91868,
          58419,
          95097,
          68077,
          87284
         ]
        },
        {
         "marker": {
          "color": "rgba(255, 255, 51, 0.6)",
          "line": {
           "color": "rgba(255, 255, 51, 1.0)",
           "width": 1
          }
         },
         "name": "Philadelphia",
         "orientation": "v",
         "text": "",
         "type": "bar",
         "x": [
          "Design",
          "Education",
          "Education",
          "Education",
          "Engineering",
          "Engineering",
          "Engineering",
          "Engineering",
          "Engineering",
          "Engineering",
          "Finance",
          "Finance",
          "Finance",
          "Finance",
          "Finance",
          "Finance",
          "Finance",
          "Finance",
          "Food Services",
          "Food Services",
          "Food Services",
          "Food Services",
          "Food Services",
          "Health",
          "Health",
          "Health",
          "Health",
          "Health",
          "Health",
          "Health",
          "Health",
          "Health",
          "Human Resources",
          "Human Resources",
          "Labor",
          "Labor",
          "Labor",
          "Labor",
          "Labor",
          "Labor",
          "Labor",
          "Labor",
          "Law",
          "Law",
          "Manufacturing",
          "Manufacturing",
          "Manufacturing",
          "Manufacturing",
          "Media",
          "Media",
          "Operations",
          "Operations",
          "Operations",
          "Professional Services",
          "Professional Services",
          "Professional Services",
          "Professional Services",
          "Professional Services",
          "Professional Services",
          "Professional Services",
          "Professional Services",
          "Professional Services",
          "Professional Services",
          "Professional Services",
          "Professional Services",
          "Real Estate",
          "Retail",
          "Retail",
          "Retail",
          "Retail",
          "Sales",
          "Sales",
          "Technology",
          "Technology",
          "Technology",
          "Technology",
          "Technology",
          "Technology",
          "Technology",
          "Technology",
          "Technology",
          "Technology",
          "Technology",
          "Technology"
         ],
         "y": [
          51620,
          102934,
          32601,
          54601,
          76147,
          77028,
          83781,
          70871,
          79553,
          78531,
          61100,
          33488,
          55996,
          64757,
          66183,
          44430,
          47502,
          98735,
          24155,
          38251,
          31345,
          53333,
          36943,
          32369,
          39289,
          54969,
          36195,
          61477,
          120323,
          31718,
          79667,
          75674,
          80933,
          55233,
          46550,
          42762,
          45998,
          48729,
          40018,
          50865,
          61895,
          43880,
          111500,
          53903,
          78751,
          38792,
          84038,
          71094,
          60284,
          55933,
          62078,
          76035,
          37347,
          46192,
          71239,
          73547,
          76597,
          84722,
          57532,
          42493,
          79608,
          54668,
          100355,
          81182,
          80660,
          63026,
          62027,
          27921,
          31746,
          56951,
          72624,
          54220,
          67092,
          105968,
          102307,
          83343,
          76001,
          89641,
          117611,
          83349,
          51340,
          79303,
          58624,
          74319
         ]
        },
        {
         "marker": {
          "color": "rgba(128, 128, 0, 0.6)",
          "line": {
           "color": "rgba(128, 128, 0, 1.0)",
           "width": 1
          }
         },
         "name": "San Francisco",
         "orientation": "v",
         "text": "",
         "type": "bar",
         "x": [
          "Design",
          "Education",
          "Education",
          "Education",
          "Engineering",
          "Engineering",
          "Engineering",
          "Engineering",
          "Engineering",
          "Engineering",
          "Finance",
          "Finance",
          "Finance",
          "Finance",
          "Finance",
          "Finance",
          "Finance",
          "Finance",
          "Food Services",
          "Food Services",
          "Food Services",
          "Food Services",
          "Food Services",
          "Health",
          "Health",
          "Health",
          "Health",
          "Health",
          "Health",
          "Health",
          "Health",
          "Health",
          "Human Resources",
          "Human Resources",
          "Labor",
          "Labor",
          "Labor",
          "Labor",
          "Labor",
          "Labor",
          "Labor",
          "Labor",
          "Law",
          "Law",
          "Manufacturing",
          "Manufacturing",
          "Manufacturing",
          "Manufacturing",
          "Media",
          "Media",
          "Operations",
          "Operations",
          "Operations",
          "Professional Services",
          "Professional Services",
          "Professional Services",
          "Professional Services",
          "Professional Services",
          "Professional Services",
          "Professional Services",
          "Professional Services",
          "Professional Services",
          "Professional Services",
          "Professional Services",
          "Professional Services",
          "Real Estate",
          "Retail",
          "Retail",
          "Retail",
          "Retail",
          "Sales",
          "Sales",
          "Technology",
          "Technology",
          "Technology",
          "Technology",
          "Technology",
          "Technology",
          "Technology",
          "Technology",
          "Technology",
          "Technology",
          "Technology",
          "Technology"
         ],
         "y": [
          74986,
          130761,
          40695,
          70271,
          93333,
          99611,
          106452,
          82482,
          100777,
          95512,
          75838,
          37945,
          68462,
          73291,
          87275,
          53253,
          62277,
          118895,
          32417,
          43996,
          39340,
          64301,
          41194,
          41741,
          46205,
          64041,
          52013,
          76584,
          144318,
          48723,
          102275,
          120484,
          105902,
          80131,
          59499,
          51370,
          54182,
          62075,
          53788,
          61870,
          70599,
          54896,
          155654,
          75930,
          99148,
          47338,
          102622,
          93133,
          88415,
          66410,
          77930,
          96895,
          52538,
          60824,
          90445,
          96836,
          104708,
          101602,
          73869,
          52146,
          105933,
          70936,
          137309,
          105386,
          100082,
          78074,
          82052,
          36210,
          40228,
          71087,
          88851,
          66561,
          93617,
          143513,
          127397,
          104358,
          95660,
          127511,
          138842,
          106969,
          68588,
          112133,
          83150,
          104640
         ]
        },
        {
         "marker": {
          "color": "rgba(251, 128, 114, 0.6)",
          "line": {
           "color": "rgba(251, 128, 114, 1.0)",
           "width": 1
          }
         },
         "name": "Seattle",
         "orientation": "v",
         "text": "",
         "type": "bar",
         "x": [
          "Design",
          "Education",
          "Education",
          "Education",
          "Engineering",
          "Engineering",
          "Engineering",
          "Engineering",
          "Engineering",
          "Engineering",
          "Finance",
          "Finance",
          "Finance",
          "Finance",
          "Finance",
          "Finance",
          "Finance",
          "Finance",
          "Food Services",
          "Food Services",
          "Food Services",
          "Food Services",
          "Food Services",
          "Health",
          "Health",
          "Health",
          "Health",
          "Health",
          "Health",
          "Health",
          "Health",
          "Health",
          "Human Resources",
          "Human Resources",
          "Labor",
          "Labor",
          "Labor",
          "Labor",
          "Labor",
          "Labor",
          "Labor",
          "Labor",
          "Law",
          "Law",
          "Manufacturing",
          "Manufacturing",
          "Manufacturing",
          "Manufacturing",
          "Media",
          "Media",
          "Operations",
          "Operations",
          "Operations",
          "Professional Services",
          "Professional Services",
          "Professional Services",
          "Professional Services",
          "Professional Services",
          "Professional Services",
          "Professional Services",
          "Professional Services",
          "Professional Services",
          "Professional Services",
          "Professional Services",
          "Professional Services",
          "Real Estate",
          "Retail",
          "Retail",
          "Retail",
          "Retail",
          "Sales",
          "Sales",
          "Technology",
          "Technology",
          "Technology",
          "Technology",
          "Technology",
          "Technology",
          "Technology",
          "Technology",
          "Technology",
          "Technology",
          "Technology",
          "Technology"
         ],
         "y": [
          62118,
          109108,
          34735,
          59578,
          81285,
          87574,
          93303,
          77500,
          87967,
          84754,
          65583,
          36057,
          56849,
          61272,
          76334,
          44430,
          53768,
          102492,
          31101,
          41781,
          36690,
          55817,
          39527,
          37276,
          42801,
          55609,
          46337,
          69020,
          126786,
          44046,
          80217,
          79433,
          90289,
          65215,
          55374,
          48671,
          47883,
          54257,
          51208,
          56380,
          61889,
          51844,
          120780,
          66086,
          83023,
          43752,
          92305,
          73947,
          79715,
          75060,
          70101,
          82921,
          48141,
          52464,
          80660,
          87374,
          85656,
          93056,
          64510,
          46851,
          90870,
          60655,
          118766,
          99098,
          87868,
          68113,
          71037,
          35947,
          36815,
          62059,
          78546,
          56817,
          75140,
          128650,
          112043,
          92885,
          88844,
          118376,
          124766,
          95389,
          55575,
          101237,
          67126,
          89770
         ]
        },
        {
         "marker": {
          "color": "rgba(128, 177, 211, 0.6)",
          "line": {
           "color": "rgba(128, 177, 211, 1.0)",
           "width": 1
          }
         },
         "name": "Washington DC",
         "orientation": "v",
         "text": "",
         "type": "bar",
         "x": [
          "Design",
          "Education",
          "Education",
          "Education",
          "Engineering",
          "Engineering",
          "Engineering",
          "Engineering",
          "Engineering",
          "Engineering",
          "Finance",
          "Finance",
          "Finance",
          "Finance",
          "Finance",
          "Finance",
          "Finance",
          "Finance",
          "Food Services",
          "Food Services",
          "Food Services",
          "Food Services",
          "Food Services",
          "Health",
          "Health",
          "Health",
          "Health",
          "Health",
          "Health",
          "Health",
          "Health",
          "Health",
          "Human Resources",
          "Human Resources",
          "Labor",
          "Labor",
          "Labor",
          "Labor",
          "Labor",
          "Labor",
          "Labor",
          "Labor",
          "Law",
          "Law",
          "Manufacturing",
          "Manufacturing",
          "Manufacturing",
          "Manufacturing",
          "Media",
          "Media",
          "Operations",
          "Operations",
          "Operations",
          "Professional Services",
          "Professional Services",
          "Professional Services",
          "Professional Services",
          "Professional Services",
          "Professional Services",
          "Professional Services",
          "Professional Services",
          "Professional Services",
          "Professional Services",
          "Professional Services",
          "Professional Services",
          "Real Estate",
          "Retail",
          "Retail",
          "Retail",
          "Retail",
          "Sales",
          "Sales",
          "Technology",
          "Technology",
          "Technology",
          "Technology",
          "Technology",
          "Technology",
          "Technology",
          "Technology",
          "Technology",
          "Technology",
          "Technology",
          "Technology"
         ],
         "y": [
          59308,
          104065,
          35872,
          61218,
          78854,
          87430,
          88578,
          75011,
          81546,
          85117,
          67973,
          35803,
          57794,
          62066,
          74332,
          47298,
          52695,
          108209,
          27888,
          42757,
          32121,
          56418,
          38315,
          32924,
          43208,
          50446,
          39672,
          60568,
          124625,
          34851,
          84027,
          73272,
          87439,
          63861,
          46010,
          42356,
          42865,
          51109,
          44032,
          54169,
          58373,
          43959,
          138705,
          61082,
          81152,
          40016,
          86662,
          75350,
          72453,
          67332,
          73700,
          80788,
          49425,
          51329,
          79502,
          86231,
          85167,
          85819,
          58538,
          43828,
          81478,
          58964,
          114090,
          98359,
          91271,
          68899,
          63293,
          29918,
          33792,
          60261,
          74992,
          56571,
          76103,
          107966,
          110420,
          83775,
          82165,
          99587,
          126983,
          94236,
          59011,
          91979,
          69062,
          89420
         ]
        }
       ],
       "layout": {
        "legend": {
         "bgcolor": "#F5F6F9",
         "font": {
          "color": "#4D5663"
         }
        },
        "paper_bgcolor": "#F5F6F9",
        "plot_bgcolor": "#F5F6F9",
        "template": {
         "data": {
          "bar": [
           {
            "error_x": {
             "color": "#2a3f5f"
            },
            "error_y": {
             "color": "#2a3f5f"
            },
            "marker": {
             "line": {
              "color": "#E5ECF6",
              "width": 0.5
             }
            },
            "type": "bar"
           }
          ],
          "barpolar": [
           {
            "marker": {
             "line": {
              "color": "#E5ECF6",
              "width": 0.5
             }
            },
            "type": "barpolar"
           }
          ],
          "carpet": [
           {
            "aaxis": {
             "endlinecolor": "#2a3f5f",
             "gridcolor": "white",
             "linecolor": "white",
             "minorgridcolor": "white",
             "startlinecolor": "#2a3f5f"
            },
            "baxis": {
             "endlinecolor": "#2a3f5f",
             "gridcolor": "white",
             "linecolor": "white",
             "minorgridcolor": "white",
             "startlinecolor": "#2a3f5f"
            },
            "type": "carpet"
           }
          ],
          "choropleth": [
           {
            "colorbar": {
             "outlinewidth": 0,
             "ticks": ""
            },
            "type": "choropleth"
           }
          ],
          "contour": [
           {
            "colorbar": {
             "outlinewidth": 0,
             "ticks": ""
            },
            "colorscale": [
             [
              0,
              "#0d0887"
             ],
             [
              0.1111111111111111,
              "#46039f"
             ],
             [
              0.2222222222222222,
              "#7201a8"
             ],
             [
              0.3333333333333333,
              "#9c179e"
             ],
             [
              0.4444444444444444,
              "#bd3786"
             ],
             [
              0.5555555555555556,
              "#d8576b"
             ],
             [
              0.6666666666666666,
              "#ed7953"
             ],
             [
              0.7777777777777778,
              "#fb9f3a"
             ],
             [
              0.8888888888888888,
              "#fdca26"
             ],
             [
              1,
              "#f0f921"
             ]
            ],
            "type": "contour"
           }
          ],
          "contourcarpet": [
           {
            "colorbar": {
             "outlinewidth": 0,
             "ticks": ""
            },
            "type": "contourcarpet"
           }
          ],
          "heatmap": [
           {
            "colorbar": {
             "outlinewidth": 0,
             "ticks": ""
            },
            "colorscale": [
             [
              0,
              "#0d0887"
             ],
             [
              0.1111111111111111,
              "#46039f"
             ],
             [
              0.2222222222222222,
              "#7201a8"
             ],
             [
              0.3333333333333333,
              "#9c179e"
             ],
             [
              0.4444444444444444,
              "#bd3786"
             ],
             [
              0.5555555555555556,
              "#d8576b"
             ],
             [
              0.6666666666666666,
              "#ed7953"
             ],
             [
              0.7777777777777778,
              "#fb9f3a"
             ],
             [
              0.8888888888888888,
              "#fdca26"
             ],
             [
              1,
              "#f0f921"
             ]
            ],
            "type": "heatmap"
           }
          ],
          "heatmapgl": [
           {
            "colorbar": {
             "outlinewidth": 0,
             "ticks": ""
            },
            "colorscale": [
             [
              0,
              "#0d0887"
             ],
             [
              0.1111111111111111,
              "#46039f"
             ],
             [
              0.2222222222222222,
              "#7201a8"
             ],
             [
              0.3333333333333333,
              "#9c179e"
             ],
             [
              0.4444444444444444,
              "#bd3786"
             ],
             [
              0.5555555555555556,
              "#d8576b"
             ],
             [
              0.6666666666666666,
              "#ed7953"
             ],
             [
              0.7777777777777778,
              "#fb9f3a"
             ],
             [
              0.8888888888888888,
              "#fdca26"
             ],
             [
              1,
              "#f0f921"
             ]
            ],
            "type": "heatmapgl"
           }
          ],
          "histogram": [
           {
            "marker": {
             "colorbar": {
              "outlinewidth": 0,
              "ticks": ""
             }
            },
            "type": "histogram"
           }
          ],
          "histogram2d": [
           {
            "colorbar": {
             "outlinewidth": 0,
             "ticks": ""
            },
            "colorscale": [
             [
              0,
              "#0d0887"
             ],
             [
              0.1111111111111111,
              "#46039f"
             ],
             [
              0.2222222222222222,
              "#7201a8"
             ],
             [
              0.3333333333333333,
              "#9c179e"
             ],
             [
              0.4444444444444444,
              "#bd3786"
             ],
             [
              0.5555555555555556,
              "#d8576b"
             ],
             [
              0.6666666666666666,
              "#ed7953"
             ],
             [
              0.7777777777777778,
              "#fb9f3a"
             ],
             [
              0.8888888888888888,
              "#fdca26"
             ],
             [
              1,
              "#f0f921"
             ]
            ],
            "type": "histogram2d"
           }
          ],
          "histogram2dcontour": [
           {
            "colorbar": {
             "outlinewidth": 0,
             "ticks": ""
            },
            "colorscale": [
             [
              0,
              "#0d0887"
             ],
             [
              0.1111111111111111,
              "#46039f"
             ],
             [
              0.2222222222222222,
              "#7201a8"
             ],
             [
              0.3333333333333333,
              "#9c179e"
             ],
             [
              0.4444444444444444,
              "#bd3786"
             ],
             [
              0.5555555555555556,
              "#d8576b"
             ],
             [
              0.6666666666666666,
              "#ed7953"
             ],
             [
              0.7777777777777778,
              "#fb9f3a"
             ],
             [
              0.8888888888888888,
              "#fdca26"
             ],
             [
              1,
              "#f0f921"
             ]
            ],
            "type": "histogram2dcontour"
           }
          ],
          "mesh3d": [
           {
            "colorbar": {
             "outlinewidth": 0,
             "ticks": ""
            },
            "type": "mesh3d"
           }
          ],
          "parcoords": [
           {
            "line": {
             "colorbar": {
              "outlinewidth": 0,
              "ticks": ""
             }
            },
            "type": "parcoords"
           }
          ],
          "pie": [
           {
            "automargin": true,
            "type": "pie"
           }
          ],
          "scatter": [
           {
            "marker": {
             "colorbar": {
              "outlinewidth": 0,
              "ticks": ""
             }
            },
            "type": "scatter"
           }
          ],
          "scatter3d": [
           {
            "line": {
             "colorbar": {
              "outlinewidth": 0,
              "ticks": ""
             }
            },
            "marker": {
             "colorbar": {
              "outlinewidth": 0,
              "ticks": ""
             }
            },
            "type": "scatter3d"
           }
          ],
          "scattercarpet": [
           {
            "marker": {
             "colorbar": {
              "outlinewidth": 0,
              "ticks": ""
             }
            },
            "type": "scattercarpet"
           }
          ],
          "scattergeo": [
           {
            "marker": {
             "colorbar": {
              "outlinewidth": 0,
              "ticks": ""
             }
            },
            "type": "scattergeo"
           }
          ],
          "scattergl": [
           {
            "marker": {
             "colorbar": {
              "outlinewidth": 0,
              "ticks": ""
             }
            },
            "type": "scattergl"
           }
          ],
          "scattermapbox": [
           {
            "marker": {
             "colorbar": {
              "outlinewidth": 0,
              "ticks": ""
             }
            },
            "type": "scattermapbox"
           }
          ],
          "scatterpolar": [
           {
            "marker": {
             "colorbar": {
              "outlinewidth": 0,
              "ticks": ""
             }
            },
            "type": "scatterpolar"
           }
          ],
          "scatterpolargl": [
           {
            "marker": {
             "colorbar": {
              "outlinewidth": 0,
              "ticks": ""
             }
            },
            "type": "scatterpolargl"
           }
          ],
          "scatterternary": [
           {
            "marker": {
             "colorbar": {
              "outlinewidth": 0,
              "ticks": ""
             }
            },
            "type": "scatterternary"
           }
          ],
          "surface": [
           {
            "colorbar": {
             "outlinewidth": 0,
             "ticks": ""
            },
            "colorscale": [
             [
              0,
              "#0d0887"
             ],
             [
              0.1111111111111111,
              "#46039f"
             ],
             [
              0.2222222222222222,
              "#7201a8"
             ],
             [
              0.3333333333333333,
              "#9c179e"
             ],
             [
              0.4444444444444444,
              "#bd3786"
             ],
             [
              0.5555555555555556,
              "#d8576b"
             ],
             [
              0.6666666666666666,
              "#ed7953"
             ],
             [
              0.7777777777777778,
              "#fb9f3a"
             ],
             [
              0.8888888888888888,
              "#fdca26"
             ],
             [
              1,
              "#f0f921"
             ]
            ],
            "type": "surface"
           }
          ],
          "table": [
           {
            "cells": {
             "fill": {
              "color": "#EBF0F8"
             },
             "line": {
              "color": "white"
             }
            },
            "header": {
             "fill": {
              "color": "#C8D4E3"
             },
             "line": {
              "color": "white"
             }
            },
            "type": "table"
           }
          ]
         },
         "layout": {
          "annotationdefaults": {
           "arrowcolor": "#2a3f5f",
           "arrowhead": 0,
           "arrowwidth": 1
          },
          "coloraxis": {
           "colorbar": {
            "outlinewidth": 0,
            "ticks": ""
           }
          },
          "colorscale": {
           "diverging": [
            [
             0,
             "#8e0152"
            ],
            [
             0.1,
             "#c51b7d"
            ],
            [
             0.2,
             "#de77ae"
            ],
            [
             0.3,
             "#f1b6da"
            ],
            [
             0.4,
             "#fde0ef"
            ],
            [
             0.5,
             "#f7f7f7"
            ],
            [
             0.6,
             "#e6f5d0"
            ],
            [
             0.7,
             "#b8e186"
            ],
            [
             0.8,
             "#7fbc41"
            ],
            [
             0.9,
             "#4d9221"
            ],
            [
             1,
             "#276419"
            ]
           ],
           "sequential": [
            [
             0,
             "#0d0887"
            ],
            [
             0.1111111111111111,
             "#46039f"
            ],
            [
             0.2222222222222222,
             "#7201a8"
            ],
            [
             0.3333333333333333,
             "#9c179e"
            ],
            [
             0.4444444444444444,
             "#bd3786"
            ],
            [
             0.5555555555555556,
             "#d8576b"
            ],
            [
             0.6666666666666666,
             "#ed7953"
            ],
            [
             0.7777777777777778,
             "#fb9f3a"
            ],
            [
             0.8888888888888888,
             "#fdca26"
            ],
            [
             1,
             "#f0f921"
            ]
           ],
           "sequentialminus": [
            [
             0,
             "#0d0887"
            ],
            [
             0.1111111111111111,
             "#46039f"
            ],
            [
             0.2222222222222222,
             "#7201a8"
            ],
            [
             0.3333333333333333,
             "#9c179e"
            ],
            [
             0.4444444444444444,
             "#bd3786"
            ],
            [
             0.5555555555555556,
             "#d8576b"
            ],
            [
             0.6666666666666666,
             "#ed7953"
            ],
            [
             0.7777777777777778,
             "#fb9f3a"
            ],
            [
             0.8888888888888888,
             "#fdca26"
            ],
            [
             1,
             "#f0f921"
            ]
           ]
          },
          "colorway": [
           "#636efa",
           "#EF553B",
           "#00cc96",
           "#ab63fa",
           "#FFA15A",
           "#19d3f3",
           "#FF6692",
           "#B6E880",
           "#FF97FF",
           "#FECB52"
          ],
          "font": {
           "color": "#2a3f5f"
          },
          "geo": {
           "bgcolor": "white",
           "lakecolor": "white",
           "landcolor": "#E5ECF6",
           "showlakes": true,
           "showland": true,
           "subunitcolor": "white"
          },
          "hoverlabel": {
           "align": "left"
          },
          "hovermode": "closest",
          "mapbox": {
           "style": "light"
          },
          "paper_bgcolor": "white",
          "plot_bgcolor": "#E5ECF6",
          "polar": {
           "angularaxis": {
            "gridcolor": "white",
            "linecolor": "white",
            "ticks": ""
           },
           "bgcolor": "#E5ECF6",
           "radialaxis": {
            "gridcolor": "white",
            "linecolor": "white",
            "ticks": ""
           }
          },
          "scene": {
           "xaxis": {
            "backgroundcolor": "#E5ECF6",
            "gridcolor": "white",
            "gridwidth": 2,
            "linecolor": "white",
            "showbackground": true,
            "ticks": "",
            "zerolinecolor": "white"
           },
           "yaxis": {
            "backgroundcolor": "#E5ECF6",
            "gridcolor": "white",
            "gridwidth": 2,
            "linecolor": "white",
            "showbackground": true,
            "ticks": "",
            "zerolinecolor": "white"
           },
           "zaxis": {
            "backgroundcolor": "#E5ECF6",
            "gridcolor": "white",
            "gridwidth": 2,
            "linecolor": "white",
            "showbackground": true,
            "ticks": "",
            "zerolinecolor": "white"
           }
          },
          "shapedefaults": {
           "line": {
            "color": "#2a3f5f"
           }
          },
          "ternary": {
           "aaxis": {
            "gridcolor": "white",
            "linecolor": "white",
            "ticks": ""
           },
           "baxis": {
            "gridcolor": "white",
            "linecolor": "white",
            "ticks": ""
           },
           "bgcolor": "#E5ECF6",
           "caxis": {
            "gridcolor": "white",
            "linecolor": "white",
            "ticks": ""
           }
          },
          "title": {
           "x": 0.05
          },
          "xaxis": {
           "automargin": true,
           "gridcolor": "white",
           "linecolor": "white",
           "ticks": "",
           "title": {
            "standoff": 15
           },
           "zerolinecolor": "white",
           "zerolinewidth": 2
          },
          "yaxis": {
           "automargin": true,
           "gridcolor": "white",
           "linecolor": "white",
           "ticks": "",
           "title": {
            "standoff": 15
           },
           "zerolinecolor": "white",
           "zerolinewidth": 2
          }
         }
        },
        "title": {
         "font": {
          "color": "#4D5663"
         }
        },
        "xaxis": {
         "gridcolor": "#E1E5ED",
         "showgrid": true,
         "tickfont": {
          "color": "#4D5663"
         },
         "title": {
          "font": {
           "color": "#4D5663"
          },
          "text": ""
         },
         "zerolinecolor": "#E1E5ED"
        },
        "yaxis": {
         "gridcolor": "#E1E5ED",
         "showgrid": true,
         "tickfont": {
          "color": "#4D5663"
         },
         "title": {
          "font": {
           "color": "#4D5663"
          },
          "text": ""
         },
         "zerolinecolor": "#E1E5ED"
        }
       }
      },
      "text/html": [
       "<div>\n",
       "        \n",
       "        \n",
       "            <div id=\"47466ae9-5bbb-4981-b57f-a70b15dbaa79\" class=\"plotly-graph-div\" style=\"height:525px; width:100%;\"></div>\n",
       "            <script type=\"text/javascript\">\n",
       "                require([\"plotly\"], function(Plotly) {\n",
       "                    window.PLOTLYENV=window.PLOTLYENV || {};\n",
       "                    window.PLOTLYENV.BASE_URL='https://plot.ly';\n",
       "                    \n",
       "                if (document.getElementById(\"47466ae9-5bbb-4981-b57f-a70b15dbaa79\")) {\n",
       "                    Plotly.newPlot(\n",
       "                        '47466ae9-5bbb-4981-b57f-a70b15dbaa79',\n",
       "                        [{\"marker\": {\"color\": \"rgba(255, 153, 51, 0.6)\", \"line\": {\"color\": \"rgba(255, 153, 51, 1.0)\", \"width\": 1}}, \"name\": \"Atlanta\", \"orientation\": \"v\", \"text\": \"\", \"type\": \"bar\", \"x\": [\"Design\", \"Education\", \"Education\", \"Education\", \"Engineering\", \"Engineering\", \"Engineering\", \"Engineering\", \"Engineering\", \"Engineering\", \"Finance\", \"Finance\", \"Finance\", \"Finance\", \"Finance\", \"Finance\", \"Finance\", \"Finance\", \"Food Services\", \"Food Services\", \"Food Services\", \"Food Services\", \"Food Services\", \"Health\", \"Health\", \"Health\", \"Health\", \"Health\", \"Health\", \"Health\", \"Health\", \"Health\", \"Human Resources\", \"Human Resources\", \"Labor\", \"Labor\", \"Labor\", \"Labor\", \"Labor\", \"Labor\", \"Labor\", \"Labor\", \"Law\", \"Law\", \"Manufacturing\", \"Manufacturing\", \"Manufacturing\", \"Manufacturing\", \"Media\", \"Media\", \"Operations\", \"Operations\", \"Operations\", \"Professional Services\", \"Professional Services\", \"Professional Services\", \"Professional Services\", \"Professional Services\", \"Professional Services\", \"Professional Services\", \"Professional Services\", \"Professional Services\", \"Professional Services\", \"Professional Services\", \"Professional Services\", \"Real Estate\", \"Retail\", \"Retail\", \"Retail\", \"Retail\", \"Sales\", \"Sales\", \"Technology\", \"Technology\", \"Technology\", \"Technology\", \"Technology\", \"Technology\", \"Technology\", \"Technology\", \"Technology\", \"Technology\", \"Technology\", \"Technology\"], \"y\": [52307, 93669, 31360, 50378, 71292, 74666, 80585, 69590, 76948, 72458, 60004, 33332, 51745, 55887, 67034, 38010, 48005, 96576, 23503, 36506, 27723, 52589, 35743, 26920, 37950, 45544, 34807, 59462, 118229, 31581, 79320, 67253, 79057, 54881, 38511, 40161, 39922, 49934, 38543, 46638, 55271, 41737, 107918, 56278, 75673, 35933, 80961, 71047, 62372, 54107, 58936, 75254, 34606, 44407, 73745, 75257, 74055, 88002, 55740, 39546, 77678, 49934, 104547, 82334, 81303, 59301, 61497, 27069, 30692, 53864, 70779, 52489, 67924, 103888, 102227, 81173, 76356, 88441, 121295, 82532, 46457, 85912, 61899, 77856]}, {\"marker\": {\"color\": \"rgba(55, 128, 191, 0.6)\", \"line\": {\"color\": \"rgba(55, 128, 191, 1.0)\", \"width\": 1}}, \"name\": \"Boston\", \"orientation\": \"v\", \"text\": \"\", \"type\": \"bar\", \"x\": [\"Design\", \"Education\", \"Education\", \"Education\", \"Engineering\", \"Engineering\", \"Engineering\", \"Engineering\", \"Engineering\", \"Engineering\", \"Finance\", \"Finance\", \"Finance\", \"Finance\", \"Finance\", \"Finance\", \"Finance\", \"Finance\", \"Food Services\", \"Food Services\", \"Food Services\", \"Food Services\", \"Food Services\", \"Health\", \"Health\", \"Health\", \"Health\", \"Health\", \"Health\", \"Health\", \"Health\", \"Health\", \"Human Resources\", \"Human Resources\", \"Labor\", \"Labor\", \"Labor\", \"Labor\", \"Labor\", \"Labor\", \"Labor\", \"Labor\", \"Law\", \"Law\", \"Manufacturing\", \"Manufacturing\", \"Manufacturing\", \"Manufacturing\", \"Media\", \"Media\", \"Operations\", \"Operations\", \"Operations\", \"Professional Services\", \"Professional Services\", \"Professional Services\", \"Professional Services\", \"Professional Services\", \"Professional Services\", \"Professional Services\", \"Professional Services\", \"Professional Services\", \"Professional Services\", \"Professional Services\", \"Professional Services\", \"Real Estate\", \"Retail\", \"Retail\", \"Retail\", \"Retail\", \"Sales\", \"Sales\", \"Technology\", \"Technology\", \"Technology\", \"Technology\", \"Technology\", \"Technology\", \"Technology\", \"Technology\", \"Technology\", \"Technology\", \"Technology\", \"Technology\"], \"y\": [58616, 124416, 38181, 61327, 77247, 94216, 88989, 77305, 85237, 87677, 65820, 36081, 57868, 65614, 70973, 47809, 56967, 105789, 28662, 45478, 35766, 58153, 43143, 35275, 42958, 58115, 41909, 66761, 119572, 35676, 80261, 78294, 90215, 61408, 52723, 46343, 48176, 55508, 45870, 52747, 63144, 47758, 113028, 60454, 83620, 45383, 87606, 75208, 68038, 60574, 63797, 81968, 44393, 53373, 77910, 80910, 84405, 96865, 62183, 47664, 86684, 61398, 113681, 87490, 85609, 71284, 63084, 31808, 35854, 62037, 81242, 60360, 73836, 114210, 109715, 96405, 77801, 101261, 119592, 90553, 58646, 90980, 68300, 85334]}, {\"marker\": {\"color\": \"rgba(50, 171, 96, 0.6)\", \"line\": {\"color\": \"rgba(50, 171, 96, 1.0)\", \"width\": 1}}, \"name\": \"Chicago\", \"orientation\": \"v\", \"text\": \"\", \"type\": \"bar\", \"x\": [\"Design\", \"Education\", \"Education\", \"Education\", \"Engineering\", \"Engineering\", \"Engineering\", \"Engineering\", \"Engineering\", \"Engineering\", \"Finance\", \"Finance\", \"Finance\", \"Finance\", \"Finance\", \"Finance\", \"Finance\", \"Finance\", \"Food Services\", \"Food Services\", \"Food Services\", \"Food Services\", \"Food Services\", \"Health\", \"Health\", \"Health\", \"Health\", \"Health\", \"Health\", \"Health\", \"Health\", \"Health\", \"Human Resources\", \"Human Resources\", \"Labor\", \"Labor\", \"Labor\", \"Labor\", \"Labor\", \"Labor\", \"Labor\", \"Labor\", \"Law\", \"Law\", \"Manufacturing\", \"Manufacturing\", \"Manufacturing\", \"Manufacturing\", \"Media\", \"Media\", \"Operations\", \"Operations\", \"Operations\", \"Professional Services\", \"Professional Services\", \"Professional Services\", \"Professional Services\", \"Professional Services\", \"Professional Services\", \"Professional Services\", \"Professional Services\", \"Professional Services\", \"Professional Services\", \"Professional Services\", \"Professional Services\", \"Real Estate\", \"Retail\", \"Retail\", \"Retail\", \"Retail\", \"Sales\", \"Sales\", \"Technology\", \"Technology\", \"Technology\", \"Technology\", \"Technology\", \"Technology\", \"Technology\", \"Technology\", \"Technology\", \"Technology\", \"Technology\", \"Technology\"], \"y\": [53636, 101815, 33694, 56218, 76466, 78894, 83196, 70938, 78125, 77125, 63102, 32839, 57587, 59442, 69453, 42746, 46991, 101286, 26882, 39347, 30320, 53478, 37842, 30910, 34219, 53120, 37199, 57504, 121657, 34746, 79026, 70755, 84911, 56996, 46835, 42947, 43354, 49206, 44568, 50937, 62153, 44841, 114855, 59415, 78097, 37976, 84768, 72843, 65781, 56969, 64188, 76809, 38873, 48457, 76274, 73586, 78439, 89588, 61757, 43184, 83120, 54387, 106911, 83683, 82974, 63154, 66461, 29877, 32630, 56941, 75077, 53944, 67902, 105836, 105762, 84591, 77800, 91911, 118947, 85134, 53640, 84536, 64393, 78251]}, {\"marker\": {\"color\": \"rgba(128, 0, 128, 0.6)\", \"line\": {\"color\": \"rgba(128, 0, 128, 1.0)\", \"width\": 1}}, \"name\": \"Houston\", \"orientation\": \"v\", \"text\": \"\", \"type\": \"bar\", \"x\": [\"Design\", \"Education\", \"Education\", \"Education\", \"Engineering\", \"Engineering\", \"Engineering\", \"Engineering\", \"Engineering\", \"Engineering\", \"Finance\", \"Finance\", \"Finance\", \"Finance\", \"Finance\", \"Finance\", \"Finance\", \"Finance\", \"Food Services\", \"Food Services\", \"Food Services\", \"Food Services\", \"Food Services\", \"Health\", \"Health\", \"Health\", \"Health\", \"Health\", \"Health\", \"Health\", \"Health\", \"Health\", \"Human Resources\", \"Human Resources\", \"Labor\", \"Labor\", \"Labor\", \"Labor\", \"Labor\", \"Labor\", \"Labor\", \"Labor\", \"Law\", \"Law\", \"Manufacturing\", \"Manufacturing\", \"Manufacturing\", \"Manufacturing\", \"Media\", \"Media\", \"Operations\", \"Operations\", \"Operations\", \"Professional Services\", \"Professional Services\", \"Professional Services\", \"Professional Services\", \"Professional Services\", \"Professional Services\", \"Professional Services\", \"Professional Services\", \"Professional Services\", \"Professional Services\", \"Professional Services\", \"Professional Services\", \"Real Estate\", \"Retail\", \"Retail\", \"Retail\", \"Retail\", \"Sales\", \"Sales\", \"Technology\", \"Technology\", \"Technology\", \"Technology\", \"Technology\", \"Technology\", \"Technology\", \"Technology\", \"Technology\", \"Technology\", \"Technology\", \"Technology\"], \"y\": [49495, 104098, 31202, 54216, 78336, 84380, 85557, 72080, 83726, 77985, 61408, 31572, 53254, 56142, 70972, 39275, 47115, 98751, 23119, 39913, 27500, 53320, 31201, 28184, 38822, 47020, 35689, 57789, 114702, 34592, 78305, 73120, 84575, 55329, 40985, 38562, 42085, 45552, 39998, 50031, 56627, 41847, 124376, 56342, 79237, 37385, 93187, 73335, 57636, 55229, 65068, 74888, 36284, 45443, 73459, 78940, 73711, 85040, 55529, 39236, 75676, 52777, 103741, 79079, 86315, 58706, 62121, 27330, 30421, 54052, 71627, 51178, 67419, 113651, 100939, 85300, 73416, 87232, 110532, 77991, 48978, 78309, 59430, 72252]}, {\"marker\": {\"color\": \"rgba(219, 64, 82, 0.6)\", \"line\": {\"color\": \"rgba(219, 64, 82, 1.0)\", \"width\": 1}}, \"name\": \"Los Angeles\", \"orientation\": \"v\", \"text\": \"\", \"type\": \"bar\", \"x\": [\"Design\", \"Education\", \"Education\", \"Education\", \"Engineering\", \"Engineering\", \"Engineering\", \"Engineering\", \"Engineering\", \"Engineering\", \"Finance\", \"Finance\", \"Finance\", \"Finance\", \"Finance\", \"Finance\", \"Finance\", \"Finance\", \"Food Services\", \"Food Services\", \"Food Services\", \"Food Services\", \"Food Services\", \"Health\", \"Health\", \"Health\", \"Health\", \"Health\", \"Health\", \"Health\", \"Health\", \"Health\", \"Human Resources\", \"Human Resources\", \"Labor\", \"Labor\", \"Labor\", \"Labor\", \"Labor\", \"Labor\", \"Labor\", \"Labor\", \"Law\", \"Law\", \"Manufacturing\", \"Manufacturing\", \"Manufacturing\", \"Manufacturing\", \"Media\", \"Media\", \"Operations\", \"Operations\", \"Operations\", \"Professional Services\", \"Professional Services\", \"Professional Services\", \"Professional Services\", \"Professional Services\", \"Professional Services\", \"Professional Services\", \"Professional Services\", \"Professional Services\", \"Professional Services\", \"Professional Services\", \"Professional Services\", \"Real Estate\", \"Retail\", \"Retail\", \"Retail\", \"Retail\", \"Sales\", \"Sales\", \"Technology\", \"Technology\", \"Technology\", \"Technology\", \"Technology\", \"Technology\", \"Technology\", \"Technology\", \"Technology\", \"Technology\", \"Technology\", \"Technology\"], \"y\": [60004, 115901, 35313, 64666, 84642, 87828, 90680, 78500, 86316, 84623, 64371, 35100, 61448, 63198, 73823, 48825, 52168, 108724, 28941, 38223, 34409, 60041, 36065, 36136, 36813, 51954, 38156, 65670, 137104, 39778, 94773, 92991, 89802, 64289, 45513, 44845, 42302, 49212, 45330, 54748, 59369, 46403, 134747, 65998, 84862, 39590, 87711, 83787, 80927, 61556, 65567, 81205, 41128, 51492, 77747, 81916, 85094, 94320, 64616, 46030, 87802, 60436, 111457, 92012, 88339, 67410, 66686, 32596, 35877, 64982, 78722, 57715, 75193, 121080, 112013, 90978, 83497, 103463, 124972, 94649, 55913, 93434, 65705, 82970]}, {\"marker\": {\"color\": \"rgba(0, 128, 128, 0.6)\", \"line\": {\"color\": \"rgba(0, 128, 128, 1.0)\", \"width\": 1}}, \"name\": \"New York City\", \"orientation\": \"v\", \"text\": \"\", \"type\": \"bar\", \"x\": [\"Design\", \"Education\", \"Education\", \"Education\", \"Engineering\", \"Engineering\", \"Engineering\", \"Engineering\", \"Engineering\", \"Engineering\", \"Finance\", \"Finance\", \"Finance\", \"Finance\", \"Finance\", \"Finance\", \"Finance\", \"Finance\", \"Food Services\", \"Food Services\", \"Food Services\", \"Food Services\", \"Food Services\", \"Health\", \"Health\", \"Health\", \"Health\", \"Health\", \"Health\", \"Health\", \"Health\", \"Health\", \"Human Resources\", \"Human Resources\", \"Labor\", \"Labor\", \"Labor\", \"Labor\", \"Labor\", \"Labor\", \"Labor\", \"Labor\", \"Law\", \"Law\", \"Manufacturing\", \"Manufacturing\", \"Manufacturing\", \"Manufacturing\", \"Media\", \"Media\", \"Operations\", \"Operations\", \"Operations\", \"Professional Services\", \"Professional Services\", \"Professional Services\", \"Professional Services\", \"Professional Services\", \"Professional Services\", \"Professional Services\", \"Professional Services\", \"Professional Services\", \"Professional Services\", \"Professional Services\", \"Professional Services\", \"Real Estate\", \"Retail\", \"Retail\", \"Retail\", \"Retail\", \"Sales\", \"Sales\", \"Technology\", \"Technology\", \"Technology\", \"Technology\", \"Technology\", \"Technology\", \"Technology\", \"Technology\", \"Technology\", \"Technology\", \"Technology\", \"Technology\"], \"y\": [60913, 116551, 37979, 67552, 80995, 82846, 83706, 76816, 79246, 77654, 66776, 36488, 60526, 64657, 78853, 45063, 53181, 118759, 29509, 41636, 33440, 60039, 37165, 37968, 41161, 55879, 39274, 65854, 122105, 33626, 81115, 88917, 92513, 65360, 52226, 43057, 43713, 49766, 41041, 54911, 60102, 42315, 130640, 60203, 77649, 41884, 86043, 82019, 79901, 59436, 74186, 83166, 41829, 53323, 82947, 85287, 87025, 93858, 63396, 45664, 87815, 60504, 115929, 91567, 90081, 72101, 74162, 30943, 36448, 63145, 81653, 58812, 74828, 117373, 110035, 89942, 85597, 110695, 126424, 91868, 58419, 95097, 68077, 87284]}, {\"marker\": {\"color\": \"rgba(255, 255, 51, 0.6)\", \"line\": {\"color\": \"rgba(255, 255, 51, 1.0)\", \"width\": 1}}, \"name\": \"Philadelphia\", \"orientation\": \"v\", \"text\": \"\", \"type\": \"bar\", \"x\": [\"Design\", \"Education\", \"Education\", \"Education\", \"Engineering\", \"Engineering\", \"Engineering\", \"Engineering\", \"Engineering\", \"Engineering\", \"Finance\", \"Finance\", \"Finance\", \"Finance\", \"Finance\", \"Finance\", \"Finance\", \"Finance\", \"Food Services\", \"Food Services\", \"Food Services\", \"Food Services\", \"Food Services\", \"Health\", \"Health\", \"Health\", \"Health\", \"Health\", \"Health\", \"Health\", \"Health\", \"Health\", \"Human Resources\", \"Human Resources\", \"Labor\", \"Labor\", \"Labor\", \"Labor\", \"Labor\", \"Labor\", \"Labor\", \"Labor\", \"Law\", \"Law\", \"Manufacturing\", \"Manufacturing\", \"Manufacturing\", \"Manufacturing\", \"Media\", \"Media\", \"Operations\", \"Operations\", \"Operations\", \"Professional Services\", \"Professional Services\", \"Professional Services\", \"Professional Services\", \"Professional Services\", \"Professional Services\", \"Professional Services\", \"Professional Services\", \"Professional Services\", \"Professional Services\", \"Professional Services\", \"Professional Services\", \"Real Estate\", \"Retail\", \"Retail\", \"Retail\", \"Retail\", \"Sales\", \"Sales\", \"Technology\", \"Technology\", \"Technology\", \"Technology\", \"Technology\", \"Technology\", \"Technology\", \"Technology\", \"Technology\", \"Technology\", \"Technology\", \"Technology\"], \"y\": [51620, 102934, 32601, 54601, 76147, 77028, 83781, 70871, 79553, 78531, 61100, 33488, 55996, 64757, 66183, 44430, 47502, 98735, 24155, 38251, 31345, 53333, 36943, 32369, 39289, 54969, 36195, 61477, 120323, 31718, 79667, 75674, 80933, 55233, 46550, 42762, 45998, 48729, 40018, 50865, 61895, 43880, 111500, 53903, 78751, 38792, 84038, 71094, 60284, 55933, 62078, 76035, 37347, 46192, 71239, 73547, 76597, 84722, 57532, 42493, 79608, 54668, 100355, 81182, 80660, 63026, 62027, 27921, 31746, 56951, 72624, 54220, 67092, 105968, 102307, 83343, 76001, 89641, 117611, 83349, 51340, 79303, 58624, 74319]}, {\"marker\": {\"color\": \"rgba(128, 128, 0, 0.6)\", \"line\": {\"color\": \"rgba(128, 128, 0, 1.0)\", \"width\": 1}}, \"name\": \"San Francisco\", \"orientation\": \"v\", \"text\": \"\", \"type\": \"bar\", \"x\": [\"Design\", \"Education\", \"Education\", \"Education\", \"Engineering\", \"Engineering\", \"Engineering\", \"Engineering\", \"Engineering\", \"Engineering\", \"Finance\", \"Finance\", \"Finance\", \"Finance\", \"Finance\", \"Finance\", \"Finance\", \"Finance\", \"Food Services\", \"Food Services\", \"Food Services\", \"Food Services\", \"Food Services\", \"Health\", \"Health\", \"Health\", \"Health\", \"Health\", \"Health\", \"Health\", \"Health\", \"Health\", \"Human Resources\", \"Human Resources\", \"Labor\", \"Labor\", \"Labor\", \"Labor\", \"Labor\", \"Labor\", \"Labor\", \"Labor\", \"Law\", \"Law\", \"Manufacturing\", \"Manufacturing\", \"Manufacturing\", \"Manufacturing\", \"Media\", \"Media\", \"Operations\", \"Operations\", \"Operations\", \"Professional Services\", \"Professional Services\", \"Professional Services\", \"Professional Services\", \"Professional Services\", \"Professional Services\", \"Professional Services\", \"Professional Services\", \"Professional Services\", \"Professional Services\", \"Professional Services\", \"Professional Services\", \"Real Estate\", \"Retail\", \"Retail\", \"Retail\", \"Retail\", \"Sales\", \"Sales\", \"Technology\", \"Technology\", \"Technology\", \"Technology\", \"Technology\", \"Technology\", \"Technology\", \"Technology\", \"Technology\", \"Technology\", \"Technology\", \"Technology\"], \"y\": [74986, 130761, 40695, 70271, 93333, 99611, 106452, 82482, 100777, 95512, 75838, 37945, 68462, 73291, 87275, 53253, 62277, 118895, 32417, 43996, 39340, 64301, 41194, 41741, 46205, 64041, 52013, 76584, 144318, 48723, 102275, 120484, 105902, 80131, 59499, 51370, 54182, 62075, 53788, 61870, 70599, 54896, 155654, 75930, 99148, 47338, 102622, 93133, 88415, 66410, 77930, 96895, 52538, 60824, 90445, 96836, 104708, 101602, 73869, 52146, 105933, 70936, 137309, 105386, 100082, 78074, 82052, 36210, 40228, 71087, 88851, 66561, 93617, 143513, 127397, 104358, 95660, 127511, 138842, 106969, 68588, 112133, 83150, 104640]}, {\"marker\": {\"color\": \"rgba(251, 128, 114, 0.6)\", \"line\": {\"color\": \"rgba(251, 128, 114, 1.0)\", \"width\": 1}}, \"name\": \"Seattle\", \"orientation\": \"v\", \"text\": \"\", \"type\": \"bar\", \"x\": [\"Design\", \"Education\", \"Education\", \"Education\", \"Engineering\", \"Engineering\", \"Engineering\", \"Engineering\", \"Engineering\", \"Engineering\", \"Finance\", \"Finance\", \"Finance\", \"Finance\", \"Finance\", \"Finance\", \"Finance\", \"Finance\", \"Food Services\", \"Food Services\", \"Food Services\", \"Food Services\", \"Food Services\", \"Health\", \"Health\", \"Health\", \"Health\", \"Health\", \"Health\", \"Health\", \"Health\", \"Health\", \"Human Resources\", \"Human Resources\", \"Labor\", \"Labor\", \"Labor\", \"Labor\", \"Labor\", \"Labor\", \"Labor\", \"Labor\", \"Law\", \"Law\", \"Manufacturing\", \"Manufacturing\", \"Manufacturing\", \"Manufacturing\", \"Media\", \"Media\", \"Operations\", \"Operations\", \"Operations\", \"Professional Services\", \"Professional Services\", \"Professional Services\", \"Professional Services\", \"Professional Services\", \"Professional Services\", \"Professional Services\", \"Professional Services\", \"Professional Services\", \"Professional Services\", \"Professional Services\", \"Professional Services\", \"Real Estate\", \"Retail\", \"Retail\", \"Retail\", \"Retail\", \"Sales\", \"Sales\", \"Technology\", \"Technology\", \"Technology\", \"Technology\", \"Technology\", \"Technology\", \"Technology\", \"Technology\", \"Technology\", \"Technology\", \"Technology\", \"Technology\"], \"y\": [62118, 109108, 34735, 59578, 81285, 87574, 93303, 77500, 87967, 84754, 65583, 36057, 56849, 61272, 76334, 44430, 53768, 102492, 31101, 41781, 36690, 55817, 39527, 37276, 42801, 55609, 46337, 69020, 126786, 44046, 80217, 79433, 90289, 65215, 55374, 48671, 47883, 54257, 51208, 56380, 61889, 51844, 120780, 66086, 83023, 43752, 92305, 73947, 79715, 75060, 70101, 82921, 48141, 52464, 80660, 87374, 85656, 93056, 64510, 46851, 90870, 60655, 118766, 99098, 87868, 68113, 71037, 35947, 36815, 62059, 78546, 56817, 75140, 128650, 112043, 92885, 88844, 118376, 124766, 95389, 55575, 101237, 67126, 89770]}, {\"marker\": {\"color\": \"rgba(128, 177, 211, 0.6)\", \"line\": {\"color\": \"rgba(128, 177, 211, 1.0)\", \"width\": 1}}, \"name\": \"Washington DC\", \"orientation\": \"v\", \"text\": \"\", \"type\": \"bar\", \"x\": [\"Design\", \"Education\", \"Education\", \"Education\", \"Engineering\", \"Engineering\", \"Engineering\", \"Engineering\", \"Engineering\", \"Engineering\", \"Finance\", \"Finance\", \"Finance\", \"Finance\", \"Finance\", \"Finance\", \"Finance\", \"Finance\", \"Food Services\", \"Food Services\", \"Food Services\", \"Food Services\", \"Food Services\", \"Health\", \"Health\", \"Health\", \"Health\", \"Health\", \"Health\", \"Health\", \"Health\", \"Health\", \"Human Resources\", \"Human Resources\", \"Labor\", \"Labor\", \"Labor\", \"Labor\", \"Labor\", \"Labor\", \"Labor\", \"Labor\", \"Law\", \"Law\", \"Manufacturing\", \"Manufacturing\", \"Manufacturing\", \"Manufacturing\", \"Media\", \"Media\", \"Operations\", \"Operations\", \"Operations\", \"Professional Services\", \"Professional Services\", \"Professional Services\", \"Professional Services\", \"Professional Services\", \"Professional Services\", \"Professional Services\", \"Professional Services\", \"Professional Services\", \"Professional Services\", \"Professional Services\", \"Professional Services\", \"Real Estate\", \"Retail\", \"Retail\", \"Retail\", \"Retail\", \"Sales\", \"Sales\", \"Technology\", \"Technology\", \"Technology\", \"Technology\", \"Technology\", \"Technology\", \"Technology\", \"Technology\", \"Technology\", \"Technology\", \"Technology\", \"Technology\"], \"y\": [59308, 104065, 35872, 61218, 78854, 87430, 88578, 75011, 81546, 85117, 67973, 35803, 57794, 62066, 74332, 47298, 52695, 108209, 27888, 42757, 32121, 56418, 38315, 32924, 43208, 50446, 39672, 60568, 124625, 34851, 84027, 73272, 87439, 63861, 46010, 42356, 42865, 51109, 44032, 54169, 58373, 43959, 138705, 61082, 81152, 40016, 86662, 75350, 72453, 67332, 73700, 80788, 49425, 51329, 79502, 86231, 85167, 85819, 58538, 43828, 81478, 58964, 114090, 98359, 91271, 68899, 63293, 29918, 33792, 60261, 74992, 56571, 76103, 107966, 110420, 83775, 82165, 99587, 126983, 94236, 59011, 91979, 69062, 89420]}],\n",
       "                        {\"legend\": {\"bgcolor\": \"#F5F6F9\", \"font\": {\"color\": \"#4D5663\"}}, \"paper_bgcolor\": \"#F5F6F9\", \"plot_bgcolor\": \"#F5F6F9\", \"template\": {\"data\": {\"bar\": [{\"error_x\": {\"color\": \"#2a3f5f\"}, \"error_y\": {\"color\": \"#2a3f5f\"}, \"marker\": {\"line\": {\"color\": \"#E5ECF6\", \"width\": 0.5}}, \"type\": \"bar\"}], \"barpolar\": [{\"marker\": {\"line\": {\"color\": \"#E5ECF6\", \"width\": 0.5}}, \"type\": \"barpolar\"}], \"carpet\": [{\"aaxis\": {\"endlinecolor\": \"#2a3f5f\", \"gridcolor\": \"white\", \"linecolor\": \"white\", \"minorgridcolor\": \"white\", \"startlinecolor\": \"#2a3f5f\"}, \"baxis\": {\"endlinecolor\": \"#2a3f5f\", \"gridcolor\": \"white\", \"linecolor\": \"white\", \"minorgridcolor\": \"white\", \"startlinecolor\": \"#2a3f5f\"}, \"type\": \"carpet\"}], \"choropleth\": [{\"colorbar\": {\"outlinewidth\": 0, \"ticks\": \"\"}, \"type\": \"choropleth\"}], \"contour\": [{\"colorbar\": {\"outlinewidth\": 0, \"ticks\": \"\"}, \"colorscale\": [[0.0, \"#0d0887\"], [0.1111111111111111, \"#46039f\"], [0.2222222222222222, \"#7201a8\"], [0.3333333333333333, \"#9c179e\"], [0.4444444444444444, \"#bd3786\"], [0.5555555555555556, \"#d8576b\"], [0.6666666666666666, \"#ed7953\"], [0.7777777777777778, \"#fb9f3a\"], [0.8888888888888888, \"#fdca26\"], [1.0, \"#f0f921\"]], \"type\": \"contour\"}], \"contourcarpet\": [{\"colorbar\": {\"outlinewidth\": 0, \"ticks\": \"\"}, \"type\": \"contourcarpet\"}], \"heatmap\": [{\"colorbar\": {\"outlinewidth\": 0, \"ticks\": \"\"}, \"colorscale\": [[0.0, \"#0d0887\"], [0.1111111111111111, \"#46039f\"], [0.2222222222222222, \"#7201a8\"], [0.3333333333333333, \"#9c179e\"], [0.4444444444444444, \"#bd3786\"], [0.5555555555555556, \"#d8576b\"], [0.6666666666666666, \"#ed7953\"], [0.7777777777777778, \"#fb9f3a\"], [0.8888888888888888, \"#fdca26\"], [1.0, \"#f0f921\"]], \"type\": \"heatmap\"}], \"heatmapgl\": [{\"colorbar\": {\"outlinewidth\": 0, \"ticks\": \"\"}, \"colorscale\": [[0.0, \"#0d0887\"], [0.1111111111111111, \"#46039f\"], [0.2222222222222222, \"#7201a8\"], [0.3333333333333333, \"#9c179e\"], [0.4444444444444444, \"#bd3786\"], [0.5555555555555556, \"#d8576b\"], [0.6666666666666666, \"#ed7953\"], [0.7777777777777778, \"#fb9f3a\"], [0.8888888888888888, \"#fdca26\"], [1.0, \"#f0f921\"]], \"type\": \"heatmapgl\"}], \"histogram\": [{\"marker\": {\"colorbar\": {\"outlinewidth\": 0, \"ticks\": \"\"}}, \"type\": \"histogram\"}], \"histogram2d\": [{\"colorbar\": {\"outlinewidth\": 0, \"ticks\": \"\"}, \"colorscale\": [[0.0, \"#0d0887\"], [0.1111111111111111, \"#46039f\"], [0.2222222222222222, \"#7201a8\"], [0.3333333333333333, \"#9c179e\"], [0.4444444444444444, \"#bd3786\"], [0.5555555555555556, \"#d8576b\"], [0.6666666666666666, \"#ed7953\"], [0.7777777777777778, \"#fb9f3a\"], [0.8888888888888888, \"#fdca26\"], [1.0, \"#f0f921\"]], \"type\": \"histogram2d\"}], \"histogram2dcontour\": [{\"colorbar\": {\"outlinewidth\": 0, \"ticks\": \"\"}, \"colorscale\": [[0.0, \"#0d0887\"], [0.1111111111111111, \"#46039f\"], [0.2222222222222222, \"#7201a8\"], [0.3333333333333333, \"#9c179e\"], [0.4444444444444444, \"#bd3786\"], [0.5555555555555556, \"#d8576b\"], [0.6666666666666666, \"#ed7953\"], [0.7777777777777778, \"#fb9f3a\"], [0.8888888888888888, \"#fdca26\"], [1.0, \"#f0f921\"]], \"type\": \"histogram2dcontour\"}], \"mesh3d\": [{\"colorbar\": {\"outlinewidth\": 0, \"ticks\": \"\"}, \"type\": \"mesh3d\"}], \"parcoords\": [{\"line\": {\"colorbar\": {\"outlinewidth\": 0, \"ticks\": \"\"}}, \"type\": \"parcoords\"}], \"pie\": [{\"automargin\": true, \"type\": \"pie\"}], \"scatter\": [{\"marker\": {\"colorbar\": {\"outlinewidth\": 0, \"ticks\": \"\"}}, \"type\": \"scatter\"}], \"scatter3d\": [{\"line\": {\"colorbar\": {\"outlinewidth\": 0, \"ticks\": \"\"}}, \"marker\": {\"colorbar\": {\"outlinewidth\": 0, \"ticks\": \"\"}}, \"type\": \"scatter3d\"}], \"scattercarpet\": [{\"marker\": {\"colorbar\": {\"outlinewidth\": 0, \"ticks\": \"\"}}, \"type\": \"scattercarpet\"}], \"scattergeo\": [{\"marker\": {\"colorbar\": {\"outlinewidth\": 0, \"ticks\": \"\"}}, \"type\": \"scattergeo\"}], \"scattergl\": [{\"marker\": {\"colorbar\": {\"outlinewidth\": 0, \"ticks\": \"\"}}, \"type\": \"scattergl\"}], \"scattermapbox\": [{\"marker\": {\"colorbar\": {\"outlinewidth\": 0, \"ticks\": \"\"}}, \"type\": \"scattermapbox\"}], \"scatterpolar\": [{\"marker\": {\"colorbar\": {\"outlinewidth\": 0, \"ticks\": \"\"}}, \"type\": \"scatterpolar\"}], \"scatterpolargl\": [{\"marker\": {\"colorbar\": {\"outlinewidth\": 0, \"ticks\": \"\"}}, \"type\": \"scatterpolargl\"}], \"scatterternary\": [{\"marker\": {\"colorbar\": {\"outlinewidth\": 0, \"ticks\": \"\"}}, \"type\": \"scatterternary\"}], \"surface\": [{\"colorbar\": {\"outlinewidth\": 0, \"ticks\": \"\"}, \"colorscale\": [[0.0, \"#0d0887\"], [0.1111111111111111, \"#46039f\"], [0.2222222222222222, \"#7201a8\"], [0.3333333333333333, \"#9c179e\"], [0.4444444444444444, \"#bd3786\"], [0.5555555555555556, \"#d8576b\"], [0.6666666666666666, \"#ed7953\"], [0.7777777777777778, \"#fb9f3a\"], [0.8888888888888888, \"#fdca26\"], [1.0, \"#f0f921\"]], \"type\": \"surface\"}], \"table\": [{\"cells\": {\"fill\": {\"color\": \"#EBF0F8\"}, \"line\": {\"color\": \"white\"}}, \"header\": {\"fill\": {\"color\": \"#C8D4E3\"}, \"line\": {\"color\": \"white\"}}, \"type\": \"table\"}]}, \"layout\": {\"annotationdefaults\": {\"arrowcolor\": \"#2a3f5f\", \"arrowhead\": 0, \"arrowwidth\": 1}, \"coloraxis\": {\"colorbar\": {\"outlinewidth\": 0, \"ticks\": \"\"}}, \"colorscale\": {\"diverging\": [[0, \"#8e0152\"], [0.1, \"#c51b7d\"], [0.2, \"#de77ae\"], [0.3, \"#f1b6da\"], [0.4, \"#fde0ef\"], [0.5, \"#f7f7f7\"], [0.6, \"#e6f5d0\"], [0.7, \"#b8e186\"], [0.8, \"#7fbc41\"], [0.9, \"#4d9221\"], [1, \"#276419\"]], \"sequential\": [[0.0, \"#0d0887\"], [0.1111111111111111, \"#46039f\"], [0.2222222222222222, \"#7201a8\"], [0.3333333333333333, \"#9c179e\"], [0.4444444444444444, \"#bd3786\"], [0.5555555555555556, \"#d8576b\"], [0.6666666666666666, \"#ed7953\"], [0.7777777777777778, \"#fb9f3a\"], [0.8888888888888888, \"#fdca26\"], [1.0, \"#f0f921\"]], \"sequentialminus\": [[0.0, \"#0d0887\"], [0.1111111111111111, \"#46039f\"], [0.2222222222222222, \"#7201a8\"], [0.3333333333333333, \"#9c179e\"], [0.4444444444444444, \"#bd3786\"], [0.5555555555555556, \"#d8576b\"], [0.6666666666666666, \"#ed7953\"], [0.7777777777777778, \"#fb9f3a\"], [0.8888888888888888, \"#fdca26\"], [1.0, \"#f0f921\"]]}, \"colorway\": [\"#636efa\", \"#EF553B\", \"#00cc96\", \"#ab63fa\", \"#FFA15A\", \"#19d3f3\", \"#FF6692\", \"#B6E880\", \"#FF97FF\", \"#FECB52\"], \"font\": {\"color\": \"#2a3f5f\"}, \"geo\": {\"bgcolor\": \"white\", \"lakecolor\": \"white\", \"landcolor\": \"#E5ECF6\", \"showlakes\": true, \"showland\": true, \"subunitcolor\": \"white\"}, \"hoverlabel\": {\"align\": \"left\"}, \"hovermode\": \"closest\", \"mapbox\": {\"style\": \"light\"}, \"paper_bgcolor\": \"white\", \"plot_bgcolor\": \"#E5ECF6\", \"polar\": {\"angularaxis\": {\"gridcolor\": \"white\", \"linecolor\": \"white\", \"ticks\": \"\"}, \"bgcolor\": \"#E5ECF6\", \"radialaxis\": {\"gridcolor\": \"white\", \"linecolor\": \"white\", \"ticks\": \"\"}}, \"scene\": {\"xaxis\": {\"backgroundcolor\": \"#E5ECF6\", \"gridcolor\": \"white\", \"gridwidth\": 2, \"linecolor\": \"white\", \"showbackground\": true, \"ticks\": \"\", \"zerolinecolor\": \"white\"}, \"yaxis\": {\"backgroundcolor\": \"#E5ECF6\", \"gridcolor\": \"white\", \"gridwidth\": 2, \"linecolor\": \"white\", \"showbackground\": true, \"ticks\": \"\", \"zerolinecolor\": \"white\"}, \"zaxis\": {\"backgroundcolor\": \"#E5ECF6\", \"gridcolor\": \"white\", \"gridwidth\": 2, \"linecolor\": \"white\", \"showbackground\": true, \"ticks\": \"\", \"zerolinecolor\": \"white\"}}, \"shapedefaults\": {\"line\": {\"color\": \"#2a3f5f\"}}, \"ternary\": {\"aaxis\": {\"gridcolor\": \"white\", \"linecolor\": \"white\", \"ticks\": \"\"}, \"baxis\": {\"gridcolor\": \"white\", \"linecolor\": \"white\", \"ticks\": \"\"}, \"bgcolor\": \"#E5ECF6\", \"caxis\": {\"gridcolor\": \"white\", \"linecolor\": \"white\", \"ticks\": \"\"}}, \"title\": {\"x\": 0.05}, \"xaxis\": {\"automargin\": true, \"gridcolor\": \"white\", \"linecolor\": \"white\", \"ticks\": \"\", \"title\": {\"standoff\": 15}, \"zerolinecolor\": \"white\", \"zerolinewidth\": 2}, \"yaxis\": {\"automargin\": true, \"gridcolor\": \"white\", \"linecolor\": \"white\", \"ticks\": \"\", \"title\": {\"standoff\": 15}, \"zerolinecolor\": \"white\", \"zerolinewidth\": 2}}}, \"title\": {\"font\": {\"color\": \"#4D5663\"}}, \"xaxis\": {\"gridcolor\": \"#E1E5ED\", \"showgrid\": true, \"tickfont\": {\"color\": \"#4D5663\"}, \"title\": {\"font\": {\"color\": \"#4D5663\"}, \"text\": \"\"}, \"zerolinecolor\": \"#E1E5ED\"}, \"yaxis\": {\"gridcolor\": \"#E1E5ED\", \"showgrid\": true, \"tickfont\": {\"color\": \"#4D5663\"}, \"title\": {\"font\": {\"color\": \"#4D5663\"}, \"text\": \"\"}, \"zerolinecolor\": \"#E1E5ED\"}},\n",
       "                        {\"showLink\": true, \"linkText\": \"Export to plot.ly\", \"plotlyServerURL\": \"https://plot.ly\", \"responsive\": true}\n",
       "                    ).then(function(){\n",
       "                            \n",
       "var gd = document.getElementById('47466ae9-5bbb-4981-b57f-a70b15dbaa79');\n",
       "var x = new MutationObserver(function (mutations, observer) {{\n",
       "        var display = window.getComputedStyle(gd).display;\n",
       "        if (!display || display === 'none') {{\n",
       "            console.log([gd, 'removed!']);\n",
       "            Plotly.purge(gd);\n",
       "            observer.disconnect();\n",
       "        }}\n",
       "}});\n",
       "\n",
       "// Listen for the removal of the full notebook cells\n",
       "var notebookContainer = gd.closest('#notebook-container');\n",
       "if (notebookContainer) {{\n",
       "    x.observe(notebookContainer, {childList: true});\n",
       "}}\n",
       "\n",
       "// Listen for the clearing of the current output cell\n",
       "var outputEl = gd.closest('.output');\n",
       "if (outputEl) {{\n",
       "    x.observe(outputEl, {childList: true});\n",
       "}}\n",
       "\n",
       "                        })\n",
       "                };\n",
       "                });\n",
       "            </script>\n",
       "        </div>"
      ]
     },
     "metadata": {},
     "output_type": "display_data"
    }
   ],
   "source": [
    "col = ['Atlanta' , 'Boston' , 'Chicago' , 'Houston' , 'Los Angeles' , 'New York City' , 'Philadelphia' , 'San Francisco' , 'Seattle','Washington DC']\n",
    "df.iplot(kind='bar',x='Job Category',y=col)"
   ]
  },
  {
   "cell_type": "code",
   "execution_count": 10,
   "metadata": {},
   "outputs": [],
   "source": [
    "col = ['Atlanta' , 'Boston' , 'Chicago' , 'Houston' , 'Los Angeles' , 'New York City' , 'Philadelphia' , 'San Francisco' , 'Seattle','Washington DC']\n",
    "col1 = ['Job Category','Job Title']\n",
    "df['Total']= df.sum(axis =1)\n",
    "#s1= df.eval('Total=Atlanta + Boston +  Chicago + Houston', inplace=False)\n",
    "#s1= df.groupby(col1).sum(axis =1) \n",
    "#df_city"
   ]
  },
  {
   "cell_type": "code",
   "execution_count": 11,
   "metadata": {},
   "outputs": [
    {
     "data": {
      "text/plain": [
       "['Atlanta',\n",
       " 'Boston',\n",
       " 'Chicago',\n",
       " 'Houston',\n",
       " 'Los Angeles',\n",
       " 'New York City',\n",
       " 'Philadelphia',\n",
       " 'San Francisco',\n",
       " 'Seattle',\n",
       " 'Washington DC']"
      ]
     },
     "execution_count": 11,
     "metadata": {},
     "output_type": "execute_result"
    }
   ],
   "source": [
    "col"
   ]
  },
  {
   "cell_type": "code",
   "execution_count": 12,
   "metadata": {},
   "outputs": [
    {
     "data": {
      "text/html": [
       "<div>\n",
       "<style scoped>\n",
       "    .dataframe tbody tr th:only-of-type {\n",
       "        vertical-align: middle;\n",
       "    }\n",
       "\n",
       "    .dataframe tbody tr th {\n",
       "        vertical-align: top;\n",
       "    }\n",
       "\n",
       "    .dataframe thead th {\n",
       "        text-align: right;\n",
       "    }\n",
       "</style>\n",
       "<table border=\"1\" class=\"dataframe\">\n",
       "  <thead>\n",
       "    <tr style=\"text-align: right;\">\n",
       "      <th></th>\n",
       "      <th>Job Category</th>\n",
       "      <th>Total</th>\n",
       "    </tr>\n",
       "  </thead>\n",
       "  <tbody>\n",
       "    <tr>\n",
       "      <td>0</td>\n",
       "      <td>Design</td>\n",
       "      <td>583003</td>\n",
       "    </tr>\n",
       "    <tr>\n",
       "      <td>1</td>\n",
       "      <td>Education</td>\n",
       "      <td>2054975</td>\n",
       "    </tr>\n",
       "    <tr>\n",
       "      <td>2</td>\n",
       "      <td>Engineering</td>\n",
       "      <td>4949867</td>\n",
       "    </tr>\n",
       "    <tr>\n",
       "      <td>3</td>\n",
       "      <td>Finance</td>\n",
       "      <td>4973791</td>\n",
       "    </tr>\n",
       "    <tr>\n",
       "      <td>4</td>\n",
       "      <td>Food Services</td>\n",
       "      <td>1957346</td>\n",
       "    </tr>\n",
       "    <tr>\n",
       "      <td>5</td>\n",
       "      <td>Health</td>\n",
       "      <td>5599703</td>\n",
       "    </tr>\n",
       "    <tr>\n",
       "      <td>6</td>\n",
       "      <td>Human Resources</td>\n",
       "      <td>1508339</td>\n",
       "    </tr>\n",
       "    <tr>\n",
       "      <td>7</td>\n",
       "      <td>Labor</td>\n",
       "      <td>3937722</td>\n",
       "    </tr>\n",
       "    <tr>\n",
       "      <td>8</td>\n",
       "      <td>Law</td>\n",
       "      <td>1867894</td>\n",
       "    </tr>\n",
       "    <tr>\n",
       "      <td>9</td>\n",
       "      <td>Manufacturing</td>\n",
       "      <td>2886927</td>\n",
       "    </tr>\n",
       "    <tr>\n",
       "      <td>10</td>\n",
       "      <td>Media</td>\n",
       "      <td>1328128</td>\n",
       "    </tr>\n",
       "    <tr>\n",
       "      <td>11</td>\n",
       "      <td>Operations</td>\n",
       "      <td>1910044</td>\n",
       "    </tr>\n",
       "    <tr>\n",
       "      <td>12</td>\n",
       "      <td>Professional Services</td>\n",
       "      <td>9265958</td>\n",
       "    </tr>\n",
       "    <tr>\n",
       "      <td>13</td>\n",
       "      <td>Real Estate</td>\n",
       "      <td>670068</td>\n",
       "    </tr>\n",
       "    <tr>\n",
       "      <td>14</td>\n",
       "      <td>Retail</td>\n",
       "      <td>1931921</td>\n",
       "    </tr>\n",
       "    <tr>\n",
       "      <td>15</td>\n",
       "      <td>Sales</td>\n",
       "      <td>1342780</td>\n",
       "    </tr>\n",
       "    <tr>\n",
       "      <td>16</td>\n",
       "      <td>Technology</td>\n",
       "      <td>10832035</td>\n",
       "    </tr>\n",
       "  </tbody>\n",
       "</table>\n",
       "</div>"
      ],
      "text/plain": [
       "             Job Category     Total\n",
       "0                  Design    583003\n",
       "1               Education   2054975\n",
       "2             Engineering   4949867\n",
       "3                 Finance   4973791\n",
       "4           Food Services   1957346\n",
       "5                  Health   5599703\n",
       "6         Human Resources   1508339\n",
       "7                   Labor   3937722\n",
       "8                     Law   1867894\n",
       "9           Manufacturing   2886927\n",
       "10                  Media   1328128\n",
       "11             Operations   1910044\n",
       "12  Professional Services   9265958\n",
       "13            Real Estate    670068\n",
       "14                 Retail   1931921\n",
       "15                  Sales   1342780\n",
       "16             Technology  10832035"
      ]
     },
     "execution_count": 12,
     "metadata": {},
     "output_type": "execute_result"
    }
   ],
   "source": [
    "col3=['Job Category','Total']\n",
    "df_job = df[col3]\n",
    "df_job = df_job.groupby('Job Category' ,as_index=False).sum(axis=1)\n",
    "df_job"
   ]
  },
  {
   "cell_type": "code",
   "execution_count": null,
   "metadata": {},
   "outputs": [],
   "source": []
  },
  {
   "cell_type": "code",
   "execution_count": 13,
   "metadata": {},
   "outputs": [
    {
     "data": {
      "application/vnd.plotly.v1+json": {
       "config": {
        "plotlyServerURL": "https://plot.ly"
       },
       "data": [
        {
         "alignmentgroup": "True",
         "hoverlabel": {
          "namelength": 0
         },
         "hovertemplate": "Job Category=%{x}<br>Total=%{text}",
         "legendgroup": "",
         "marker": {
          "color": "#636efa"
         },
         "name": "",
         "offsetgroup": "",
         "orientation": "v",
         "showlegend": false,
         "text": [
          583003,
          2054975,
          4949867,
          4973791,
          1957346,
          5599703,
          1508339,
          3937722,
          1867894,
          2886927,
          1328128,
          1910044,
          9265958,
          670068,
          1931921,
          1342780,
          10832035
         ],
         "textposition": "outside",
         "texttemplate": "%{text:.2s}",
         "type": "bar",
         "x": [
          "Design",
          "Education",
          "Engineering",
          "Finance",
          "Food Services",
          "Health",
          "Human Resources",
          "Labor",
          "Law",
          "Manufacturing",
          "Media",
          "Operations",
          "Professional Services",
          "Real Estate",
          "Retail",
          "Sales",
          "Technology"
         ],
         "xaxis": "x",
         "y": [
          583003,
          2054975,
          4949867,
          4973791,
          1957346,
          5599703,
          1508339,
          3937722,
          1867894,
          2886927,
          1328128,
          1910044,
          9265958,
          670068,
          1931921,
          1342780,
          10832035
         ],
         "yaxis": "y"
        }
       ],
       "layout": {
        "barmode": "relative",
        "legend": {
         "tracegroupgap": 0
        },
        "margin": {
         "t": 60
        },
        "template": {
         "data": {
          "bar": [
           {
            "error_x": {
             "color": "#2a3f5f"
            },
            "error_y": {
             "color": "#2a3f5f"
            },
            "marker": {
             "line": {
              "color": "#E5ECF6",
              "width": 0.5
             }
            },
            "type": "bar"
           }
          ],
          "barpolar": [
           {
            "marker": {
             "line": {
              "color": "#E5ECF6",
              "width": 0.5
             }
            },
            "type": "barpolar"
           }
          ],
          "carpet": [
           {
            "aaxis": {
             "endlinecolor": "#2a3f5f",
             "gridcolor": "white",
             "linecolor": "white",
             "minorgridcolor": "white",
             "startlinecolor": "#2a3f5f"
            },
            "baxis": {
             "endlinecolor": "#2a3f5f",
             "gridcolor": "white",
             "linecolor": "white",
             "minorgridcolor": "white",
             "startlinecolor": "#2a3f5f"
            },
            "type": "carpet"
           }
          ],
          "choropleth": [
           {
            "colorbar": {
             "outlinewidth": 0,
             "ticks": ""
            },
            "type": "choropleth"
           }
          ],
          "contour": [
           {
            "colorbar": {
             "outlinewidth": 0,
             "ticks": ""
            },
            "colorscale": [
             [
              0,
              "#0d0887"
             ],
             [
              0.1111111111111111,
              "#46039f"
             ],
             [
              0.2222222222222222,
              "#7201a8"
             ],
             [
              0.3333333333333333,
              "#9c179e"
             ],
             [
              0.4444444444444444,
              "#bd3786"
             ],
             [
              0.5555555555555556,
              "#d8576b"
             ],
             [
              0.6666666666666666,
              "#ed7953"
             ],
             [
              0.7777777777777778,
              "#fb9f3a"
             ],
             [
              0.8888888888888888,
              "#fdca26"
             ],
             [
              1,
              "#f0f921"
             ]
            ],
            "type": "contour"
           }
          ],
          "contourcarpet": [
           {
            "colorbar": {
             "outlinewidth": 0,
             "ticks": ""
            },
            "type": "contourcarpet"
           }
          ],
          "heatmap": [
           {
            "colorbar": {
             "outlinewidth": 0,
             "ticks": ""
            },
            "colorscale": [
             [
              0,
              "#0d0887"
             ],
             [
              0.1111111111111111,
              "#46039f"
             ],
             [
              0.2222222222222222,
              "#7201a8"
             ],
             [
              0.3333333333333333,
              "#9c179e"
             ],
             [
              0.4444444444444444,
              "#bd3786"
             ],
             [
              0.5555555555555556,
              "#d8576b"
             ],
             [
              0.6666666666666666,
              "#ed7953"
             ],
             [
              0.7777777777777778,
              "#fb9f3a"
             ],
             [
              0.8888888888888888,
              "#fdca26"
             ],
             [
              1,
              "#f0f921"
             ]
            ],
            "type": "heatmap"
           }
          ],
          "heatmapgl": [
           {
            "colorbar": {
             "outlinewidth": 0,
             "ticks": ""
            },
            "colorscale": [
             [
              0,
              "#0d0887"
             ],
             [
              0.1111111111111111,
              "#46039f"
             ],
             [
              0.2222222222222222,
              "#7201a8"
             ],
             [
              0.3333333333333333,
              "#9c179e"
             ],
             [
              0.4444444444444444,
              "#bd3786"
             ],
             [
              0.5555555555555556,
              "#d8576b"
             ],
             [
              0.6666666666666666,
              "#ed7953"
             ],
             [
              0.7777777777777778,
              "#fb9f3a"
             ],
             [
              0.8888888888888888,
              "#fdca26"
             ],
             [
              1,
              "#f0f921"
             ]
            ],
            "type": "heatmapgl"
           }
          ],
          "histogram": [
           {
            "marker": {
             "colorbar": {
              "outlinewidth": 0,
              "ticks": ""
             }
            },
            "type": "histogram"
           }
          ],
          "histogram2d": [
           {
            "colorbar": {
             "outlinewidth": 0,
             "ticks": ""
            },
            "colorscale": [
             [
              0,
              "#0d0887"
             ],
             [
              0.1111111111111111,
              "#46039f"
             ],
             [
              0.2222222222222222,
              "#7201a8"
             ],
             [
              0.3333333333333333,
              "#9c179e"
             ],
             [
              0.4444444444444444,
              "#bd3786"
             ],
             [
              0.5555555555555556,
              "#d8576b"
             ],
             [
              0.6666666666666666,
              "#ed7953"
             ],
             [
              0.7777777777777778,
              "#fb9f3a"
             ],
             [
              0.8888888888888888,
              "#fdca26"
             ],
             [
              1,
              "#f0f921"
             ]
            ],
            "type": "histogram2d"
           }
          ],
          "histogram2dcontour": [
           {
            "colorbar": {
             "outlinewidth": 0,
             "ticks": ""
            },
            "colorscale": [
             [
              0,
              "#0d0887"
             ],
             [
              0.1111111111111111,
              "#46039f"
             ],
             [
              0.2222222222222222,
              "#7201a8"
             ],
             [
              0.3333333333333333,
              "#9c179e"
             ],
             [
              0.4444444444444444,
              "#bd3786"
             ],
             [
              0.5555555555555556,
              "#d8576b"
             ],
             [
              0.6666666666666666,
              "#ed7953"
             ],
             [
              0.7777777777777778,
              "#fb9f3a"
             ],
             [
              0.8888888888888888,
              "#fdca26"
             ],
             [
              1,
              "#f0f921"
             ]
            ],
            "type": "histogram2dcontour"
           }
          ],
          "mesh3d": [
           {
            "colorbar": {
             "outlinewidth": 0,
             "ticks": ""
            },
            "type": "mesh3d"
           }
          ],
          "parcoords": [
           {
            "line": {
             "colorbar": {
              "outlinewidth": 0,
              "ticks": ""
             }
            },
            "type": "parcoords"
           }
          ],
          "pie": [
           {
            "automargin": true,
            "type": "pie"
           }
          ],
          "scatter": [
           {
            "marker": {
             "colorbar": {
              "outlinewidth": 0,
              "ticks": ""
             }
            },
            "type": "scatter"
           }
          ],
          "scatter3d": [
           {
            "line": {
             "colorbar": {
              "outlinewidth": 0,
              "ticks": ""
             }
            },
            "marker": {
             "colorbar": {
              "outlinewidth": 0,
              "ticks": ""
             }
            },
            "type": "scatter3d"
           }
          ],
          "scattercarpet": [
           {
            "marker": {
             "colorbar": {
              "outlinewidth": 0,
              "ticks": ""
             }
            },
            "type": "scattercarpet"
           }
          ],
          "scattergeo": [
           {
            "marker": {
             "colorbar": {
              "outlinewidth": 0,
              "ticks": ""
             }
            },
            "type": "scattergeo"
           }
          ],
          "scattergl": [
           {
            "marker": {
             "colorbar": {
              "outlinewidth": 0,
              "ticks": ""
             }
            },
            "type": "scattergl"
           }
          ],
          "scattermapbox": [
           {
            "marker": {
             "colorbar": {
              "outlinewidth": 0,
              "ticks": ""
             }
            },
            "type": "scattermapbox"
           }
          ],
          "scatterpolar": [
           {
            "marker": {
             "colorbar": {
              "outlinewidth": 0,
              "ticks": ""
             }
            },
            "type": "scatterpolar"
           }
          ],
          "scatterpolargl": [
           {
            "marker": {
             "colorbar": {
              "outlinewidth": 0,
              "ticks": ""
             }
            },
            "type": "scatterpolargl"
           }
          ],
          "scatterternary": [
           {
            "marker": {
             "colorbar": {
              "outlinewidth": 0,
              "ticks": ""
             }
            },
            "type": "scatterternary"
           }
          ],
          "surface": [
           {
            "colorbar": {
             "outlinewidth": 0,
             "ticks": ""
            },
            "colorscale": [
             [
              0,
              "#0d0887"
             ],
             [
              0.1111111111111111,
              "#46039f"
             ],
             [
              0.2222222222222222,
              "#7201a8"
             ],
             [
              0.3333333333333333,
              "#9c179e"
             ],
             [
              0.4444444444444444,
              "#bd3786"
             ],
             [
              0.5555555555555556,
              "#d8576b"
             ],
             [
              0.6666666666666666,
              "#ed7953"
             ],
             [
              0.7777777777777778,
              "#fb9f3a"
             ],
             [
              0.8888888888888888,
              "#fdca26"
             ],
             [
              1,
              "#f0f921"
             ]
            ],
            "type": "surface"
           }
          ],
          "table": [
           {
            "cells": {
             "fill": {
              "color": "#EBF0F8"
             },
             "line": {
              "color": "white"
             }
            },
            "header": {
             "fill": {
              "color": "#C8D4E3"
             },
             "line": {
              "color": "white"
             }
            },
            "type": "table"
           }
          ]
         },
         "layout": {
          "annotationdefaults": {
           "arrowcolor": "#2a3f5f",
           "arrowhead": 0,
           "arrowwidth": 1
          },
          "coloraxis": {
           "colorbar": {
            "outlinewidth": 0,
            "ticks": ""
           }
          },
          "colorscale": {
           "diverging": [
            [
             0,
             "#8e0152"
            ],
            [
             0.1,
             "#c51b7d"
            ],
            [
             0.2,
             "#de77ae"
            ],
            [
             0.3,
             "#f1b6da"
            ],
            [
             0.4,
             "#fde0ef"
            ],
            [
             0.5,
             "#f7f7f7"
            ],
            [
             0.6,
             "#e6f5d0"
            ],
            [
             0.7,
             "#b8e186"
            ],
            [
             0.8,
             "#7fbc41"
            ],
            [
             0.9,
             "#4d9221"
            ],
            [
             1,
             "#276419"
            ]
           ],
           "sequential": [
            [
             0,
             "#0d0887"
            ],
            [
             0.1111111111111111,
             "#46039f"
            ],
            [
             0.2222222222222222,
             "#7201a8"
            ],
            [
             0.3333333333333333,
             "#9c179e"
            ],
            [
             0.4444444444444444,
             "#bd3786"
            ],
            [
             0.5555555555555556,
             "#d8576b"
            ],
            [
             0.6666666666666666,
             "#ed7953"
            ],
            [
             0.7777777777777778,
             "#fb9f3a"
            ],
            [
             0.8888888888888888,
             "#fdca26"
            ],
            [
             1,
             "#f0f921"
            ]
           ],
           "sequentialminus": [
            [
             0,
             "#0d0887"
            ],
            [
             0.1111111111111111,
             "#46039f"
            ],
            [
             0.2222222222222222,
             "#7201a8"
            ],
            [
             0.3333333333333333,
             "#9c179e"
            ],
            [
             0.4444444444444444,
             "#bd3786"
            ],
            [
             0.5555555555555556,
             "#d8576b"
            ],
            [
             0.6666666666666666,
             "#ed7953"
            ],
            [
             0.7777777777777778,
             "#fb9f3a"
            ],
            [
             0.8888888888888888,
             "#fdca26"
            ],
            [
             1,
             "#f0f921"
            ]
           ]
          },
          "colorway": [
           "#636efa",
           "#EF553B",
           "#00cc96",
           "#ab63fa",
           "#FFA15A",
           "#19d3f3",
           "#FF6692",
           "#B6E880",
           "#FF97FF",
           "#FECB52"
          ],
          "font": {
           "color": "#2a3f5f"
          },
          "geo": {
           "bgcolor": "white",
           "lakecolor": "white",
           "landcolor": "#E5ECF6",
           "showlakes": true,
           "showland": true,
           "subunitcolor": "white"
          },
          "hoverlabel": {
           "align": "left"
          },
          "hovermode": "closest",
          "mapbox": {
           "style": "light"
          },
          "paper_bgcolor": "white",
          "plot_bgcolor": "#E5ECF6",
          "polar": {
           "angularaxis": {
            "gridcolor": "white",
            "linecolor": "white",
            "ticks": ""
           },
           "bgcolor": "#E5ECF6",
           "radialaxis": {
            "gridcolor": "white",
            "linecolor": "white",
            "ticks": ""
           }
          },
          "scene": {
           "xaxis": {
            "backgroundcolor": "#E5ECF6",
            "gridcolor": "white",
            "gridwidth": 2,
            "linecolor": "white",
            "showbackground": true,
            "ticks": "",
            "zerolinecolor": "white"
           },
           "yaxis": {
            "backgroundcolor": "#E5ECF6",
            "gridcolor": "white",
            "gridwidth": 2,
            "linecolor": "white",
            "showbackground": true,
            "ticks": "",
            "zerolinecolor": "white"
           },
           "zaxis": {
            "backgroundcolor": "#E5ECF6",
            "gridcolor": "white",
            "gridwidth": 2,
            "linecolor": "white",
            "showbackground": true,
            "ticks": "",
            "zerolinecolor": "white"
           }
          },
          "shapedefaults": {
           "line": {
            "color": "#2a3f5f"
           }
          },
          "ternary": {
           "aaxis": {
            "gridcolor": "white",
            "linecolor": "white",
            "ticks": ""
           },
           "baxis": {
            "gridcolor": "white",
            "linecolor": "white",
            "ticks": ""
           },
           "bgcolor": "#E5ECF6",
           "caxis": {
            "gridcolor": "white",
            "linecolor": "white",
            "ticks": ""
           }
          },
          "title": {
           "x": 0.05
          },
          "xaxis": {
           "automargin": true,
           "gridcolor": "white",
           "linecolor": "white",
           "ticks": "",
           "title": {
            "standoff": 15
           },
           "zerolinecolor": "white",
           "zerolinewidth": 2
          },
          "yaxis": {
           "automargin": true,
           "gridcolor": "white",
           "linecolor": "white",
           "ticks": "",
           "title": {
            "standoff": 15
           },
           "zerolinecolor": "white",
           "zerolinewidth": 2
          }
         }
        },
        "uniformtext": {
         "minsize": 8,
         "mode": "hide"
        },
        "xaxis": {
         "anchor": "y",
         "domain": [
          0,
          1
         ],
         "title": {
          "text": "Job Category"
         }
        },
        "yaxis": {
         "anchor": "x",
         "domain": [
          0,
          1
         ],
         "title": {
          "text": "Total"
         }
        }
       }
      },
      "text/html": [
       "<div>\n",
       "        \n",
       "        \n",
       "            <div id=\"8797bf36-c5e8-41fa-87e7-c44c0808befb\" class=\"plotly-graph-div\" style=\"height:525px; width:100%;\"></div>\n",
       "            <script type=\"text/javascript\">\n",
       "                require([\"plotly\"], function(Plotly) {\n",
       "                    window.PLOTLYENV=window.PLOTLYENV || {};\n",
       "                    \n",
       "                if (document.getElementById(\"8797bf36-c5e8-41fa-87e7-c44c0808befb\")) {\n",
       "                    Plotly.newPlot(\n",
       "                        '8797bf36-c5e8-41fa-87e7-c44c0808befb',\n",
       "                        [{\"alignmentgroup\": \"True\", \"hoverlabel\": {\"namelength\": 0}, \"hovertemplate\": \"Job Category=%{x}<br>Total=%{text}\", \"legendgroup\": \"\", \"marker\": {\"color\": \"#636efa\"}, \"name\": \"\", \"offsetgroup\": \"\", \"orientation\": \"v\", \"showlegend\": false, \"text\": [583003.0, 2054975.0, 4949867.0, 4973791.0, 1957346.0, 5599703.0, 1508339.0, 3937722.0, 1867894.0, 2886927.0, 1328128.0, 1910044.0, 9265958.0, 670068.0, 1931921.0, 1342780.0, 10832035.0], \"textposition\": \"outside\", \"texttemplate\": \"%{text:.2s}\", \"type\": \"bar\", \"x\": [\"Design\", \"Education\", \"Engineering\", \"Finance\", \"Food Services\", \"Health\", \"Human Resources\", \"Labor\", \"Law\", \"Manufacturing\", \"Media\", \"Operations\", \"Professional Services\", \"Real Estate\", \"Retail\", \"Sales\", \"Technology\"], \"xaxis\": \"x\", \"y\": [583003, 2054975, 4949867, 4973791, 1957346, 5599703, 1508339, 3937722, 1867894, 2886927, 1328128, 1910044, 9265958, 670068, 1931921, 1342780, 10832035], \"yaxis\": \"y\"}],\n",
       "                        {\"barmode\": \"relative\", \"legend\": {\"tracegroupgap\": 0}, \"margin\": {\"t\": 60}, \"template\": {\"data\": {\"bar\": [{\"error_x\": {\"color\": \"#2a3f5f\"}, \"error_y\": {\"color\": \"#2a3f5f\"}, \"marker\": {\"line\": {\"color\": \"#E5ECF6\", \"width\": 0.5}}, \"type\": \"bar\"}], \"barpolar\": [{\"marker\": {\"line\": {\"color\": \"#E5ECF6\", \"width\": 0.5}}, \"type\": \"barpolar\"}], \"carpet\": [{\"aaxis\": {\"endlinecolor\": \"#2a3f5f\", \"gridcolor\": \"white\", \"linecolor\": \"white\", \"minorgridcolor\": \"white\", \"startlinecolor\": \"#2a3f5f\"}, \"baxis\": {\"endlinecolor\": \"#2a3f5f\", \"gridcolor\": \"white\", \"linecolor\": \"white\", \"minorgridcolor\": \"white\", \"startlinecolor\": \"#2a3f5f\"}, \"type\": \"carpet\"}], \"choropleth\": [{\"colorbar\": {\"outlinewidth\": 0, \"ticks\": \"\"}, \"type\": \"choropleth\"}], \"contour\": [{\"colorbar\": {\"outlinewidth\": 0, \"ticks\": \"\"}, \"colorscale\": [[0.0, \"#0d0887\"], [0.1111111111111111, \"#46039f\"], [0.2222222222222222, \"#7201a8\"], [0.3333333333333333, \"#9c179e\"], [0.4444444444444444, \"#bd3786\"], [0.5555555555555556, \"#d8576b\"], [0.6666666666666666, \"#ed7953\"], [0.7777777777777778, \"#fb9f3a\"], [0.8888888888888888, \"#fdca26\"], [1.0, \"#f0f921\"]], \"type\": \"contour\"}], \"contourcarpet\": [{\"colorbar\": {\"outlinewidth\": 0, \"ticks\": \"\"}, \"type\": \"contourcarpet\"}], \"heatmap\": [{\"colorbar\": {\"outlinewidth\": 0, \"ticks\": \"\"}, \"colorscale\": [[0.0, \"#0d0887\"], [0.1111111111111111, \"#46039f\"], [0.2222222222222222, \"#7201a8\"], [0.3333333333333333, \"#9c179e\"], [0.4444444444444444, \"#bd3786\"], [0.5555555555555556, \"#d8576b\"], [0.6666666666666666, \"#ed7953\"], [0.7777777777777778, \"#fb9f3a\"], [0.8888888888888888, \"#fdca26\"], [1.0, \"#f0f921\"]], \"type\": \"heatmap\"}], \"heatmapgl\": [{\"colorbar\": {\"outlinewidth\": 0, \"ticks\": \"\"}, \"colorscale\": [[0.0, \"#0d0887\"], [0.1111111111111111, \"#46039f\"], [0.2222222222222222, \"#7201a8\"], [0.3333333333333333, \"#9c179e\"], [0.4444444444444444, \"#bd3786\"], [0.5555555555555556, \"#d8576b\"], [0.6666666666666666, \"#ed7953\"], [0.7777777777777778, \"#fb9f3a\"], [0.8888888888888888, \"#fdca26\"], [1.0, \"#f0f921\"]], \"type\": \"heatmapgl\"}], \"histogram\": [{\"marker\": {\"colorbar\": {\"outlinewidth\": 0, \"ticks\": \"\"}}, \"type\": \"histogram\"}], \"histogram2d\": [{\"colorbar\": {\"outlinewidth\": 0, \"ticks\": \"\"}, \"colorscale\": [[0.0, \"#0d0887\"], [0.1111111111111111, \"#46039f\"], [0.2222222222222222, \"#7201a8\"], [0.3333333333333333, \"#9c179e\"], [0.4444444444444444, \"#bd3786\"], [0.5555555555555556, \"#d8576b\"], [0.6666666666666666, \"#ed7953\"], [0.7777777777777778, \"#fb9f3a\"], [0.8888888888888888, \"#fdca26\"], [1.0, \"#f0f921\"]], \"type\": \"histogram2d\"}], \"histogram2dcontour\": [{\"colorbar\": {\"outlinewidth\": 0, \"ticks\": \"\"}, \"colorscale\": [[0.0, \"#0d0887\"], [0.1111111111111111, \"#46039f\"], [0.2222222222222222, \"#7201a8\"], [0.3333333333333333, \"#9c179e\"], [0.4444444444444444, \"#bd3786\"], [0.5555555555555556, \"#d8576b\"], [0.6666666666666666, \"#ed7953\"], [0.7777777777777778, \"#fb9f3a\"], [0.8888888888888888, \"#fdca26\"], [1.0, \"#f0f921\"]], \"type\": \"histogram2dcontour\"}], \"mesh3d\": [{\"colorbar\": {\"outlinewidth\": 0, \"ticks\": \"\"}, \"type\": \"mesh3d\"}], \"parcoords\": [{\"line\": {\"colorbar\": {\"outlinewidth\": 0, \"ticks\": \"\"}}, \"type\": \"parcoords\"}], \"pie\": [{\"automargin\": true, \"type\": \"pie\"}], \"scatter\": [{\"marker\": {\"colorbar\": {\"outlinewidth\": 0, \"ticks\": \"\"}}, \"type\": \"scatter\"}], \"scatter3d\": [{\"line\": {\"colorbar\": {\"outlinewidth\": 0, \"ticks\": \"\"}}, \"marker\": {\"colorbar\": {\"outlinewidth\": 0, \"ticks\": \"\"}}, \"type\": \"scatter3d\"}], \"scattercarpet\": [{\"marker\": {\"colorbar\": {\"outlinewidth\": 0, \"ticks\": \"\"}}, \"type\": \"scattercarpet\"}], \"scattergeo\": [{\"marker\": {\"colorbar\": {\"outlinewidth\": 0, \"ticks\": \"\"}}, \"type\": \"scattergeo\"}], \"scattergl\": [{\"marker\": {\"colorbar\": {\"outlinewidth\": 0, \"ticks\": \"\"}}, \"type\": \"scattergl\"}], \"scattermapbox\": [{\"marker\": {\"colorbar\": {\"outlinewidth\": 0, \"ticks\": \"\"}}, \"type\": \"scattermapbox\"}], \"scatterpolar\": [{\"marker\": {\"colorbar\": {\"outlinewidth\": 0, \"ticks\": \"\"}}, \"type\": \"scatterpolar\"}], \"scatterpolargl\": [{\"marker\": {\"colorbar\": {\"outlinewidth\": 0, \"ticks\": \"\"}}, \"type\": \"scatterpolargl\"}], \"scatterternary\": [{\"marker\": {\"colorbar\": {\"outlinewidth\": 0, \"ticks\": \"\"}}, \"type\": \"scatterternary\"}], \"surface\": [{\"colorbar\": {\"outlinewidth\": 0, \"ticks\": \"\"}, \"colorscale\": [[0.0, \"#0d0887\"], [0.1111111111111111, \"#46039f\"], [0.2222222222222222, \"#7201a8\"], [0.3333333333333333, \"#9c179e\"], [0.4444444444444444, \"#bd3786\"], [0.5555555555555556, \"#d8576b\"], [0.6666666666666666, \"#ed7953\"], [0.7777777777777778, \"#fb9f3a\"], [0.8888888888888888, \"#fdca26\"], [1.0, \"#f0f921\"]], \"type\": \"surface\"}], \"table\": [{\"cells\": {\"fill\": {\"color\": \"#EBF0F8\"}, \"line\": {\"color\": \"white\"}}, \"header\": {\"fill\": {\"color\": \"#C8D4E3\"}, \"line\": {\"color\": \"white\"}}, \"type\": \"table\"}]}, \"layout\": {\"annotationdefaults\": {\"arrowcolor\": \"#2a3f5f\", \"arrowhead\": 0, \"arrowwidth\": 1}, \"coloraxis\": {\"colorbar\": {\"outlinewidth\": 0, \"ticks\": \"\"}}, \"colorscale\": {\"diverging\": [[0, \"#8e0152\"], [0.1, \"#c51b7d\"], [0.2, \"#de77ae\"], [0.3, \"#f1b6da\"], [0.4, \"#fde0ef\"], [0.5, \"#f7f7f7\"], [0.6, \"#e6f5d0\"], [0.7, \"#b8e186\"], [0.8, \"#7fbc41\"], [0.9, \"#4d9221\"], [1, \"#276419\"]], \"sequential\": [[0.0, \"#0d0887\"], [0.1111111111111111, \"#46039f\"], [0.2222222222222222, \"#7201a8\"], [0.3333333333333333, \"#9c179e\"], [0.4444444444444444, \"#bd3786\"], [0.5555555555555556, \"#d8576b\"], [0.6666666666666666, \"#ed7953\"], [0.7777777777777778, \"#fb9f3a\"], [0.8888888888888888, \"#fdca26\"], [1.0, \"#f0f921\"]], \"sequentialminus\": [[0.0, \"#0d0887\"], [0.1111111111111111, \"#46039f\"], [0.2222222222222222, \"#7201a8\"], [0.3333333333333333, \"#9c179e\"], [0.4444444444444444, \"#bd3786\"], [0.5555555555555556, \"#d8576b\"], [0.6666666666666666, \"#ed7953\"], [0.7777777777777778, \"#fb9f3a\"], [0.8888888888888888, \"#fdca26\"], [1.0, \"#f0f921\"]]}, \"colorway\": [\"#636efa\", \"#EF553B\", \"#00cc96\", \"#ab63fa\", \"#FFA15A\", \"#19d3f3\", \"#FF6692\", \"#B6E880\", \"#FF97FF\", \"#FECB52\"], \"font\": {\"color\": \"#2a3f5f\"}, \"geo\": {\"bgcolor\": \"white\", \"lakecolor\": \"white\", \"landcolor\": \"#E5ECF6\", \"showlakes\": true, \"showland\": true, \"subunitcolor\": \"white\"}, \"hoverlabel\": {\"align\": \"left\"}, \"hovermode\": \"closest\", \"mapbox\": {\"style\": \"light\"}, \"paper_bgcolor\": \"white\", \"plot_bgcolor\": \"#E5ECF6\", \"polar\": {\"angularaxis\": {\"gridcolor\": \"white\", \"linecolor\": \"white\", \"ticks\": \"\"}, \"bgcolor\": \"#E5ECF6\", \"radialaxis\": {\"gridcolor\": \"white\", \"linecolor\": \"white\", \"ticks\": \"\"}}, \"scene\": {\"xaxis\": {\"backgroundcolor\": \"#E5ECF6\", \"gridcolor\": \"white\", \"gridwidth\": 2, \"linecolor\": \"white\", \"showbackground\": true, \"ticks\": \"\", \"zerolinecolor\": \"white\"}, \"yaxis\": {\"backgroundcolor\": \"#E5ECF6\", \"gridcolor\": \"white\", \"gridwidth\": 2, \"linecolor\": \"white\", \"showbackground\": true, \"ticks\": \"\", \"zerolinecolor\": \"white\"}, \"zaxis\": {\"backgroundcolor\": \"#E5ECF6\", \"gridcolor\": \"white\", \"gridwidth\": 2, \"linecolor\": \"white\", \"showbackground\": true, \"ticks\": \"\", \"zerolinecolor\": \"white\"}}, \"shapedefaults\": {\"line\": {\"color\": \"#2a3f5f\"}}, \"ternary\": {\"aaxis\": {\"gridcolor\": \"white\", \"linecolor\": \"white\", \"ticks\": \"\"}, \"baxis\": {\"gridcolor\": \"white\", \"linecolor\": \"white\", \"ticks\": \"\"}, \"bgcolor\": \"#E5ECF6\", \"caxis\": {\"gridcolor\": \"white\", \"linecolor\": \"white\", \"ticks\": \"\"}}, \"title\": {\"x\": 0.05}, \"xaxis\": {\"automargin\": true, \"gridcolor\": \"white\", \"linecolor\": \"white\", \"ticks\": \"\", \"title\": {\"standoff\": 15}, \"zerolinecolor\": \"white\", \"zerolinewidth\": 2}, \"yaxis\": {\"automargin\": true, \"gridcolor\": \"white\", \"linecolor\": \"white\", \"ticks\": \"\", \"title\": {\"standoff\": 15}, \"zerolinecolor\": \"white\", \"zerolinewidth\": 2}}}, \"uniformtext\": {\"minsize\": 8, \"mode\": \"hide\"}, \"xaxis\": {\"anchor\": \"y\", \"domain\": [0.0, 1.0], \"title\": {\"text\": \"Job Category\"}}, \"yaxis\": {\"anchor\": \"x\", \"domain\": [0.0, 1.0], \"title\": {\"text\": \"Total\"}}},\n",
       "                        {\"responsive\": true}\n",
       "                    ).then(function(){\n",
       "                            \n",
       "var gd = document.getElementById('8797bf36-c5e8-41fa-87e7-c44c0808befb');\n",
       "var x = new MutationObserver(function (mutations, observer) {{\n",
       "        var display = window.getComputedStyle(gd).display;\n",
       "        if (!display || display === 'none') {{\n",
       "            console.log([gd, 'removed!']);\n",
       "            Plotly.purge(gd);\n",
       "            observer.disconnect();\n",
       "        }}\n",
       "}});\n",
       "\n",
       "// Listen for the removal of the full notebook cells\n",
       "var notebookContainer = gd.closest('#notebook-container');\n",
       "if (notebookContainer) {{\n",
       "    x.observe(notebookContainer, {childList: true});\n",
       "}}\n",
       "\n",
       "// Listen for the clearing of the current output cell\n",
       "var outputEl = gd.closest('.output');\n",
       "if (outputEl) {{\n",
       "    x.observe(outputEl, {childList: true});\n",
       "}}\n",
       "\n",
       "                        })\n",
       "                };\n",
       "                });\n",
       "            </script>\n",
       "        </div>"
      ]
     },
     "metadata": {},
     "output_type": "display_data"
    }
   ],
   "source": [
    "fig = px.bar(df_job, y='Total', x='Job Category', text='Total')\n",
    "fig.update_traces(texttemplate='%{text:.2s}', textposition='outside')\n",
    "fig.update_layout(uniformtext_minsize=8, uniformtext_mode='hide')\n",
    "fig.show()"
   ]
  },
  {
   "cell_type": "code",
   "execution_count": 14,
   "metadata": {},
   "outputs": [
    {
     "data": {
      "text/html": [
       "<div>\n",
       "<style scoped>\n",
       "    .dataframe tbody tr th:only-of-type {\n",
       "        vertical-align: middle;\n",
       "    }\n",
       "\n",
       "    .dataframe tbody tr th {\n",
       "        vertical-align: top;\n",
       "    }\n",
       "\n",
       "    .dataframe thead th {\n",
       "        text-align: right;\n",
       "    }\n",
       "</style>\n",
       "<table border=\"1\" class=\"dataframe\">\n",
       "  <thead>\n",
       "    <tr style=\"text-align: right;\">\n",
       "      <th></th>\n",
       "      <th>Job Category</th>\n",
       "      <th>Job Title</th>\n",
       "      <th>Atlanta</th>\n",
       "      <th>Boston</th>\n",
       "      <th>Chicago</th>\n",
       "      <th>Houston</th>\n",
       "      <th>Los Angeles</th>\n",
       "      <th>New York City</th>\n",
       "      <th>Philadelphia</th>\n",
       "      <th>San Francisco</th>\n",
       "      <th>Seattle</th>\n",
       "      <th>Washington DC</th>\n",
       "      <th>Total</th>\n",
       "    </tr>\n",
       "  </thead>\n",
       "  <tbody>\n",
       "    <tr>\n",
       "      <td>0</td>\n",
       "      <td>Design</td>\n",
       "      <td>Graphic Designer</td>\n",
       "      <td>52307</td>\n",
       "      <td>58616</td>\n",
       "      <td>53636</td>\n",
       "      <td>49495</td>\n",
       "      <td>60004</td>\n",
       "      <td>60913</td>\n",
       "      <td>51620</td>\n",
       "      <td>74986</td>\n",
       "      <td>62118</td>\n",
       "      <td>59308</td>\n",
       "      <td>583003</td>\n",
       "    </tr>\n",
       "    <tr>\n",
       "      <td>1</td>\n",
       "      <td>Education</td>\n",
       "      <td>Professor</td>\n",
       "      <td>93669</td>\n",
       "      <td>124416</td>\n",
       "      <td>101815</td>\n",
       "      <td>104098</td>\n",
       "      <td>115901</td>\n",
       "      <td>116551</td>\n",
       "      <td>102934</td>\n",
       "      <td>130761</td>\n",
       "      <td>109108</td>\n",
       "      <td>104065</td>\n",
       "      <td>1103318</td>\n",
       "    </tr>\n",
       "    <tr>\n",
       "      <td>2</td>\n",
       "      <td>Education</td>\n",
       "      <td>Research Assistant</td>\n",
       "      <td>31360</td>\n",
       "      <td>38181</td>\n",
       "      <td>33694</td>\n",
       "      <td>31202</td>\n",
       "      <td>35313</td>\n",
       "      <td>37979</td>\n",
       "      <td>32601</td>\n",
       "      <td>40695</td>\n",
       "      <td>34735</td>\n",
       "      <td>35872</td>\n",
       "      <td>351632</td>\n",
       "    </tr>\n",
       "    <tr>\n",
       "      <td>3</td>\n",
       "      <td>Education</td>\n",
       "      <td>Teacher</td>\n",
       "      <td>50378</td>\n",
       "      <td>61327</td>\n",
       "      <td>56218</td>\n",
       "      <td>54216</td>\n",
       "      <td>64666</td>\n",
       "      <td>67552</td>\n",
       "      <td>54601</td>\n",
       "      <td>70271</td>\n",
       "      <td>59578</td>\n",
       "      <td>61218</td>\n",
       "      <td>600025</td>\n",
       "    </tr>\n",
       "    <tr>\n",
       "      <td>4</td>\n",
       "      <td>Engineering</td>\n",
       "      <td>Civil Engineer</td>\n",
       "      <td>71292</td>\n",
       "      <td>77247</td>\n",
       "      <td>76466</td>\n",
       "      <td>78336</td>\n",
       "      <td>84642</td>\n",
       "      <td>80995</td>\n",
       "      <td>76147</td>\n",
       "      <td>93333</td>\n",
       "      <td>81285</td>\n",
       "      <td>78854</td>\n",
       "      <td>798597</td>\n",
       "    </tr>\n",
       "    <tr>\n",
       "      <td>...</td>\n",
       "      <td>...</td>\n",
       "      <td>...</td>\n",
       "      <td>...</td>\n",
       "      <td>...</td>\n",
       "      <td>...</td>\n",
       "      <td>...</td>\n",
       "      <td>...</td>\n",
       "      <td>...</td>\n",
       "      <td>...</td>\n",
       "      <td>...</td>\n",
       "      <td>...</td>\n",
       "      <td>...</td>\n",
       "      <td>...</td>\n",
       "    </tr>\n",
       "    <tr>\n",
       "      <td>79</td>\n",
       "      <td>Technology</td>\n",
       "      <td>Systems Engineer</td>\n",
       "      <td>82532</td>\n",
       "      <td>90553</td>\n",
       "      <td>85134</td>\n",
       "      <td>77991</td>\n",
       "      <td>94649</td>\n",
       "      <td>91868</td>\n",
       "      <td>83349</td>\n",
       "      <td>106969</td>\n",
       "      <td>95389</td>\n",
       "      <td>94236</td>\n",
       "      <td>902670</td>\n",
       "    </tr>\n",
       "    <tr>\n",
       "      <td>80</td>\n",
       "      <td>Technology</td>\n",
       "      <td>Technical Support</td>\n",
       "      <td>46457</td>\n",
       "      <td>58646</td>\n",
       "      <td>53640</td>\n",
       "      <td>48978</td>\n",
       "      <td>55913</td>\n",
       "      <td>58419</td>\n",
       "      <td>51340</td>\n",
       "      <td>68588</td>\n",
       "      <td>55575</td>\n",
       "      <td>59011</td>\n",
       "      <td>556567</td>\n",
       "    </tr>\n",
       "    <tr>\n",
       "      <td>81</td>\n",
       "      <td>Technology</td>\n",
       "      <td>UX Designer</td>\n",
       "      <td>85912</td>\n",
       "      <td>90980</td>\n",
       "      <td>84536</td>\n",
       "      <td>78309</td>\n",
       "      <td>93434</td>\n",
       "      <td>95097</td>\n",
       "      <td>79303</td>\n",
       "      <td>112133</td>\n",
       "      <td>101237</td>\n",
       "      <td>91979</td>\n",
       "      <td>912920</td>\n",
       "    </tr>\n",
       "    <tr>\n",
       "      <td>82</td>\n",
       "      <td>Technology</td>\n",
       "      <td>Web Designer</td>\n",
       "      <td>61899</td>\n",
       "      <td>68300</td>\n",
       "      <td>64393</td>\n",
       "      <td>59430</td>\n",
       "      <td>65705</td>\n",
       "      <td>68077</td>\n",
       "      <td>58624</td>\n",
       "      <td>83150</td>\n",
       "      <td>67126</td>\n",
       "      <td>69062</td>\n",
       "      <td>665766</td>\n",
       "    </tr>\n",
       "    <tr>\n",
       "      <td>83</td>\n",
       "      <td>Technology</td>\n",
       "      <td>Web Developer</td>\n",
       "      <td>77856</td>\n",
       "      <td>85334</td>\n",
       "      <td>78251</td>\n",
       "      <td>72252</td>\n",
       "      <td>82970</td>\n",
       "      <td>87284</td>\n",
       "      <td>74319</td>\n",
       "      <td>104640</td>\n",
       "      <td>89770</td>\n",
       "      <td>89420</td>\n",
       "      <td>842096</td>\n",
       "    </tr>\n",
       "  </tbody>\n",
       "</table>\n",
       "<p>84 rows × 13 columns</p>\n",
       "</div>"
      ],
      "text/plain": [
       "   Job Category           Job Title  Atlanta  Boston  Chicago  Houston  \\\n",
       "0        Design    Graphic Designer    52307   58616    53636    49495   \n",
       "1     Education           Professor    93669  124416   101815   104098   \n",
       "2     Education  Research Assistant    31360   38181    33694    31202   \n",
       "3     Education             Teacher    50378   61327    56218    54216   \n",
       "4   Engineering      Civil Engineer    71292   77247    76466    78336   \n",
       "..          ...                 ...      ...     ...      ...      ...   \n",
       "79   Technology    Systems Engineer    82532   90553    85134    77991   \n",
       "80   Technology   Technical Support    46457   58646    53640    48978   \n",
       "81   Technology         UX Designer    85912   90980    84536    78309   \n",
       "82   Technology        Web Designer    61899   68300    64393    59430   \n",
       "83   Technology       Web Developer    77856   85334    78251    72252   \n",
       "\n",
       "    Los Angeles  New York City  Philadelphia  San Francisco  Seattle  \\\n",
       "0         60004          60913         51620          74986    62118   \n",
       "1        115901         116551        102934         130761   109108   \n",
       "2         35313          37979         32601          40695    34735   \n",
       "3         64666          67552         54601          70271    59578   \n",
       "4         84642          80995         76147          93333    81285   \n",
       "..          ...            ...           ...            ...      ...   \n",
       "79        94649          91868         83349         106969    95389   \n",
       "80        55913          58419         51340          68588    55575   \n",
       "81        93434          95097         79303         112133   101237   \n",
       "82        65705          68077         58624          83150    67126   \n",
       "83        82970          87284         74319         104640    89770   \n",
       "\n",
       "    Washington DC    Total  \n",
       "0           59308   583003  \n",
       "1          104065  1103318  \n",
       "2           35872   351632  \n",
       "3           61218   600025  \n",
       "4           78854   798597  \n",
       "..            ...      ...  \n",
       "79          94236   902670  \n",
       "80          59011   556567  \n",
       "81          91979   912920  \n",
       "82          69062   665766  \n",
       "83          89420   842096  \n",
       "\n",
       "[84 rows x 13 columns]"
      ]
     },
     "execution_count": 14,
     "metadata": {},
     "output_type": "execute_result"
    }
   ],
   "source": [
    "df"
   ]
  },
  {
   "cell_type": "code",
   "execution_count": 15,
   "metadata": {},
   "outputs": [
    {
     "data": {
      "application/vnd.plotly.v1+json": {
       "config": {
        "plotlyServerURL": "https://plot.ly"
       },
       "data": [
        {
         "alignmentgroup": "True",
         "hoverlabel": {
          "namelength": 0
         },
         "hovertemplate": "variable=Atlanta<br>Job Category=%{x}<br>value=%{text}",
         "legendgroup": "Atlanta",
         "marker": {
          "color": "#636efa"
         },
         "name": "Atlanta",
         "offsetgroup": "Atlanta",
         "orientation": "v",
         "showlegend": true,
         "text": [
          52307,
          175407,
          445539,
          450593,
          176064,
          501066,
          133938,
          350717,
          164196,
          263614,
          116479,
          168796,
          846548,
          59301,
          173122,
          123268,
          995960
         ],
         "textposition": "outside",
         "texttemplate": "%{text:.2s}",
         "type": "bar",
         "x": [
          "Design",
          "Education",
          "Engineering",
          "Finance",
          "Food Services",
          "Health",
          "Human Resources",
          "Labor",
          "Law",
          "Manufacturing",
          "Media",
          "Operations",
          "Professional Services",
          "Real Estate",
          "Retail",
          "Sales",
          "Technology"
         ],
         "xaxis": "x",
         "y": [
          52307,
          175407,
          445539,
          450593,
          176064,
          501066,
          133938,
          350717,
          164196,
          263614,
          116479,
          168796,
          846548,
          59301,
          173122,
          123268,
          995960
         ],
         "yaxis": "y"
        },
        {
         "alignmentgroup": "True",
         "hoverlabel": {
          "namelength": 0
         },
         "hovertemplate": "variable=Boston<br>Job Category=%{x}<br>value=%{text}",
         "legendgroup": "Boston",
         "marker": {
          "color": "#EF553B"
         },
         "name": "Boston",
         "offsetgroup": "Boston",
         "orientation": "v",
         "showlegend": true,
         "text": [
          58616,
          223924,
          510671,
          506921,
          211202,
          558821,
          151623,
          412269,
          173482,
          291817,
          128612,
          190158,
          938172,
          71284,
          192783,
          141602,
          1086633
         ],
         "textposition": "outside",
         "texttemplate": "%{text:.2s}",
         "type": "bar",
         "x": [
          "Design",
          "Education",
          "Engineering",
          "Finance",
          "Food Services",
          "Health",
          "Human Resources",
          "Labor",
          "Law",
          "Manufacturing",
          "Media",
          "Operations",
          "Professional Services",
          "Real Estate",
          "Retail",
          "Sales",
          "Technology"
         ],
         "xaxis": "x",
         "y": [
          58616,
          223924,
          510671,
          506921,
          211202,
          558821,
          151623,
          412269,
          173482,
          291817,
          128612,
          190158,
          938172,
          71284,
          192783,
          141602,
          1086633
         ],
         "yaxis": "y"
        },
        {
         "alignmentgroup": "True",
         "hoverlabel": {
          "namelength": 0
         },
         "hovertemplate": "variable=Chicago<br>Job Category=%{x}<br>value=%{text}",
         "legendgroup": "Chicago",
         "marker": {
          "color": "#00cc96"
         },
         "name": "Chicago",
         "offsetgroup": "Chicago",
         "orientation": "v",
         "showlegend": true,
         "text": [
          53636,
          191727,
          464744,
          473446,
          187869,
          519136,
          141907,
          384841,
          174270,
          273684,
          122750,
          179870,
          882360,
          63154,
          185909,
          129021,
          1018703
         ],
         "textposition": "outside",
         "texttemplate": "%{text:.2s}",
         "type": "bar",
         "x": [
          "Design",
          "Education",
          "Engineering",
          "Finance",
          "Food Services",
          "Health",
          "Human Resources",
          "Labor",
          "Law",
          "Manufacturing",
          "Media",
          "Operations",
          "Professional Services",
          "Real Estate",
          "Retail",
          "Sales",
          "Technology"
         ],
         "xaxis": "x",
         "y": [
          53636,
          191727,
          464744,
          473446,
          187869,
          519136,
          141907,
          384841,
          174270,
          273684,
          122750,
          179870,
          882360,
          63154,
          185909,
          129021,
          1018703
         ],
         "yaxis": "y"
        },
        {
         "alignmentgroup": "True",
         "hoverlabel": {
          "namelength": 0
         },
         "hovertemplate": "variable=Houston<br>Job Category=%{x}<br>value=%{text}",
         "legendgroup": "Houston",
         "marker": {
          "color": "#ab63fa"
         },
         "name": "Houston",
         "offsetgroup": "Houston",
         "orientation": "v",
         "showlegend": true,
         "text": [
          49495,
          189516,
          482064,
          458489,
          175053,
          508223,
          139904,
          355687,
          180718,
          283144,
          112865,
          176240,
          848946,
          58706,
          173924,
          122805,
          975449
         ],
         "textposition": "outside",
         "texttemplate": "%{text:.2s}",
         "type": "bar",
         "x": [
          "Design",
          "Education",
          "Engineering",
          "Finance",
          "Food Services",
          "Health",
          "Human Resources",
          "Labor",
          "Law",
          "Manufacturing",
          "Media",
          "Operations",
          "Professional Services",
          "Real Estate",
          "Retail",
          "Sales",
          "Technology"
         ],
         "xaxis": "x",
         "y": [
          49495,
          189516,
          482064,
          458489,
          175053,
          508223,
          139904,
          355687,
          180718,
          283144,
          112865,
          176240,
          848946,
          58706,
          173924,
          122805,
          975449
         ],
         "yaxis": "y"
        },
        {
         "alignmentgroup": "True",
         "hoverlabel": {
          "namelength": 0
         },
         "hovertemplate": "variable=Los Angeles<br>Job Category=%{x}<br>value=%{text}",
         "legendgroup": "Los Angeles",
         "marker": {
          "color": "#FFA15A"
         },
         "name": "Los Angeles",
         "offsetgroup": "Los Angeles",
         "orientation": "v",
         "showlegend": true,
         "text": [
          60004,
          215880,
          512589,
          507657,
          197679,
          593375,
          154091,
          387722,
          200745,
          295950,
          142483,
          187900,
          941261,
          67410,
          200141,
          136437,
          1103867
         ],
         "textposition": "outside",
         "texttemplate": "%{text:.2s}",
         "type": "bar",
         "x": [
          "Design",
          "Education",
          "Engineering",
          "Finance",
          "Food Services",
          "Health",
          "Human Resources",
          "Labor",
          "Law",
          "Manufacturing",
          "Media",
          "Operations",
          "Professional Services",
          "Real Estate",
          "Retail",
          "Sales",
          "Technology"
         ],
         "xaxis": "x",
         "y": [
          60004,
          215880,
          512589,
          507657,
          197679,
          593375,
          154091,
          387722,
          200745,
          295950,
          142483,
          187900,
          941261,
          67410,
          200141,
          136437,
          1103867
         ],
         "yaxis": "y"
        },
        {
         "alignmentgroup": "True",
         "hoverlabel": {
          "namelength": 0
         },
         "hovertemplate": "variable=New York City<br>Job Category=%{x}<br>value=%{text}",
         "legendgroup": "New York City",
         "marker": {
          "color": "#19d3f3"
         },
         "name": "New York City",
         "offsetgroup": "New York City",
         "orientation": "v",
         "showlegend": true,
         "text": [
          60913,
          222082,
          481263,
          524303,
          201789,
          565899,
          157873,
          387131,
          190843,
          287595,
          139337,
          199181,
          957396,
          72101,
          204698,
          140465,
          1115639
         ],
         "textposition": "outside",
         "texttemplate": "%{text:.2s}",
         "type": "bar",
         "x": [
          "Design",
          "Education",
          "Engineering",
          "Finance",
          "Food Services",
          "Health",
          "Human Resources",
          "Labor",
          "Law",
          "Manufacturing",
          "Media",
          "Operations",
          "Professional Services",
          "Real Estate",
          "Retail",
          "Sales",
          "Technology"
         ],
         "xaxis": "x",
         "y": [
          60913,
          222082,
          481263,
          524303,
          201789,
          565899,
          157873,
          387131,
          190843,
          287595,
          139337,
          199181,
          957396,
          72101,
          204698,
          140465,
          1115639
         ],
         "yaxis": "y"
        },
        {
         "alignmentgroup": "True",
         "hoverlabel": {
          "namelength": 0
         },
         "hovertemplate": "variable=Philadelphia<br>Job Category=%{x}<br>value=%{text}",
         "legendgroup": "Philadelphia",
         "marker": {
          "color": "#FF6692"
         },
         "name": "Philadelphia",
         "offsetgroup": "Philadelphia",
         "orientation": "v",
         "showlegend": true,
         "text": [
          51620,
          190136,
          465911,
          472191,
          184027,
          531681,
          136166,
          380697,
          165403,
          272675,
          116217,
          175460,
          848795,
          63026,
          178645,
          126844,
          988898
         ],
         "textposition": "outside",
         "texttemplate": "%{text:.2s}",
         "type": "bar",
         "x": [
          "Design",
          "Education",
          "Engineering",
          "Finance",
          "Food Services",
          "Health",
          "Human Resources",
          "Labor",
          "Law",
          "Manufacturing",
          "Media",
          "Operations",
          "Professional Services",
          "Real Estate",
          "Retail",
          "Sales",
          "Technology"
         ],
         "xaxis": "x",
         "y": [
          51620,
          190136,
          465911,
          472191,
          184027,
          531681,
          136166,
          380697,
          165403,
          272675,
          116217,
          175460,
          848795,
          63026,
          178645,
          126844,
          988898
         ],
         "yaxis": "y"
        },
        {
         "alignmentgroup": "True",
         "hoverlabel": {
          "namelength": 0
         },
         "hovertemplate": "variable=San Francisco<br>Job Category=%{x}<br>value=%{text}",
         "legendgroup": "San Francisco",
         "marker": {
          "color": "#B6E880"
         },
         "name": "San Francisco",
         "offsetgroup": "San Francisco",
         "orientation": "v",
         "showlegend": true,
         "text": [
          74986,
          241727,
          578167,
          577236,
          221248,
          696384,
          186033,
          468279,
          231584,
          342241,
          154825,
          227363,
          1100076,
          78074,
          229577,
          155412,
          1306378
         ],
         "textposition": "outside",
         "texttemplate": "%{text:.2s}",
         "type": "bar",
         "x": [
          "Design",
          "Education",
          "Engineering",
          "Finance",
          "Food Services",
          "Health",
          "Human Resources",
          "Labor",
          "Law",
          "Manufacturing",
          "Media",
          "Operations",
          "Professional Services",
          "Real Estate",
          "Retail",
          "Sales",
          "Technology"
         ],
         "xaxis": "x",
         "y": [
          74986,
          241727,
          578167,
          577236,
          221248,
          696384,
          186033,
          468279,
          231584,
          342241,
          154825,
          227363,
          1100076,
          78074,
          229577,
          155412,
          1306378
         ],
         "yaxis": "y"
        },
        {
         "alignmentgroup": "True",
         "hoverlabel": {
          "namelength": 0
         },
         "hovertemplate": "variable=Seattle<br>Job Category=%{x}<br>value=%{text}",
         "legendgroup": "Seattle",
         "marker": {
          "color": "#FF97FF"
         },
         "name": "Seattle",
         "offsetgroup": "Seattle",
         "orientation": "v",
         "showlegend": true,
         "text": [
          62118,
          203421,
          512383,
          496785,
          204916,
          581525,
          155504,
          427506,
          186866,
          293027,
          154775,
          201163,
          967828,
          68113,
          205858,
          135363,
          1149801
         ],
         "textposition": "outside",
         "texttemplate": "%{text:.2s}",
         "type": "bar",
         "x": [
          "Design",
          "Education",
          "Engineering",
          "Finance",
          "Food Services",
          "Health",
          "Human Resources",
          "Labor",
          "Law",
          "Manufacturing",
          "Media",
          "Operations",
          "Professional Services",
          "Real Estate",
          "Retail",
          "Sales",
          "Technology"
         ],
         "xaxis": "x",
         "y": [
          62118,
          203421,
          512383,
          496785,
          204916,
          581525,
          155504,
          427506,
          186866,
          293027,
          154775,
          201163,
          967828,
          68113,
          205858,
          135363,
          1149801
         ],
         "yaxis": "y"
        },
        {
         "alignmentgroup": "True",
         "hoverlabel": {
          "namelength": 0
         },
         "hovertemplate": "variable=Washington DC<br>Job Category=%{x}<br>value=%{text}",
         "legendgroup": "Washington DC",
         "marker": {
          "color": "#FECB52"
         },
         "name": "Washington DC",
         "offsetgroup": "Washington DC",
         "orientation": "v",
         "showlegend": true,
         "text": [
          59308,
          201155,
          496536,
          506170,
          197499,
          543593,
          151300,
          382873,
          199787,
          283180,
          139785,
          203913,
          934576,
          68899,
          187264,
          131563,
          1090707
         ],
         "textposition": "outside",
         "texttemplate": "%{text:.2s}",
         "type": "bar",
         "x": [
          "Design",
          "Education",
          "Engineering",
          "Finance",
          "Food Services",
          "Health",
          "Human Resources",
          "Labor",
          "Law",
          "Manufacturing",
          "Media",
          "Operations",
          "Professional Services",
          "Real Estate",
          "Retail",
          "Sales",
          "Technology"
         ],
         "xaxis": "x",
         "y": [
          59308,
          201155,
          496536,
          506170,
          197499,
          543593,
          151300,
          382873,
          199787,
          283180,
          139785,
          203913,
          934576,
          68899,
          187264,
          131563,
          1090707
         ],
         "yaxis": "y"
        }
       ],
       "layout": {
        "barmode": "group",
        "legend": {
         "title": {
          "text": "variable"
         },
         "tracegroupgap": 0
        },
        "margin": {
         "t": 60
        },
        "template": {
         "data": {
          "bar": [
           {
            "error_x": {
             "color": "#2a3f5f"
            },
            "error_y": {
             "color": "#2a3f5f"
            },
            "marker": {
             "line": {
              "color": "#E5ECF6",
              "width": 0.5
             }
            },
            "type": "bar"
           }
          ],
          "barpolar": [
           {
            "marker": {
             "line": {
              "color": "#E5ECF6",
              "width": 0.5
             }
            },
            "type": "barpolar"
           }
          ],
          "carpet": [
           {
            "aaxis": {
             "endlinecolor": "#2a3f5f",
             "gridcolor": "white",
             "linecolor": "white",
             "minorgridcolor": "white",
             "startlinecolor": "#2a3f5f"
            },
            "baxis": {
             "endlinecolor": "#2a3f5f",
             "gridcolor": "white",
             "linecolor": "white",
             "minorgridcolor": "white",
             "startlinecolor": "#2a3f5f"
            },
            "type": "carpet"
           }
          ],
          "choropleth": [
           {
            "colorbar": {
             "outlinewidth": 0,
             "ticks": ""
            },
            "type": "choropleth"
           }
          ],
          "contour": [
           {
            "colorbar": {
             "outlinewidth": 0,
             "ticks": ""
            },
            "colorscale": [
             [
              0,
              "#0d0887"
             ],
             [
              0.1111111111111111,
              "#46039f"
             ],
             [
              0.2222222222222222,
              "#7201a8"
             ],
             [
              0.3333333333333333,
              "#9c179e"
             ],
             [
              0.4444444444444444,
              "#bd3786"
             ],
             [
              0.5555555555555556,
              "#d8576b"
             ],
             [
              0.6666666666666666,
              "#ed7953"
             ],
             [
              0.7777777777777778,
              "#fb9f3a"
             ],
             [
              0.8888888888888888,
              "#fdca26"
             ],
             [
              1,
              "#f0f921"
             ]
            ],
            "type": "contour"
           }
          ],
          "contourcarpet": [
           {
            "colorbar": {
             "outlinewidth": 0,
             "ticks": ""
            },
            "type": "contourcarpet"
           }
          ],
          "heatmap": [
           {
            "colorbar": {
             "outlinewidth": 0,
             "ticks": ""
            },
            "colorscale": [
             [
              0,
              "#0d0887"
             ],
             [
              0.1111111111111111,
              "#46039f"
             ],
             [
              0.2222222222222222,
              "#7201a8"
             ],
             [
              0.3333333333333333,
              "#9c179e"
             ],
             [
              0.4444444444444444,
              "#bd3786"
             ],
             [
              0.5555555555555556,
              "#d8576b"
             ],
             [
              0.6666666666666666,
              "#ed7953"
             ],
             [
              0.7777777777777778,
              "#fb9f3a"
             ],
             [
              0.8888888888888888,
              "#fdca26"
             ],
             [
              1,
              "#f0f921"
             ]
            ],
            "type": "heatmap"
           }
          ],
          "heatmapgl": [
           {
            "colorbar": {
             "outlinewidth": 0,
             "ticks": ""
            },
            "colorscale": [
             [
              0,
              "#0d0887"
             ],
             [
              0.1111111111111111,
              "#46039f"
             ],
             [
              0.2222222222222222,
              "#7201a8"
             ],
             [
              0.3333333333333333,
              "#9c179e"
             ],
             [
              0.4444444444444444,
              "#bd3786"
             ],
             [
              0.5555555555555556,
              "#d8576b"
             ],
             [
              0.6666666666666666,
              "#ed7953"
             ],
             [
              0.7777777777777778,
              "#fb9f3a"
             ],
             [
              0.8888888888888888,
              "#fdca26"
             ],
             [
              1,
              "#f0f921"
             ]
            ],
            "type": "heatmapgl"
           }
          ],
          "histogram": [
           {
            "marker": {
             "colorbar": {
              "outlinewidth": 0,
              "ticks": ""
             }
            },
            "type": "histogram"
           }
          ],
          "histogram2d": [
           {
            "colorbar": {
             "outlinewidth": 0,
             "ticks": ""
            },
            "colorscale": [
             [
              0,
              "#0d0887"
             ],
             [
              0.1111111111111111,
              "#46039f"
             ],
             [
              0.2222222222222222,
              "#7201a8"
             ],
             [
              0.3333333333333333,
              "#9c179e"
             ],
             [
              0.4444444444444444,
              "#bd3786"
             ],
             [
              0.5555555555555556,
              "#d8576b"
             ],
             [
              0.6666666666666666,
              "#ed7953"
             ],
             [
              0.7777777777777778,
              "#fb9f3a"
             ],
             [
              0.8888888888888888,
              "#fdca26"
             ],
             [
              1,
              "#f0f921"
             ]
            ],
            "type": "histogram2d"
           }
          ],
          "histogram2dcontour": [
           {
            "colorbar": {
             "outlinewidth": 0,
             "ticks": ""
            },
            "colorscale": [
             [
              0,
              "#0d0887"
             ],
             [
              0.1111111111111111,
              "#46039f"
             ],
             [
              0.2222222222222222,
              "#7201a8"
             ],
             [
              0.3333333333333333,
              "#9c179e"
             ],
             [
              0.4444444444444444,
              "#bd3786"
             ],
             [
              0.5555555555555556,
              "#d8576b"
             ],
             [
              0.6666666666666666,
              "#ed7953"
             ],
             [
              0.7777777777777778,
              "#fb9f3a"
             ],
             [
              0.8888888888888888,
              "#fdca26"
             ],
             [
              1,
              "#f0f921"
             ]
            ],
            "type": "histogram2dcontour"
           }
          ],
          "mesh3d": [
           {
            "colorbar": {
             "outlinewidth": 0,
             "ticks": ""
            },
            "type": "mesh3d"
           }
          ],
          "parcoords": [
           {
            "line": {
             "colorbar": {
              "outlinewidth": 0,
              "ticks": ""
             }
            },
            "type": "parcoords"
           }
          ],
          "pie": [
           {
            "automargin": true,
            "type": "pie"
           }
          ],
          "scatter": [
           {
            "marker": {
             "colorbar": {
              "outlinewidth": 0,
              "ticks": ""
             }
            },
            "type": "scatter"
           }
          ],
          "scatter3d": [
           {
            "line": {
             "colorbar": {
              "outlinewidth": 0,
              "ticks": ""
             }
            },
            "marker": {
             "colorbar": {
              "outlinewidth": 0,
              "ticks": ""
             }
            },
            "type": "scatter3d"
           }
          ],
          "scattercarpet": [
           {
            "marker": {
             "colorbar": {
              "outlinewidth": 0,
              "ticks": ""
             }
            },
            "type": "scattercarpet"
           }
          ],
          "scattergeo": [
           {
            "marker": {
             "colorbar": {
              "outlinewidth": 0,
              "ticks": ""
             }
            },
            "type": "scattergeo"
           }
          ],
          "scattergl": [
           {
            "marker": {
             "colorbar": {
              "outlinewidth": 0,
              "ticks": ""
             }
            },
            "type": "scattergl"
           }
          ],
          "scattermapbox": [
           {
            "marker": {
             "colorbar": {
              "outlinewidth": 0,
              "ticks": ""
             }
            },
            "type": "scattermapbox"
           }
          ],
          "scatterpolar": [
           {
            "marker": {
             "colorbar": {
              "outlinewidth": 0,
              "ticks": ""
             }
            },
            "type": "scatterpolar"
           }
          ],
          "scatterpolargl": [
           {
            "marker": {
             "colorbar": {
              "outlinewidth": 0,
              "ticks": ""
             }
            },
            "type": "scatterpolargl"
           }
          ],
          "scatterternary": [
           {
            "marker": {
             "colorbar": {
              "outlinewidth": 0,
              "ticks": ""
             }
            },
            "type": "scatterternary"
           }
          ],
          "surface": [
           {
            "colorbar": {
             "outlinewidth": 0,
             "ticks": ""
            },
            "colorscale": [
             [
              0,
              "#0d0887"
             ],
             [
              0.1111111111111111,
              "#46039f"
             ],
             [
              0.2222222222222222,
              "#7201a8"
             ],
             [
              0.3333333333333333,
              "#9c179e"
             ],
             [
              0.4444444444444444,
              "#bd3786"
             ],
             [
              0.5555555555555556,
              "#d8576b"
             ],
             [
              0.6666666666666666,
              "#ed7953"
             ],
             [
              0.7777777777777778,
              "#fb9f3a"
             ],
             [
              0.8888888888888888,
              "#fdca26"
             ],
             [
              1,
              "#f0f921"
             ]
            ],
            "type": "surface"
           }
          ],
          "table": [
           {
            "cells": {
             "fill": {
              "color": "#EBF0F8"
             },
             "line": {
              "color": "white"
             }
            },
            "header": {
             "fill": {
              "color": "#C8D4E3"
             },
             "line": {
              "color": "white"
             }
            },
            "type": "table"
           }
          ]
         },
         "layout": {
          "annotationdefaults": {
           "arrowcolor": "#2a3f5f",
           "arrowhead": 0,
           "arrowwidth": 1
          },
          "coloraxis": {
           "colorbar": {
            "outlinewidth": 0,
            "ticks": ""
           }
          },
          "colorscale": {
           "diverging": [
            [
             0,
             "#8e0152"
            ],
            [
             0.1,
             "#c51b7d"
            ],
            [
             0.2,
             "#de77ae"
            ],
            [
             0.3,
             "#f1b6da"
            ],
            [
             0.4,
             "#fde0ef"
            ],
            [
             0.5,
             "#f7f7f7"
            ],
            [
             0.6,
             "#e6f5d0"
            ],
            [
             0.7,
             "#b8e186"
            ],
            [
             0.8,
             "#7fbc41"
            ],
            [
             0.9,
             "#4d9221"
            ],
            [
             1,
             "#276419"
            ]
           ],
           "sequential": [
            [
             0,
             "#0d0887"
            ],
            [
             0.1111111111111111,
             "#46039f"
            ],
            [
             0.2222222222222222,
             "#7201a8"
            ],
            [
             0.3333333333333333,
             "#9c179e"
            ],
            [
             0.4444444444444444,
             "#bd3786"
            ],
            [
             0.5555555555555556,
             "#d8576b"
            ],
            [
             0.6666666666666666,
             "#ed7953"
            ],
            [
             0.7777777777777778,
             "#fb9f3a"
            ],
            [
             0.8888888888888888,
             "#fdca26"
            ],
            [
             1,
             "#f0f921"
            ]
           ],
           "sequentialminus": [
            [
             0,
             "#0d0887"
            ],
            [
             0.1111111111111111,
             "#46039f"
            ],
            [
             0.2222222222222222,
             "#7201a8"
            ],
            [
             0.3333333333333333,
             "#9c179e"
            ],
            [
             0.4444444444444444,
             "#bd3786"
            ],
            [
             0.5555555555555556,
             "#d8576b"
            ],
            [
             0.6666666666666666,
             "#ed7953"
            ],
            [
             0.7777777777777778,
             "#fb9f3a"
            ],
            [
             0.8888888888888888,
             "#fdca26"
            ],
            [
             1,
             "#f0f921"
            ]
           ]
          },
          "colorway": [
           "#636efa",
           "#EF553B",
           "#00cc96",
           "#ab63fa",
           "#FFA15A",
           "#19d3f3",
           "#FF6692",
           "#B6E880",
           "#FF97FF",
           "#FECB52"
          ],
          "font": {
           "color": "#2a3f5f"
          },
          "geo": {
           "bgcolor": "white",
           "lakecolor": "white",
           "landcolor": "#E5ECF6",
           "showlakes": true,
           "showland": true,
           "subunitcolor": "white"
          },
          "hoverlabel": {
           "align": "left"
          },
          "hovermode": "closest",
          "mapbox": {
           "style": "light"
          },
          "paper_bgcolor": "white",
          "plot_bgcolor": "#E5ECF6",
          "polar": {
           "angularaxis": {
            "gridcolor": "white",
            "linecolor": "white",
            "ticks": ""
           },
           "bgcolor": "#E5ECF6",
           "radialaxis": {
            "gridcolor": "white",
            "linecolor": "white",
            "ticks": ""
           }
          },
          "scene": {
           "xaxis": {
            "backgroundcolor": "#E5ECF6",
            "gridcolor": "white",
            "gridwidth": 2,
            "linecolor": "white",
            "showbackground": true,
            "ticks": "",
            "zerolinecolor": "white"
           },
           "yaxis": {
            "backgroundcolor": "#E5ECF6",
            "gridcolor": "white",
            "gridwidth": 2,
            "linecolor": "white",
            "showbackground": true,
            "ticks": "",
            "zerolinecolor": "white"
           },
           "zaxis": {
            "backgroundcolor": "#E5ECF6",
            "gridcolor": "white",
            "gridwidth": 2,
            "linecolor": "white",
            "showbackground": true,
            "ticks": "",
            "zerolinecolor": "white"
           }
          },
          "shapedefaults": {
           "line": {
            "color": "#2a3f5f"
           }
          },
          "ternary": {
           "aaxis": {
            "gridcolor": "white",
            "linecolor": "white",
            "ticks": ""
           },
           "baxis": {
            "gridcolor": "white",
            "linecolor": "white",
            "ticks": ""
           },
           "bgcolor": "#E5ECF6",
           "caxis": {
            "gridcolor": "white",
            "linecolor": "white",
            "ticks": ""
           }
          },
          "title": {
           "x": 0.05
          },
          "xaxis": {
           "automargin": true,
           "gridcolor": "white",
           "linecolor": "white",
           "ticks": "",
           "title": {
            "standoff": 15
           },
           "zerolinecolor": "white",
           "zerolinewidth": 2
          },
          "yaxis": {
           "automargin": true,
           "gridcolor": "white",
           "linecolor": "white",
           "ticks": "",
           "title": {
            "standoff": 15
           },
           "zerolinecolor": "white",
           "zerolinewidth": 2
          }
         }
        },
        "uniformtext": {
         "minsize": 8,
         "mode": "hide"
        },
        "xaxis": {
         "anchor": "y",
         "domain": [
          0,
          1
         ],
         "title": {
          "text": "Job Category"
         }
        },
        "yaxis": {
         "anchor": "x",
         "domain": [
          0,
          1
         ],
         "title": {
          "text": "value"
         }
        }
       }
      },
      "text/html": [
       "<div>\n",
       "        \n",
       "        \n",
       "            <div id=\"b32e8c97-1aff-410e-b152-3419e54a80c9\" class=\"plotly-graph-div\" style=\"height:525px; width:100%;\"></div>\n",
       "            <script type=\"text/javascript\">\n",
       "                require([\"plotly\"], function(Plotly) {\n",
       "                    window.PLOTLYENV=window.PLOTLYENV || {};\n",
       "                    \n",
       "                if (document.getElementById(\"b32e8c97-1aff-410e-b152-3419e54a80c9\")) {\n",
       "                    Plotly.newPlot(\n",
       "                        'b32e8c97-1aff-410e-b152-3419e54a80c9',\n",
       "                        [{\"alignmentgroup\": \"True\", \"hoverlabel\": {\"namelength\": 0}, \"hovertemplate\": \"variable=Atlanta<br>Job Category=%{x}<br>value=%{text}\", \"legendgroup\": \"Atlanta\", \"marker\": {\"color\": \"#636efa\"}, \"name\": \"Atlanta\", \"offsetgroup\": \"Atlanta\", \"orientation\": \"v\", \"showlegend\": true, \"text\": [52307.0, 175407.0, 445539.0, 450593.0, 176064.0, 501066.0, 133938.0, 350717.0, 164196.0, 263614.0, 116479.0, 168796.0, 846548.0, 59301.0, 173122.0, 123268.0, 995960.0], \"textposition\": \"outside\", \"texttemplate\": \"%{text:.2s}\", \"type\": \"bar\", \"x\": [\"Design\", \"Education\", \"Engineering\", \"Finance\", \"Food Services\", \"Health\", \"Human Resources\", \"Labor\", \"Law\", \"Manufacturing\", \"Media\", \"Operations\", \"Professional Services\", \"Real Estate\", \"Retail\", \"Sales\", \"Technology\"], \"xaxis\": \"x\", \"y\": [52307, 175407, 445539, 450593, 176064, 501066, 133938, 350717, 164196, 263614, 116479, 168796, 846548, 59301, 173122, 123268, 995960], \"yaxis\": \"y\"}, {\"alignmentgroup\": \"True\", \"hoverlabel\": {\"namelength\": 0}, \"hovertemplate\": \"variable=Boston<br>Job Category=%{x}<br>value=%{text}\", \"legendgroup\": \"Boston\", \"marker\": {\"color\": \"#EF553B\"}, \"name\": \"Boston\", \"offsetgroup\": \"Boston\", \"orientation\": \"v\", \"showlegend\": true, \"text\": [58616.0, 223924.0, 510671.0, 506921.0, 211202.0, 558821.0, 151623.0, 412269.0, 173482.0, 291817.0, 128612.0, 190158.0, 938172.0, 71284.0, 192783.0, 141602.0, 1086633.0], \"textposition\": \"outside\", \"texttemplate\": \"%{text:.2s}\", \"type\": \"bar\", \"x\": [\"Design\", \"Education\", \"Engineering\", \"Finance\", \"Food Services\", \"Health\", \"Human Resources\", \"Labor\", \"Law\", \"Manufacturing\", \"Media\", \"Operations\", \"Professional Services\", \"Real Estate\", \"Retail\", \"Sales\", \"Technology\"], \"xaxis\": \"x\", \"y\": [58616, 223924, 510671, 506921, 211202, 558821, 151623, 412269, 173482, 291817, 128612, 190158, 938172, 71284, 192783, 141602, 1086633], \"yaxis\": \"y\"}, {\"alignmentgroup\": \"True\", \"hoverlabel\": {\"namelength\": 0}, \"hovertemplate\": \"variable=Chicago<br>Job Category=%{x}<br>value=%{text}\", \"legendgroup\": \"Chicago\", \"marker\": {\"color\": \"#00cc96\"}, \"name\": \"Chicago\", \"offsetgroup\": \"Chicago\", \"orientation\": \"v\", \"showlegend\": true, \"text\": [53636.0, 191727.0, 464744.0, 473446.0, 187869.0, 519136.0, 141907.0, 384841.0, 174270.0, 273684.0, 122750.0, 179870.0, 882360.0, 63154.0, 185909.0, 129021.0, 1018703.0], \"textposition\": \"outside\", \"texttemplate\": \"%{text:.2s}\", \"type\": \"bar\", \"x\": [\"Design\", \"Education\", \"Engineering\", \"Finance\", \"Food Services\", \"Health\", \"Human Resources\", \"Labor\", \"Law\", \"Manufacturing\", \"Media\", \"Operations\", \"Professional Services\", \"Real Estate\", \"Retail\", \"Sales\", \"Technology\"], \"xaxis\": \"x\", \"y\": [53636, 191727, 464744, 473446, 187869, 519136, 141907, 384841, 174270, 273684, 122750, 179870, 882360, 63154, 185909, 129021, 1018703], \"yaxis\": \"y\"}, {\"alignmentgroup\": \"True\", \"hoverlabel\": {\"namelength\": 0}, \"hovertemplate\": \"variable=Houston<br>Job Category=%{x}<br>value=%{text}\", \"legendgroup\": \"Houston\", \"marker\": {\"color\": \"#ab63fa\"}, \"name\": \"Houston\", \"offsetgroup\": \"Houston\", \"orientation\": \"v\", \"showlegend\": true, \"text\": [49495.0, 189516.0, 482064.0, 458489.0, 175053.0, 508223.0, 139904.0, 355687.0, 180718.0, 283144.0, 112865.0, 176240.0, 848946.0, 58706.0, 173924.0, 122805.0, 975449.0], \"textposition\": \"outside\", \"texttemplate\": \"%{text:.2s}\", \"type\": \"bar\", \"x\": [\"Design\", \"Education\", \"Engineering\", \"Finance\", \"Food Services\", \"Health\", \"Human Resources\", \"Labor\", \"Law\", \"Manufacturing\", \"Media\", \"Operations\", \"Professional Services\", \"Real Estate\", \"Retail\", \"Sales\", \"Technology\"], \"xaxis\": \"x\", \"y\": [49495, 189516, 482064, 458489, 175053, 508223, 139904, 355687, 180718, 283144, 112865, 176240, 848946, 58706, 173924, 122805, 975449], \"yaxis\": \"y\"}, {\"alignmentgroup\": \"True\", \"hoverlabel\": {\"namelength\": 0}, \"hovertemplate\": \"variable=Los Angeles<br>Job Category=%{x}<br>value=%{text}\", \"legendgroup\": \"Los Angeles\", \"marker\": {\"color\": \"#FFA15A\"}, \"name\": \"Los Angeles\", \"offsetgroup\": \"Los Angeles\", \"orientation\": \"v\", \"showlegend\": true, \"text\": [60004.0, 215880.0, 512589.0, 507657.0, 197679.0, 593375.0, 154091.0, 387722.0, 200745.0, 295950.0, 142483.0, 187900.0, 941261.0, 67410.0, 200141.0, 136437.0, 1103867.0], \"textposition\": \"outside\", \"texttemplate\": \"%{text:.2s}\", \"type\": \"bar\", \"x\": [\"Design\", \"Education\", \"Engineering\", \"Finance\", \"Food Services\", \"Health\", \"Human Resources\", \"Labor\", \"Law\", \"Manufacturing\", \"Media\", \"Operations\", \"Professional Services\", \"Real Estate\", \"Retail\", \"Sales\", \"Technology\"], \"xaxis\": \"x\", \"y\": [60004, 215880, 512589, 507657, 197679, 593375, 154091, 387722, 200745, 295950, 142483, 187900, 941261, 67410, 200141, 136437, 1103867], \"yaxis\": \"y\"}, {\"alignmentgroup\": \"True\", \"hoverlabel\": {\"namelength\": 0}, \"hovertemplate\": \"variable=New York City<br>Job Category=%{x}<br>value=%{text}\", \"legendgroup\": \"New York City\", \"marker\": {\"color\": \"#19d3f3\"}, \"name\": \"New York City\", \"offsetgroup\": \"New York City\", \"orientation\": \"v\", \"showlegend\": true, \"text\": [60913.0, 222082.0, 481263.0, 524303.0, 201789.0, 565899.0, 157873.0, 387131.0, 190843.0, 287595.0, 139337.0, 199181.0, 957396.0, 72101.0, 204698.0, 140465.0, 1115639.0], \"textposition\": \"outside\", \"texttemplate\": \"%{text:.2s}\", \"type\": \"bar\", \"x\": [\"Design\", \"Education\", \"Engineering\", \"Finance\", \"Food Services\", \"Health\", \"Human Resources\", \"Labor\", \"Law\", \"Manufacturing\", \"Media\", \"Operations\", \"Professional Services\", \"Real Estate\", \"Retail\", \"Sales\", \"Technology\"], \"xaxis\": \"x\", \"y\": [60913, 222082, 481263, 524303, 201789, 565899, 157873, 387131, 190843, 287595, 139337, 199181, 957396, 72101, 204698, 140465, 1115639], \"yaxis\": \"y\"}, {\"alignmentgroup\": \"True\", \"hoverlabel\": {\"namelength\": 0}, \"hovertemplate\": \"variable=Philadelphia<br>Job Category=%{x}<br>value=%{text}\", \"legendgroup\": \"Philadelphia\", \"marker\": {\"color\": \"#FF6692\"}, \"name\": \"Philadelphia\", \"offsetgroup\": \"Philadelphia\", \"orientation\": \"v\", \"showlegend\": true, \"text\": [51620.0, 190136.0, 465911.0, 472191.0, 184027.0, 531681.0, 136166.0, 380697.0, 165403.0, 272675.0, 116217.0, 175460.0, 848795.0, 63026.0, 178645.0, 126844.0, 988898.0], \"textposition\": \"outside\", \"texttemplate\": \"%{text:.2s}\", \"type\": \"bar\", \"x\": [\"Design\", \"Education\", \"Engineering\", \"Finance\", \"Food Services\", \"Health\", \"Human Resources\", \"Labor\", \"Law\", \"Manufacturing\", \"Media\", \"Operations\", \"Professional Services\", \"Real Estate\", \"Retail\", \"Sales\", \"Technology\"], \"xaxis\": \"x\", \"y\": [51620, 190136, 465911, 472191, 184027, 531681, 136166, 380697, 165403, 272675, 116217, 175460, 848795, 63026, 178645, 126844, 988898], \"yaxis\": \"y\"}, {\"alignmentgroup\": \"True\", \"hoverlabel\": {\"namelength\": 0}, \"hovertemplate\": \"variable=San Francisco<br>Job Category=%{x}<br>value=%{text}\", \"legendgroup\": \"San Francisco\", \"marker\": {\"color\": \"#B6E880\"}, \"name\": \"San Francisco\", \"offsetgroup\": \"San Francisco\", \"orientation\": \"v\", \"showlegend\": true, \"text\": [74986.0, 241727.0, 578167.0, 577236.0, 221248.0, 696384.0, 186033.0, 468279.0, 231584.0, 342241.0, 154825.0, 227363.0, 1100076.0, 78074.0, 229577.0, 155412.0, 1306378.0], \"textposition\": \"outside\", \"texttemplate\": \"%{text:.2s}\", \"type\": \"bar\", \"x\": [\"Design\", \"Education\", \"Engineering\", \"Finance\", \"Food Services\", \"Health\", \"Human Resources\", \"Labor\", \"Law\", \"Manufacturing\", \"Media\", \"Operations\", \"Professional Services\", \"Real Estate\", \"Retail\", \"Sales\", \"Technology\"], \"xaxis\": \"x\", \"y\": [74986, 241727, 578167, 577236, 221248, 696384, 186033, 468279, 231584, 342241, 154825, 227363, 1100076, 78074, 229577, 155412, 1306378], \"yaxis\": \"y\"}, {\"alignmentgroup\": \"True\", \"hoverlabel\": {\"namelength\": 0}, \"hovertemplate\": \"variable=Seattle<br>Job Category=%{x}<br>value=%{text}\", \"legendgroup\": \"Seattle\", \"marker\": {\"color\": \"#FF97FF\"}, \"name\": \"Seattle\", \"offsetgroup\": \"Seattle\", \"orientation\": \"v\", \"showlegend\": true, \"text\": [62118.0, 203421.0, 512383.0, 496785.0, 204916.0, 581525.0, 155504.0, 427506.0, 186866.0, 293027.0, 154775.0, 201163.0, 967828.0, 68113.0, 205858.0, 135363.0, 1149801.0], \"textposition\": \"outside\", \"texttemplate\": \"%{text:.2s}\", \"type\": \"bar\", \"x\": [\"Design\", \"Education\", \"Engineering\", \"Finance\", \"Food Services\", \"Health\", \"Human Resources\", \"Labor\", \"Law\", \"Manufacturing\", \"Media\", \"Operations\", \"Professional Services\", \"Real Estate\", \"Retail\", \"Sales\", \"Technology\"], \"xaxis\": \"x\", \"y\": [62118, 203421, 512383, 496785, 204916, 581525, 155504, 427506, 186866, 293027, 154775, 201163, 967828, 68113, 205858, 135363, 1149801], \"yaxis\": \"y\"}, {\"alignmentgroup\": \"True\", \"hoverlabel\": {\"namelength\": 0}, \"hovertemplate\": \"variable=Washington DC<br>Job Category=%{x}<br>value=%{text}\", \"legendgroup\": \"Washington DC\", \"marker\": {\"color\": \"#FECB52\"}, \"name\": \"Washington DC\", \"offsetgroup\": \"Washington DC\", \"orientation\": \"v\", \"showlegend\": true, \"text\": [59308.0, 201155.0, 496536.0, 506170.0, 197499.0, 543593.0, 151300.0, 382873.0, 199787.0, 283180.0, 139785.0, 203913.0, 934576.0, 68899.0, 187264.0, 131563.0, 1090707.0], \"textposition\": \"outside\", \"texttemplate\": \"%{text:.2s}\", \"type\": \"bar\", \"x\": [\"Design\", \"Education\", \"Engineering\", \"Finance\", \"Food Services\", \"Health\", \"Human Resources\", \"Labor\", \"Law\", \"Manufacturing\", \"Media\", \"Operations\", \"Professional Services\", \"Real Estate\", \"Retail\", \"Sales\", \"Technology\"], \"xaxis\": \"x\", \"y\": [59308, 201155, 496536, 506170, 197499, 543593, 151300, 382873, 199787, 283180, 139785, 203913, 934576, 68899, 187264, 131563, 1090707], \"yaxis\": \"y\"}],\n",
       "                        {\"barmode\": \"group\", \"legend\": {\"title\": {\"text\": \"variable\"}, \"tracegroupgap\": 0}, \"margin\": {\"t\": 60}, \"template\": {\"data\": {\"bar\": [{\"error_x\": {\"color\": \"#2a3f5f\"}, \"error_y\": {\"color\": \"#2a3f5f\"}, \"marker\": {\"line\": {\"color\": \"#E5ECF6\", \"width\": 0.5}}, \"type\": \"bar\"}], \"barpolar\": [{\"marker\": {\"line\": {\"color\": \"#E5ECF6\", \"width\": 0.5}}, \"type\": \"barpolar\"}], \"carpet\": [{\"aaxis\": {\"endlinecolor\": \"#2a3f5f\", \"gridcolor\": \"white\", \"linecolor\": \"white\", \"minorgridcolor\": \"white\", \"startlinecolor\": \"#2a3f5f\"}, \"baxis\": {\"endlinecolor\": \"#2a3f5f\", \"gridcolor\": \"white\", \"linecolor\": \"white\", \"minorgridcolor\": \"white\", \"startlinecolor\": \"#2a3f5f\"}, \"type\": \"carpet\"}], \"choropleth\": [{\"colorbar\": {\"outlinewidth\": 0, \"ticks\": \"\"}, \"type\": \"choropleth\"}], \"contour\": [{\"colorbar\": {\"outlinewidth\": 0, \"ticks\": \"\"}, \"colorscale\": [[0.0, \"#0d0887\"], [0.1111111111111111, \"#46039f\"], [0.2222222222222222, \"#7201a8\"], [0.3333333333333333, \"#9c179e\"], [0.4444444444444444, \"#bd3786\"], [0.5555555555555556, \"#d8576b\"], [0.6666666666666666, \"#ed7953\"], [0.7777777777777778, \"#fb9f3a\"], [0.8888888888888888, \"#fdca26\"], [1.0, \"#f0f921\"]], \"type\": \"contour\"}], \"contourcarpet\": [{\"colorbar\": {\"outlinewidth\": 0, \"ticks\": \"\"}, \"type\": \"contourcarpet\"}], \"heatmap\": [{\"colorbar\": {\"outlinewidth\": 0, \"ticks\": \"\"}, \"colorscale\": [[0.0, \"#0d0887\"], [0.1111111111111111, \"#46039f\"], [0.2222222222222222, \"#7201a8\"], [0.3333333333333333, \"#9c179e\"], [0.4444444444444444, \"#bd3786\"], [0.5555555555555556, \"#d8576b\"], [0.6666666666666666, \"#ed7953\"], [0.7777777777777778, \"#fb9f3a\"], [0.8888888888888888, \"#fdca26\"], [1.0, \"#f0f921\"]], \"type\": \"heatmap\"}], \"heatmapgl\": [{\"colorbar\": {\"outlinewidth\": 0, \"ticks\": \"\"}, \"colorscale\": [[0.0, \"#0d0887\"], [0.1111111111111111, \"#46039f\"], [0.2222222222222222, \"#7201a8\"], [0.3333333333333333, \"#9c179e\"], [0.4444444444444444, \"#bd3786\"], [0.5555555555555556, \"#d8576b\"], [0.6666666666666666, \"#ed7953\"], [0.7777777777777778, \"#fb9f3a\"], [0.8888888888888888, \"#fdca26\"], [1.0, \"#f0f921\"]], \"type\": \"heatmapgl\"}], \"histogram\": [{\"marker\": {\"colorbar\": {\"outlinewidth\": 0, \"ticks\": \"\"}}, \"type\": \"histogram\"}], \"histogram2d\": [{\"colorbar\": {\"outlinewidth\": 0, \"ticks\": \"\"}, \"colorscale\": [[0.0, \"#0d0887\"], [0.1111111111111111, \"#46039f\"], [0.2222222222222222, \"#7201a8\"], [0.3333333333333333, \"#9c179e\"], [0.4444444444444444, \"#bd3786\"], [0.5555555555555556, \"#d8576b\"], [0.6666666666666666, \"#ed7953\"], [0.7777777777777778, \"#fb9f3a\"], [0.8888888888888888, \"#fdca26\"], [1.0, \"#f0f921\"]], \"type\": \"histogram2d\"}], \"histogram2dcontour\": [{\"colorbar\": {\"outlinewidth\": 0, \"ticks\": \"\"}, \"colorscale\": [[0.0, \"#0d0887\"], [0.1111111111111111, \"#46039f\"], [0.2222222222222222, \"#7201a8\"], [0.3333333333333333, \"#9c179e\"], [0.4444444444444444, \"#bd3786\"], [0.5555555555555556, \"#d8576b\"], [0.6666666666666666, \"#ed7953\"], [0.7777777777777778, \"#fb9f3a\"], [0.8888888888888888, \"#fdca26\"], [1.0, \"#f0f921\"]], \"type\": \"histogram2dcontour\"}], \"mesh3d\": [{\"colorbar\": {\"outlinewidth\": 0, \"ticks\": \"\"}, \"type\": \"mesh3d\"}], \"parcoords\": [{\"line\": {\"colorbar\": {\"outlinewidth\": 0, \"ticks\": \"\"}}, \"type\": \"parcoords\"}], \"pie\": [{\"automargin\": true, \"type\": \"pie\"}], \"scatter\": [{\"marker\": {\"colorbar\": {\"outlinewidth\": 0, \"ticks\": \"\"}}, \"type\": \"scatter\"}], \"scatter3d\": [{\"line\": {\"colorbar\": {\"outlinewidth\": 0, \"ticks\": \"\"}}, \"marker\": {\"colorbar\": {\"outlinewidth\": 0, \"ticks\": \"\"}}, \"type\": \"scatter3d\"}], \"scattercarpet\": [{\"marker\": {\"colorbar\": {\"outlinewidth\": 0, \"ticks\": \"\"}}, \"type\": \"scattercarpet\"}], \"scattergeo\": [{\"marker\": {\"colorbar\": {\"outlinewidth\": 0, \"ticks\": \"\"}}, \"type\": \"scattergeo\"}], \"scattergl\": [{\"marker\": {\"colorbar\": {\"outlinewidth\": 0, \"ticks\": \"\"}}, \"type\": \"scattergl\"}], \"scattermapbox\": [{\"marker\": {\"colorbar\": {\"outlinewidth\": 0, \"ticks\": \"\"}}, \"type\": \"scattermapbox\"}], \"scatterpolar\": [{\"marker\": {\"colorbar\": {\"outlinewidth\": 0, \"ticks\": \"\"}}, \"type\": \"scatterpolar\"}], \"scatterpolargl\": [{\"marker\": {\"colorbar\": {\"outlinewidth\": 0, \"ticks\": \"\"}}, \"type\": \"scatterpolargl\"}], \"scatterternary\": [{\"marker\": {\"colorbar\": {\"outlinewidth\": 0, \"ticks\": \"\"}}, \"type\": \"scatterternary\"}], \"surface\": [{\"colorbar\": {\"outlinewidth\": 0, \"ticks\": \"\"}, \"colorscale\": [[0.0, \"#0d0887\"], [0.1111111111111111, \"#46039f\"], [0.2222222222222222, \"#7201a8\"], [0.3333333333333333, \"#9c179e\"], [0.4444444444444444, \"#bd3786\"], [0.5555555555555556, \"#d8576b\"], [0.6666666666666666, \"#ed7953\"], [0.7777777777777778, \"#fb9f3a\"], [0.8888888888888888, \"#fdca26\"], [1.0, \"#f0f921\"]], \"type\": \"surface\"}], \"table\": [{\"cells\": {\"fill\": {\"color\": \"#EBF0F8\"}, \"line\": {\"color\": \"white\"}}, \"header\": {\"fill\": {\"color\": \"#C8D4E3\"}, \"line\": {\"color\": \"white\"}}, \"type\": \"table\"}]}, \"layout\": {\"annotationdefaults\": {\"arrowcolor\": \"#2a3f5f\", \"arrowhead\": 0, \"arrowwidth\": 1}, \"coloraxis\": {\"colorbar\": {\"outlinewidth\": 0, \"ticks\": \"\"}}, \"colorscale\": {\"diverging\": [[0, \"#8e0152\"], [0.1, \"#c51b7d\"], [0.2, \"#de77ae\"], [0.3, \"#f1b6da\"], [0.4, \"#fde0ef\"], [0.5, \"#f7f7f7\"], [0.6, \"#e6f5d0\"], [0.7, \"#b8e186\"], [0.8, \"#7fbc41\"], [0.9, \"#4d9221\"], [1, \"#276419\"]], \"sequential\": [[0.0, \"#0d0887\"], [0.1111111111111111, \"#46039f\"], [0.2222222222222222, \"#7201a8\"], [0.3333333333333333, \"#9c179e\"], [0.4444444444444444, \"#bd3786\"], [0.5555555555555556, \"#d8576b\"], [0.6666666666666666, \"#ed7953\"], [0.7777777777777778, \"#fb9f3a\"], [0.8888888888888888, \"#fdca26\"], [1.0, \"#f0f921\"]], \"sequentialminus\": [[0.0, \"#0d0887\"], [0.1111111111111111, \"#46039f\"], [0.2222222222222222, \"#7201a8\"], [0.3333333333333333, \"#9c179e\"], [0.4444444444444444, \"#bd3786\"], [0.5555555555555556, \"#d8576b\"], [0.6666666666666666, \"#ed7953\"], [0.7777777777777778, \"#fb9f3a\"], [0.8888888888888888, \"#fdca26\"], [1.0, \"#f0f921\"]]}, \"colorway\": [\"#636efa\", \"#EF553B\", \"#00cc96\", \"#ab63fa\", \"#FFA15A\", \"#19d3f3\", \"#FF6692\", \"#B6E880\", \"#FF97FF\", \"#FECB52\"], \"font\": {\"color\": \"#2a3f5f\"}, \"geo\": {\"bgcolor\": \"white\", \"lakecolor\": \"white\", \"landcolor\": \"#E5ECF6\", \"showlakes\": true, \"showland\": true, \"subunitcolor\": \"white\"}, \"hoverlabel\": {\"align\": \"left\"}, \"hovermode\": \"closest\", \"mapbox\": {\"style\": \"light\"}, \"paper_bgcolor\": \"white\", \"plot_bgcolor\": \"#E5ECF6\", \"polar\": {\"angularaxis\": {\"gridcolor\": \"white\", \"linecolor\": \"white\", \"ticks\": \"\"}, \"bgcolor\": \"#E5ECF6\", \"radialaxis\": {\"gridcolor\": \"white\", \"linecolor\": \"white\", \"ticks\": \"\"}}, \"scene\": {\"xaxis\": {\"backgroundcolor\": \"#E5ECF6\", \"gridcolor\": \"white\", \"gridwidth\": 2, \"linecolor\": \"white\", \"showbackground\": true, \"ticks\": \"\", \"zerolinecolor\": \"white\"}, \"yaxis\": {\"backgroundcolor\": \"#E5ECF6\", \"gridcolor\": \"white\", \"gridwidth\": 2, \"linecolor\": \"white\", \"showbackground\": true, \"ticks\": \"\", \"zerolinecolor\": \"white\"}, \"zaxis\": {\"backgroundcolor\": \"#E5ECF6\", \"gridcolor\": \"white\", \"gridwidth\": 2, \"linecolor\": \"white\", \"showbackground\": true, \"ticks\": \"\", \"zerolinecolor\": \"white\"}}, \"shapedefaults\": {\"line\": {\"color\": \"#2a3f5f\"}}, \"ternary\": {\"aaxis\": {\"gridcolor\": \"white\", \"linecolor\": \"white\", \"ticks\": \"\"}, \"baxis\": {\"gridcolor\": \"white\", \"linecolor\": \"white\", \"ticks\": \"\"}, \"bgcolor\": \"#E5ECF6\", \"caxis\": {\"gridcolor\": \"white\", \"linecolor\": \"white\", \"ticks\": \"\"}}, \"title\": {\"x\": 0.05}, \"xaxis\": {\"automargin\": true, \"gridcolor\": \"white\", \"linecolor\": \"white\", \"ticks\": \"\", \"title\": {\"standoff\": 15}, \"zerolinecolor\": \"white\", \"zerolinewidth\": 2}, \"yaxis\": {\"automargin\": true, \"gridcolor\": \"white\", \"linecolor\": \"white\", \"ticks\": \"\", \"title\": {\"standoff\": 15}, \"zerolinecolor\": \"white\", \"zerolinewidth\": 2}}}, \"uniformtext\": {\"minsize\": 8, \"mode\": \"hide\"}, \"xaxis\": {\"anchor\": \"y\", \"domain\": [0.0, 1.0], \"title\": {\"text\": \"Job Category\"}}, \"yaxis\": {\"anchor\": \"x\", \"domain\": [0.0, 1.0], \"title\": {\"text\": \"value\"}}},\n",
       "                        {\"responsive\": true}\n",
       "                    ).then(function(){\n",
       "                            \n",
       "var gd = document.getElementById('b32e8c97-1aff-410e-b152-3419e54a80c9');\n",
       "var x = new MutationObserver(function (mutations, observer) {{\n",
       "        var display = window.getComputedStyle(gd).display;\n",
       "        if (!display || display === 'none') {{\n",
       "            console.log([gd, 'removed!']);\n",
       "            Plotly.purge(gd);\n",
       "            observer.disconnect();\n",
       "        }}\n",
       "}});\n",
       "\n",
       "// Listen for the removal of the full notebook cells\n",
       "var notebookContainer = gd.closest('#notebook-container');\n",
       "if (notebookContainer) {{\n",
       "    x.observe(notebookContainer, {childList: true});\n",
       "}}\n",
       "\n",
       "// Listen for the clearing of the current output cell\n",
       "var outputEl = gd.closest('.output');\n",
       "if (outputEl) {{\n",
       "    x.observe(outputEl, {childList: true});\n",
       "}}\n",
       "\n",
       "                        })\n",
       "                };\n",
       "                });\n",
       "            </script>\n",
       "        </div>"
      ]
     },
     "metadata": {},
     "output_type": "display_data"
    }
   ],
   "source": [
    "colcity = ['Job Category','Atlanta' , 'Boston' , 'Chicago' , 'Houston' , 'Los Angeles' , 'New York City' , 'Philadelphia' , 'San Francisco' , 'Seattle','Washington DC']\n",
    "df_city_wise = df[colcity]\n",
    "df_city_wise = df_city_wise.groupby('Job Category' ,as_index= False).sum(axis = 0)\n",
    "tf = df_city_wise.melt(id_vars=\"Job Category\")\n",
    "df_city_wiseplt = px.bar(tf,x='Job Category',y='value', color='variable' , text='value', barmode=\"group\")\n",
    "df_city_wiseplt.update_traces(texttemplate='%{text:.2s}', textposition='outside')\n",
    "df_city_wiseplt.update_layout(uniformtext_minsize=8, uniformtext_mode='hide')\n",
    "df_city_wiseplt.show()\n"
   ]
  },
  {
   "cell_type": "code",
   "execution_count": 55,
   "metadata": {},
   "outputs": [
    {
     "data": {
      "text/html": [
       "<div>\n",
       "<style scoped>\n",
       "    .dataframe tbody tr th:only-of-type {\n",
       "        vertical-align: middle;\n",
       "    }\n",
       "\n",
       "    .dataframe tbody tr th {\n",
       "        vertical-align: top;\n",
       "    }\n",
       "\n",
       "    .dataframe thead th {\n",
       "        text-align: right;\n",
       "    }\n",
       "</style>\n",
       "<table border=\"1\" class=\"dataframe\">\n",
       "  <thead>\n",
       "    <tr style=\"text-align: right;\">\n",
       "      <th></th>\n",
       "      <th>Job Category</th>\n",
       "      <th>variable</th>\n",
       "      <th>value</th>\n",
       "    </tr>\n",
       "  </thead>\n",
       "  <tbody>\n",
       "    <tr>\n",
       "      <td>0</td>\n",
       "      <td>Design</td>\n",
       "      <td>Atlanta</td>\n",
       "      <td>52307</td>\n",
       "    </tr>\n",
       "    <tr>\n",
       "      <td>1</td>\n",
       "      <td>Education</td>\n",
       "      <td>Atlanta</td>\n",
       "      <td>175407</td>\n",
       "    </tr>\n",
       "    <tr>\n",
       "      <td>2</td>\n",
       "      <td>Engineering</td>\n",
       "      <td>Atlanta</td>\n",
       "      <td>445539</td>\n",
       "    </tr>\n",
       "    <tr>\n",
       "      <td>3</td>\n",
       "      <td>Finance</td>\n",
       "      <td>Atlanta</td>\n",
       "      <td>450593</td>\n",
       "    </tr>\n",
       "    <tr>\n",
       "      <td>4</td>\n",
       "      <td>Food Services</td>\n",
       "      <td>Atlanta</td>\n",
       "      <td>176064</td>\n",
       "    </tr>\n",
       "    <tr>\n",
       "      <td>...</td>\n",
       "      <td>...</td>\n",
       "      <td>...</td>\n",
       "      <td>...</td>\n",
       "    </tr>\n",
       "    <tr>\n",
       "      <td>165</td>\n",
       "      <td>Professional Services</td>\n",
       "      <td>Washington DC</td>\n",
       "      <td>934576</td>\n",
       "    </tr>\n",
       "    <tr>\n",
       "      <td>166</td>\n",
       "      <td>Real Estate</td>\n",
       "      <td>Washington DC</td>\n",
       "      <td>68899</td>\n",
       "    </tr>\n",
       "    <tr>\n",
       "      <td>167</td>\n",
       "      <td>Retail</td>\n",
       "      <td>Washington DC</td>\n",
       "      <td>187264</td>\n",
       "    </tr>\n",
       "    <tr>\n",
       "      <td>168</td>\n",
       "      <td>Sales</td>\n",
       "      <td>Washington DC</td>\n",
       "      <td>131563</td>\n",
       "    </tr>\n",
       "    <tr>\n",
       "      <td>169</td>\n",
       "      <td>Technology</td>\n",
       "      <td>Washington DC</td>\n",
       "      <td>1090707</td>\n",
       "    </tr>\n",
       "  </tbody>\n",
       "</table>\n",
       "<p>170 rows × 3 columns</p>\n",
       "</div>"
      ],
      "text/plain": [
       "              Job Category       variable    value\n",
       "0                   Design        Atlanta    52307\n",
       "1                Education        Atlanta   175407\n",
       "2              Engineering        Atlanta   445539\n",
       "3                  Finance        Atlanta   450593\n",
       "4            Food Services        Atlanta   176064\n",
       "..                     ...            ...      ...\n",
       "165  Professional Services  Washington DC   934576\n",
       "166            Real Estate  Washington DC    68899\n",
       "167                 Retail  Washington DC   187264\n",
       "168                  Sales  Washington DC   131563\n",
       "169             Technology  Washington DC  1090707\n",
       "\n",
       "[170 rows x 3 columns]"
      ]
     },
     "execution_count": 55,
     "metadata": {},
     "output_type": "execute_result"
    }
   ],
   "source": [
    "#col\n",
    "tf = df_city_wise.melt(id_vars=\"Job Category\")\n",
    "# df_city_wiseplt = px.bar(tf,x='Job Category',y='value', color='variable' , text='value', barmode=\"group\")\n",
    "# df_city_wiseplt.update_traces(texttemplate='%{text:.2s}', textposition='outside')\n",
    "# df_city_wiseplt.update_layout(uniformtext_minsize=8, uniformtext_mode='hide')\n",
    "# df_city_wiseplt.show()\n",
    "tf"
   ]
  },
  {
   "cell_type": "code",
   "execution_count": null,
   "metadata": {},
   "outputs": [],
   "source": []
  },
  {
   "cell_type": "code",
   "execution_count": 87,
   "metadata": {},
   "outputs": [
    {
     "data": {
      "text/html": [
       "<div>\n",
       "<style scoped>\n",
       "    .dataframe tbody tr th:only-of-type {\n",
       "        vertical-align: middle;\n",
       "    }\n",
       "\n",
       "    .dataframe tbody tr th {\n",
       "        vertical-align: top;\n",
       "    }\n",
       "\n",
       "    .dataframe thead th {\n",
       "        text-align: right;\n",
       "    }\n",
       "</style>\n",
       "<table border=\"1\" class=\"dataframe\">\n",
       "  <thead>\n",
       "    <tr style=\"text-align: right;\">\n",
       "      <th></th>\n",
       "      <th>Month</th>\n",
       "      <th>variable</th>\n",
       "      <th>value</th>\n",
       "    </tr>\n",
       "  </thead>\n",
       "  <tbody>\n",
       "    <tr>\n",
       "      <td>0</td>\n",
       "      <td>Jan</td>\n",
       "      <td>London</td>\n",
       "      <td>1</td>\n",
       "    </tr>\n",
       "    <tr>\n",
       "      <td>1</td>\n",
       "      <td>Feb</td>\n",
       "      <td>London</td>\n",
       "      <td>2</td>\n",
       "    </tr>\n",
       "    <tr>\n",
       "      <td>2</td>\n",
       "      <td>Mar</td>\n",
       "      <td>London</td>\n",
       "      <td>3</td>\n",
       "    </tr>\n",
       "    <tr>\n",
       "      <td>3</td>\n",
       "      <td>Jan</td>\n",
       "      <td>Paris</td>\n",
       "      <td>3</td>\n",
       "    </tr>\n",
       "    <tr>\n",
       "      <td>4</td>\n",
       "      <td>Feb</td>\n",
       "      <td>Paris</td>\n",
       "      <td>1</td>\n",
       "    </tr>\n",
       "    <tr>\n",
       "      <td>5</td>\n",
       "      <td>Mar</td>\n",
       "      <td>Paris</td>\n",
       "      <td>2</td>\n",
       "    </tr>\n",
       "  </tbody>\n",
       "</table>\n",
       "</div>"
      ],
      "text/plain": [
       "  Month variable  value\n",
       "0   Jan   London      1\n",
       "1   Feb   London      2\n",
       "2   Mar   London      3\n",
       "3   Jan    Paris      3\n",
       "4   Feb    Paris      1\n",
       "5   Mar    Paris      2"
      ]
     },
     "execution_count": 87,
     "metadata": {},
     "output_type": "execute_result"
    }
   ],
   "source": [
    "tidy_df = wide_df.melt(id_vars=\"Month\")\n",
    "tidy_df"
   ]
  },
  {
   "cell_type": "code",
   "execution_count": 40,
   "metadata": {},
   "outputs": [
    {
     "data": {
      "text/html": [
       "<div>\n",
       "<style scoped>\n",
       "    .dataframe tbody tr th:only-of-type {\n",
       "        vertical-align: middle;\n",
       "    }\n",
       "\n",
       "    .dataframe tbody tr th {\n",
       "        vertical-align: top;\n",
       "    }\n",
       "\n",
       "    .dataframe thead th {\n",
       "        text-align: right;\n",
       "    }\n",
       "</style>\n",
       "<table border=\"1\" class=\"dataframe\">\n",
       "  <thead>\n",
       "    <tr style=\"text-align: right;\">\n",
       "      <th></th>\n",
       "      <th>Job Category</th>\n",
       "      <th>Job Title</th>\n",
       "      <th>Mean</th>\n",
       "    </tr>\n",
       "  </thead>\n",
       "  <tbody>\n",
       "    <tr>\n",
       "      <td>0</td>\n",
       "      <td>Design</td>\n",
       "      <td>Graphic Designer</td>\n",
       "      <td>58300.3</td>\n",
       "    </tr>\n",
       "    <tr>\n",
       "      <td>1</td>\n",
       "      <td>Education</td>\n",
       "      <td>Professor</td>\n",
       "      <td>110331.8</td>\n",
       "    </tr>\n",
       "    <tr>\n",
       "      <td>2</td>\n",
       "      <td>Education</td>\n",
       "      <td>Research Assistant</td>\n",
       "      <td>35163.2</td>\n",
       "    </tr>\n",
       "    <tr>\n",
       "      <td>3</td>\n",
       "      <td>Education</td>\n",
       "      <td>Teacher</td>\n",
       "      <td>60002.5</td>\n",
       "    </tr>\n",
       "    <tr>\n",
       "      <td>4</td>\n",
       "      <td>Engineering</td>\n",
       "      <td>Civil Engineer</td>\n",
       "      <td>79859.7</td>\n",
       "    </tr>\n",
       "    <tr>\n",
       "      <td>...</td>\n",
       "      <td>...</td>\n",
       "      <td>...</td>\n",
       "      <td>...</td>\n",
       "    </tr>\n",
       "    <tr>\n",
       "      <td>79</td>\n",
       "      <td>Technology</td>\n",
       "      <td>Systems Engineer</td>\n",
       "      <td>90267.0</td>\n",
       "    </tr>\n",
       "    <tr>\n",
       "      <td>80</td>\n",
       "      <td>Technology</td>\n",
       "      <td>Technical Support</td>\n",
       "      <td>55656.7</td>\n",
       "    </tr>\n",
       "    <tr>\n",
       "      <td>81</td>\n",
       "      <td>Technology</td>\n",
       "      <td>UX Designer</td>\n",
       "      <td>91292.0</td>\n",
       "    </tr>\n",
       "    <tr>\n",
       "      <td>82</td>\n",
       "      <td>Technology</td>\n",
       "      <td>Web Designer</td>\n",
       "      <td>66576.6</td>\n",
       "    </tr>\n",
       "    <tr>\n",
       "      <td>83</td>\n",
       "      <td>Technology</td>\n",
       "      <td>Web Developer</td>\n",
       "      <td>84209.6</td>\n",
       "    </tr>\n",
       "  </tbody>\n",
       "</table>\n",
       "<p>84 rows × 3 columns</p>\n",
       "</div>"
      ],
      "text/plain": [
       "   Job Category           Job Title      Mean\n",
       "0        Design    Graphic Designer   58300.3\n",
       "1     Education           Professor  110331.8\n",
       "2     Education  Research Assistant   35163.2\n",
       "3     Education             Teacher   60002.5\n",
       "4   Engineering      Civil Engineer   79859.7\n",
       "..          ...                 ...       ...\n",
       "79   Technology    Systems Engineer   90267.0\n",
       "80   Technology   Technical Support   55656.7\n",
       "81   Technology         UX Designer   91292.0\n",
       "82   Technology        Web Designer   66576.6\n",
       "83   Technology       Web Developer   84209.6\n",
       "\n",
       "[84 rows x 3 columns]"
      ]
     },
     "execution_count": 40,
     "metadata": {},
     "output_type": "execute_result"
    }
   ],
   "source": [
    "colmean = ['Job Category','Job Title','Atlanta' , 'Boston' , 'Chicago' , 'Houston' , 'Los Angeles' , 'New York City' , 'Philadelphia' , 'San Francisco' , 'Seattle','Washington DC']\n",
    "df_mean = df[colmean]\n",
    "df_mean['Mean']= df_mean.mean(axis =1)\n",
    "coltech= ['Job Category','Job Title','Mean']\n",
    "df_mean = df_mean[coltech]\n",
    "df_mean\n",
    "#df_mean = df_mean[df_mean['Job Category'] == 'Technology']\n",
    "# df_mean['T_Mean'] = df_mean.mean('Mean' ,axis = 0)\n",
    "# df_mean"
   ]
  },
  {
   "cell_type": "code",
   "execution_count": 42,
   "metadata": {},
   "outputs": [
    {
     "data": {
      "text/html": [
       "<div>\n",
       "<style scoped>\n",
       "    .dataframe tbody tr th:only-of-type {\n",
       "        vertical-align: middle;\n",
       "    }\n",
       "\n",
       "    .dataframe tbody tr th {\n",
       "        vertical-align: top;\n",
       "    }\n",
       "\n",
       "    .dataframe thead th {\n",
       "        text-align: right;\n",
       "    }\n",
       "</style>\n",
       "<table border=\"1\" class=\"dataframe\">\n",
       "  <thead>\n",
       "    <tr style=\"text-align: right;\">\n",
       "      <th></th>\n",
       "      <th>Job Category</th>\n",
       "      <th>Job Title</th>\n",
       "      <th>Atlanta</th>\n",
       "      <th>Boston</th>\n",
       "      <th>Chicago</th>\n",
       "      <th>Houston</th>\n",
       "      <th>Los Angeles</th>\n",
       "      <th>New York City</th>\n",
       "      <th>Philadelphia</th>\n",
       "      <th>San Francisco</th>\n",
       "      <th>Seattle</th>\n",
       "      <th>Washington DC</th>\n",
       "      <th>Total</th>\n",
       "    </tr>\n",
       "  </thead>\n",
       "  <tbody>\n",
       "    <tr>\n",
       "      <td>0</td>\n",
       "      <td>Design</td>\n",
       "      <td>Graphic Designer</td>\n",
       "      <td>52307</td>\n",
       "      <td>58616</td>\n",
       "      <td>53636</td>\n",
       "      <td>49495</td>\n",
       "      <td>60004</td>\n",
       "      <td>60913</td>\n",
       "      <td>51620</td>\n",
       "      <td>74986</td>\n",
       "      <td>62118</td>\n",
       "      <td>59308</td>\n",
       "      <td>583003</td>\n",
       "    </tr>\n",
       "    <tr>\n",
       "      <td>1</td>\n",
       "      <td>Education</td>\n",
       "      <td>Professor</td>\n",
       "      <td>93669</td>\n",
       "      <td>124416</td>\n",
       "      <td>101815</td>\n",
       "      <td>104098</td>\n",
       "      <td>115901</td>\n",
       "      <td>116551</td>\n",
       "      <td>102934</td>\n",
       "      <td>130761</td>\n",
       "      <td>109108</td>\n",
       "      <td>104065</td>\n",
       "      <td>1103318</td>\n",
       "    </tr>\n",
       "    <tr>\n",
       "      <td>2</td>\n",
       "      <td>Education</td>\n",
       "      <td>Research Assistant</td>\n",
       "      <td>31360</td>\n",
       "      <td>38181</td>\n",
       "      <td>33694</td>\n",
       "      <td>31202</td>\n",
       "      <td>35313</td>\n",
       "      <td>37979</td>\n",
       "      <td>32601</td>\n",
       "      <td>40695</td>\n",
       "      <td>34735</td>\n",
       "      <td>35872</td>\n",
       "      <td>351632</td>\n",
       "    </tr>\n",
       "    <tr>\n",
       "      <td>3</td>\n",
       "      <td>Education</td>\n",
       "      <td>Teacher</td>\n",
       "      <td>50378</td>\n",
       "      <td>61327</td>\n",
       "      <td>56218</td>\n",
       "      <td>54216</td>\n",
       "      <td>64666</td>\n",
       "      <td>67552</td>\n",
       "      <td>54601</td>\n",
       "      <td>70271</td>\n",
       "      <td>59578</td>\n",
       "      <td>61218</td>\n",
       "      <td>600025</td>\n",
       "    </tr>\n",
       "    <tr>\n",
       "      <td>4</td>\n",
       "      <td>Engineering</td>\n",
       "      <td>Civil Engineer</td>\n",
       "      <td>71292</td>\n",
       "      <td>77247</td>\n",
       "      <td>76466</td>\n",
       "      <td>78336</td>\n",
       "      <td>84642</td>\n",
       "      <td>80995</td>\n",
       "      <td>76147</td>\n",
       "      <td>93333</td>\n",
       "      <td>81285</td>\n",
       "      <td>78854</td>\n",
       "      <td>798597</td>\n",
       "    </tr>\n",
       "    <tr>\n",
       "      <td>...</td>\n",
       "      <td>...</td>\n",
       "      <td>...</td>\n",
       "      <td>...</td>\n",
       "      <td>...</td>\n",
       "      <td>...</td>\n",
       "      <td>...</td>\n",
       "      <td>...</td>\n",
       "      <td>...</td>\n",
       "      <td>...</td>\n",
       "      <td>...</td>\n",
       "      <td>...</td>\n",
       "      <td>...</td>\n",
       "      <td>...</td>\n",
       "    </tr>\n",
       "    <tr>\n",
       "      <td>79</td>\n",
       "      <td>Technology</td>\n",
       "      <td>Systems Engineer</td>\n",
       "      <td>82532</td>\n",
       "      <td>90553</td>\n",
       "      <td>85134</td>\n",
       "      <td>77991</td>\n",
       "      <td>94649</td>\n",
       "      <td>91868</td>\n",
       "      <td>83349</td>\n",
       "      <td>106969</td>\n",
       "      <td>95389</td>\n",
       "      <td>94236</td>\n",
       "      <td>902670</td>\n",
       "    </tr>\n",
       "    <tr>\n",
       "      <td>80</td>\n",
       "      <td>Technology</td>\n",
       "      <td>Technical Support</td>\n",
       "      <td>46457</td>\n",
       "      <td>58646</td>\n",
       "      <td>53640</td>\n",
       "      <td>48978</td>\n",
       "      <td>55913</td>\n",
       "      <td>58419</td>\n",
       "      <td>51340</td>\n",
       "      <td>68588</td>\n",
       "      <td>55575</td>\n",
       "      <td>59011</td>\n",
       "      <td>556567</td>\n",
       "    </tr>\n",
       "    <tr>\n",
       "      <td>81</td>\n",
       "      <td>Technology</td>\n",
       "      <td>UX Designer</td>\n",
       "      <td>85912</td>\n",
       "      <td>90980</td>\n",
       "      <td>84536</td>\n",
       "      <td>78309</td>\n",
       "      <td>93434</td>\n",
       "      <td>95097</td>\n",
       "      <td>79303</td>\n",
       "      <td>112133</td>\n",
       "      <td>101237</td>\n",
       "      <td>91979</td>\n",
       "      <td>912920</td>\n",
       "    </tr>\n",
       "    <tr>\n",
       "      <td>82</td>\n",
       "      <td>Technology</td>\n",
       "      <td>Web Designer</td>\n",
       "      <td>61899</td>\n",
       "      <td>68300</td>\n",
       "      <td>64393</td>\n",
       "      <td>59430</td>\n",
       "      <td>65705</td>\n",
       "      <td>68077</td>\n",
       "      <td>58624</td>\n",
       "      <td>83150</td>\n",
       "      <td>67126</td>\n",
       "      <td>69062</td>\n",
       "      <td>665766</td>\n",
       "    </tr>\n",
       "    <tr>\n",
       "      <td>83</td>\n",
       "      <td>Technology</td>\n",
       "      <td>Web Developer</td>\n",
       "      <td>77856</td>\n",
       "      <td>85334</td>\n",
       "      <td>78251</td>\n",
       "      <td>72252</td>\n",
       "      <td>82970</td>\n",
       "      <td>87284</td>\n",
       "      <td>74319</td>\n",
       "      <td>104640</td>\n",
       "      <td>89770</td>\n",
       "      <td>89420</td>\n",
       "      <td>842096</td>\n",
       "    </tr>\n",
       "  </tbody>\n",
       "</table>\n",
       "<p>84 rows × 13 columns</p>\n",
       "</div>"
      ],
      "text/plain": [
       "   Job Category           Job Title  Atlanta  Boston  Chicago  Houston  \\\n",
       "0        Design    Graphic Designer    52307   58616    53636    49495   \n",
       "1     Education           Professor    93669  124416   101815   104098   \n",
       "2     Education  Research Assistant    31360   38181    33694    31202   \n",
       "3     Education             Teacher    50378   61327    56218    54216   \n",
       "4   Engineering      Civil Engineer    71292   77247    76466    78336   \n",
       "..          ...                 ...      ...     ...      ...      ...   \n",
       "79   Technology    Systems Engineer    82532   90553    85134    77991   \n",
       "80   Technology   Technical Support    46457   58646    53640    48978   \n",
       "81   Technology         UX Designer    85912   90980    84536    78309   \n",
       "82   Technology        Web Designer    61899   68300    64393    59430   \n",
       "83   Technology       Web Developer    77856   85334    78251    72252   \n",
       "\n",
       "    Los Angeles  New York City  Philadelphia  San Francisco  Seattle  \\\n",
       "0         60004          60913         51620          74986    62118   \n",
       "1        115901         116551        102934         130761   109108   \n",
       "2         35313          37979         32601          40695    34735   \n",
       "3         64666          67552         54601          70271    59578   \n",
       "4         84642          80995         76147          93333    81285   \n",
       "..          ...            ...           ...            ...      ...   \n",
       "79        94649          91868         83349         106969    95389   \n",
       "80        55913          58419         51340          68588    55575   \n",
       "81        93434          95097         79303         112133   101237   \n",
       "82        65705          68077         58624          83150    67126   \n",
       "83        82970          87284         74319         104640    89770   \n",
       "\n",
       "    Washington DC    Total  \n",
       "0           59308   583003  \n",
       "1          104065  1103318  \n",
       "2           35872   351632  \n",
       "3           61218   600025  \n",
       "4           78854   798597  \n",
       "..            ...      ...  \n",
       "79          94236   902670  \n",
       "80          59011   556567  \n",
       "81          91979   912920  \n",
       "82          69062   665766  \n",
       "83          89420   842096  \n",
       "\n",
       "[84 rows x 13 columns]"
      ]
     },
     "execution_count": 42,
     "metadata": {},
     "output_type": "execute_result"
    }
   ],
   "source": [
    "df"
   ]
  },
  {
   "cell_type": "code",
   "execution_count": 67,
   "metadata": {},
   "outputs": [
    {
     "data": {
      "application/vnd.plotly.v1+json": {
       "config": {
        "plotlyServerURL": "https://plot.ly"
       },
       "data": [
        {
         "hoverlabel": {
          "namelength": 0
         },
         "hovertemplate": "variable=%{x}<br>value=%{marker.color}<br>Job Category=%{text}",
         "legendgroup": "",
         "marker": {
          "color": [
           52307,
           175407,
           445539,
           450593,
           176064,
           501066,
           133938,
           350717,
           164196,
           263614,
           116479,
           168796,
           846548,
           59301,
           173122,
           123268,
           995960,
           58616,
           223924,
           510671,
           506921,
           211202,
           558821,
           151623,
           412269,
           173482,
           291817,
           128612,
           190158,
           938172,
           71284,
           192783,
           141602,
           1086633,
           53636,
           191727,
           464744,
           473446,
           187869,
           519136,
           141907,
           384841,
           174270,
           273684,
           122750,
           179870,
           882360,
           63154,
           185909,
           129021,
           1018703,
           49495,
           189516,
           482064,
           458489,
           175053,
           508223,
           139904,
           355687,
           180718,
           283144,
           112865,
           176240,
           848946,
           58706,
           173924,
           122805,
           975449,
           60004,
           215880,
           512589,
           507657,
           197679,
           593375,
           154091,
           387722,
           200745,
           295950,
           142483,
           187900,
           941261,
           67410,
           200141,
           136437,
           1103867,
           60913,
           222082,
           481263,
           524303,
           201789,
           565899,
           157873,
           387131,
           190843,
           287595,
           139337,
           199181,
           957396,
           72101,
           204698,
           140465,
           1115639,
           51620,
           190136,
           465911,
           472191,
           184027,
           531681,
           136166,
           380697,
           165403,
           272675,
           116217,
           175460,
           848795,
           63026,
           178645,
           126844,
           988898,
           74986,
           241727,
           578167,
           577236,
           221248,
           696384,
           186033,
           468279,
           231584,
           342241,
           154825,
           227363,
           1100076,
           78074,
           229577,
           155412,
           1306378,
           62118,
           203421,
           512383,
           496785,
           204916,
           581525,
           155504,
           427506,
           186866,
           293027,
           154775,
           201163,
           967828,
           68113,
           205858,
           135363,
           1149801,
           59308,
           201155,
           496536,
           506170,
           197499,
           543593,
           151300,
           382873,
           199787,
           283180,
           139785,
           203913,
           934576,
           68899,
           187264,
           131563,
           1090707
          ],
          "coloraxis": "coloraxis",
          "symbol": "circle"
         },
         "mode": "markers+text",
         "name": "",
         "showlegend": false,
         "text": [
          "Design",
          "Education",
          "Engineering",
          "Finance",
          "Food Services",
          "Health",
          "Human Resources",
          "Labor",
          "Law",
          "Manufacturing",
          "Media",
          "Operations",
          "Professional Services",
          "Real Estate",
          "Retail",
          "Sales",
          "Technology",
          "Design",
          "Education",
          "Engineering",
          "Finance",
          "Food Services",
          "Health",
          "Human Resources",
          "Labor",
          "Law",
          "Manufacturing",
          "Media",
          "Operations",
          "Professional Services",
          "Real Estate",
          "Retail",
          "Sales",
          "Technology",
          "Design",
          "Education",
          "Engineering",
          "Finance",
          "Food Services",
          "Health",
          "Human Resources",
          "Labor",
          "Law",
          "Manufacturing",
          "Media",
          "Operations",
          "Professional Services",
          "Real Estate",
          "Retail",
          "Sales",
          "Technology",
          "Design",
          "Education",
          "Engineering",
          "Finance",
          "Food Services",
          "Health",
          "Human Resources",
          "Labor",
          "Law",
          "Manufacturing",
          "Media",
          "Operations",
          "Professional Services",
          "Real Estate",
          "Retail",
          "Sales",
          "Technology",
          "Design",
          "Education",
          "Engineering",
          "Finance",
          "Food Services",
          "Health",
          "Human Resources",
          "Labor",
          "Law",
          "Manufacturing",
          "Media",
          "Operations",
          "Professional Services",
          "Real Estate",
          "Retail",
          "Sales",
          "Technology",
          "Design",
          "Education",
          "Engineering",
          "Finance",
          "Food Services",
          "Health",
          "Human Resources",
          "Labor",
          "Law",
          "Manufacturing",
          "Media",
          "Operations",
          "Professional Services",
          "Real Estate",
          "Retail",
          "Sales",
          "Technology",
          "Design",
          "Education",
          "Engineering",
          "Finance",
          "Food Services",
          "Health",
          "Human Resources",
          "Labor",
          "Law",
          "Manufacturing",
          "Media",
          "Operations",
          "Professional Services",
          "Real Estate",
          "Retail",
          "Sales",
          "Technology",
          "Design",
          "Education",
          "Engineering",
          "Finance",
          "Food Services",
          "Health",
          "Human Resources",
          "Labor",
          "Law",
          "Manufacturing",
          "Media",
          "Operations",
          "Professional Services",
          "Real Estate",
          "Retail",
          "Sales",
          "Technology",
          "Design",
          "Education",
          "Engineering",
          "Finance",
          "Food Services",
          "Health",
          "Human Resources",
          "Labor",
          "Law",
          "Manufacturing",
          "Media",
          "Operations",
          "Professional Services",
          "Real Estate",
          "Retail",
          "Sales",
          "Technology",
          "Design",
          "Education",
          "Engineering",
          "Finance",
          "Food Services",
          "Health",
          "Human Resources",
          "Labor",
          "Law",
          "Manufacturing",
          "Media",
          "Operations",
          "Professional Services",
          "Real Estate",
          "Retail",
          "Sales",
          "Technology"
         ],
         "textposition": "top center",
         "type": "scatter",
         "x": [
          "Atlanta",
          "Atlanta",
          "Atlanta",
          "Atlanta",
          "Atlanta",
          "Atlanta",
          "Atlanta",
          "Atlanta",
          "Atlanta",
          "Atlanta",
          "Atlanta",
          "Atlanta",
          "Atlanta",
          "Atlanta",
          "Atlanta",
          "Atlanta",
          "Atlanta",
          "Boston",
          "Boston",
          "Boston",
          "Boston",
          "Boston",
          "Boston",
          "Boston",
          "Boston",
          "Boston",
          "Boston",
          "Boston",
          "Boston",
          "Boston",
          "Boston",
          "Boston",
          "Boston",
          "Boston",
          "Chicago",
          "Chicago",
          "Chicago",
          "Chicago",
          "Chicago",
          "Chicago",
          "Chicago",
          "Chicago",
          "Chicago",
          "Chicago",
          "Chicago",
          "Chicago",
          "Chicago",
          "Chicago",
          "Chicago",
          "Chicago",
          "Chicago",
          "Houston",
          "Houston",
          "Houston",
          "Houston",
          "Houston",
          "Houston",
          "Houston",
          "Houston",
          "Houston",
          "Houston",
          "Houston",
          "Houston",
          "Houston",
          "Houston",
          "Houston",
          "Houston",
          "Houston",
          "Los Angeles",
          "Los Angeles",
          "Los Angeles",
          "Los Angeles",
          "Los Angeles",
          "Los Angeles",
          "Los Angeles",
          "Los Angeles",
          "Los Angeles",
          "Los Angeles",
          "Los Angeles",
          "Los Angeles",
          "Los Angeles",
          "Los Angeles",
          "Los Angeles",
          "Los Angeles",
          "Los Angeles",
          "New York City",
          "New York City",
          "New York City",
          "New York City",
          "New York City",
          "New York City",
          "New York City",
          "New York City",
          "New York City",
          "New York City",
          "New York City",
          "New York City",
          "New York City",
          "New York City",
          "New York City",
          "New York City",
          "New York City",
          "Philadelphia",
          "Philadelphia",
          "Philadelphia",
          "Philadelphia",
          "Philadelphia",
          "Philadelphia",
          "Philadelphia",
          "Philadelphia",
          "Philadelphia",
          "Philadelphia",
          "Philadelphia",
          "Philadelphia",
          "Philadelphia",
          "Philadelphia",
          "Philadelphia",
          "Philadelphia",
          "Philadelphia",
          "San Francisco",
          "San Francisco",
          "San Francisco",
          "San Francisco",
          "San Francisco",
          "San Francisco",
          "San Francisco",
          "San Francisco",
          "San Francisco",
          "San Francisco",
          "San Francisco",
          "San Francisco",
          "San Francisco",
          "San Francisco",
          "San Francisco",
          "San Francisco",
          "San Francisco",
          "Seattle",
          "Seattle",
          "Seattle",
          "Seattle",
          "Seattle",
          "Seattle",
          "Seattle",
          "Seattle",
          "Seattle",
          "Seattle",
          "Seattle",
          "Seattle",
          "Seattle",
          "Seattle",
          "Seattle",
          "Seattle",
          "Seattle",
          "Washington DC",
          "Washington DC",
          "Washington DC",
          "Washington DC",
          "Washington DC",
          "Washington DC",
          "Washington DC",
          "Washington DC",
          "Washington DC",
          "Washington DC",
          "Washington DC",
          "Washington DC",
          "Washington DC",
          "Washington DC",
          "Washington DC",
          "Washington DC",
          "Washington DC"
         ],
         "xaxis": "x",
         "y": [
          52307,
          175407,
          445539,
          450593,
          176064,
          501066,
          133938,
          350717,
          164196,
          263614,
          116479,
          168796,
          846548,
          59301,
          173122,
          123268,
          995960,
          58616,
          223924,
          510671,
          506921,
          211202,
          558821,
          151623,
          412269,
          173482,
          291817,
          128612,
          190158,
          938172,
          71284,
          192783,
          141602,
          1086633,
          53636,
          191727,
          464744,
          473446,
          187869,
          519136,
          141907,
          384841,
          174270,
          273684,
          122750,
          179870,
          882360,
          63154,
          185909,
          129021,
          1018703,
          49495,
          189516,
          482064,
          458489,
          175053,
          508223,
          139904,
          355687,
          180718,
          283144,
          112865,
          176240,
          848946,
          58706,
          173924,
          122805,
          975449,
          60004,
          215880,
          512589,
          507657,
          197679,
          593375,
          154091,
          387722,
          200745,
          295950,
          142483,
          187900,
          941261,
          67410,
          200141,
          136437,
          1103867,
          60913,
          222082,
          481263,
          524303,
          201789,
          565899,
          157873,
          387131,
          190843,
          287595,
          139337,
          199181,
          957396,
          72101,
          204698,
          140465,
          1115639,
          51620,
          190136,
          465911,
          472191,
          184027,
          531681,
          136166,
          380697,
          165403,
          272675,
          116217,
          175460,
          848795,
          63026,
          178645,
          126844,
          988898,
          74986,
          241727,
          578167,
          577236,
          221248,
          696384,
          186033,
          468279,
          231584,
          342241,
          154825,
          227363,
          1100076,
          78074,
          229577,
          155412,
          1306378,
          62118,
          203421,
          512383,
          496785,
          204916,
          581525,
          155504,
          427506,
          186866,
          293027,
          154775,
          201163,
          967828,
          68113,
          205858,
          135363,
          1149801,
          59308,
          201155,
          496536,
          506170,
          197499,
          543593,
          151300,
          382873,
          199787,
          283180,
          139785,
          203913,
          934576,
          68899,
          187264,
          131563,
          1090707
         ],
         "yaxis": "y"
        }
       ],
       "layout": {
        "coloraxis": {
         "colorbar": {
          "title": {
           "text": "value"
          }
         },
         "colorscale": [
          [
           0,
           "#0d0887"
          ],
          [
           0.1111111111111111,
           "#46039f"
          ],
          [
           0.2222222222222222,
           "#7201a8"
          ],
          [
           0.3333333333333333,
           "#9c179e"
          ],
          [
           0.4444444444444444,
           "#bd3786"
          ],
          [
           0.5555555555555556,
           "#d8576b"
          ],
          [
           0.6666666666666666,
           "#ed7953"
          ],
          [
           0.7777777777777778,
           "#fb9f3a"
          ],
          [
           0.8888888888888888,
           "#fdca26"
          ],
          [
           1,
           "#f0f921"
          ]
         ]
        },
        "height": 1000,
        "legend": {
         "tracegroupgap": 0
        },
        "margin": {
         "t": 60
        },
        "template": {
         "data": {
          "bar": [
           {
            "error_x": {
             "color": "#2a3f5f"
            },
            "error_y": {
             "color": "#2a3f5f"
            },
            "marker": {
             "line": {
              "color": "#E5ECF6",
              "width": 0.5
             }
            },
            "type": "bar"
           }
          ],
          "barpolar": [
           {
            "marker": {
             "line": {
              "color": "#E5ECF6",
              "width": 0.5
             }
            },
            "type": "barpolar"
           }
          ],
          "carpet": [
           {
            "aaxis": {
             "endlinecolor": "#2a3f5f",
             "gridcolor": "white",
             "linecolor": "white",
             "minorgridcolor": "white",
             "startlinecolor": "#2a3f5f"
            },
            "baxis": {
             "endlinecolor": "#2a3f5f",
             "gridcolor": "white",
             "linecolor": "white",
             "minorgridcolor": "white",
             "startlinecolor": "#2a3f5f"
            },
            "type": "carpet"
           }
          ],
          "choropleth": [
           {
            "colorbar": {
             "outlinewidth": 0,
             "ticks": ""
            },
            "type": "choropleth"
           }
          ],
          "contour": [
           {
            "colorbar": {
             "outlinewidth": 0,
             "ticks": ""
            },
            "colorscale": [
             [
              0,
              "#0d0887"
             ],
             [
              0.1111111111111111,
              "#46039f"
             ],
             [
              0.2222222222222222,
              "#7201a8"
             ],
             [
              0.3333333333333333,
              "#9c179e"
             ],
             [
              0.4444444444444444,
              "#bd3786"
             ],
             [
              0.5555555555555556,
              "#d8576b"
             ],
             [
              0.6666666666666666,
              "#ed7953"
             ],
             [
              0.7777777777777778,
              "#fb9f3a"
             ],
             [
              0.8888888888888888,
              "#fdca26"
             ],
             [
              1,
              "#f0f921"
             ]
            ],
            "type": "contour"
           }
          ],
          "contourcarpet": [
           {
            "colorbar": {
             "outlinewidth": 0,
             "ticks": ""
            },
            "type": "contourcarpet"
           }
          ],
          "heatmap": [
           {
            "colorbar": {
             "outlinewidth": 0,
             "ticks": ""
            },
            "colorscale": [
             [
              0,
              "#0d0887"
             ],
             [
              0.1111111111111111,
              "#46039f"
             ],
             [
              0.2222222222222222,
              "#7201a8"
             ],
             [
              0.3333333333333333,
              "#9c179e"
             ],
             [
              0.4444444444444444,
              "#bd3786"
             ],
             [
              0.5555555555555556,
              "#d8576b"
             ],
             [
              0.6666666666666666,
              "#ed7953"
             ],
             [
              0.7777777777777778,
              "#fb9f3a"
             ],
             [
              0.8888888888888888,
              "#fdca26"
             ],
             [
              1,
              "#f0f921"
             ]
            ],
            "type": "heatmap"
           }
          ],
          "heatmapgl": [
           {
            "colorbar": {
             "outlinewidth": 0,
             "ticks": ""
            },
            "colorscale": [
             [
              0,
              "#0d0887"
             ],
             [
              0.1111111111111111,
              "#46039f"
             ],
             [
              0.2222222222222222,
              "#7201a8"
             ],
             [
              0.3333333333333333,
              "#9c179e"
             ],
             [
              0.4444444444444444,
              "#bd3786"
             ],
             [
              0.5555555555555556,
              "#d8576b"
             ],
             [
              0.6666666666666666,
              "#ed7953"
             ],
             [
              0.7777777777777778,
              "#fb9f3a"
             ],
             [
              0.8888888888888888,
              "#fdca26"
             ],
             [
              1,
              "#f0f921"
             ]
            ],
            "type": "heatmapgl"
           }
          ],
          "histogram": [
           {
            "marker": {
             "colorbar": {
              "outlinewidth": 0,
              "ticks": ""
             }
            },
            "type": "histogram"
           }
          ],
          "histogram2d": [
           {
            "colorbar": {
             "outlinewidth": 0,
             "ticks": ""
            },
            "colorscale": [
             [
              0,
              "#0d0887"
             ],
             [
              0.1111111111111111,
              "#46039f"
             ],
             [
              0.2222222222222222,
              "#7201a8"
             ],
             [
              0.3333333333333333,
              "#9c179e"
             ],
             [
              0.4444444444444444,
              "#bd3786"
             ],
             [
              0.5555555555555556,
              "#d8576b"
             ],
             [
              0.6666666666666666,
              "#ed7953"
             ],
             [
              0.7777777777777778,
              "#fb9f3a"
             ],
             [
              0.8888888888888888,
              "#fdca26"
             ],
             [
              1,
              "#f0f921"
             ]
            ],
            "type": "histogram2d"
           }
          ],
          "histogram2dcontour": [
           {
            "colorbar": {
             "outlinewidth": 0,
             "ticks": ""
            },
            "colorscale": [
             [
              0,
              "#0d0887"
             ],
             [
              0.1111111111111111,
              "#46039f"
             ],
             [
              0.2222222222222222,
              "#7201a8"
             ],
             [
              0.3333333333333333,
              "#9c179e"
             ],
             [
              0.4444444444444444,
              "#bd3786"
             ],
             [
              0.5555555555555556,
              "#d8576b"
             ],
             [
              0.6666666666666666,
              "#ed7953"
             ],
             [
              0.7777777777777778,
              "#fb9f3a"
             ],
             [
              0.8888888888888888,
              "#fdca26"
             ],
             [
              1,
              "#f0f921"
             ]
            ],
            "type": "histogram2dcontour"
           }
          ],
          "mesh3d": [
           {
            "colorbar": {
             "outlinewidth": 0,
             "ticks": ""
            },
            "type": "mesh3d"
           }
          ],
          "parcoords": [
           {
            "line": {
             "colorbar": {
              "outlinewidth": 0,
              "ticks": ""
             }
            },
            "type": "parcoords"
           }
          ],
          "pie": [
           {
            "automargin": true,
            "type": "pie"
           }
          ],
          "scatter": [
           {
            "marker": {
             "colorbar": {
              "outlinewidth": 0,
              "ticks": ""
             }
            },
            "type": "scatter"
           }
          ],
          "scatter3d": [
           {
            "line": {
             "colorbar": {
              "outlinewidth": 0,
              "ticks": ""
             }
            },
            "marker": {
             "colorbar": {
              "outlinewidth": 0,
              "ticks": ""
             }
            },
            "type": "scatter3d"
           }
          ],
          "scattercarpet": [
           {
            "marker": {
             "colorbar": {
              "outlinewidth": 0,
              "ticks": ""
             }
            },
            "type": "scattercarpet"
           }
          ],
          "scattergeo": [
           {
            "marker": {
             "colorbar": {
              "outlinewidth": 0,
              "ticks": ""
             }
            },
            "type": "scattergeo"
           }
          ],
          "scattergl": [
           {
            "marker": {
             "colorbar": {
              "outlinewidth": 0,
              "ticks": ""
             }
            },
            "type": "scattergl"
           }
          ],
          "scattermapbox": [
           {
            "marker": {
             "colorbar": {
              "outlinewidth": 0,
              "ticks": ""
             }
            },
            "type": "scattermapbox"
           }
          ],
          "scatterpolar": [
           {
            "marker": {
             "colorbar": {
              "outlinewidth": 0,
              "ticks": ""
             }
            },
            "type": "scatterpolar"
           }
          ],
          "scatterpolargl": [
           {
            "marker": {
             "colorbar": {
              "outlinewidth": 0,
              "ticks": ""
             }
            },
            "type": "scatterpolargl"
           }
          ],
          "scatterternary": [
           {
            "marker": {
             "colorbar": {
              "outlinewidth": 0,
              "ticks": ""
             }
            },
            "type": "scatterternary"
           }
          ],
          "surface": [
           {
            "colorbar": {
             "outlinewidth": 0,
             "ticks": ""
            },
            "colorscale": [
             [
              0,
              "#0d0887"
             ],
             [
              0.1111111111111111,
              "#46039f"
             ],
             [
              0.2222222222222222,
              "#7201a8"
             ],
             [
              0.3333333333333333,
              "#9c179e"
             ],
             [
              0.4444444444444444,
              "#bd3786"
             ],
             [
              0.5555555555555556,
              "#d8576b"
             ],
             [
              0.6666666666666666,
              "#ed7953"
             ],
             [
              0.7777777777777778,
              "#fb9f3a"
             ],
             [
              0.8888888888888888,
              "#fdca26"
             ],
             [
              1,
              "#f0f921"
             ]
            ],
            "type": "surface"
           }
          ],
          "table": [
           {
            "cells": {
             "fill": {
              "color": "#EBF0F8"
             },
             "line": {
              "color": "white"
             }
            },
            "header": {
             "fill": {
              "color": "#C8D4E3"
             },
             "line": {
              "color": "white"
             }
            },
            "type": "table"
           }
          ]
         },
         "layout": {
          "annotationdefaults": {
           "arrowcolor": "#2a3f5f",
           "arrowhead": 0,
           "arrowwidth": 1
          },
          "coloraxis": {
           "colorbar": {
            "outlinewidth": 0,
            "ticks": ""
           }
          },
          "colorscale": {
           "diverging": [
            [
             0,
             "#8e0152"
            ],
            [
             0.1,
             "#c51b7d"
            ],
            [
             0.2,
             "#de77ae"
            ],
            [
             0.3,
             "#f1b6da"
            ],
            [
             0.4,
             "#fde0ef"
            ],
            [
             0.5,
             "#f7f7f7"
            ],
            [
             0.6,
             "#e6f5d0"
            ],
            [
             0.7,
             "#b8e186"
            ],
            [
             0.8,
             "#7fbc41"
            ],
            [
             0.9,
             "#4d9221"
            ],
            [
             1,
             "#276419"
            ]
           ],
           "sequential": [
            [
             0,
             "#0d0887"
            ],
            [
             0.1111111111111111,
             "#46039f"
            ],
            [
             0.2222222222222222,
             "#7201a8"
            ],
            [
             0.3333333333333333,
             "#9c179e"
            ],
            [
             0.4444444444444444,
             "#bd3786"
            ],
            [
             0.5555555555555556,
             "#d8576b"
            ],
            [
             0.6666666666666666,
             "#ed7953"
            ],
            [
             0.7777777777777778,
             "#fb9f3a"
            ],
            [
             0.8888888888888888,
             "#fdca26"
            ],
            [
             1,
             "#f0f921"
            ]
           ],
           "sequentialminus": [
            [
             0,
             "#0d0887"
            ],
            [
             0.1111111111111111,
             "#46039f"
            ],
            [
             0.2222222222222222,
             "#7201a8"
            ],
            [
             0.3333333333333333,
             "#9c179e"
            ],
            [
             0.4444444444444444,
             "#bd3786"
            ],
            [
             0.5555555555555556,
             "#d8576b"
            ],
            [
             0.6666666666666666,
             "#ed7953"
            ],
            [
             0.7777777777777778,
             "#fb9f3a"
            ],
            [
             0.8888888888888888,
             "#fdca26"
            ],
            [
             1,
             "#f0f921"
            ]
           ]
          },
          "colorway": [
           "#636efa",
           "#EF553B",
           "#00cc96",
           "#ab63fa",
           "#FFA15A",
           "#19d3f3",
           "#FF6692",
           "#B6E880",
           "#FF97FF",
           "#FECB52"
          ],
          "font": {
           "color": "#2a3f5f"
          },
          "geo": {
           "bgcolor": "white",
           "lakecolor": "white",
           "landcolor": "#E5ECF6",
           "showlakes": true,
           "showland": true,
           "subunitcolor": "white"
          },
          "hoverlabel": {
           "align": "left"
          },
          "hovermode": "closest",
          "mapbox": {
           "style": "light"
          },
          "paper_bgcolor": "white",
          "plot_bgcolor": "#E5ECF6",
          "polar": {
           "angularaxis": {
            "gridcolor": "white",
            "linecolor": "white",
            "ticks": ""
           },
           "bgcolor": "#E5ECF6",
           "radialaxis": {
            "gridcolor": "white",
            "linecolor": "white",
            "ticks": ""
           }
          },
          "scene": {
           "xaxis": {
            "backgroundcolor": "#E5ECF6",
            "gridcolor": "white",
            "gridwidth": 2,
            "linecolor": "white",
            "showbackground": true,
            "ticks": "",
            "zerolinecolor": "white"
           },
           "yaxis": {
            "backgroundcolor": "#E5ECF6",
            "gridcolor": "white",
            "gridwidth": 2,
            "linecolor": "white",
            "showbackground": true,
            "ticks": "",
            "zerolinecolor": "white"
           },
           "zaxis": {
            "backgroundcolor": "#E5ECF6",
            "gridcolor": "white",
            "gridwidth": 2,
            "linecolor": "white",
            "showbackground": true,
            "ticks": "",
            "zerolinecolor": "white"
           }
          },
          "shapedefaults": {
           "line": {
            "color": "#2a3f5f"
           }
          },
          "ternary": {
           "aaxis": {
            "gridcolor": "white",
            "linecolor": "white",
            "ticks": ""
           },
           "baxis": {
            "gridcolor": "white",
            "linecolor": "white",
            "ticks": ""
           },
           "bgcolor": "#E5ECF6",
           "caxis": {
            "gridcolor": "white",
            "linecolor": "white",
            "ticks": ""
           }
          },
          "title": {
           "x": 0.05
          },
          "xaxis": {
           "automargin": true,
           "gridcolor": "white",
           "linecolor": "white",
           "ticks": "",
           "title": {
            "standoff": 15
           },
           "zerolinecolor": "white",
           "zerolinewidth": 2
          },
          "yaxis": {
           "automargin": true,
           "gridcolor": "white",
           "linecolor": "white",
           "ticks": "",
           "title": {
            "standoff": 15
           },
           "zerolinecolor": "white",
           "zerolinewidth": 2
          }
         }
        },
        "title": {
         "text": "GDP and Life Expectancy (Americas, 2007)"
        },
        "xaxis": {
         "anchor": "y",
         "domain": [
          0,
          1
         ],
         "title": {
          "text": "variable"
         }
        },
        "yaxis": {
         "anchor": "x",
         "domain": [
          0,
          1
         ],
         "title": {
          "text": "value"
         }
        }
       }
      },
      "text/html": [
       "<div>\n",
       "        \n",
       "        \n",
       "            <div id=\"5b4ef476-3444-4d57-a2ce-7ccce82a26cc\" class=\"plotly-graph-div\" style=\"height:1000px; width:100%;\"></div>\n",
       "            <script type=\"text/javascript\">\n",
       "                require([\"plotly\"], function(Plotly) {\n",
       "                    window.PLOTLYENV=window.PLOTLYENV || {};\n",
       "                    \n",
       "                if (document.getElementById(\"5b4ef476-3444-4d57-a2ce-7ccce82a26cc\")) {\n",
       "                    Plotly.newPlot(\n",
       "                        '5b4ef476-3444-4d57-a2ce-7ccce82a26cc',\n",
       "                        [{\"hoverlabel\": {\"namelength\": 0}, \"hovertemplate\": \"variable=%{x}<br>value=%{marker.color}<br>Job Category=%{text}\", \"legendgroup\": \"\", \"marker\": {\"color\": [52307, 175407, 445539, 450593, 176064, 501066, 133938, 350717, 164196, 263614, 116479, 168796, 846548, 59301, 173122, 123268, 995960, 58616, 223924, 510671, 506921, 211202, 558821, 151623, 412269, 173482, 291817, 128612, 190158, 938172, 71284, 192783, 141602, 1086633, 53636, 191727, 464744, 473446, 187869, 519136, 141907, 384841, 174270, 273684, 122750, 179870, 882360, 63154, 185909, 129021, 1018703, 49495, 189516, 482064, 458489, 175053, 508223, 139904, 355687, 180718, 283144, 112865, 176240, 848946, 58706, 173924, 122805, 975449, 60004, 215880, 512589, 507657, 197679, 593375, 154091, 387722, 200745, 295950, 142483, 187900, 941261, 67410, 200141, 136437, 1103867, 60913, 222082, 481263, 524303, 201789, 565899, 157873, 387131, 190843, 287595, 139337, 199181, 957396, 72101, 204698, 140465, 1115639, 51620, 190136, 465911, 472191, 184027, 531681, 136166, 380697, 165403, 272675, 116217, 175460, 848795, 63026, 178645, 126844, 988898, 74986, 241727, 578167, 577236, 221248, 696384, 186033, 468279, 231584, 342241, 154825, 227363, 1100076, 78074, 229577, 155412, 1306378, 62118, 203421, 512383, 496785, 204916, 581525, 155504, 427506, 186866, 293027, 154775, 201163, 967828, 68113, 205858, 135363, 1149801, 59308, 201155, 496536, 506170, 197499, 543593, 151300, 382873, 199787, 283180, 139785, 203913, 934576, 68899, 187264, 131563, 1090707], \"coloraxis\": \"coloraxis\", \"symbol\": \"circle\"}, \"mode\": \"markers+text\", \"name\": \"\", \"showlegend\": false, \"text\": [\"Design\", \"Education\", \"Engineering\", \"Finance\", \"Food Services\", \"Health\", \"Human Resources\", \"Labor\", \"Law\", \"Manufacturing\", \"Media\", \"Operations\", \"Professional Services\", \"Real Estate\", \"Retail\", \"Sales\", \"Technology\", \"Design\", \"Education\", \"Engineering\", \"Finance\", \"Food Services\", \"Health\", \"Human Resources\", \"Labor\", \"Law\", \"Manufacturing\", \"Media\", \"Operations\", \"Professional Services\", \"Real Estate\", \"Retail\", \"Sales\", \"Technology\", \"Design\", \"Education\", \"Engineering\", \"Finance\", \"Food Services\", \"Health\", \"Human Resources\", \"Labor\", \"Law\", \"Manufacturing\", \"Media\", \"Operations\", \"Professional Services\", \"Real Estate\", \"Retail\", \"Sales\", \"Technology\", \"Design\", \"Education\", \"Engineering\", \"Finance\", \"Food Services\", \"Health\", \"Human Resources\", \"Labor\", \"Law\", \"Manufacturing\", \"Media\", \"Operations\", \"Professional Services\", \"Real Estate\", \"Retail\", \"Sales\", \"Technology\", \"Design\", \"Education\", \"Engineering\", \"Finance\", \"Food Services\", \"Health\", \"Human Resources\", \"Labor\", \"Law\", \"Manufacturing\", \"Media\", \"Operations\", \"Professional Services\", \"Real Estate\", \"Retail\", \"Sales\", \"Technology\", \"Design\", \"Education\", \"Engineering\", \"Finance\", \"Food Services\", \"Health\", \"Human Resources\", \"Labor\", \"Law\", \"Manufacturing\", \"Media\", \"Operations\", \"Professional Services\", \"Real Estate\", \"Retail\", \"Sales\", \"Technology\", \"Design\", \"Education\", \"Engineering\", \"Finance\", \"Food Services\", \"Health\", \"Human Resources\", \"Labor\", \"Law\", \"Manufacturing\", \"Media\", \"Operations\", \"Professional Services\", \"Real Estate\", \"Retail\", \"Sales\", \"Technology\", \"Design\", \"Education\", \"Engineering\", \"Finance\", \"Food Services\", \"Health\", \"Human Resources\", \"Labor\", \"Law\", \"Manufacturing\", \"Media\", \"Operations\", \"Professional Services\", \"Real Estate\", \"Retail\", \"Sales\", \"Technology\", \"Design\", \"Education\", \"Engineering\", \"Finance\", \"Food Services\", \"Health\", \"Human Resources\", \"Labor\", \"Law\", \"Manufacturing\", \"Media\", \"Operations\", \"Professional Services\", \"Real Estate\", \"Retail\", \"Sales\", \"Technology\", \"Design\", \"Education\", \"Engineering\", \"Finance\", \"Food Services\", \"Health\", \"Human Resources\", \"Labor\", \"Law\", \"Manufacturing\", \"Media\", \"Operations\", \"Professional Services\", \"Real Estate\", \"Retail\", \"Sales\", \"Technology\"], \"textposition\": \"top center\", \"type\": \"scatter\", \"x\": [\"Atlanta\", \"Atlanta\", \"Atlanta\", \"Atlanta\", \"Atlanta\", \"Atlanta\", \"Atlanta\", \"Atlanta\", \"Atlanta\", \"Atlanta\", \"Atlanta\", \"Atlanta\", \"Atlanta\", \"Atlanta\", \"Atlanta\", \"Atlanta\", \"Atlanta\", \"Boston\", \"Boston\", \"Boston\", \"Boston\", \"Boston\", \"Boston\", \"Boston\", \"Boston\", \"Boston\", \"Boston\", \"Boston\", \"Boston\", \"Boston\", \"Boston\", \"Boston\", \"Boston\", \"Boston\", \"Chicago\", \"Chicago\", \"Chicago\", \"Chicago\", \"Chicago\", \"Chicago\", \"Chicago\", \"Chicago\", \"Chicago\", \"Chicago\", \"Chicago\", \"Chicago\", \"Chicago\", \"Chicago\", \"Chicago\", \"Chicago\", \"Chicago\", \"Houston\", \"Houston\", \"Houston\", \"Houston\", \"Houston\", \"Houston\", \"Houston\", \"Houston\", \"Houston\", \"Houston\", \"Houston\", \"Houston\", \"Houston\", \"Houston\", \"Houston\", \"Houston\", \"Houston\", \"Los Angeles\", \"Los Angeles\", \"Los Angeles\", \"Los Angeles\", \"Los Angeles\", \"Los Angeles\", \"Los Angeles\", \"Los Angeles\", \"Los Angeles\", \"Los Angeles\", \"Los Angeles\", \"Los Angeles\", \"Los Angeles\", \"Los Angeles\", \"Los Angeles\", \"Los Angeles\", \"Los Angeles\", \"New York City\", \"New York City\", \"New York City\", \"New York City\", \"New York City\", \"New York City\", \"New York City\", \"New York City\", \"New York City\", \"New York City\", \"New York City\", \"New York City\", \"New York City\", \"New York City\", \"New York City\", \"New York City\", \"New York City\", \"Philadelphia\", \"Philadelphia\", \"Philadelphia\", \"Philadelphia\", \"Philadelphia\", \"Philadelphia\", \"Philadelphia\", \"Philadelphia\", \"Philadelphia\", \"Philadelphia\", \"Philadelphia\", \"Philadelphia\", \"Philadelphia\", \"Philadelphia\", \"Philadelphia\", \"Philadelphia\", \"Philadelphia\", \"San Francisco\", \"San Francisco\", \"San Francisco\", \"San Francisco\", \"San Francisco\", \"San Francisco\", \"San Francisco\", \"San Francisco\", \"San Francisco\", \"San Francisco\", \"San Francisco\", \"San Francisco\", \"San Francisco\", \"San Francisco\", \"San Francisco\", \"San Francisco\", \"San Francisco\", \"Seattle\", \"Seattle\", \"Seattle\", \"Seattle\", \"Seattle\", \"Seattle\", \"Seattle\", \"Seattle\", \"Seattle\", \"Seattle\", \"Seattle\", \"Seattle\", \"Seattle\", \"Seattle\", \"Seattle\", \"Seattle\", \"Seattle\", \"Washington DC\", \"Washington DC\", \"Washington DC\", \"Washington DC\", \"Washington DC\", \"Washington DC\", \"Washington DC\", \"Washington DC\", \"Washington DC\", \"Washington DC\", \"Washington DC\", \"Washington DC\", \"Washington DC\", \"Washington DC\", \"Washington DC\", \"Washington DC\", \"Washington DC\"], \"xaxis\": \"x\", \"y\": [52307, 175407, 445539, 450593, 176064, 501066, 133938, 350717, 164196, 263614, 116479, 168796, 846548, 59301, 173122, 123268, 995960, 58616, 223924, 510671, 506921, 211202, 558821, 151623, 412269, 173482, 291817, 128612, 190158, 938172, 71284, 192783, 141602, 1086633, 53636, 191727, 464744, 473446, 187869, 519136, 141907, 384841, 174270, 273684, 122750, 179870, 882360, 63154, 185909, 129021, 1018703, 49495, 189516, 482064, 458489, 175053, 508223, 139904, 355687, 180718, 283144, 112865, 176240, 848946, 58706, 173924, 122805, 975449, 60004, 215880, 512589, 507657, 197679, 593375, 154091, 387722, 200745, 295950, 142483, 187900, 941261, 67410, 200141, 136437, 1103867, 60913, 222082, 481263, 524303, 201789, 565899, 157873, 387131, 190843, 287595, 139337, 199181, 957396, 72101, 204698, 140465, 1115639, 51620, 190136, 465911, 472191, 184027, 531681, 136166, 380697, 165403, 272675, 116217, 175460, 848795, 63026, 178645, 126844, 988898, 74986, 241727, 578167, 577236, 221248, 696384, 186033, 468279, 231584, 342241, 154825, 227363, 1100076, 78074, 229577, 155412, 1306378, 62118, 203421, 512383, 496785, 204916, 581525, 155504, 427506, 186866, 293027, 154775, 201163, 967828, 68113, 205858, 135363, 1149801, 59308, 201155, 496536, 506170, 197499, 543593, 151300, 382873, 199787, 283180, 139785, 203913, 934576, 68899, 187264, 131563, 1090707], \"yaxis\": \"y\"}],\n",
       "                        {\"coloraxis\": {\"colorbar\": {\"title\": {\"text\": \"value\"}}, \"colorscale\": [[0.0, \"#0d0887\"], [0.1111111111111111, \"#46039f\"], [0.2222222222222222, \"#7201a8\"], [0.3333333333333333, \"#9c179e\"], [0.4444444444444444, \"#bd3786\"], [0.5555555555555556, \"#d8576b\"], [0.6666666666666666, \"#ed7953\"], [0.7777777777777778, \"#fb9f3a\"], [0.8888888888888888, \"#fdca26\"], [1.0, \"#f0f921\"]]}, \"height\": 1000, \"legend\": {\"tracegroupgap\": 0}, \"margin\": {\"t\": 60}, \"template\": {\"data\": {\"bar\": [{\"error_x\": {\"color\": \"#2a3f5f\"}, \"error_y\": {\"color\": \"#2a3f5f\"}, \"marker\": {\"line\": {\"color\": \"#E5ECF6\", \"width\": 0.5}}, \"type\": \"bar\"}], \"barpolar\": [{\"marker\": {\"line\": {\"color\": \"#E5ECF6\", \"width\": 0.5}}, \"type\": \"barpolar\"}], \"carpet\": [{\"aaxis\": {\"endlinecolor\": \"#2a3f5f\", \"gridcolor\": \"white\", \"linecolor\": \"white\", \"minorgridcolor\": \"white\", \"startlinecolor\": \"#2a3f5f\"}, \"baxis\": {\"endlinecolor\": \"#2a3f5f\", \"gridcolor\": \"white\", \"linecolor\": \"white\", \"minorgridcolor\": \"white\", \"startlinecolor\": \"#2a3f5f\"}, \"type\": \"carpet\"}], \"choropleth\": [{\"colorbar\": {\"outlinewidth\": 0, \"ticks\": \"\"}, \"type\": \"choropleth\"}], \"contour\": [{\"colorbar\": {\"outlinewidth\": 0, \"ticks\": \"\"}, \"colorscale\": [[0.0, \"#0d0887\"], [0.1111111111111111, \"#46039f\"], [0.2222222222222222, \"#7201a8\"], [0.3333333333333333, \"#9c179e\"], [0.4444444444444444, \"#bd3786\"], [0.5555555555555556, \"#d8576b\"], [0.6666666666666666, \"#ed7953\"], [0.7777777777777778, \"#fb9f3a\"], [0.8888888888888888, \"#fdca26\"], [1.0, \"#f0f921\"]], \"type\": \"contour\"}], \"contourcarpet\": [{\"colorbar\": {\"outlinewidth\": 0, \"ticks\": \"\"}, \"type\": \"contourcarpet\"}], \"heatmap\": [{\"colorbar\": {\"outlinewidth\": 0, \"ticks\": \"\"}, \"colorscale\": [[0.0, \"#0d0887\"], [0.1111111111111111, \"#46039f\"], [0.2222222222222222, \"#7201a8\"], [0.3333333333333333, \"#9c179e\"], [0.4444444444444444, \"#bd3786\"], [0.5555555555555556, \"#d8576b\"], [0.6666666666666666, \"#ed7953\"], [0.7777777777777778, \"#fb9f3a\"], [0.8888888888888888, \"#fdca26\"], [1.0, \"#f0f921\"]], \"type\": \"heatmap\"}], \"heatmapgl\": [{\"colorbar\": {\"outlinewidth\": 0, \"ticks\": \"\"}, \"colorscale\": [[0.0, \"#0d0887\"], [0.1111111111111111, \"#46039f\"], [0.2222222222222222, \"#7201a8\"], [0.3333333333333333, \"#9c179e\"], [0.4444444444444444, \"#bd3786\"], [0.5555555555555556, \"#d8576b\"], [0.6666666666666666, \"#ed7953\"], [0.7777777777777778, \"#fb9f3a\"], [0.8888888888888888, \"#fdca26\"], [1.0, \"#f0f921\"]], \"type\": \"heatmapgl\"}], \"histogram\": [{\"marker\": {\"colorbar\": {\"outlinewidth\": 0, \"ticks\": \"\"}}, \"type\": \"histogram\"}], \"histogram2d\": [{\"colorbar\": {\"outlinewidth\": 0, \"ticks\": \"\"}, \"colorscale\": [[0.0, \"#0d0887\"], [0.1111111111111111, \"#46039f\"], [0.2222222222222222, \"#7201a8\"], [0.3333333333333333, \"#9c179e\"], [0.4444444444444444, \"#bd3786\"], [0.5555555555555556, \"#d8576b\"], [0.6666666666666666, \"#ed7953\"], [0.7777777777777778, \"#fb9f3a\"], [0.8888888888888888, \"#fdca26\"], [1.0, \"#f0f921\"]], \"type\": \"histogram2d\"}], \"histogram2dcontour\": [{\"colorbar\": {\"outlinewidth\": 0, \"ticks\": \"\"}, \"colorscale\": [[0.0, \"#0d0887\"], [0.1111111111111111, \"#46039f\"], [0.2222222222222222, \"#7201a8\"], [0.3333333333333333, \"#9c179e\"], [0.4444444444444444, \"#bd3786\"], [0.5555555555555556, \"#d8576b\"], [0.6666666666666666, \"#ed7953\"], [0.7777777777777778, \"#fb9f3a\"], [0.8888888888888888, \"#fdca26\"], [1.0, \"#f0f921\"]], \"type\": \"histogram2dcontour\"}], \"mesh3d\": [{\"colorbar\": {\"outlinewidth\": 0, \"ticks\": \"\"}, \"type\": \"mesh3d\"}], \"parcoords\": [{\"line\": {\"colorbar\": {\"outlinewidth\": 0, \"ticks\": \"\"}}, \"type\": \"parcoords\"}], \"pie\": [{\"automargin\": true, \"type\": \"pie\"}], \"scatter\": [{\"marker\": {\"colorbar\": {\"outlinewidth\": 0, \"ticks\": \"\"}}, \"type\": \"scatter\"}], \"scatter3d\": [{\"line\": {\"colorbar\": {\"outlinewidth\": 0, \"ticks\": \"\"}}, \"marker\": {\"colorbar\": {\"outlinewidth\": 0, \"ticks\": \"\"}}, \"type\": \"scatter3d\"}], \"scattercarpet\": [{\"marker\": {\"colorbar\": {\"outlinewidth\": 0, \"ticks\": \"\"}}, \"type\": \"scattercarpet\"}], \"scattergeo\": [{\"marker\": {\"colorbar\": {\"outlinewidth\": 0, \"ticks\": \"\"}}, \"type\": \"scattergeo\"}], \"scattergl\": [{\"marker\": {\"colorbar\": {\"outlinewidth\": 0, \"ticks\": \"\"}}, \"type\": \"scattergl\"}], \"scattermapbox\": [{\"marker\": {\"colorbar\": {\"outlinewidth\": 0, \"ticks\": \"\"}}, \"type\": \"scattermapbox\"}], \"scatterpolar\": [{\"marker\": {\"colorbar\": {\"outlinewidth\": 0, \"ticks\": \"\"}}, \"type\": \"scatterpolar\"}], \"scatterpolargl\": [{\"marker\": {\"colorbar\": {\"outlinewidth\": 0, \"ticks\": \"\"}}, \"type\": \"scatterpolargl\"}], \"scatterternary\": [{\"marker\": {\"colorbar\": {\"outlinewidth\": 0, \"ticks\": \"\"}}, \"type\": \"scatterternary\"}], \"surface\": [{\"colorbar\": {\"outlinewidth\": 0, \"ticks\": \"\"}, \"colorscale\": [[0.0, \"#0d0887\"], [0.1111111111111111, \"#46039f\"], [0.2222222222222222, \"#7201a8\"], [0.3333333333333333, \"#9c179e\"], [0.4444444444444444, \"#bd3786\"], [0.5555555555555556, \"#d8576b\"], [0.6666666666666666, \"#ed7953\"], [0.7777777777777778, \"#fb9f3a\"], [0.8888888888888888, \"#fdca26\"], [1.0, \"#f0f921\"]], \"type\": \"surface\"}], \"table\": [{\"cells\": {\"fill\": {\"color\": \"#EBF0F8\"}, \"line\": {\"color\": \"white\"}}, \"header\": {\"fill\": {\"color\": \"#C8D4E3\"}, \"line\": {\"color\": \"white\"}}, \"type\": \"table\"}]}, \"layout\": {\"annotationdefaults\": {\"arrowcolor\": \"#2a3f5f\", \"arrowhead\": 0, \"arrowwidth\": 1}, \"coloraxis\": {\"colorbar\": {\"outlinewidth\": 0, \"ticks\": \"\"}}, \"colorscale\": {\"diverging\": [[0, \"#8e0152\"], [0.1, \"#c51b7d\"], [0.2, \"#de77ae\"], [0.3, \"#f1b6da\"], [0.4, \"#fde0ef\"], [0.5, \"#f7f7f7\"], [0.6, \"#e6f5d0\"], [0.7, \"#b8e186\"], [0.8, \"#7fbc41\"], [0.9, \"#4d9221\"], [1, \"#276419\"]], \"sequential\": [[0.0, \"#0d0887\"], [0.1111111111111111, \"#46039f\"], [0.2222222222222222, \"#7201a8\"], [0.3333333333333333, \"#9c179e\"], [0.4444444444444444, \"#bd3786\"], [0.5555555555555556, \"#d8576b\"], [0.6666666666666666, \"#ed7953\"], [0.7777777777777778, \"#fb9f3a\"], [0.8888888888888888, \"#fdca26\"], [1.0, \"#f0f921\"]], \"sequentialminus\": [[0.0, \"#0d0887\"], [0.1111111111111111, \"#46039f\"], [0.2222222222222222, \"#7201a8\"], [0.3333333333333333, \"#9c179e\"], [0.4444444444444444, \"#bd3786\"], [0.5555555555555556, \"#d8576b\"], [0.6666666666666666, \"#ed7953\"], [0.7777777777777778, \"#fb9f3a\"], [0.8888888888888888, \"#fdca26\"], [1.0, \"#f0f921\"]]}, \"colorway\": [\"#636efa\", \"#EF553B\", \"#00cc96\", \"#ab63fa\", \"#FFA15A\", \"#19d3f3\", \"#FF6692\", \"#B6E880\", \"#FF97FF\", \"#FECB52\"], \"font\": {\"color\": \"#2a3f5f\"}, \"geo\": {\"bgcolor\": \"white\", \"lakecolor\": \"white\", \"landcolor\": \"#E5ECF6\", \"showlakes\": true, \"showland\": true, \"subunitcolor\": \"white\"}, \"hoverlabel\": {\"align\": \"left\"}, \"hovermode\": \"closest\", \"mapbox\": {\"style\": \"light\"}, \"paper_bgcolor\": \"white\", \"plot_bgcolor\": \"#E5ECF6\", \"polar\": {\"angularaxis\": {\"gridcolor\": \"white\", \"linecolor\": \"white\", \"ticks\": \"\"}, \"bgcolor\": \"#E5ECF6\", \"radialaxis\": {\"gridcolor\": \"white\", \"linecolor\": \"white\", \"ticks\": \"\"}}, \"scene\": {\"xaxis\": {\"backgroundcolor\": \"#E5ECF6\", \"gridcolor\": \"white\", \"gridwidth\": 2, \"linecolor\": \"white\", \"showbackground\": true, \"ticks\": \"\", \"zerolinecolor\": \"white\"}, \"yaxis\": {\"backgroundcolor\": \"#E5ECF6\", \"gridcolor\": \"white\", \"gridwidth\": 2, \"linecolor\": \"white\", \"showbackground\": true, \"ticks\": \"\", \"zerolinecolor\": \"white\"}, \"zaxis\": {\"backgroundcolor\": \"#E5ECF6\", \"gridcolor\": \"white\", \"gridwidth\": 2, \"linecolor\": \"white\", \"showbackground\": true, \"ticks\": \"\", \"zerolinecolor\": \"white\"}}, \"shapedefaults\": {\"line\": {\"color\": \"#2a3f5f\"}}, \"ternary\": {\"aaxis\": {\"gridcolor\": \"white\", \"linecolor\": \"white\", \"ticks\": \"\"}, \"baxis\": {\"gridcolor\": \"white\", \"linecolor\": \"white\", \"ticks\": \"\"}, \"bgcolor\": \"#E5ECF6\", \"caxis\": {\"gridcolor\": \"white\", \"linecolor\": \"white\", \"ticks\": \"\"}}, \"title\": {\"x\": 0.05}, \"xaxis\": {\"automargin\": true, \"gridcolor\": \"white\", \"linecolor\": \"white\", \"ticks\": \"\", \"title\": {\"standoff\": 15}, \"zerolinecolor\": \"white\", \"zerolinewidth\": 2}, \"yaxis\": {\"automargin\": true, \"gridcolor\": \"white\", \"linecolor\": \"white\", \"ticks\": \"\", \"title\": {\"standoff\": 15}, \"zerolinecolor\": \"white\", \"zerolinewidth\": 2}}}, \"title\": {\"text\": \"GDP and Life Expectancy (Americas, 2007)\"}, \"xaxis\": {\"anchor\": \"y\", \"domain\": [0.0, 1.0], \"title\": {\"text\": \"variable\"}}, \"yaxis\": {\"anchor\": \"x\", \"domain\": [0.0, 1.0], \"title\": {\"text\": \"value\"}}},\n",
       "                        {\"responsive\": true}\n",
       "                    ).then(function(){\n",
       "                            \n",
       "var gd = document.getElementById('5b4ef476-3444-4d57-a2ce-7ccce82a26cc');\n",
       "var x = new MutationObserver(function (mutations, observer) {{\n",
       "        var display = window.getComputedStyle(gd).display;\n",
       "        if (!display || display === 'none') {{\n",
       "            console.log([gd, 'removed!']);\n",
       "            Plotly.purge(gd);\n",
       "            observer.disconnect();\n",
       "        }}\n",
       "}});\n",
       "\n",
       "// Listen for the removal of the full notebook cells\n",
       "var notebookContainer = gd.closest('#notebook-container');\n",
       "if (notebookContainer) {{\n",
       "    x.observe(notebookContainer, {childList: true});\n",
       "}}\n",
       "\n",
       "// Listen for the clearing of the current output cell\n",
       "var outputEl = gd.closest('.output');\n",
       "if (outputEl) {{\n",
       "    x.observe(outputEl, {childList: true});\n",
       "}}\n",
       "\n",
       "                        })\n",
       "                };\n",
       "                });\n",
       "            </script>\n",
       "        </div>"
      ]
     },
     "metadata": {},
     "output_type": "display_data"
    }
   ],
   "source": [
    "#df = px.data.gapminder().query(\"year==2007 and continent=='Americas'\")\n",
    "\n",
    "fig = px.scatter(tf, x=\"variable\", y=\"value\", text ='Job Category', color='value')\n",
    "\n",
    "fig.update_traces(textposition='top center')\n",
    "\n",
    "fig.update_layout(\n",
    "    height=1000,\n",
    "    title_text='GDP and Life Expectancy (Americas, 2007)'\n",
    ")\n",
    "\n",
    "fig.show()"
   ]
  },
  {
   "cell_type": "code",
   "execution_count": null,
   "metadata": {},
   "outputs": [],
   "source": []
  }
 ],
 "metadata": {
  "kernelspec": {
   "display_name": "Python 3",
   "language": "python",
   "name": "python3"
  },
  "language_info": {
   "codemirror_mode": {
    "name": "ipython",
    "version": 3
   },
   "file_extension": ".py",
   "mimetype": "text/x-python",
   "name": "python",
   "nbconvert_exporter": "python",
   "pygments_lexer": "ipython3",
   "version": "3.7.4"
  }
 },
 "nbformat": 4,
 "nbformat_minor": 2
}
