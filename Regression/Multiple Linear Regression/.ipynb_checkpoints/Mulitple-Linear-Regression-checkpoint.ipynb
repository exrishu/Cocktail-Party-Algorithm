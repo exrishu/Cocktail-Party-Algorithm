{
 "cells": [
  {
   "cell_type": "markdown",
   "metadata": {
    "button": false,
    "new_sheet": false,
    "run_control": {
     "read_only": false
    }
   },
   "source": [
    "<h1><center>Multiple Linear Regression</center></h1>\n",
    "\n",
    "In this notebook, we will be implementing the multiple linear regression. We will be using the data related to fuel consumption and carbon dioxide emission of cars.\n",
    "\n",
    "Before we start a brief intro of Multiple linear regression :\n",
    "\n",
    "    - Multiple linear regression is a machine learning algorithm based on supervised learning.\n",
    "    - It predict the continous dependent value by the independent variables.\n",
    "    - It models the linear relationship between a single dependent continuous variable and more than one\n",
    "      independent variable.\n"
   ]
  },
  {
   "cell_type": "markdown",
   "metadata": {
    "button": false,
    "new_sheet": false,
    "run_control": {
     "read_only": false
    }
   },
   "source": [
    "### Importing Needed packages"
   ]
  },
  {
   "cell_type": "code",
   "execution_count": 3,
   "metadata": {
    "button": false,
    "new_sheet": false,
    "run_control": {
     "read_only": false
    }
   },
   "outputs": [],
   "source": [
    "import matplotlib.pyplot as plt\n",
    "import pandas as pd\n",
    "import pylab as pl\n",
    "import numpy as np\n",
    "%matplotlib inline"
   ]
  },
  {
   "cell_type": "markdown",
   "metadata": {},
   "source": [
    "## Reading the data in"
   ]
  },
  {
   "cell_type": "code",
   "execution_count": 4,
   "metadata": {},
   "outputs": [
    {
     "data": {
      "text/html": [
       "<div>\n",
       "<style scoped>\n",
       "    .dataframe tbody tr th:only-of-type {\n",
       "        vertical-align: middle;\n",
       "    }\n",
       "\n",
       "    .dataframe tbody tr th {\n",
       "        vertical-align: top;\n",
       "    }\n",
       "\n",
       "    .dataframe thead th {\n",
       "        text-align: right;\n",
       "    }\n",
       "</style>\n",
       "<table border=\"1\" class=\"dataframe\">\n",
       "  <thead>\n",
       "    <tr style=\"text-align: right;\">\n",
       "      <th></th>\n",
       "      <th>MODELYEAR</th>\n",
       "      <th>MAKE</th>\n",
       "      <th>MODEL</th>\n",
       "      <th>VEHICLECLASS</th>\n",
       "      <th>ENGINESIZE</th>\n",
       "      <th>CYLINDERS</th>\n",
       "      <th>TRANSMISSION</th>\n",
       "      <th>FUELTYPE</th>\n",
       "      <th>FUELCONSUMPTION_CITY</th>\n",
       "      <th>FUELCONSUMPTION_HWY</th>\n",
       "      <th>FUELCONSUMPTION_COMB</th>\n",
       "      <th>FUELCONSUMPTION_COMB_MPG</th>\n",
       "      <th>CO2EMISSIONS</th>\n",
       "    </tr>\n",
       "  </thead>\n",
       "  <tbody>\n",
       "    <tr>\n",
       "      <th>0</th>\n",
       "      <td>2014</td>\n",
       "      <td>ACURA</td>\n",
       "      <td>ILX</td>\n",
       "      <td>COMPACT</td>\n",
       "      <td>2.0</td>\n",
       "      <td>4</td>\n",
       "      <td>AS5</td>\n",
       "      <td>Z</td>\n",
       "      <td>9.9</td>\n",
       "      <td>6.7</td>\n",
       "      <td>8.5</td>\n",
       "      <td>33</td>\n",
       "      <td>196</td>\n",
       "    </tr>\n",
       "    <tr>\n",
       "      <th>1</th>\n",
       "      <td>2014</td>\n",
       "      <td>ACURA</td>\n",
       "      <td>ILX</td>\n",
       "      <td>COMPACT</td>\n",
       "      <td>2.4</td>\n",
       "      <td>4</td>\n",
       "      <td>M6</td>\n",
       "      <td>Z</td>\n",
       "      <td>11.2</td>\n",
       "      <td>7.7</td>\n",
       "      <td>9.6</td>\n",
       "      <td>29</td>\n",
       "      <td>221</td>\n",
       "    </tr>\n",
       "    <tr>\n",
       "      <th>2</th>\n",
       "      <td>2014</td>\n",
       "      <td>ACURA</td>\n",
       "      <td>ILX HYBRID</td>\n",
       "      <td>COMPACT</td>\n",
       "      <td>1.5</td>\n",
       "      <td>4</td>\n",
       "      <td>AV7</td>\n",
       "      <td>Z</td>\n",
       "      <td>6.0</td>\n",
       "      <td>5.8</td>\n",
       "      <td>5.9</td>\n",
       "      <td>48</td>\n",
       "      <td>136</td>\n",
       "    </tr>\n",
       "    <tr>\n",
       "      <th>3</th>\n",
       "      <td>2014</td>\n",
       "      <td>ACURA</td>\n",
       "      <td>MDX 4WD</td>\n",
       "      <td>SUV - SMALL</td>\n",
       "      <td>3.5</td>\n",
       "      <td>6</td>\n",
       "      <td>AS6</td>\n",
       "      <td>Z</td>\n",
       "      <td>12.7</td>\n",
       "      <td>9.1</td>\n",
       "      <td>11.1</td>\n",
       "      <td>25</td>\n",
       "      <td>255</td>\n",
       "    </tr>\n",
       "    <tr>\n",
       "      <th>4</th>\n",
       "      <td>2014</td>\n",
       "      <td>ACURA</td>\n",
       "      <td>RDX AWD</td>\n",
       "      <td>SUV - SMALL</td>\n",
       "      <td>3.5</td>\n",
       "      <td>6</td>\n",
       "      <td>AS6</td>\n",
       "      <td>Z</td>\n",
       "      <td>12.1</td>\n",
       "      <td>8.7</td>\n",
       "      <td>10.6</td>\n",
       "      <td>27</td>\n",
       "      <td>244</td>\n",
       "    </tr>\n",
       "  </tbody>\n",
       "</table>\n",
       "</div>"
      ],
      "text/plain": [
       "   MODELYEAR   MAKE       MODEL VEHICLECLASS  ENGINESIZE  CYLINDERS  \\\n",
       "0       2014  ACURA         ILX      COMPACT         2.0          4   \n",
       "1       2014  ACURA         ILX      COMPACT         2.4          4   \n",
       "2       2014  ACURA  ILX HYBRID      COMPACT         1.5          4   \n",
       "3       2014  ACURA     MDX 4WD  SUV - SMALL         3.5          6   \n",
       "4       2014  ACURA     RDX AWD  SUV - SMALL         3.5          6   \n",
       "\n",
       "  TRANSMISSION FUELTYPE  FUELCONSUMPTION_CITY  FUELCONSUMPTION_HWY  \\\n",
       "0          AS5        Z                   9.9                  6.7   \n",
       "1           M6        Z                  11.2                  7.7   \n",
       "2          AV7        Z                   6.0                  5.8   \n",
       "3          AS6        Z                  12.7                  9.1   \n",
       "4          AS6        Z                  12.1                  8.7   \n",
       "\n",
       "   FUELCONSUMPTION_COMB  FUELCONSUMPTION_COMB_MPG  CO2EMISSIONS  \n",
       "0                   8.5                        33           196  \n",
       "1                   9.6                        29           221  \n",
       "2                   5.9                        48           136  \n",
       "3                  11.1                        25           255  \n",
       "4                  10.6                        27           244  "
      ]
     },
     "execution_count": 4,
     "metadata": {},
     "output_type": "execute_result"
    }
   ],
   "source": [
    "df = pd.read_csv(\"FuelConsumptionCo2.csv\")\n",
    "df.head()"
   ]
  },
  {
   "cell_type": "markdown",
   "metadata": {
    "button": false,
    "new_sheet": false,
    "run_control": {
     "read_only": false
    }
   },
   "source": [
    "\n",
    "<h2 id=\"understanding_data\">Understanding the Data</h2>\n",
    "\n",
    "###  `FuelConsumption`:\n",
    "Our dataset of fuel consumption is ready,FuelConsumption which contains  fuel consumption of different moddels,ratings and estimated carbon dioxide emissions which will effect the prcing and sale of the different models. [Dataset source](http://open.canada.ca/data/en/dataset/98f1a129-f628-4ce4-b24d-6f16bf24dd64)\n",
    "\n",
    "- **MODELYEAR** \n",
    "- **MAKE** \n",
    "- **MODEL** \n",
    "- **VEHICLE CLASS**\n",
    "- **ENGINE SIZE** \n",
    "- **CYLINDERS** \n",
    "- **TRANSMISSION** \n",
    "- **FUEL CONSUMPTION in CITY(L/100 km)** \n",
    "- **FUEL CONSUMPTION in HWY (L/100 km)** \n",
    "- **FUEL CONSUMPTION COMB (L/100 km)** \n",
    "- **CO2 EMISSIONS (g/km)**\n"
   ]
  },
  {
   "cell_type": "markdown",
   "metadata": {},
   "source": [
    "Lets select some features that we want to use for regression."
   ]
  },
  {
   "cell_type": "code",
   "execution_count": 5,
   "metadata": {
    "button": false,
    "new_sheet": false,
    "run_control": {
     "read_only": false
    }
   },
   "outputs": [
    {
     "data": {
      "text/html": [
       "<div>\n",
       "<style scoped>\n",
       "    .dataframe tbody tr th:only-of-type {\n",
       "        vertical-align: middle;\n",
       "    }\n",
       "\n",
       "    .dataframe tbody tr th {\n",
       "        vertical-align: top;\n",
       "    }\n",
       "\n",
       "    .dataframe thead th {\n",
       "        text-align: right;\n",
       "    }\n",
       "</style>\n",
       "<table border=\"1\" class=\"dataframe\">\n",
       "  <thead>\n",
       "    <tr style=\"text-align: right;\">\n",
       "      <th></th>\n",
       "      <th>ENGINESIZE</th>\n",
       "      <th>CYLINDERS</th>\n",
       "      <th>FUELCONSUMPTION_CITY</th>\n",
       "      <th>FUELCONSUMPTION_HWY</th>\n",
       "      <th>FUELCONSUMPTION_COMB</th>\n",
       "      <th>CO2EMISSIONS</th>\n",
       "    </tr>\n",
       "  </thead>\n",
       "  <tbody>\n",
       "    <tr>\n",
       "      <th>0</th>\n",
       "      <td>2.0</td>\n",
       "      <td>4</td>\n",
       "      <td>9.9</td>\n",
       "      <td>6.7</td>\n",
       "      <td>8.5</td>\n",
       "      <td>196</td>\n",
       "    </tr>\n",
       "    <tr>\n",
       "      <th>1</th>\n",
       "      <td>2.4</td>\n",
       "      <td>4</td>\n",
       "      <td>11.2</td>\n",
       "      <td>7.7</td>\n",
       "      <td>9.6</td>\n",
       "      <td>221</td>\n",
       "    </tr>\n",
       "    <tr>\n",
       "      <th>2</th>\n",
       "      <td>1.5</td>\n",
       "      <td>4</td>\n",
       "      <td>6.0</td>\n",
       "      <td>5.8</td>\n",
       "      <td>5.9</td>\n",
       "      <td>136</td>\n",
       "    </tr>\n",
       "    <tr>\n",
       "      <th>3</th>\n",
       "      <td>3.5</td>\n",
       "      <td>6</td>\n",
       "      <td>12.7</td>\n",
       "      <td>9.1</td>\n",
       "      <td>11.1</td>\n",
       "      <td>255</td>\n",
       "    </tr>\n",
       "    <tr>\n",
       "      <th>4</th>\n",
       "      <td>3.5</td>\n",
       "      <td>6</td>\n",
       "      <td>12.1</td>\n",
       "      <td>8.7</td>\n",
       "      <td>10.6</td>\n",
       "      <td>244</td>\n",
       "    </tr>\n",
       "    <tr>\n",
       "      <th>5</th>\n",
       "      <td>3.5</td>\n",
       "      <td>6</td>\n",
       "      <td>11.9</td>\n",
       "      <td>7.7</td>\n",
       "      <td>10.0</td>\n",
       "      <td>230</td>\n",
       "    </tr>\n",
       "    <tr>\n",
       "      <th>6</th>\n",
       "      <td>3.5</td>\n",
       "      <td>6</td>\n",
       "      <td>11.8</td>\n",
       "      <td>8.1</td>\n",
       "      <td>10.1</td>\n",
       "      <td>232</td>\n",
       "    </tr>\n",
       "    <tr>\n",
       "      <th>7</th>\n",
       "      <td>3.7</td>\n",
       "      <td>6</td>\n",
       "      <td>12.8</td>\n",
       "      <td>9.0</td>\n",
       "      <td>11.1</td>\n",
       "      <td>255</td>\n",
       "    </tr>\n",
       "    <tr>\n",
       "      <th>8</th>\n",
       "      <td>3.7</td>\n",
       "      <td>6</td>\n",
       "      <td>13.4</td>\n",
       "      <td>9.5</td>\n",
       "      <td>11.6</td>\n",
       "      <td>267</td>\n",
       "    </tr>\n",
       "  </tbody>\n",
       "</table>\n",
       "</div>"
      ],
      "text/plain": [
       "   ENGINESIZE  CYLINDERS  FUELCONSUMPTION_CITY  FUELCONSUMPTION_HWY  \\\n",
       "0         2.0          4                   9.9                  6.7   \n",
       "1         2.4          4                  11.2                  7.7   \n",
       "2         1.5          4                   6.0                  5.8   \n",
       "3         3.5          6                  12.7                  9.1   \n",
       "4         3.5          6                  12.1                  8.7   \n",
       "5         3.5          6                  11.9                  7.7   \n",
       "6         3.5          6                  11.8                  8.1   \n",
       "7         3.7          6                  12.8                  9.0   \n",
       "8         3.7          6                  13.4                  9.5   \n",
       "\n",
       "   FUELCONSUMPTION_COMB  CO2EMISSIONS  \n",
       "0                   8.5           196  \n",
       "1                   9.6           221  \n",
       "2                   5.9           136  \n",
       "3                  11.1           255  \n",
       "4                  10.6           244  \n",
       "5                  10.0           230  \n",
       "6                  10.1           232  \n",
       "7                  11.1           255  \n",
       "8                  11.6           267  "
      ]
     },
     "execution_count": 5,
     "metadata": {},
     "output_type": "execute_result"
    }
   ],
   "source": [
    "cdf = df[['ENGINESIZE','CYLINDERS','FUELCONSUMPTION_CITY','FUELCONSUMPTION_HWY','FUELCONSUMPTION_COMB','CO2EMISSIONS']]\n",
    "cdf.head(9)"
   ]
  },
  {
   "cell_type": "markdown",
   "metadata": {},
   "source": [
    "Exploring Dataset to check which are the independent valriables who have the best correlation with the dependent variable <b>CO2EMISSIONS</b>"
   ]
  },
  {
   "cell_type": "markdown",
   "metadata": {},
   "source": [
    "Lets plot Emission values with respect to different independent variable:"
   ]
  },
  {
   "cell_type": "code",
   "execution_count": 6,
   "metadata": {},
   "outputs": [
    {
     "data": {
      "image/png": "[encoded data removed]",
      "text/plain": [
       "<Figure size 432x288 with 6 Axes>"
      ]
     },
     "metadata": {
      "needs_background": "light"
     },
     "output_type": "display_data"
    }
   ],
   "source": [
    "viz = cdf[['CYLINDERS','ENGINESIZE','CO2EMISSIONS','FUELCONSUMPTION_COMB','FUELCONSUMPTION_HWY','FUELCONSUMPTION_CITY']]\n",
    "viz.hist()\n",
    "plt.show()"
   ]
  },
  {
   "cell_type": "code",
   "execution_count": 7,
   "metadata": {},
   "outputs": [
    {
     "data": {
      "text/plain": [
       "ENGINESIZE              0.874154\n",
       "CYLINDERS               0.849685\n",
       "FUELCONSUMPTION_CITY    0.898039\n",
       "FUELCONSUMPTION_HWY     0.861748\n",
       "FUELCONSUMPTION_COMB    0.892129\n",
       "CO2EMISSIONS            1.000000\n",
       "Name: CO2EMISSIONS, dtype: float64"
      ]
     },
     "execution_count": 7,
     "metadata": {},
     "output_type": "execute_result"
    }
   ],
   "source": [
    "cdf.corr().CO2EMISSIONS"
   ]
  },
  {
   "cell_type": "markdown",
   "metadata": {},
   "source": [
    "### The .corr() method help us to find the correlation between the different columns . The maximum absolute value tends towards 1 the best it will impact to dependent variable."
   ]
  },
  {
   "cell_type": "markdown",
   "metadata": {
    "button": false,
    "new_sheet": false,
    "run_control": {
     "read_only": false
    }
   },
   "source": [
    "#### Creating train and test dataset\n",
    "Train/Test Split involves splitting the dataset into training and testing sets respectively, which are mutually exclusive. After which, you train with the training set and test with the testing set. \n",
    "\n",
    "This will provide a more accurate evaluation on <b>*out-of-sample accuracy*</b> because the testing dataset is not part of the dataset that have been used to train the data. It is more realistic for real world problems.\n",
    "\n",
    "This means that we know the outcome of each data point in this dataset, making it great to test with! And since this data has not been used to train the model, the model has no knowledge of the outcome of these data points. So, in essence, it’s truly an out-of-sample testing.\n",
    "\n"
   ]
  },
  {
   "cell_type": "code",
   "execution_count": 8,
   "metadata": {
    "button": false,
    "new_sheet": false,
    "run_control": {
     "read_only": false
    }
   },
   "outputs": [],
   "source": [
    "msk = np.random.rand(len(df)) < 0.8\n",
    "train = cdf[msk]\n",
    "test = cdf[~msk]"
   ]
  },
  {
   "cell_type": "markdown",
   "metadata": {
    "button": false,
    "new_sheet": false,
    "run_control": {
     "read_only": false
    }
   },
   "source": [
    "<h2 id=\"multiple_regression_model\">Multiple Regression Model</h2>\n"
   ]
  },
  {
   "cell_type": "markdown",
   "metadata": {},
   "source": [
    "In reality, there are multiple variables that predict the Co2emission. When more than one independent variable is present, the process is called multiple linear regression. For example, predicting co2emission using FUELCONSUMPTION_COMB, EngineSize and Cylinders of cars. The good thing here is that Multiple linear regression is the extension of simple linear regression model."
   ]
  },
  {
   "cell_type": "code",
   "execution_count": 95,
   "metadata": {
    "button": false,
    "new_sheet": false,
    "run_control": {
     "read_only": false
    }
   },
   "outputs": [
    {
     "name": "stdout",
     "output_type": "stream",
     "text": [
      "Coefficients:  [[11.2838336   7.1994106   9.79756074]]\n",
      "Score:  0.8774448438453744\n"
     ]
    }
   ],
   "source": [
    "from sklearn import linear_model\n",
    "regr = linear_model.LinearRegression()\n",
    "x = np.asanyarray(train[['ENGINESIZE','CYLINDERS','FUELCONSUMPTION_COMB']])\n",
    "y = np.asanyarray(train[['CO2EMISSIONS']])\n",
    "regr.fit (x, y)\n",
    "# The coefficients\n",
    "print ('Coefficients: ', regr.coef_)\n",
    "print ('Score: ', regr.score(x, y))"
   ]
  },
  {
   "cell_type": "markdown",
   "metadata": {},
   "source": [
    "The total number of coefficient is the total number of the independent variables in train data.\n",
    "\n",
    "<h3>using the equation Y = $\\theta_0$ + $\\theta_1$ $X_1$ + $\\theta_2$ $X_2$ + $\\theta_3$ $X_3$ -- For multiple linear regression</h3>\n",
    "\n",
    "    where Y is the dependent variable that we have to predict."
   ]
  },
  {
   "cell_type": "markdown",
   "metadata": {},
   "source": [
    "__Coefficient__ and __Intercept__ , are the parameters of the fit line. \n",
    "Given that it is a multiple linear regression, with 3 parameters, and knowing that the parameters are the intercept and coefficients of hyperplane, sklearn can estimate them from our data. Scikit-learn uses plain Ordinary Least Squares method to solve this problem.\n",
    "\n",
    "#### Ordinary Least Squares (OLS)\n",
    "OLS is a method for estimating the unknown parameters in a linear regression model. OLS chooses the parameters of a linear function of a set of explanatory variables by minimizing the sum of the squares of the differences between the target dependent variable and those predicted by the linear function. In other words, it tries to minimizes the sum of squared errors (SSE) or mean squared error (MSE) between the target variable (y) and our predicted output ($\\hat{y}$) over all samples in the dataset.\n",
    "\n",
    "OLS can find the best parameters using of the following methods:\n",
    "    - Solving the model parameters analytically using closed-form equations\n",
    "    - Using an optimization algorithm (Gradient Descent, Stochastic Gradient Descent, Newton’s Method, etc.)"
   ]
  },
  {
   "cell_type": "markdown",
   "metadata": {},
   "source": [
    "<h2 id=\"prediction\">Prediction</h2>"
   ]
  },
  {
   "cell_type": "code",
   "execution_count": 43,
   "metadata": {},
   "outputs": [],
   "source": [
    "y_hat= regr.predict(test[['ENGINESIZE','CYLINDERS','FUELCONSUMPTION_COMB']])\n",
    "predict_val = pd.DataFrame(y_hat)"
   ]
  },
  {
   "cell_type": "code",
   "execution_count": 44,
   "metadata": {},
   "outputs": [],
   "source": [
    "predict_val = predict_val.rename(columns={0:'prediced_val'})"
   ]
  },
  {
   "cell_type": "code",
   "execution_count": 82,
   "metadata": {},
   "outputs": [
    {
     "data": {
      "text/plain": [
       "array([[250.92],\n",
       "       [246.02],\n",
       "       [262.97],\n",
       "       [370.19],\n",
       "       [206.86],\n",
       "       [222.74],\n",
       "       [251.16],\n",
       "       [289.58],\n",
       "       [253.12],\n",
       "       [293.49],\n",
       "       [265.85],\n",
       "       [216.66],\n",
       "       [384.85],\n",
       "       [181.38],\n",
       "       [198.04],\n",
       "       [204.9 ],\n",
       "       [235.48],\n",
       "       [218.82],\n",
       "       [246.26],\n",
       "       [222.74],\n",
       "       [306.83],\n",
       "       [315.64],\n",
       "       [252.14],\n",
       "       [200.98],\n",
       "       [301.04],\n",
       "       [309.85],\n",
       "       [209.56],\n",
       "       [258.91],\n",
       "       [258.91],\n",
       "       [336.93],\n",
       "       [336.93],\n",
       "       [388.86],\n",
       "       [257.93],\n",
       "       [262.83],\n",
       "       [309.5 ],\n",
       "       [301.66],\n",
       "       [306.91],\n",
       "       [343.43],\n",
       "       [352.49],\n",
       "       [374.85],\n",
       "       [212.74],\n",
       "       [199.76],\n",
       "       [330.08],\n",
       "       [279.54],\n",
       "       [362.05],\n",
       "       [362.05],\n",
       "       [191.27],\n",
       "       [289.28],\n",
       "       [254.99],\n",
       "       [254.99],\n",
       "       [293.2 ],\n",
       "       [289.28],\n",
       "       [314.64],\n",
       "       [257.93],\n",
       "       [293.2 ],\n",
       "       [284.38],\n",
       "       [329.39],\n",
       "       [206.47],\n",
       "       [309.85],\n",
       "       [269.68],\n",
       "       [179.51],\n",
       "       [186.37],\n",
       "       [252.88],\n",
       "       [339.66],\n",
       "       [371.4 ],\n",
       "       [321.43],\n",
       "       [325.68],\n",
       "       [259.74],\n",
       "       [192.16],\n",
       "       [219.6 ],\n",
       "       [214.7 ],\n",
       "       [392.42],\n",
       "       [392.42],\n",
       "       [354.45],\n",
       "       [306.2 ],\n",
       "       [332.04],\n",
       "       [265.76],\n",
       "       [306.91],\n",
       "       [316.98],\n",
       "       [362.05],\n",
       "       [362.05],\n",
       "       [199.61],\n",
       "       [205.49],\n",
       "       [162.77],\n",
       "       [186.67],\n",
       "       [209.8 ],\n",
       "       [218.62],\n",
       "       [220.55],\n",
       "       [227.41],\n",
       "       [263.95],\n",
       "       [269.83],\n",
       "       [250.92],\n",
       "       [218.62],\n",
       "       [260.95],\n",
       "       [355.73],\n",
       "       [262.91],\n",
       "       [308.7 ],\n",
       "       [262.91],\n",
       "       [349.85],\n",
       "       [308.7 ],\n",
       "       [249.49],\n",
       "       [251.45],\n",
       "       [227.05],\n",
       "       [211.76],\n",
       "       [220.19],\n",
       "       [205.28],\n",
       "       [200.  ],\n",
       "       [186.67],\n",
       "       [205.88],\n",
       "       [221.17],\n",
       "       [260.42],\n",
       "       [218.23],\n",
       "       [283.49],\n",
       "       [211.76],\n",
       "       [388.06],\n",
       "       [326.33],\n",
       "       [168.35],\n",
       "       [347.95],\n",
       "       [268.85],\n",
       "       [268.85],\n",
       "       [272.77],\n",
       "       [182.6 ],\n",
       "       [185.3 ],\n",
       "       [186.28],\n",
       "       [186.28],\n",
       "       [215.68],\n",
       "       [212.74],\n",
       "       [249.94],\n",
       "       [248.96],\n",
       "       [304.33],\n",
       "       [315.32],\n",
       "       [192.16],\n",
       "       [247.  ],\n",
       "       [248.96],\n",
       "       [248.96],\n",
       "       [288.66],\n",
       "       [286.7 ],\n",
       "       [310.42],\n",
       "       [316.3 ],\n",
       "       [316.3 ],\n",
       "       [323.93],\n",
       "       [200.15],\n",
       "       [242.34],\n",
       "       [289.64],\n",
       "       [308.46],\n",
       "       [288.87],\n",
       "       [187.65],\n",
       "       [192.55],\n",
       "       [194.51],\n",
       "       [189.61],\n",
       "       [192.55],\n",
       "       [189.61],\n",
       "       [197.06],\n",
       "       [200.98],\n",
       "       [254.84],\n",
       "       [202.7 ],\n",
       "       [186.67],\n",
       "       [286.93],\n",
       "       [250.77],\n",
       "       [260.18],\n",
       "       [244.89],\n",
       "       [255.28],\n",
       "       [287.62],\n",
       "       [241.95],\n",
       "       [265.76],\n",
       "       [243.32],\n",
       "       [312.32],\n",
       "       [303.5 ],\n",
       "       [235.03],\n",
       "       [252.14],\n",
       "       [331.29],\n",
       "       [337.17],\n",
       "       [322.59],\n",
       "       [241.36],\n",
       "       [303.98],\n",
       "       [378.08],\n",
       "       [209.56],\n",
       "       [191.86],\n",
       "       [396.73],\n",
       "       [192.16],\n",
       "       [205.64],\n",
       "       [279.1 ],\n",
       "       [201.72],\n",
       "       [167.37],\n",
       "       [214.46],\n",
       "       [257.78],\n",
       "       [268.56],\n",
       "       [254.84],\n",
       "       [196.76],\n",
       "       [207.84],\n",
       "       [210.78],\n",
       "       [211.76],\n",
       "       [203.92],\n",
       "       [183.34],\n",
       "       [161.88],\n",
       "       [223.62],\n",
       "       [266.74],\n",
       "       [220.57],\n",
       "       [223.62]])"
      ]
     },
     "execution_count": 82,
     "metadata": {},
     "output_type": "execute_result"
    }
   ],
   "source": [
    "y_hat.round(2)"
   ]
  },
  {
   "cell_type": "code",
   "execution_count": 86,
   "metadata": {},
   "outputs": [
    {
     "data": {
      "text/plain": [
       "array([[244],\n",
       "       [232],\n",
       "       [267],\n",
       "       [359],\n",
       "       [214],\n",
       "       [224],\n",
       "       [258],\n",
       "       [288],\n",
       "       [262],\n",
       "       [297],\n",
       "       [292],\n",
       "       [237],\n",
       "       [437],\n",
       "       [181],\n",
       "       [193],\n",
       "       [209],\n",
       "       [221],\n",
       "       [213],\n",
       "       [246],\n",
       "       [191],\n",
       "       [317],\n",
       "       [338],\n",
       "       [260],\n",
       "       [200],\n",
       "       [250],\n",
       "       [264],\n",
       "       [207],\n",
       "       [260],\n",
       "       [260],\n",
       "       [340],\n",
       "       [340],\n",
       "       [322],\n",
       "       [258],\n",
       "       [269],\n",
       "       [276],\n",
       "       [258],\n",
       "       [259],\n",
       "       [380],\n",
       "       [414],\n",
       "       [435],\n",
       "       [228],\n",
       "       [184],\n",
       "       [324],\n",
       "       [290],\n",
       "       [294],\n",
       "       [294],\n",
       "       [193],\n",
       "       [230],\n",
       "       [251],\n",
       "       [251],\n",
       "       [237],\n",
       "       [230],\n",
       "       [301],\n",
       "       [258],\n",
       "       [237],\n",
       "       [222],\n",
       "       [317],\n",
       "       [202],\n",
       "       [264],\n",
       "       [285],\n",
       "       [166],\n",
       "       [182],\n",
       "       [248],\n",
       "       [368],\n",
       "       [315],\n",
       "       [336],\n",
       "       [288],\n",
       "       [264],\n",
       "       [179],\n",
       "       [170],\n",
       "       [162],\n",
       "       [344],\n",
       "       [344],\n",
       "       [419],\n",
       "       [292],\n",
       "       [329],\n",
       "       [276],\n",
       "       [259],\n",
       "       [317],\n",
       "       [294],\n",
       "       [294],\n",
       "       [186],\n",
       "       [200],\n",
       "       [110],\n",
       "       [177],\n",
       "       [221],\n",
       "       [242],\n",
       "       [172],\n",
       "       [189],\n",
       "       [269],\n",
       "       [283],\n",
       "       [244],\n",
       "       [242],\n",
       "       [281],\n",
       "       [290],\n",
       "       [285],\n",
       "       [306],\n",
       "       [285],\n",
       "       [280],\n",
       "       [306],\n",
       "       [248],\n",
       "       [253],\n",
       "       [251],\n",
       "       [225],\n",
       "       [235],\n",
       "       [221],\n",
       "       [198],\n",
       "       [177],\n",
       "       [212],\n",
       "       [237],\n",
       "       [271],\n",
       "       [230],\n",
       "       [334],\n",
       "       [225],\n",
       "       [342],\n",
       "       [347],\n",
       "       [129],\n",
       "       [380],\n",
       "       [281],\n",
       "       [281],\n",
       "       [290],\n",
       "       [170],\n",
       "       [163],\n",
       "       [166],\n",
       "       [166],\n",
       "       [235],\n",
       "       [228],\n",
       "       [242],\n",
       "       [239],\n",
       "       [304],\n",
       "       [308],\n",
       "       [179],\n",
       "       [235],\n",
       "       [239],\n",
       "       [239],\n",
       "       [267],\n",
       "       [262],\n",
       "       [297],\n",
       "       [310],\n",
       "       [310],\n",
       "       [350],\n",
       "       [230],\n",
       "       [278],\n",
       "       [269],\n",
       "       [292],\n",
       "       [246],\n",
       "       [179],\n",
       "       [191],\n",
       "       [196],\n",
       "       [184],\n",
       "       [191],\n",
       "       [184],\n",
       "       [191],\n",
       "       [200],\n",
       "       [253],\n",
       "       [191],\n",
       "       [177],\n",
       "       [315],\n",
       "       [246],\n",
       "       [258],\n",
       "       [232],\n",
       "       [246],\n",
       "       [322],\n",
       "       [225],\n",
       "       [276],\n",
       "       [281],\n",
       "       [320],\n",
       "       [299],\n",
       "       [228],\n",
       "       [260],\n",
       "       [340],\n",
       "       [354],\n",
       "       [285],\n",
       "       [275],\n",
       "       [254],\n",
       "       [359],\n",
       "       [207],\n",
       "       [184],\n",
       "       [389],\n",
       "       [179],\n",
       "       [198],\n",
       "       [297],\n",
       "       [189],\n",
       "       [126],\n",
       "       [218],\n",
       "       [260],\n",
       "       [285],\n",
       "       [253],\n",
       "       [196],\n",
       "       [216],\n",
       "       [223],\n",
       "       [225],\n",
       "       [207],\n",
       "       [186],\n",
       "       [124],\n",
       "       [223],\n",
       "       [278],\n",
       "       [246],\n",
       "       [223]])"
      ]
     },
     "execution_count": 86,
     "metadata": {},
     "output_type": "execute_result"
    }
   ],
   "source": [
    "actual = pd.DataFrame(test['CO2EMISSIONS'])\n",
    "actual= actual.to_numpy()\n",
    "actual"
   ]
  },
  {
   "cell_type": "code",
   "execution_count": 91,
   "metadata": {},
   "outputs": [
    {
     "data": {
      "image/png": "[encoded data removed]",
      "text/plain": [
       "<Figure size 432x288 with 1 Axes>"
      ]
     },
     "metadata": {
      "needs_background": "light"
     },
     "output_type": "display_data"
    }
   ],
   "source": [
    "import matplotlib.pyplot as plt\n",
    "plt.plot(y_hat,'go--', actual, 'ro--')\n",
    "plt.show()"
   ]
  },
  {
   "cell_type": "markdown",
   "metadata": {},
   "source": [
    "### These are the predicted value obtained by the trainded model, We will comapre this with the original data and see how much our models fits"
   ]
  },
  {
   "cell_type": "code",
   "execution_count": 10,
   "metadata": {
    "button": false,
    "new_sheet": false,
    "run_control": {
     "read_only": false
    }
   },
   "outputs": [
    {
     "name": "stdout",
     "output_type": "stream",
     "text": [
      "Residual sum of squares: 734.81\n",
      "Variance score: 0.79\n"
     ]
    }
   ],
   "source": [
    "y_hat= regr.predict(test[['ENGINESIZE','CYLINDERS','FUELCONSUMPTION_COMB']])\n",
    "x = np.asanyarray(test[['ENGINESIZE','CYLINDERS','FUELCONSUMPTION_COMB']])\n",
    "y = np.asanyarray(test[['CO2EMISSIONS']])\n",
    "print(\"Residual sum of squares: %.2f\"\n",
    "      % np.mean((y_hat - y) ** 2))\n",
    "\n",
    "# Explained variance score: 1 is perfect prediction\n",
    "print('Variance score: %.2f' % regr.score(x, y))"
   ]
  },
  {
   "cell_type": "markdown",
   "metadata": {},
   "source": [
    "__explained variance regression score:__  \n",
    "If $\\hat{y}$ is the estimated target output, y the corresponding (correct) target output, and Var is Variance, the square of the standard deviation, then the explained variance is estimated as follow:\n",
    "\n",
    "$\\texttt{explainedVariance}(y, \\hat{y}) = 1 - \\frac{Var\\{ y - \\hat{y}\\}}{Var\\{y\\}}$  \n",
    "The best possible score is 1.0, lower values are worse."
   ]
  }
 ],
 "metadata": {
  "kernelspec": {
   "display_name": "Python 3",
   "language": "python",
   "name": "python3"
  },
  "language_info": {
   "codemirror_mode": {
    "name": "ipython",
    "version": 3
   },
   "file_extension": ".py",
   "mimetype": "text/x-python",
   "name": "python",
   "nbconvert_exporter": "python",
   "pygments_lexer": "ipython3",
   "version": "3.7.7"
  },
  "widgets": {
   "state": {},
   "version": "1.1.2"
  }
 },
 "nbformat": 4,
 "nbformat_minor": 2
}
