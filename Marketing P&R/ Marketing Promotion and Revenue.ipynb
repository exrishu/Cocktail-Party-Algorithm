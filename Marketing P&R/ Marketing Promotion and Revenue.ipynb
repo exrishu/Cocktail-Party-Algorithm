{
    "cells": [
        {
            "cell_type": "code",
            "execution_count": 164,
            "metadata": {},
            "outputs": [],
            "source": "# The code was removed by Watson Studio for sharing."
        },
        {
            "cell_type": "code",
            "execution_count": 165,
            "metadata": {},
            "outputs": [],
            "source": "import numpy as np"
        },
        {
            "cell_type": "code",
            "execution_count": 166,
            "metadata": {},
            "outputs": [],
            "source": "dfcopy = df"
        },
        {
            "cell_type": "code",
            "execution_count": 167,
            "metadata": {},
            "outputs": [
                {
                    "data": {
                        "text/plain": "Date               0\nDay_Name           0\nVisitors           6\nRevenue            6\nMarketing Spend    0\nPromo              0\ndtype: int64"
                    },
                    "execution_count": 167,
                    "metadata": {},
                    "output_type": "execute_result"
                }
            ],
            "source": "dfcopy.isnull().sum()"
        },
        {
            "cell_type": "code",
            "execution_count": 168,
            "metadata": {},
            "outputs": [
                {
                    "data": {
                        "text/html": "<div>\n<style scoped>\n    .dataframe tbody tr th:only-of-type {\n        vertical-align: middle;\n    }\n\n    .dataframe tbody tr th {\n        vertical-align: top;\n    }\n\n    .dataframe thead th {\n        text-align: right;\n    }\n</style>\n<table border=\"1\" class=\"dataframe\">\n  <thead>\n    <tr style=\"text-align: right;\">\n      <th></th>\n      <th>Date</th>\n      <th>Day_Name</th>\n      <th>Visitors</th>\n      <th>Revenue</th>\n      <th>Marketing Spend</th>\n      <th>Promo</th>\n    </tr>\n  </thead>\n  <tbody>\n    <tr>\n      <th>6</th>\n      <td>15-11-2020</td>\n      <td>Sunday</td>\n      <td>NaN</td>\n      <td>11929.0</td>\n      <td>1325.444444</td>\n      <td>Promotion Blue</td>\n    </tr>\n    <tr>\n      <th>21</th>\n      <td>30-11-2020</td>\n      <td>Monday</td>\n      <td>NaN</td>\n      <td>NaN</td>\n      <td>1016.000000</td>\n      <td>No Promo</td>\n    </tr>\n    <tr>\n      <th>22</th>\n      <td>01-12-2020</td>\n      <td>Tuesday</td>\n      <td>NaN</td>\n      <td>NaN</td>\n      <td>923.000000</td>\n      <td>No Promo</td>\n    </tr>\n    <tr>\n      <th>85</th>\n      <td>02-02-2021</td>\n      <td>Tuesday</td>\n      <td>NaN</td>\n      <td>NaN</td>\n      <td>1162.090909</td>\n      <td>Promotion Blue</td>\n    </tr>\n    <tr>\n      <th>86</th>\n      <td>03-02-2021</td>\n      <td>Wednesday</td>\n      <td>NaN</td>\n      <td>NaN</td>\n      <td>1698.000000</td>\n      <td>Promotion Blue</td>\n    </tr>\n    <tr>\n      <th>178</th>\n      <td>06-05-2021</td>\n      <td>Thursday</td>\n      <td>NaN</td>\n      <td>NaN</td>\n      <td>2067.888889</td>\n      <td>Promotion Red</td>\n    </tr>\n  </tbody>\n</table>\n</div>",
                        "text/plain": "           Date   Day_Name  Visitors  Revenue  Marketing Spend           Promo\n6    15-11-2020     Sunday       NaN  11929.0      1325.444444  Promotion Blue\n21   30-11-2020     Monday       NaN      NaN      1016.000000        No Promo\n22   01-12-2020    Tuesday       NaN      NaN       923.000000        No Promo\n85   02-02-2021    Tuesday       NaN      NaN      1162.090909  Promotion Blue\n86   03-02-2021  Wednesday       NaN      NaN      1698.000000  Promotion Blue\n178  06-05-2021   Thursday       NaN      NaN      2067.888889   Promotion Red"
                    },
                    "execution_count": 168,
                    "metadata": {},
                    "output_type": "execute_result"
                }
            ],
            "source": "dfcopy[dfcopy['Visitors'].isnull()]"
        },
        {
            "cell_type": "code",
            "execution_count": null,
            "metadata": {},
            "outputs": [],
            "source": ""
        },
        {
            "cell_type": "code",
            "execution_count": 169,
            "metadata": {},
            "outputs": [
                {
                    "data": {
                        "text/plain": "1410.5"
                    },
                    "execution_count": 169,
                    "metadata": {},
                    "output_type": "execute_result"
                }
            ],
            "source": "## Replacing null visitors values for the firt columns\ndfmean1 = dfcopy[(dfcopy['Day_Name'] == 'Sunday') & (dfcopy['Promo'] == 'Promotion Blue')]['Visitors'].mean()\ndfmean1"
        },
        {
            "cell_type": "code",
            "execution_count": null,
            "metadata": {},
            "outputs": [],
            "source": ""
        },
        {
            "cell_type": "code",
            "execution_count": 170,
            "metadata": {},
            "outputs": [],
            "source": "dfcopy[((dfcopy['Day_Name'] == 'Sunday') & (dfcopy['Promo'] == 'Promotion Blue'))].fillna(dfmean1 ,inplace= True)"
        },
        {
            "cell_type": "code",
            "execution_count": 171,
            "metadata": {},
            "outputs": [
                {
                    "data": {
                        "text/html": "<div>\n<style scoped>\n    .dataframe tbody tr th:only-of-type {\n        vertical-align: middle;\n    }\n\n    .dataframe tbody tr th {\n        vertical-align: top;\n    }\n\n    .dataframe thead th {\n        text-align: right;\n    }\n</style>\n<table border=\"1\" class=\"dataframe\">\n  <thead>\n    <tr style=\"text-align: right;\">\n      <th></th>\n      <th>Date</th>\n      <th>Day_Name</th>\n      <th>Visitors</th>\n      <th>Revenue</th>\n      <th>Marketing Spend</th>\n      <th>Promo</th>\n    </tr>\n  </thead>\n  <tbody>\n    <tr>\n      <th>6</th>\n      <td>15-11-2020</td>\n      <td>Sunday</td>\n      <td>NaN</td>\n      <td>11929.0</td>\n      <td>1325.444444</td>\n      <td>Promotion Blue</td>\n    </tr>\n    <tr>\n      <th>34</th>\n      <td>13-12-2020</td>\n      <td>Sunday</td>\n      <td>1163.0</td>\n      <td>8802.0</td>\n      <td>880.200000</td>\n      <td>Promotion Blue</td>\n    </tr>\n    <tr>\n      <th>48</th>\n      <td>27-12-2020</td>\n      <td>Sunday</td>\n      <td>2020.0</td>\n      <td>23014.0</td>\n      <td>2557.111111</td>\n      <td>Promotion Blue</td>\n    </tr>\n    <tr>\n      <th>55</th>\n      <td>03-01-2021</td>\n      <td>Sunday</td>\n      <td>1442.0</td>\n      <td>9952.0</td>\n      <td>1244.000000</td>\n      <td>Promotion Blue</td>\n    </tr>\n    <tr>\n      <th>125</th>\n      <td>14-03-2021</td>\n      <td>Sunday</td>\n      <td>967.0</td>\n      <td>7878.0</td>\n      <td>787.800000</td>\n      <td>Promotion Blue</td>\n    </tr>\n    <tr>\n      <th>139</th>\n      <td>28-03-2021</td>\n      <td>Sunday</td>\n      <td>1642.0</td>\n      <td>14587.0</td>\n      <td>1620.777778</td>\n      <td>Promotion Blue</td>\n    </tr>\n    <tr>\n      <th>153</th>\n      <td>11-04-2021</td>\n      <td>Sunday</td>\n      <td>1485.0</td>\n      <td>11221.0</td>\n      <td>1020.090909</td>\n      <td>Promotion Blue</td>\n    </tr>\n    <tr>\n      <th>160</th>\n      <td>18-04-2021</td>\n      <td>Sunday</td>\n      <td>1399.0</td>\n      <td>12251.0</td>\n      <td>1531.375000</td>\n      <td>Promotion Blue</td>\n    </tr>\n    <tr>\n      <th>167</th>\n      <td>25-04-2021</td>\n      <td>Sunday</td>\n      <td>1166.0</td>\n      <td>11650.0</td>\n      <td>1059.090909</td>\n      <td>Promotion Blue</td>\n    </tr>\n  </tbody>\n</table>\n</div>",
                        "text/plain": "           Date Day_Name  Visitors  Revenue  Marketing Spend           Promo\n6    15-11-2020   Sunday       NaN  11929.0      1325.444444  Promotion Blue\n34   13-12-2020   Sunday    1163.0   8802.0       880.200000  Promotion Blue\n48   27-12-2020   Sunday    2020.0  23014.0      2557.111111  Promotion Blue\n55   03-01-2021   Sunday    1442.0   9952.0      1244.000000  Promotion Blue\n125  14-03-2021   Sunday     967.0   7878.0       787.800000  Promotion Blue\n139  28-03-2021   Sunday    1642.0  14587.0      1620.777778  Promotion Blue\n153  11-04-2021   Sunday    1485.0  11221.0      1020.090909  Promotion Blue\n160  18-04-2021   Sunday    1399.0  12251.0      1531.375000  Promotion Blue\n167  25-04-2021   Sunday    1166.0  11650.0      1059.090909  Promotion Blue"
                    },
                    "execution_count": 171,
                    "metadata": {},
                    "output_type": "execute_result"
                }
            ],
            "source": "dfcopy[((dfcopy['Day_Name'] == 'Sunday') & (dfcopy['Promo'] == 'Promotion Blue'))]"
        },
        {
            "cell_type": "code",
            "execution_count": 53,
            "metadata": {},
            "outputs": [],
            "source": "## Replacing null visitors values for the Second columns\ndfcopy = dfcopy[((dfcopy['Day_Name'] == 'Monday') & (dfcopy['Promo'] == 'No Promo'))]"
        },
        {
            "cell_type": "code",
            "execution_count": 126,
            "metadata": {},
            "outputs": [
                {
                    "data": {
                        "text/html": "<div>\n<style scoped>\n    .dataframe tbody tr th:only-of-type {\n        vertical-align: middle;\n    }\n\n    .dataframe tbody tr th {\n        vertical-align: top;\n    }\n\n    .dataframe thead th {\n        text-align: right;\n    }\n</style>\n<table border=\"1\" class=\"dataframe\">\n  <thead>\n    <tr style=\"text-align: right;\">\n      <th></th>\n      <th>Date</th>\n      <th>Day_Name</th>\n      <th>Visitors</th>\n      <th>Revenue</th>\n      <th>Marketing Spend</th>\n      <th>Promo</th>\n    </tr>\n  </thead>\n  <tbody>\n    <tr>\n      <th>6</th>\n      <td>15-11-2020</td>\n      <td>Sunday</td>\n      <td>NaN</td>\n      <td>11929.0</td>\n      <td>1325.444444</td>\n      <td>Promotion Blue</td>\n    </tr>\n    <tr>\n      <th>21</th>\n      <td>30-11-2020</td>\n      <td>Monday</td>\n      <td>NaN</td>\n      <td>NaN</td>\n      <td>1016.000000</td>\n      <td>No Promo</td>\n    </tr>\n    <tr>\n      <th>22</th>\n      <td>01-12-2020</td>\n      <td>Tuesday</td>\n      <td>NaN</td>\n      <td>NaN</td>\n      <td>923.000000</td>\n      <td>No Promo</td>\n    </tr>\n    <tr>\n      <th>85</th>\n      <td>02-02-2021</td>\n      <td>Tuesday</td>\n      <td>NaN</td>\n      <td>NaN</td>\n      <td>1162.090909</td>\n      <td>Promotion Blue</td>\n    </tr>\n    <tr>\n      <th>86</th>\n      <td>03-02-2021</td>\n      <td>Wednesday</td>\n      <td>NaN</td>\n      <td>NaN</td>\n      <td>1698.000000</td>\n      <td>Promotion Blue</td>\n    </tr>\n    <tr>\n      <th>178</th>\n      <td>06-05-2021</td>\n      <td>Thursday</td>\n      <td>NaN</td>\n      <td>NaN</td>\n      <td>2067.888889</td>\n      <td>Promotion Red</td>\n    </tr>\n  </tbody>\n</table>\n</div>",
                        "text/plain": "           Date   Day_Name  Visitors  Revenue  Marketing Spend           Promo\n6    15-11-2020     Sunday       NaN  11929.0      1325.444444  Promotion Blue\n21   30-11-2020     Monday       NaN      NaN      1016.000000        No Promo\n22   01-12-2020    Tuesday       NaN      NaN       923.000000        No Promo\n85   02-02-2021    Tuesday       NaN      NaN      1162.090909  Promotion Blue\n86   03-02-2021  Wednesday       NaN      NaN      1698.000000  Promotion Blue\n178  06-05-2021   Thursday       NaN      NaN      2067.888889   Promotion Red"
                    },
                    "execution_count": 126,
                    "metadata": {},
                    "output_type": "execute_result"
                }
            ],
            "source": "dfcopy[dfcopy['Visitors'].isnull()]"
        },
        {
            "cell_type": "code",
            "execution_count": 54,
            "metadata": {},
            "outputs": [
                {
                    "data": {
                        "text/html": "<div>\n<style scoped>\n    .dataframe tbody tr th:only-of-type {\n        vertical-align: middle;\n    }\n\n    .dataframe tbody tr th {\n        vertical-align: top;\n    }\n\n    .dataframe thead th {\n        text-align: right;\n    }\n</style>\n<table border=\"1\" class=\"dataframe\">\n  <thead>\n    <tr style=\"text-align: right;\">\n      <th></th>\n      <th>Date</th>\n      <th>Day_Name</th>\n      <th>Visitors</th>\n      <th>Revenue</th>\n      <th>Marketing Spend</th>\n      <th>Promo</th>\n    </tr>\n  </thead>\n  <tbody>\n  </tbody>\n</table>\n</div>",
                        "text/plain": "Empty DataFrame\nColumns: [Date, Day_Name, Visitors, Revenue, Marketing Spend, Promo]\nIndex: []"
                    },
                    "execution_count": 54,
                    "metadata": {},
                    "output_type": "execute_result"
                }
            ],
            "source": "dfcopy"
        },
        {
            "cell_type": "code",
            "execution_count": 46,
            "metadata": {},
            "outputs": [
                {
                    "data": {
                        "text/plain": "1410.5"
                    },
                    "execution_count": 46,
                    "metadata": {},
                    "output_type": "execute_result"
                }
            ],
            "source": "dfcopy[(dfcopy['Day_Name'] == 'Sunday') & (dfcopy['Promo'] == 'Promotion Blue')]['Visitors'].mean()"
        },
        {
            "cell_type": "code",
            "execution_count": 36,
            "metadata": {},
            "outputs": [
                {
                    "data": {
                        "text/plain": "1573.0"
                    },
                    "execution_count": 36,
                    "metadata": {},
                    "output_type": "execute_result"
                }
            ],
            "source": "dfcopy[(dfcopy['Day_Name'] == 'Sunday') & (dfcopy['Promo'] == 'Promotion Red')]['Visitors'].mean()"
        },
        {
            "cell_type": "code",
            "execution_count": 37,
            "metadata": {},
            "outputs": [
                {
                    "data": {
                        "text/plain": "1513.0"
                    },
                    "execution_count": 37,
                    "metadata": {},
                    "output_type": "execute_result"
                }
            ],
            "source": "dfcopy[(dfcopy['Day_Name'] == 'Sunday') & (dfcopy['Promo'] == 'No Promo')]['Visitors'].mean()"
        },
        {
            "cell_type": "code",
            "execution_count": 25,
            "metadata": {},
            "outputs": [
                {
                    "data": {
                        "text/plain": "1489.48"
                    },
                    "execution_count": 25,
                    "metadata": {},
                    "output_type": "execute_result"
                }
            ],
            "source": "dfcopy[dfcopy['Day_Name'] == 'Monday']['Visitors'].mean()"
        },
        {
            "cell_type": "code",
            "execution_count": 26,
            "metadata": {},
            "outputs": [
                {
                    "data": {
                        "text/plain": "1441.4583333333333"
                    },
                    "execution_count": 26,
                    "metadata": {},
                    "output_type": "execute_result"
                }
            ],
            "source": "dfcopy[dfcopy['Day_Name'] == 'Tuesday']['Visitors'].mean()"
        },
        {
            "cell_type": "code",
            "execution_count": 27,
            "metadata": {},
            "outputs": [
                {
                    "data": {
                        "text/plain": "1592.44"
                    },
                    "execution_count": 27,
                    "metadata": {},
                    "output_type": "execute_result"
                }
            ],
            "source": "dfcopy[dfcopy['Day_Name'] == 'Wednesday']['Visitors'].mean()"
        },
        {
            "cell_type": "code",
            "execution_count": 29,
            "metadata": {},
            "outputs": [
                {
                    "data": {
                        "text/plain": "2253.12"
                    },
                    "execution_count": 29,
                    "metadata": {},
                    "output_type": "execute_result"
                }
            ],
            "source": "dfcopy[dfcopy['Day_Name'] == 'Thursday']['Visitors'].mean()"
        },
        {
            "cell_type": "code",
            "execution_count": 30,
            "metadata": {},
            "outputs": [
                {
                    "data": {
                        "text/plain": "1968.423076923077"
                    },
                    "execution_count": 30,
                    "metadata": {},
                    "output_type": "execute_result"
                }
            ],
            "source": "dfcopy[dfcopy['Day_Name'] == 'Friday']['Visitors'].mean()"
        },
        {
            "cell_type": "code",
            "execution_count": 31,
            "metadata": {},
            "outputs": [
                {
                    "data": {
                        "text/plain": "1410.0384615384614"
                    },
                    "execution_count": 31,
                    "metadata": {},
                    "output_type": "execute_result"
                }
            ],
            "source": "dfcopy[dfcopy['Day_Name'] == 'Saturday']['Visitors'].mean()"
        },
        {
            "cell_type": "code",
            "execution_count": null,
            "metadata": {},
            "outputs": [],
            "source": ""
        }
    ],
    "metadata": {
        "kernelspec": {
            "display_name": "Python 3.6",
            "language": "python",
            "name": "python3"
        },
        "language_info": {
            "codemirror_mode": {
                "name": "ipython",
                "version": 3
            },
            "file_extension": ".py",
            "mimetype": "text/x-python",
            "name": "python",
            "nbconvert_exporter": "python",
            "pygments_lexer": "ipython3",
            "version": "3.6.9"
        }
    },
    "nbformat": 4,
    "nbformat_minor": 1
}